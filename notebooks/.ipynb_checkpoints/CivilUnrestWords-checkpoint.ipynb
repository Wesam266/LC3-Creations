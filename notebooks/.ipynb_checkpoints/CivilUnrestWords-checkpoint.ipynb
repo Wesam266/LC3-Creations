{
 "cells": [
  {
   "cell_type": "code",
   "execution_count": 13,
   "metadata": {
    "collapsed": false,
    "scrolled": true
   },
   "outputs": [],
   "source": [
    "'''import pip\n",
    "\n",
    "def install(package):\n",
    "   pip.main(['install', package])\n",
    "\n",
    "install('py-translate')''' \n",
    "\n",
    "from polyglot.detect import Detector"
   ]
  },
  {
   "cell_type": "code",
   "execution_count": 14,
   "metadata": {
    "collapsed": false
   },
   "outputs": [
    {
     "name": "stdout",
     "output_type": "stream",
     "text": [
      "name:             code: ar       confidence:  99.0 read bytes:   907\n"
     ]
    }
   ],
   "source": [
    "arabic_text = u\"\"\"\n",
    "أفاد مصدر امني في قيادة عمليات صلاح الدين في العراق بأن \" القوات الامنية تتوقف لليوم\n",
    "الثالث على التوالي عن التقدم الى داخل مدينة تكريت بسبب\n",
    "انتشار قناصي التنظيم الذي يطلق على نفسه اسم \"الدولة الاسلامية\" والعبوات الناسفة\n",
    "والمنازل المفخخة والانتحاريين، فضلا عن ان القوات الامنية تنتظر وصول تعزيزات اضافية \".\n",
    "\"\"\"\n",
    "detector = Detector(arabic_text)\n",
    "print(detector.language)"
   ]
  },
  {
   "cell_type": "code",
   "execution_count": 15,
   "metadata": {
    "collapsed": false
   },
   "outputs": [],
   "source": [
    "portug_text= \"O hardware wireless rogue é fácil de introduzir. Os pontos de acesso wireless são relativamente baratos e facilmente desdobrados. Uma equipe bem intencionada de  consultores trabalhando em uma sala de conferência pode instalar um ponto de acesso wireless para compartilhar uma porta de conexão individual na sala. Um hacker mal intencionado pode sentar numa cafeteria com um laptop wireless habilitado, efetuando a varredura de um tráfego não criptografado ou criptografado do WEP. Em ambos os casos, são introduzidos riscos inaceitáveis. Indiferente se existir uma intenção maliciosa, a introdução do hardware nocivo pode comprometer a confidencialidade e integridade do tráfego da rede. Os dispositivos wireless nocivos podem ser detectados fisicamente examinando as instalações (conhecidas como \\\"ação de guerra\\\" (war driving), utilizando scanners de radiofreqüência para determinar o local dos dispositivos wireless, ou utilizando-se sistemas projetados para analisar o tráfego da rede para os dispositivos não autorizados\""
   ]
  },
  {
   "cell_type": "code",
   "execution_count": 16,
   "metadata": {
    "collapsed": false
   },
   "outputs": [
    {
     "data": {
      "text/plain": [
       "'O hardware wireless rogue é fácil de introduzir. Os pontos de acesso wireless são relativamente baratos e facilmente desdobrados. Uma equipe bem intencionada de  consultores trabalhando em uma sala de conferência pode instalar um ponto de acesso wireless para compartilhar uma porta de conexão individual na sala. Um hacker mal intencionado pode sentar numa cafeteria com um laptop wireless habilitado, efetuando a varredura de um tráfego não criptografado ou criptografado do WEP. Em ambos os casos, são introduzidos riscos inaceitáveis. Indiferente se existir uma intenção maliciosa, a introdução do hardware nocivo pode comprometer a confidencialidade e integridade do tráfego da rede. Os dispositivos wireless nocivos podem ser detectados fisicamente examinando as instalações (conhecidas como \"ação de guerra\" (war driving), utilizando scanners de radiofreqüência para determinar o local dos dispositivos wireless, ou utilizando-se sistemas projetados para analisar o tráfego da rede para os dispositivos não autorizados'"
      ]
     },
     "execution_count": 16,
     "metadata": {},
     "output_type": "execute_result"
    }
   ],
   "source": [
    "portug_text"
   ]
  },
  {
   "cell_type": "code",
   "execution_count": 17,
   "metadata": {
    "collapsed": false
   },
   "outputs": [
    {
     "name": "stdout",
     "output_type": "stream",
     "text": [
      "name:             code: pt       confidence:  98.0 read bytes:  1321\n"
     ]
    }
   ],
   "source": [
    "print (Detector('Uma equipe bem intencionada de  consultores trabalhando').language)"
   ]
  },
  {
   "cell_type": "code",
   "execution_count": 18,
   "metadata": {
    "collapsed": false
   },
   "outputs": [
    {
     "name": "stdout",
     "output_type": "stream",
     "text": [
      "Neighbors (Synonyms) of protestos\n",
      "------------------------------\n",
      "We have 144227 original words.\n",
      "Added 211028 new words.\n",
      "The new total number of words is 355255\n",
      "atentados       \n",
      "tumultos        \n",
      "incidentes      \n",
      "escândalos      \n",
      "assassinatos    \n",
      "abusos          \n",
      "motins          \n",
      "bombardeios     \n",
      "massacres       \n",
      "julgamentos     \n",
      "\n",
      "\n",
      "The first 10 dimensions out the 256 dimensions\n",
      "\n",
      "[-1.53910732 -3.78165412  2.11183095  0.39109755  0.39044249  0.41605797\n",
      " -0.21045575 -2.32786107 -0.08995224  1.9308697 ]\n"
     ]
    }
   ],
   "source": [
    "from polyglot.text import Word\n",
    "word = Word(\"protestos\", language=\"pt\")\n",
    "print(\"Neighbors (Synonyms) of {}\".format(word)+\"\\n\"+\"-\"*30)\n",
    "for w in word.neighbors:\n",
    "    print(\"{:<16}\".format(w))\n",
    "print(\"\\n\\nThe first 10 dimensions out the {} dimensions\\n\".format(word.vector.shape[0]))\n",
    "print(word.vector[:10])"
   ]
  },
  {
   "cell_type": "code",
   "execution_count": 19,
   "metadata": {
    "collapsed": false
   },
   "outputs": [
    {
     "data": {
      "text/plain": [
       "['atentados',\n",
       " 'tumultos',\n",
       " 'incidentes',\n",
       " 'escândalos',\n",
       " 'assassinatos',\n",
       " 'abusos',\n",
       " 'motins',\n",
       " 'bombardeios',\n",
       " 'massacres',\n",
       " 'julgamentos']"
      ]
     },
     "execution_count": 19,
     "metadata": {},
     "output_type": "execute_result"
    }
   ],
   "source": [
    "Word(\"protestos\",\"pt\").neighbors"
   ]
  },
  {
   "cell_type": "code",
   "execution_count": 20,
   "metadata": {
    "collapsed": false
   },
   "outputs": [
    {
     "name": "stdout",
     "output_type": "stream",
     "text": [
      "[polyglot_data] Downloading package sgns2.pt to\n",
      "[polyglot_data]     /Users/linwood/polyglot_data...\n",
      "[polyglot_data]   Package sgns2.pt is already up-to-date!\n"
     ]
    },
    {
     "data": {
      "text/plain": [
       "True"
      ]
     },
     "execution_count": 20,
     "metadata": {},
     "output_type": "execute_result"
    }
   ],
   "source": [
    "from polyglot.downloader import downloader\n",
    "downloader.download(\"sgns2.pt\")"
   ]
  },
  {
   "cell_type": "code",
   "execution_count": null,
   "metadata": {
    "collapsed": false
   },
   "outputs": [],
   "source": []
  },
  {
   "cell_type": "code",
   "execution_count": null,
   "metadata": {
    "collapsed": false
   },
   "outputs": [],
   "source": []
  },
  {
   "cell_type": "code",
   "execution_count": null,
   "metadata": {
    "collapsed": true
   },
   "outputs": [],
   "source": []
  }
 ],
 "metadata": {
  "kernelspec": {
   "display_name": "Python 3",
   "language": "python",
   "name": "python3"
  },
  "language_info": {
   "codemirror_mode": {
    "name": "ipython",
    "version": 3
   },
   "file_extension": ".py",
   "mimetype": "text/x-python",
   "name": "python",
   "nbconvert_exporter": "python",
   "pygments_lexer": "ipython3",
   "version": "3.5.0"
  }
 },
 "nbformat": 4,
 "nbformat_minor": 0
}
