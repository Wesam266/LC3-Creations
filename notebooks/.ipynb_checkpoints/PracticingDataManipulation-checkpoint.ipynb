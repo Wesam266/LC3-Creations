{
 "cells": [
  {
   "cell_type": "code",
   "execution_count": 21,
   "metadata": {
    "collapsed": false
   },
   "outputs": [],
   "source": [
    "import pandas as pd\n",
    "import numpy as np\n",
    "import urllib2\n",
    "import matplotlib.pyplot as plt\n",
    "%matplotlib inline"
   ]
  },
  {
   "cell_type": "code",
   "execution_count": 29,
   "metadata": {
    "collapsed": false
   },
   "outputs": [],
   "source": [
    "url = \"https://archive.ics.uci.edu/ml/machine-learning-databases/cpu-performance/machine.data\"\n",
    "\n",
    "    "
   ]
  },
  {
   "cell_type": "code",
   "execution_count": 30,
   "metadata": {
    "collapsed": false
   },
   "outputs": [
    {
     "data": {
      "text/html": [
       "<div>\n",
       "<table border=\"1\" class=\"dataframe\">\n",
       "  <thead>\n",
       "    <tr style=\"text-align: right;\">\n",
       "      <th></th>\n",
       "      <th>COMPACTNESS</th>\n",
       "      <th>CIRCULARITY</th>\n",
       "      <th>DISTANCE CIRCULARITY</th>\n",
       "      <th>RADIUS RATIO</th>\n",
       "      <th>PR.AXIS ASPECT RATIO</th>\n",
       "      <th>MAX.LENGTH ASPECT RATIO</th>\n",
       "      <th>SCATTER RATIO</th>\n",
       "      <th>ELONGATEDNESS</th>\n",
       "      <th>PR.AXIS RECTANGULARITY</th>\n",
       "      <th>MAX.LENGTH RECTANGULARITY</th>\n",
       "      <th>SCALED VARIANCE_MAJOR</th>\n",
       "      <th>SCALED VARIANCE_MINOR</th>\n",
       "      <th>SCALED RADIUS OF GYRATION</th>\n",
       "      <th>SKEWNESS ABOUT_MAJOR</th>\n",
       "      <th>SKEWNESS ABOUT_MINOR</th>\n",
       "      <th>KURTOSIS ABOUT_MAJOR</th>\n",
       "      <th>KURTOSIS ABOUT_MINOR</th>\n",
       "      <th>HOLLOWS RATIO</th>\n",
       "      <th>Class</th>\n",
       "    </tr>\n",
       "  </thead>\n",
       "  <tbody>\n",
       "    <tr>\n",
       "      <th>0</th>\n",
       "      <td>double</td>\n",
       "      <td>double</td>\n",
       "      <td>double</td>\n",
       "      <td>double</td>\n",
       "      <td>double</td>\n",
       "      <td>double</td>\n",
       "      <td>double</td>\n",
       "      <td>double</td>\n",
       "      <td>double</td>\n",
       "      <td>double</td>\n",
       "      <td>double</td>\n",
       "      <td>double</td>\n",
       "      <td>double</td>\n",
       "      <td>double</td>\n",
       "      <td>double</td>\n",
       "      <td>double</td>\n",
       "      <td>double</td>\n",
       "      <td>double</td>\n",
       "      <td>String</td>\n",
       "    </tr>\n",
       "    <tr>\n",
       "      <th>1</th>\n",
       "      <td>95.0</td>\n",
       "      <td>48.0</td>\n",
       "      <td>83.0</td>\n",
       "      <td>178.0</td>\n",
       "      <td>72.0</td>\n",
       "      <td>10.0</td>\n",
       "      <td>162.0</td>\n",
       "      <td>42.0</td>\n",
       "      <td>20.0</td>\n",
       "      <td>159.0</td>\n",
       "      <td>176.0</td>\n",
       "      <td>379.0</td>\n",
       "      <td>184.0</td>\n",
       "      <td>70.0</td>\n",
       "      <td>6.0</td>\n",
       "      <td>16.0</td>\n",
       "      <td>187.0</td>\n",
       "      <td>197.0</td>\n",
       "      <td>van</td>\n",
       "    </tr>\n",
       "    <tr>\n",
       "      <th>2</th>\n",
       "      <td>91.0</td>\n",
       "      <td>41.0</td>\n",
       "      <td>84.0</td>\n",
       "      <td>141.0</td>\n",
       "      <td>57.0</td>\n",
       "      <td>9.0</td>\n",
       "      <td>149.0</td>\n",
       "      <td>45.0</td>\n",
       "      <td>19.0</td>\n",
       "      <td>143.0</td>\n",
       "      <td>170.0</td>\n",
       "      <td>330.0</td>\n",
       "      <td>158.0</td>\n",
       "      <td>72.0</td>\n",
       "      <td>9.0</td>\n",
       "      <td>14.0</td>\n",
       "      <td>189.0</td>\n",
       "      <td>199.0</td>\n",
       "      <td>van</td>\n",
       "    </tr>\n",
       "    <tr>\n",
       "      <th>3</th>\n",
       "      <td>104.0</td>\n",
       "      <td>50.0</td>\n",
       "      <td>106.0</td>\n",
       "      <td>209.0</td>\n",
       "      <td>66.0</td>\n",
       "      <td>10.0</td>\n",
       "      <td>207.0</td>\n",
       "      <td>32.0</td>\n",
       "      <td>23.0</td>\n",
       "      <td>158.0</td>\n",
       "      <td>223.0</td>\n",
       "      <td>635.0</td>\n",
       "      <td>220.0</td>\n",
       "      <td>73.0</td>\n",
       "      <td>14.0</td>\n",
       "      <td>9.0</td>\n",
       "      <td>188.0</td>\n",
       "      <td>196.0</td>\n",
       "      <td>saab</td>\n",
       "    </tr>\n",
       "    <tr>\n",
       "      <th>4</th>\n",
       "      <td>93.0</td>\n",
       "      <td>41.0</td>\n",
       "      <td>82.0</td>\n",
       "      <td>159.0</td>\n",
       "      <td>63.0</td>\n",
       "      <td>9.0</td>\n",
       "      <td>144.0</td>\n",
       "      <td>46.0</td>\n",
       "      <td>19.0</td>\n",
       "      <td>143.0</td>\n",
       "      <td>160.0</td>\n",
       "      <td>309.0</td>\n",
       "      <td>127.0</td>\n",
       "      <td>63.0</td>\n",
       "      <td>6.0</td>\n",
       "      <td>10.0</td>\n",
       "      <td>199.0</td>\n",
       "      <td>207.0</td>\n",
       "      <td>van</td>\n",
       "    </tr>\n",
       "  </tbody>\n",
       "</table>\n",
       "</div>"
      ],
      "text/plain": [
       "  COMPACTNESS CIRCULARITY DISTANCE CIRCULARITY RADIUS RATIO  \\\n",
       "0      double      double               double       double   \n",
       "1        95.0        48.0                 83.0        178.0   \n",
       "2        91.0        41.0                 84.0        141.0   \n",
       "3       104.0        50.0                106.0        209.0   \n",
       "4        93.0        41.0                 82.0        159.0   \n",
       "\n",
       "  PR.AXIS ASPECT RATIO MAX.LENGTH ASPECT RATIO SCATTER RATIO ELONGATEDNESS  \\\n",
       "0               double                  double        double        double   \n",
       "1                 72.0                    10.0         162.0          42.0   \n",
       "2                 57.0                     9.0         149.0          45.0   \n",
       "3                 66.0                    10.0         207.0          32.0   \n",
       "4                 63.0                     9.0         144.0          46.0   \n",
       "\n",
       "  PR.AXIS RECTANGULARITY MAX.LENGTH RECTANGULARITY SCALED VARIANCE_MAJOR  \\\n",
       "0                 double                    double                double   \n",
       "1                   20.0                     159.0                 176.0   \n",
       "2                   19.0                     143.0                 170.0   \n",
       "3                   23.0                     158.0                 223.0   \n",
       "4                   19.0                     143.0                 160.0   \n",
       "\n",
       "  SCALED VARIANCE_MINOR SCALED RADIUS OF GYRATION SKEWNESS ABOUT_MAJOR  \\\n",
       "0                double                    double               double   \n",
       "1                 379.0                     184.0                 70.0   \n",
       "2                 330.0                     158.0                 72.0   \n",
       "3                 635.0                     220.0                 73.0   \n",
       "4                 309.0                     127.0                 63.0   \n",
       "\n",
       "  SKEWNESS ABOUT_MINOR KURTOSIS ABOUT_MAJOR KURTOSIS ABOUT_MINOR  \\\n",
       "0               double               double               double   \n",
       "1                  6.0                 16.0                187.0   \n",
       "2                  9.0                 14.0                189.0   \n",
       "3                 14.0                  9.0                188.0   \n",
       "4                  6.0                 10.0                199.0   \n",
       "\n",
       "  HOLLOWS RATIO   Class  \n",
       "0        double  String  \n",
       "1         197.0     van  \n",
       "2         199.0     van  \n",
       "3         196.0    saab  \n",
       "4         207.0     van  "
      ]
     },
     "execution_count": 30,
     "metadata": {},
     "output_type": "execute_result"
    }
   ],
   "source": [
    "df.head()"
   ]
  },
  {
   "cell_type": "code",
   "execution_count": 56,
   "metadata": {
    "collapsed": false
   },
   "outputs": [
    {
     "data": {
      "text/html": [
       "<div>\n",
       "<table border=\"1\" class=\"dataframe\">\n",
       "  <thead>\n",
       "    <tr style=\"text-align: right;\">\n",
       "      <th></th>\n",
       "      <th>COMPACTNESS</th>\n",
       "      <th>CIRCULARITY</th>\n",
       "      <th>DISTANCE CIRCULARITY</th>\n",
       "      <th>RADIUS RATIO</th>\n",
       "      <th>PR.AXIS ASPECT RATIO</th>\n",
       "      <th>MAX.LENGTH ASPECT RATIO</th>\n",
       "      <th>SCATTER RATIO</th>\n",
       "      <th>ELONGATEDNESS</th>\n",
       "      <th>PR.AXIS RECTANGULARITY</th>\n",
       "      <th>MAX.LENGTH RECTANGULARITY</th>\n",
       "      <th>SCALED VARIANCE_MAJOR</th>\n",
       "      <th>SCALED VARIANCE_MINOR</th>\n",
       "      <th>SCALED RADIUS OF GYRATION</th>\n",
       "      <th>SKEWNESS ABOUT_MAJOR</th>\n",
       "      <th>SKEWNESS ABOUT_MINOR</th>\n",
       "      <th>KURTOSIS ABOUT_MAJOR</th>\n",
       "      <th>KURTOSIS ABOUT_MINOR</th>\n",
       "      <th>HOLLOWS RATIO</th>\n",
       "      <th>Class</th>\n",
       "    </tr>\n",
       "  </thead>\n",
       "  <tbody>\n",
       "    <tr>\n",
       "      <th>count</th>\n",
       "      <td>847</td>\n",
       "      <td>847</td>\n",
       "      <td>847</td>\n",
       "      <td>847</td>\n",
       "      <td>847</td>\n",
       "      <td>847</td>\n",
       "      <td>847</td>\n",
       "      <td>847</td>\n",
       "      <td>847</td>\n",
       "      <td>847</td>\n",
       "      <td>847</td>\n",
       "      <td>847</td>\n",
       "      <td>847</td>\n",
       "      <td>847</td>\n",
       "      <td>847</td>\n",
       "      <td>847</td>\n",
       "      <td>847</td>\n",
       "      <td>847</td>\n",
       "      <td>847</td>\n",
       "    </tr>\n",
       "    <tr>\n",
       "      <th>unique</th>\n",
       "      <td>45</td>\n",
       "      <td>28</td>\n",
       "      <td>64</td>\n",
       "      <td>135</td>\n",
       "      <td>38</td>\n",
       "      <td>22</td>\n",
       "      <td>132</td>\n",
       "      <td>36</td>\n",
       "      <td>14</td>\n",
       "      <td>67</td>\n",
       "      <td>129</td>\n",
       "      <td>425</td>\n",
       "      <td>144</td>\n",
       "      <td>40</td>\n",
       "      <td>24</td>\n",
       "      <td>42</td>\n",
       "      <td>31</td>\n",
       "      <td>32</td>\n",
       "      <td>5</td>\n",
       "    </tr>\n",
       "    <tr>\n",
       "      <th>top</th>\n",
       "      <td>89.0</td>\n",
       "      <td>43.0</td>\n",
       "      <td>66.0</td>\n",
       "      <td>197.0</td>\n",
       "      <td>64.0</td>\n",
       "      <td>7.0</td>\n",
       "      <td>150.0</td>\n",
       "      <td>45.0</td>\n",
       "      <td>19.0</td>\n",
       "      <td>145.0</td>\n",
       "      <td>170.0</td>\n",
       "      <td>333.0</td>\n",
       "      <td>186.0</td>\n",
       "      <td>72.0</td>\n",
       "      <td>1.0</td>\n",
       "      <td>11.0</td>\n",
       "      <td>188.0</td>\n",
       "      <td>198.0</td>\n",
       "      <td>bus</td>\n",
       "    </tr>\n",
       "    <tr>\n",
       "      <th>freq</th>\n",
       "      <td>60</td>\n",
       "      <td>60</td>\n",
       "      <td>46</td>\n",
       "      <td>18</td>\n",
       "      <td>69</td>\n",
       "      <td>168</td>\n",
       "      <td>35</td>\n",
       "      <td>73</td>\n",
       "      <td>239</td>\n",
       "      <td>37</td>\n",
       "      <td>34</td>\n",
       "      <td>8</td>\n",
       "      <td>24</td>\n",
       "      <td>75</td>\n",
       "      <td>81</td>\n",
       "      <td>46</td>\n",
       "      <td>62</td>\n",
       "      <td>53</td>\n",
       "      <td>218</td>\n",
       "    </tr>\n",
       "  </tbody>\n",
       "</table>\n",
       "</div>"
      ],
      "text/plain": [
       "       COMPACTNESS CIRCULARITY DISTANCE CIRCULARITY RADIUS RATIO  \\\n",
       "count          847         847                  847          847   \n",
       "unique          45          28                   64          135   \n",
       "top           89.0        43.0                 66.0        197.0   \n",
       "freq            60          60                   46           18   \n",
       "\n",
       "       PR.AXIS ASPECT RATIO MAX.LENGTH ASPECT RATIO SCATTER RATIO  \\\n",
       "count                   847                     847           847   \n",
       "unique                   38                      22           132   \n",
       "top                    64.0                     7.0         150.0   \n",
       "freq                     69                     168            35   \n",
       "\n",
       "       ELONGATEDNESS PR.AXIS RECTANGULARITY MAX.LENGTH RECTANGULARITY  \\\n",
       "count            847                    847                       847   \n",
       "unique            36                     14                        67   \n",
       "top             45.0                   19.0                     145.0   \n",
       "freq              73                    239                        37   \n",
       "\n",
       "       SCALED VARIANCE_MAJOR SCALED VARIANCE_MINOR SCALED RADIUS OF GYRATION  \\\n",
       "count                    847                   847                       847   \n",
       "unique                   129                   425                       144   \n",
       "top                    170.0                 333.0                     186.0   \n",
       "freq                      34                     8                        24   \n",
       "\n",
       "       SKEWNESS ABOUT_MAJOR SKEWNESS ABOUT_MINOR KURTOSIS ABOUT_MAJOR  \\\n",
       "count                   847                  847                  847   \n",
       "unique                   40                   24                   42   \n",
       "top                    72.0                  1.0                 11.0   \n",
       "freq                     75                   81                   46   \n",
       "\n",
       "       KURTOSIS ABOUT_MINOR HOLLOWS RATIO Class  \n",
       "count                   847           847   847  \n",
       "unique                   31            32     5  \n",
       "top                   188.0         198.0   bus  \n",
       "freq                     62            53   218  "
      ]
     },
     "execution_count": 56,
     "metadata": {},
     "output_type": "execute_result"
    }
   ],
   "source": [
    "df.describe()"
   ]
  },
  {
   "cell_type": "code",
   "execution_count": 109,
   "metadata": {
    "collapsed": false
   },
   "outputs": [],
   "source": [
    "df.ix[1:,1]=df.ix[1:,1].apply(lambda x: float(x))"
   ]
  },
  {
   "cell_type": "code",
   "execution_count": 111,
   "metadata": {
    "collapsed": false
   },
   "outputs": [
    {
     "data": {
      "text/plain": [
       "[1, 2, 3, 4, 5, 6, 7, 8, 9, 10, 11, 12, 13, 14, 15, 16, 17]"
      ]
     },
     "execution_count": 111,
     "metadata": {},
     "output_type": "execute_result"
    }
   ],
   "source": [
    "range(1,len(df.columns)-1)"
   ]
  },
  {
   "cell_type": "code",
   "execution_count": 113,
   "metadata": {
    "collapsed": false
   },
   "outputs": [],
   "source": [
    "df.ix[1:,1].values;"
   ]
  },
  {
   "cell_type": "code",
   "execution_count": 117,
   "metadata": {
    "collapsed": false
   },
   "outputs": [
    {
     "data": {
      "image/png": "[encoded data removed]",
      "text/plain": [
       "<matplotlib.figure.Figure at 0x106958050>"
      ]
     },
     "metadata": {},
     "output_type": "display_data"
    }
   ],
   "source": [
    "\n",
    "import scipy.stats as stats\n",
    "import pylab as pl\n",
    "\n",
    "h = sorted(df.ix[1:,1].values)  #sorted\n",
    "\n",
    "fit = stats.norm.pdf(h, np.mean(h), np.std(h))  #this is a fitting indeed\n",
    "\n",
    "pl.plot(h,fit,'-D')\n",
    "\n",
    "pl.hist(h,normed=True)      #use this to draw histogram of your data\n",
    "\n",
    "pl.show() "
   ]
  },
  {
   "cell_type": "code",
   "execution_count": 119,
   "metadata": {
    "collapsed": false
   },
   "outputs": [
    {
     "data": {
      "text/plain": [
       "NormaltestResult(statistic=133.43573044457594, pvalue=1.0587643012206875e-29)"
      ]
     },
     "execution_count": 119,
     "metadata": {},
     "output_type": "execute_result"
    }
   ],
   "source": [
    "stats.mstats.normaltest(h)"
   ]
  },
  {
   "cell_type": "code",
   "execution_count": 120,
   "metadata": {
    "collapsed": true
   },
   "outputs": [],
   "source": [
    "s = np.random.normal(0, .1, 1000)"
   ]
  },
  {
   "cell_type": "code",
   "execution_count": 121,
   "metadata": {
    "collapsed": false
   },
   "outputs": [
    {
     "data": {
      "text/plain": [
       "NormaltestResult(statistic=6.9167902639132173, pvalue=0.031480243135973668)"
      ]
     },
     "execution_count": 121,
     "metadata": {},
     "output_type": "execute_result"
    }
   ],
   "source": [
    "stats.mstats.normaltest(s)"
   ]
  },
  {
   "cell_type": "code",
   "execution_count": 128,
   "metadata": {
    "collapsed": false
   },
   "outputs": [
    {
     "data": {
      "text/plain": [
       "<matplotlib.axes._subplots.AxesSubplot at 0x106ccb290>"
      ]
     },
     "execution_count": 128,
     "metadata": {},
     "output_type": "execute_result"
    },
    {
     "data": {
      "image/png": "[encoded data removed]",
      "text/plain": [
       "<matplotlib.figure.Figure at 0x108ce7510>"
      ]
     },
     "metadata": {},
     "output_type": "display_data"
    }
   ],
   "source": [
    "df.ix[1:,1].plot(kind='hist', alpha=0.5, bins = 25)"
   ]
  },
  {
   "cell_type": "code",
   "execution_count": 166,
   "metadata": {
    "collapsed": false
   },
   "outputs": [
    {
     "data": {
      "text/plain": [
       "AndersonResult(statistic=8.414121362308606, critical_values=array([ 0.573,  0.653,  0.783,  0.914,  1.087]), significance_level=array([ 15. ,  10. ,   5. ,   2.5,   1. ]))"
      ]
     },
     "execution_count": 166,
     "metadata": {},
     "output_type": "execute_result"
    }
   ],
   "source": [
    "import sys\n",
    "sys.path.append('/Users/linwood/anaconda/pkgs/statsmodels-0.6.1-np19py27_0/lib/python2.7/site-packages')\n",
    "import statsmodels\n",
    "samp = np.random.normal(0, 5, 1000000)\n",
    "stats.anderson(h, dist='norm')"
   ]
  },
  {
   "cell_type": "code",
   "execution_count": 143,
   "metadata": {
    "collapsed": false
   },
   "outputs": [
    {
     "data": {
      "text/plain": [
       "'/Users/linwood/projects/LC3-Creations'"
      ]
     },
     "execution_count": 143,
     "metadata": {},
     "output_type": "execute_result"
    }
   ],
   "source": [
    "import os\n",
    "os.getcwd()"
   ]
  },
  {
   "cell_type": "code",
   "execution_count": 156,
   "metadata": {
    "collapsed": false
   },
   "outputs": [
    {
     "data": {
      "text/plain": [
       "count     846\n",
       "unique     27\n",
       "top        43\n",
       "freq       60\n",
       "Name: CIRCULARITY, dtype: float64"
      ]
     },
     "execution_count": 156,
     "metadata": {},
     "output_type": "execute_result"
    }
   ],
   "source": [
    "df.ix[1:,1].describe()"
   ]
  },
  {
   "cell_type": "code",
   "execution_count": 158,
   "metadata": {
    "collapsed": false
   },
   "outputs": [
    {
     "data": {
      "text/plain": [
       "(44.861702127659576, 6.1698656060220678, 44.0)"
      ]
     },
     "execution_count": 158,
     "metadata": {},
     "output_type": "execute_result"
    }
   ],
   "source": [
    "df.ix[1:,1].mean(), df.ix[1:,1].std(), df.ix[1:,1].median(), "
   ]
  },
  {
   "cell_type": "code",
   "execution_count": 1,
   "metadata": {
    "collapsed": true
   },
   "outputs": [],
   "source": [
    "import numpy as np\n",
    "import urllib\n",
    "# URL for the Pima Indians Diabetes dataset (UCI Machine Learning Repository)\n",
    "url = \"http://goo.gl/j0Rvxq\"\n",
    "# download the file\n",
    "raw_data = urllib.urlopen(url)\n",
    "# load the CSV file as a numpy matrix\n",
    "dataset = np.loadtxt(raw_data, delimiter=\",\")"
   ]
  },
  {
   "cell_type": "code",
   "execution_count": 2,
   "metadata": {
    "collapsed": false
   },
   "outputs": [
    {
     "data": {
      "text/plain": [
       "array([[   6.   ,  148.   ,   72.   , ...,    0.627,   50.   ,    1.   ],\n",
       "       [   1.   ,   85.   ,   66.   , ...,    0.351,   31.   ,    0.   ],\n",
       "       [   8.   ,  183.   ,   64.   , ...,    0.672,   32.   ,    1.   ],\n",
       "       ..., \n",
       "       [   5.   ,  121.   ,   72.   , ...,    0.245,   30.   ,    0.   ],\n",
       "       [   1.   ,  126.   ,   60.   , ...,    0.349,   47.   ,    1.   ],\n",
       "       [   1.   ,   93.   ,   70.   , ...,    0.315,   23.   ,    0.   ]])"
      ]
     },
     "execution_count": 2,
     "metadata": {},
     "output_type": "execute_result"
    }
   ],
   "source": [
    "dataset"
   ]
  },
  {
   "cell_type": "code",
   "execution_count": null,
   "metadata": {
    "collapsed": true
   },
   "outputs": [],
   "source": []
  }
 ],
 "metadata": {
  "kernelspec": {
   "display_name": "Python 2",
   "language": "python",
   "name": "python2"
  },
  "language_info": {
   "codemirror_mode": {
    "name": "ipython",
    "version": 2
   },
   "file_extension": ".py",
   "mimetype": "text/x-python",
   "name": "python",
   "nbconvert_exporter": "python",
   "pygments_lexer": "ipython2",
   "version": "2.7.10"
  }
 },
 "nbformat": 4,
 "nbformat_minor": 0
}
