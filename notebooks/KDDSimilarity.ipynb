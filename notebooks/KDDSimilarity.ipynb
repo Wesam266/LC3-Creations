{
 "cells": [
  {
   "cell_type": "code",
   "execution_count": 77,
   "metadata": {
    "collapsed": false
   },
   "outputs": [],
   "source": [
    "from os import walk\n",
    "import os\n",
    "import pandas as pd\n",
    "import subprocess\n",
    "import sys\n",
    "import nltk\n",
    "from nltk.stem.wordnet import WordNetLemmatizer\n",
    "from nltk import pos_tag\n",
    "import time\n",
    "import json\n",
    "import re\n",
    "import urllib2\n",
    "import unicodedata\n",
    "from nltk.tag import StanfordNERTagger\n",
    "from nltk.tokenize import word_tokenize\n",
    "\n",
    "wordnet_tags = ['n', 'v', 'a', 's', 'r']\n",
    "%matplotlib inline\n"
   ]
  },
  {
   "cell_type": "markdown",
   "metadata": {},
   "source": [
    "# The main code, built from testing, is in the cell immediately below. "
   ]
  },
  {
   "cell_type": "code",
   "execution_count": 162,
   "metadata": {
    "collapsed": true
   },
   "outputs": [],
   "source": [
    "# from http://brandonrose.org/clustering\n",
    "\n",
    "\n",
    "\n",
    "from nltk.stem import SnowballStemmer\n",
    "from nltk.stem.wordnet import WordNetLemmatizer\n",
    "stemmer = SnowballStemmer(\"english\")\n",
    "lemmer = WordNetLemmatizer()\n",
    "wordnet_tags = ['n', 'v', 'a', 's', 'r']\n",
    "\n",
    "def tokenize_and_stem_n_lem(text):\n",
    "    # first tokenize by sentence, then by word to ensure that punctuation is caught as it's own token\n",
    "    tokens = [word for sent in nltk.sent_tokenize(text) for word in nltk.word_tokenize(sent)]\n",
    "    filtered_tokens = []\n",
    "    # filter out any tokens not containing letters (e.g., numeric tokens, raw punctuation)\n",
    "    for token in tokens:\n",
    "        if re.search('[a-zA-Z]', token):\n",
    "            filtered_tokens.append(token)\n",
    "    ''' \n",
    "    Old code gave seperate lists for lem and stem; I lemmed, then just stemmed the result\n",
    "    #stems = [stemmer.stem(t) for t in filtered_tokens]\n",
    "    #lems = [lemmer.lemmatize(l) for l in filtered_tokens]\n",
    "    '''\n",
    "    stems = [stemmer.stem(lemmer.lemmatize(l)) for l in filtered_tokens]\n",
    "    \n",
    "    #return stems,lems\n",
    "    return stems\n",
    "\n",
    "def tokenize_only(text):\n",
    "    # first tokenize by sentence, then by word to ensure that punctuation is caught as it's own token\n",
    "    tokens = [word.lower() for sent in nltk.sent_tokenize(text) for word in nltk.word_tokenize(sent)]\n",
    "    filtered_tokens = []\n",
    "    # filter out any tokens not containing letters (e.g., numeric tokens, raw punctuation)\n",
    "    for token in tokens:\n",
    "        if re.search('[a-zA-Z]', token):\n",
    "            filtered_tokens.append(token)\n",
    "    return filtered_tokens"
   ]
  },
  {
   "cell_type": "code",
   "execution_count": 262,
   "metadata": {
    "collapsed": false
   },
   "outputs": [
    {
     "ename": "IndexError",
     "evalue": "list index out of range",
     "output_type": "error",
     "traceback": [
      "\u001b[0;31m---------------------------------------------------------------------------\u001b[0m",
      "\u001b[0;31mIndexError\u001b[0m                                Traceback (most recent call last)",
      "\u001b[0;32m<ipython-input-262-6703759500bd>\u001b[0m in \u001b[0;36m<module>\u001b[0;34m()\u001b[0m\n\u001b[1;32m     40\u001b[0m                 \u001b[0msection\u001b[0m  \u001b[0;34m=\u001b[0m \u001b[0mre\u001b[0m\u001b[0;34m.\u001b[0m\u001b[0mfindall\u001b[0m \u001b[0;34m(\u001b[0m\u001b[0;34mr'\\n\\n([^]]*)\\n\\n(Abstract|ABSTRACT)'\u001b[0m\u001b[0;34m,\u001b[0m\u001b[0mdocument\u001b[0m\u001b[0;34m[\u001b[0m\u001b[0;34m:\u001b[0m\u001b[0;36m2000\u001b[0m\u001b[0;34m]\u001b[0m\u001b[0;34m)\u001b[0m\u001b[0;34m\u001b[0m\u001b[0m\n\u001b[1;32m     41\u001b[0m \u001b[0;34m\u001b[0m\u001b[0m\n\u001b[0;32m---> 42\u001b[0;31m                 \u001b[0mtype\u001b[0m\u001b[0;34m(\u001b[0m\u001b[0msection\u001b[0m\u001b[0;34m[\u001b[0m\u001b[0;36m0\u001b[0m\u001b[0;34m]\u001b[0m\u001b[0;34m[\u001b[0m\u001b[0;36m0\u001b[0m\u001b[0;34m]\u001b[0m\u001b[0;34m)\u001b[0m\u001b[0;34m\u001b[0m\u001b[0m\n\u001b[0m\u001b[1;32m     43\u001b[0m \u001b[0;34m\u001b[0m\u001b[0m\n\u001b[1;32m     44\u001b[0m                 \u001b[0;32mif\u001b[0m \u001b[0misinstance\u001b[0m\u001b[0;34m(\u001b[0m\u001b[0msection\u001b[0m\u001b[0;34m,\u001b[0m \u001b[0mlist\u001b[0m\u001b[0;34m)\u001b[0m\u001b[0;34m:\u001b[0m\u001b[0;34m\u001b[0m\u001b[0m\n",
      "\u001b[0;31mIndexError\u001b[0m: list index out of range"
     ]
    }
   ],
   "source": [
    "path        = os.path.abspath(os.getcwd())\n",
    "TESTDIR     = os.path.normpath(os.path.join(os.path.expanduser(\"~\"),\"projects\",\"LC3-Creations\", \"examples\",\"KDDsample\"))\n",
    "\n",
    "corpus = {}\n",
    "\n",
    "start_time = time.time()\n",
    "for dirName, subdirList, fileList in walk(TESTDIR):\n",
    "        for fileName in fileList:\n",
    "            if fileName.startswith('p') and fileName.endswith('.pdf'):\n",
    "                a = unicode(subprocess.check_output(['pdf2txt.py',str(os.path.normpath(os.path.join(TESTDIR,fileName)))]),errors='ignore')\n",
    "                document = unicodedata.normalize('NFKD', a).encode('ascii','ignore')\n",
    "                # Getting title\n",
    "                title = re.findall(\"^[^\\\\n\\\\n]+\",document)[0]\n",
    "                \n",
    "                # Getting the abstract\n",
    "                try:\n",
    "                    abstract = re.findall (r'\\n\\n(Abstract|ABSTRACT)([^]]*)\\n\\n',document[:2000])[0]\n",
    "                except IndexError:\n",
    "                    abstract = re.findall (r'(Abstract|ABSTRACT)([^]]*)',document[:2000])[0][1]\n",
    "                except IndexError:\n",
    "                    abstract = \"We are unable to parse the abstract of %s, with title %s; Check file for abstract\" % (fileName,title)\n",
    "\n",
    "                else :\n",
    "                    abstract = \"We are unable to parse the abstract of %s, with title %s; Check file for abstract\" % (fileName,title)\n",
    "\n",
    "                if isinstance(abstract, tuple):\n",
    "                    abstract = re.sub('[\\s]',\" \",abstract[1])\n",
    "                elif isinstance(abstract,list):\n",
    "                    abstract = re.sub('[\\s]',\" \",abstract[1])\n",
    "                elif isinstance(abstract,str):\n",
    "                    abstract = re.sub('[\\s]',\" \", abstract)\n",
    "                \n",
    "                else:\n",
    "                    abstract = \"We are unable to parse the abstract of %s, with title %s; Check file for abstract\" % (fileName,title)\n",
    "\n",
    "        \n",
    "                \n",
    "                    \n",
    "                # Extracts section with names and email addresses only\n",
    "                section  = re.findall (r'\\n\\n([^]]*)\\n\\n(Abstract|ABSTRACT)',document[:2000])\n",
    "\n",
    "                type(section[0][0])\n",
    "\n",
    "                if isinstance(section, list):\n",
    "                    section = re.sub('[\\s]',\" \",section[0][0])\n",
    "                else:\n",
    "                    section = re.sub('[\\s]',\" \",section)\n",
    "                    \n",
    "\n",
    "                # Code to extract entities from top section of pdf and store a relationship tree\n",
    "                tagged = nltk.pos_tag(nltk.word_tokenize(section))\n",
    "                entities = nltk.chunk.ne_chunk(tagged)\n",
    "                \n",
    "                # Another entity extractor\n",
    "                st = StanfordNERTagger('/Users/linwood/stanford-corenlp-full-2015-04-20/classifiers/english.conll.4class.distsim.crf.ser.gz',\n",
    "\t\t\t\t\t   '/Users/linwood/stanford-corenlp-full-2015-04-20/stanford-corenlp-3.5.2.jar',\n",
    "\t\t\t\t\t   encoding='utf-8')\n",
    "                tokenized_text = word_tokenize(section)\n",
    "                stanentities = st.tag(tokenized_text)\n",
    "                \n",
    "                # Calls function to lemmatize and stem the document; stores the result\n",
    "                tokenize_and_stem_n_lem(abstract);\n",
    "\n",
    "                '''\n",
    "                This gives seperate lists for lem and stem; replacement code stores combin\n",
    "                # Creates the json document format to store the files\n",
    "                corpus[str(fileName)]={}\n",
    "                corpus[str(fileName)]={'Title':title,'Abstract':abstract,'Entities':entities, \n",
    "                                       \"Stanford ER\":stanentities, \"Stems\": tokenize_and_stem_n_lem(abstract)[0], \n",
    "                                      \"Lems\": tokenize_and_stem_n_lem(abstract)[1]}'''\n",
    "                \n",
    "                # Creates the json document format to store the files\n",
    "                corpus[str(fileName)]={}\n",
    "                corpus[str(fileName)]={'Title':title,'Abstract':abstract,'Entities':entities, \n",
    "                                       \"Stanford ER\":stanentities, \"Stems\": tokenize_and_stem_n_lem(abstract)}\n",
    "                print \".\","
   ]
  },
  {
   "cell_type": "code",
   "execution_count": 257,
   "metadata": {
    "collapsed": false
   },
   "outputs": [
    {
     "data": {
      "text/plain": [
       "u'Inferring Gas Consumption and Pollution Emissions of   Vehicles throughout a City    Jingbo Shang1,2,*, Yu Zheng2,+, Wenzhu Tong3,2,*, Eric Chang2, Yong Yu1   1Dept. of Computer Science & Engineering, Shanghai Jiao Tong University   2Microsoft Research, No.5 Danling Street, Haidian District, Beijing 100080, China   3Computer School of Wuhan University, Wuhan, Hubei, China   {v-jishan, yuzheng, v-wetong, echang}@microsoft.com, yyu@apex.sjtu.edu.cn    a direct result, is strategically important to modeling urban traffic, gas  consumption, and pollution emission, in order to help save energy and  protect the environment [19]. For instance, if we were to know the gas  consumption  for  traveling  any  road  segment  at  any  time,  we  can  suggest cost-efficient driving routes and identify road segments where  gas  is  being  wasted  significantly.  Such  knowledge  can  impact  authorities  decision  making  on  improving  a  citys  transportation  infrastructure.  In  the  meantime,  real-time  estimation  of  emissions  from  vehicles  can  enable  pollution  alerts.  In  the  long  run,  this  information  can  help  diagnose  the  root  cause  of  air  pollution.  For  example, whether reducing traffic of vehicles will significantly lower  air  pollution  is  still  a  controversial  subject  in  developing  countries.  There is no clear method to determine the percentage of PM2.5 in a  given air space that is generated by vehicles.   As shown in Figure 1, we instantly estimate the total gas consumption  and the corresponding pollution emission of vehicles traveling on any  road  segment  in  a  city  at  a  particular  time  slot,  using  the  GPS  trajectories  of  a  sample  of  vehicles  (e.g.  taxicabs).  Specifically,  we  first infer the average travel speed on each road segment, using sparse  GPS data from a few vehicles. We then estimate the traffic volume  (i.e., the number of vehicles/minute) traversing a road segment based  on  the  average  travel  speed  and  other  factors,  such  as  weather  and  type of roads. Finally, the travel speed and traffic volume of a road  segment are used to calculate the total gas consumption and vehicle  emissions on the road, allowing us to determine the pulse of traffic,  energy consumption, and emission levels throughout a city.      Figure 1. Goals of our Work   Our work faces three main challenges. 1) Data sparseness: We can  only have a sample of traffic data, as many vehicles do not have a  GPS sensor installed. Moreover, in a given time slot, only a small  portion of road segments are traversed by GPS-equipped vehicles.  For  example,  according  to  the  statistic  on  Beijings  taxi  data,  on  average,  only  13%  of  road  segments  are  traversed  by  taxis  in  an  hour. 2) From travel speeds to traffic volumes: The traffic volume  on a road segment depends on multiple factors, such as the current  travel speeds and density of vehicles, the length, shape, and capacity  of the road, as well as weather conditions. Unfortunately, it is not  easy to obtain enough training data to learn the mapping between  traffic  volumes  and  these  factors.  In  addition,  the  occurrence  of  sampled vehicles on roads may be skewed from that of the entire set  of vehicles. For example, observing more taxis on a road segment  does not mean  more occurrences of other vehicles. Consequently,  we can neither use the sampled traffic as a training set to learn the  + Yu Zheng is the correspondence author of this paper.     ABSTRACT  This  paper  instantly  infers  the  gas  consumption  and  pollution  emission of vehicles traveling on a citys road network in a current  time  slot,  using  GPS  trajectories  from  a  sample  of  vehicles  (e.g.,  taxicabs). The knowledge can be used to suggest cost-efficient driving  routes  as  well  as  identifying  road  segments  where  gas  has  been  wasted  significantly.  The  instant  estimation  of  the  emissions  from  vehicles can enable pollution alerts and help diagnose the root cause  of air pollution in the long run. In our method, we first compute the  travel speed of each road segment using the GPS trajectories received  recently. As many road segments are not traversed by trajectories (i.e.,  data  sparsity),  we  propose  a Travel  Speed Estimation  (TSE)  model  based  on  a  context-aware  matrix  factorization  approach.  TSE  leverages features learned from other data sources, e.g., map data and  historical trajectories, to deal with the data sparsity problem. We then  propose a Traffic Volume Inference (TVI) model to infer the number  of  vehicles  passing  each  road  segment  per  minute.  TVI  is  an  unsupervised  Bayesian  Network  that  incorporates  multiple  factors,  such as travel speed, weather conditions and geographical features of  a road. Given the travel speed and traffic volume of a road segment,  gas consumption and emissions can be calculated based on existing  environmental theories. We evaluate our method based on extensive  experiments using GPS trajectories generated by over 32,000 taxis in  Beijing  over  a  period  of  two  months.  The  results  demonstrate  the  advantages of our method over baselines, validating the contribution  of its components and finding interesting discoveries for the benefit of  society.    Categories and Subject Descriptors  H.2.8  [Database  Management]:  Database  Applications  -  data  mining, Spatial databases and GIS;  Keywords  Urban computing; traffic pollution; gas consumption; trajectories.  1.  INTRODUCTION  While consuming a huge amount of gas, vehicles traveling in cities  also generate  greenhouse gases (GHG), like CO2, and air pollution,  e.g.,  PM2.5.  Figuring  out  the  answers  to  challenging  questions  of  emissions, such as how much gas is consumed by vehicles in a given  city or on a particular road, or what volume of PM2.5 is generated as  *The paper was done when the first and third authors were an intern in  Microsoft  Research  under  the  supervision  of  the  second  author  who    contributed the main idea and algorithms of this paper.  Permission  to  make  digital  or  hard  copies  of  all  or  part  of  this  work  for  personal or classroom use is granted without fee provided that copies are not  made or distributed for profit or commercial advantage and that copies bear  this notice and the full citation on the first page. Copyrights for components  of this work owned by others than ACM must be honored. Abstracting with  credit is permitted. To copy otherwise, or republish, to post on servers or to  redistribute to lists, requires prior specific permission and/or a fee. Request  permissions from permissions@acm.org.  KDD14, August 2427, 2014, New York, New York, USA.  Copyright  2014 ACM 978-1-4503-2956-9/14/08$15.00  http://dx.doi.org/10.1145/2623330.2623653   1027 aforementioned  mapping,  nor  simply  multiply  a  factor  to  the  volume of sampled vehicles. 3) Real-time and citywide: To enable a  valuable  service,  e.g.,  enabling  air  pollution  alerts,  it  is  better  to  have  real-time  information  about  traffic,  gas  consumption  and  emissions, with a city scale. This calls for a knowledge discovery  ability that is both efficient (i.e., providing information on the entire  city  a  few  minutes  after  receiving  the  data)  and  effective  (e.g.,  consider  the  traffic  conditions  not  only  on  a  road  segment  individually but also on a road network systematically).    Given  the  aforementioned  challenges,  existing  methods  for  estimating the traffic conditions on a single road do not work well.  For instance, traffic detection solutions [5, 7, 13] using loop sensors  on roads and surveillance cameras are difficult to scale up to cover  an entire city. Some approaches, e.g., fundamental diagram [1, 3],  need a lot of training data, or are not applicable to a complex road  network  [2].  Conventional  models  using  floating  car  data  to  estimate traffic conditions do not tackle the data sparsity problem  well,  which  cannot  be  simply  solved  by  interpolation  [18]  or  just  using historical patterns [2] either (refer to the related work section  for details). Our research makes three main contributions:    We  infer  the  travel  speed  of  a  road  segment  throughout  a  city,  using  a  model  (titled  TSE)  based  on  a  context-aware  matrix  factorization.  TSE  incorporates  historical  traffic  patterns, the correlation between different times of day, and  physical  features  of  a  road  (such  as  the  length),  in  a  framework  of  collaborative  filtering,  to  tackle  the  data  sparsity problem.      We  propose  an  unsupervised  graphical  model  for  traffic  volume inference (titled TVI) on a road segment in a given  time  slot.  TVI  considers  multiple  factors,  such  as  physical  features  of  a  road,  travel  speed,  variance  in  speed,  and  weather conditions, in a Bayesian Network.      We evaluate the effectiveness and efficiency of our method  with extensive experiments, using GPS trajectories generated  by  32,670  taxis  over  a  period  of  two  months.  Our  method  outperforms baselines significantly. We have share a sample  of the experimental data at [20].    The rest of the paper is organized as follows. Section 2 overviews  our method. We detail the methodology in Section 3 and evaluate  our  approach  in  Section  4.  After  reviewing  related  work  in  Section 5, we conclude this paper in Section 6.  2.  OVERVIEW   Definition  1:  Trajectory.  A  spatial  trajectory (cid:1846)(cid:1870) is  a  sequence  of  time-ordered  spatial  points, (cid:1846)(cid:1870):(cid:1868)(cid:2869)(cid:1372)(cid:1868)(cid:2870)(cid:1372)(cid:1710)(cid:1372)(cid:1868)(cid:3041) ,  where  each  point has a geospatial coordinate set (cid:1864) and a timestamp (cid:1872), (cid:1868)(cid:3404)(cid:4666)(cid:1864),(cid:1872)(cid:4667).  Definition 3: Road Network. A road network (cid:1844)(cid:1840) is comprised of a  set  of  road  segments (cid:4668)(cid:1870)(cid:4669) connected  among  each  other  in  a  graph  format. Each road segment (cid:1870) is a directed edge having two terminal  (cid:1870).(cid:1864)(cid:1857)(cid:1866), a level (cid:1870).(cid:1864)(cid:1857)(cid:1874) (e.g., a highway or a street), a direction (cid:1870).(cid:1856)(cid:1861)(cid:1870)  (e.g., one-way or bi-directional)  and the number of lanes (cid:1870).(cid:1866).    Definition 2: POI. A point of interest POI is a venue (like a school  and shopping mall) in the physical world, having a name, address,  coordinates, category, and other attributes.    points, a list of intermediate points describing the segment, a length   Section 3. We first map the GPS trajectories received in the current  time slot onto a road network using a map-matching algorithm [6],  and then calculate the travel speed on the road segments covered by  trajectories. We also extract road features from map data, like Points  of  Interests  (POI)  and  road  networks,  and  traffic  patterns  from  historical trajectories. The road features and traffic patterns are used  as context to improve the accuracy of travel speed estimation, which  computes the average travel speeds of road segments that are absent  of  trajectory  data  through  a  context-aware  matrix-factorization  approach.  The  road  features  and  inferred  travel  speed  as  well  as  other  features  (like  weather  conditions)  are  then  employed  as  observations in a graphical model to infer traffic volumes on a road  segment. Finally, employing existing equations from environmental  science,  we  calculate  the  gas  consumption  and  emission  on  each  road segment.   Gas Consum.   GHG Emission  Weather w  Volume N  Energy and Emission Calculation  Traffic Volume Inference  Speed V  Speed Variance Dv  Travel Speed Estimation  Road Features   fr  POI Features fp  Road Traffic  Patterns Mr  Historical Region  Traffic Patterns MG  Instant Traffic on   Roads Mr  Instant Regional   Traffic MG  Context Extraction  RoadNetworks  Trajectory Mapping  PointsofInterests  GPSTrajectories  Figure 2. Framework of our method      3.  METHODOLOGY  3.1  Trajectory Mapping  The trajectory mapping component receives GPS trajectories from  vehicles and projects each trajectory onto a road network using a  map-matching algorithm [6]. This component also calculates the  average travel speed for road segments currently covered by the  trajectory  data  received.  As  shown  in  Figure  3,  three  vehicles   travel  four  road  segments (cid:1870)(cid:2869) , (cid:1870)(cid:2870) , (cid:1870)(cid:2871)  and (cid:1870)(cid:2872) ,  generating  three  trajectories (cid:1846)(cid:1870)(cid:2869), (cid:1846)(cid:1870)(cid:2870),  and (cid:1846)(cid:1870)(cid:2871) .  After  map-matching,  each  point                 (cid:1874)(cid:2869)(cid:3404)(cid:1830)(cid:1861)(cid:1871)(cid:1872)(cid:4666)(cid:1868)(cid:2869).(cid:1864),(cid:1868)(cid:2870).(cid:1864)(cid:4667) |(cid:1868)(cid:2870).(cid:1872)(cid:3398)(cid:1868)(cid:2869).(cid:1872)| where (cid:1830)(cid:1861)(cid:1871)(cid:1872) is  a  function  calculating  the  road  network  distance                                  (cid:1874)(cid:1191)(cid:3404) (cid:1874)(cid:3036)(cid:3041)(cid:3036) (cid:1866) ;                              (2)                                  (cid:1856)(cid:3049)(cid:3404) (cid:4666)(cid:3049)(cid:3284)(cid:2879)(cid:3049)(cid:3364)(cid:4667)(cid:3118)(cid:3041) (cid:3041)(cid:3036)  from  a  trajectory is  mapped  onto  a  road  segment.  Then,  we  can  calculate the travel speed for each point based on Equation 1,    ,          (1)   between two points. Likewise, we can calculate the travel speed  for  other  points  and  then  compute  the  average  and  variance  of  travel speed of a road segment as Equation 2 and 3.    ,                          (3)   Figure 2 presents the framework of our method, which is comprised  of  five  major  components:  trajectory  mapping,  context  extraction,  travel  speed  estimation,  traffic  volume  inference,  and  energy  &  emission  calculations,  which  will  be  elaborated  respectively  in   Figure 3. Calculating the average travel speed of a road segment      1028 For instance, the average travel speed of (cid:1870)(cid:2869) is (cid:4666)(cid:1874)(cid:2869)(cid:3397)(cid:1874)(cid:2870)(cid:3397)(cid:1874)(cid:2872)(cid:4667)3 . To   ensure the quality of the calculated average speed, we require a road  segment to be traveled by vehicles for certain times (e.g., 3 times in  the experiments). Otherwise, the road segment is considered absent  of data and will later be inferred by our method. The average speed  and variance formulate a road segments traffic conditions, which  will  be  used  in  both  travel  speed  estimation  and  traffic  volume  inference components.   3.2  Context Extraction  This component generates two categories of knowledge. One is a set  of physical features extracted from POI and road network databases,  describing the geographic contexts of a road segment. The other is  the traffic patterns learned from historical trajectories, revealing the  correlation between different time slots.  Physical features of a road: As shown in Figure 3 A), the physical   features of a road segment (cid:1870) further consist of three parts:    r6  r5  r1  d1  r2  r3  r4  g1  g5  g9  g13  g2  g6  g10  g14  g3  g7  g11  g15  g4  g8  g12  g16  f1 f2  fk  fr  fp  fg  r1 r2 Z= r3  A)  Mr=  t1 t2 ti tj tm  r1  (22, 6.1) (12, 4.5)  Null  ri  rn (v1,i, dv1,i) (v2,i, dv2,i) (vi,i, dvi,i) (vi,j, dvi,j) (vn,i, dvn,i)  B) g1 g2 g16 14 50 22 27 16 8  26 72 49  23 6 9 42 2 11  7  t1 t2 ti tj tm  Mg=     61  91  rn  (48, 8.6) (17, 1.6)  Figure 3. Context Extraction   terminals  (e.g.,  within  a  disc  of  200  meters),  we  calculate  the  distribution  of  POIs  across  10  categories:  Schools,  Companies  &  Offices, Banks & ATMs, Malls & Shopping, Restaurants, Gas stations  & Vehicle services, Parking, Hotels, Residences, Transportation, and  Entertainment  & Living Services. The 10 POI categories are mined  from POI and road network datasets, co-occurring with road segments   1) Road network features (cid:1858)(cid:3045): (cid:1870).(cid:1864)(cid:1857)(cid:1866), (cid:1870).(cid:1864)(cid:1857)(cid:1874), (cid:1870).(cid:1856)(cid:1861)(cid:1870), (cid:1870).(cid:1866), the number of  connections, and a tortuosity (cid:2028), which is the ratio between (cid:1870).(cid:1864)(cid:1857)(cid:1866) and  the  Euclidian  distance  between  the  two  terminals  of (cid:1870)  .  In  this  example, (cid:1870)(cid:2869) has  two  connections  on  one  terminal  and  three  on  the  other; (cid:1870)(cid:2869).(cid:2028)(cid:3404)(cid:1870)(cid:2869).(cid:1864)(cid:1857)(cid:1866) (cid:1856)(cid:2869) .    2) POI features (cid:1858)(cid:3043): For a road segment (cid:1870), from the POIs around (cid:1870)s  most frequently. For instance, the (cid:1858)(cid:3043) of (cid:1870)(cid:2869) is (0, 0, 1, 1, 0, 1, 0, 0, 2, 0).  3) Global position feature (cid:1858)(cid:3034): This feature basically indicates which  city  into  4(cid:3400)4  grids,  the (cid:1858)(cid:3034) of  a  road  segment  located  in (cid:1859)(cid:2874) can  be  geographically close to each other, their (cid:1858)(cid:3034) will be similar.   We place (cid:1858)(cid:3045), (cid:1858)(cid:3043), and (cid:1858)(cid:3034) of each road segment into a matrix (cid:1852), where  feature. (cid:1858)(cid:3045) and (cid:1858)(cid:3043) represent the local features of a road segment, while  (cid:1858)(cid:3034) captures a road segments global geo-position. The general idea is  that road segments with similar (cid:1858)(cid:3045) and (cid:1858)(cid:3043)could share a similar traffic  condition.  If  their (cid:1858)(cid:3034) is  also  similar  (i.e.,  close  to  each  other),  they   represented  by  the  IDs  of  its  eight  neighbors,  i.e.,  (1,1,1,0,1,0,1,0,  1,1,1,0,0,0,0,0), as illustrated in Figure 3 B). If two road segments are   each row denotes a road segment and a column represents a kind of   part of the city a road segment falls in. For instance, if we partition a   The feature is further normalized into a distribution.    would have a more similar traffic condition.    level but denser representation of traffic patterns. To model the traffic   traversing a specific grid cell in a particular time slot, calculated based   changing  over  time  of  day.  Specifically,  as  shown  in  the  bottom  of   Traffic  Patterns:  While  the  physical  features  of  a  road  segment  are   particular time slot, calculated based on the historical data over a long  period (e.g., 2 months). The similarity between two rows reveals the   grained traffic patterns in a city, where a row stands for a time slot and a  column denotes a grid cell. For example, as shown in Figure 3 B), we  partition  Beijing  into  16  disjoint  grids,  each  of  which  contains  some   static, we also extract from historical trajectories two matrices (cid:1839)(cid:3045) and  (cid:1839)(cid:3034) that  respectively  represent  fine  and  coarse-grained  traffic  patterns  Figure 3, a row of (cid:1839)(cid:3045) denotes a time slot (e.g., 2pm-2:10pm), and a  column  stands  for  a  road  segment.  Each  entry  in (cid:1839)(cid:3045)  contains  the  average traffic condition ((cid:1874)(cid:1191), (cid:1856)(cid:1874)) on a particular road segment and in a  correlation between two time slots. Likewise, matrix (cid:1839)(cid:3008) reflects coarse- road  segments.  Each  entry  of (cid:1839)(cid:3008) is  the  average  number  of  vehicles  on the data over a long period of time. In contrast to (cid:1839)(cid:3045), (cid:1839)(cid:3034) is a higher- patterns  more  accurately,  we  can  maintain (cid:1839)(cid:3045)  and (cid:1839)(cid:3034)  which  This component estimates the traffic condition ((cid:1874)(cid:1191), (cid:1856)(cid:1874)) on each road  As illustrated in Figure 4, we formulate three matrices (cid:1850), (cid:1851), and (cid:1852),  where (cid:1850)(cid:3404)(cid:1839)(cid:1314)(cid:3045)||(cid:1839)(cid:3045) , (cid:1851)(cid:3404)(cid:1839)(cid:1314)(cid:3008)||(cid:1839)(cid:3008) ,  and (cid:1852)  contains  the  physical  features of roads. Specifically, (cid:1839)(cid:1314)(cid:3045) and (cid:1839)(cid:1314)(cid:3008) are matrices built based  on  the  recent  trajectory  data  received  from (cid:1872)(cid:3036) to (cid:1872)(cid:3037) (e.g.,  1pm-3pm),  where (cid:1872)(cid:3037) is  the  current  time  slot. (cid:1839)(cid:3045) and (cid:1839)(cid:3008) are  the  traffic  pattern  time slots from (cid:1872)(cid:3036) to (cid:1872)(cid:3037). In the implementation, we build (cid:1839)(cid:3045) and (cid:1839)(cid:3008)  of an entire day in advance and retrieve the entries from (cid:1872)(cid:3036) to (cid:1872)(cid:3037) when  constructing (cid:1850) and (cid:1851) (refer  to  the  broken  line  box  in  the  bottom  of  missing values in row (cid:1872)(cid:3037) of (cid:1839)(cid:1314)(cid:3045) with the help of  (cid:1839)(cid:3045),  (cid:1851) and (cid:1852).   correspond to workdays and holidays, respectively.  3.3  Travel Speed Estimation (TSE)   Figure  3).  Given  the  above  settings,  the  goal  of  estimating  current  traffic conditions on a road network can be converted into filling the   segment,  using  recently  received  trajectory  data  and  contexts  (extracted in Section 3.2) in a framework of collaborative filtering.    matrices built over a long period of time, corresponding to the same   g1 g2 g16  g1 g2 g16  MG  MG  titi+1 tj  r1 r2  rn  r1 r2  rn  Mr  Mr  titi+1 tj  f1 f2  fk  fr  fp  fg  r1 r2 rn     Y  Z  X  Figure 4. Context-aware Matrix Factorization-based CF   few  non-zero  entries  due  to  the  data  sparsity  problem.  So,  the   into  the  product  of  two  low-rank  matrices  based  on  the  non-zero   enough. To tackle the data sparsity problem, we incorporate another   Basically, we can achieve this goal through solely factorizing (cid:1839)(cid:1314)(cid:3045)  entries  of (cid:1839)(cid:1314)(cid:3045).  However,  as  we  mentioned  before, (cid:1839)(cid:1314)(cid:3045)   has  very  approximation  of (cid:1839)(cid:1314)(cid:3045)  by  solely  factorizing  itself  is  not  accurate  two  context  matrices (cid:1851)  and (cid:1852) ,  where (cid:1851)  models  the  temporal  correlations  between  different  time  slots  and (cid:1852)  models  the  Intuitively, (cid:1839)(cid:1314)(cid:3045) and (cid:1839)(cid:1314)(cid:3008) represent current traffic conditions in a city,  and   (cid:1839)(cid:3045)  and (cid:1839)(cid:3008)  denote  historical  traffic  patterns.  Putting (cid:1839)(cid:1314)(cid:3045)  together with (cid:1839)(cid:3045) (and (cid:1839)(cid:1314)(cid:3008) together with (cid:1839)(cid:3008)(cid:4667) reveals the deviation  Additionally, (cid:1839)(cid:3045) and (cid:1839)(cid:3008) built over a long period of time are much  of (cid:1850) and (cid:1851) can help tackle the data sparsity problem.   More specifically, we can decompose (cid:1850),  (cid:1851) and (cid:1852) as follows:      (cid:1851)(cid:3406)(cid:1846)(cid:3400)(cid:4666)(cid:1833);(cid:1833)(cid:4667)(cid:3021);  (cid:1850)(cid:3406)(cid:1846)(cid:3400)(cid:4666)(cid:1844);(cid:1844)(cid:4667)(cid:3021);  (cid:1852)(cid:3406)(cid:1844)(cid:3400)(cid:1832)(cid:3021),     (4)   of current traffic conditions from the corresponding traffic patterns.   denser than the recently received data. As a result, the formulation   geographical  similarity  between  two  different  road  segments.   1029 the   improve   the  accuracy  of   closed-form solutions to minimize the objective function. Therefore,  we  iteratively  minimize  the  objective  function  according  to  the  gradient descent algorithm shown in Figure 5. Specifically, we have   objective function (5) control the loss in matrix factorization, and the  last term controls the regularization over the factorized matrices so as  to prevent over fitting.  In general, the objective function is not jointly   where (cid:1846),(cid:1833),(cid:1844), and (cid:1832) are low-rank matrices representing the latent  factors; (cid:1850) and (cid:1851) share  latent  factor (cid:1846); (cid:1850) and (cid:1852) share  latent  factor  (cid:1844). As (cid:1851) and (cid:1852) can be built from other data sources, e.g., historical  trajectories  and  map  data,  they  are  much  denser  than (cid:1850) .  Consequently, (cid:1851)  and (cid:1852)  can  approximation, if we factorize  (cid:1850),  (cid:1851) and (cid:1852) collaboratively. After  the  factorization,  we  can  recover (cid:1850) through  the  production  of (cid:1846)  and (cid:4666)(cid:1844);(cid:1844)(cid:4667)(cid:3021). The objective function is defined as Equation 5.  (cid:1838)(cid:4666)(cid:1846),(cid:1844),(cid:1833),(cid:1832)(cid:4667)(cid:3404)(cid:2869)(cid:2870)||(cid:1851)(cid:3398)(cid:1846)(cid:4666)(cid:1833);(cid:1833)(cid:4667)(cid:3021)||(cid:2870)(cid:3397)(cid:3090)(cid:3117)(cid:2870)||(cid:1850)(cid:3398)(cid:1846)(cid:4666)(cid:1844);(cid:1844)(cid:4667)(cid:3021)||(cid:2870)(cid:3397) (cid:3090)(cid:3118)(cid:2870)||(cid:1852)(cid:3398)(cid:1844)(cid:1832)(cid:3021)||(cid:2870)(cid:3397)(cid:3090)(cid:3119)(cid:2870)(cid:4666)||(cid:1846)||(cid:2870)(cid:3397)||(cid:1844)||(cid:2870)(cid:3397)||(cid:1833)||(cid:2870)(cid:3397)||(cid:1832)||(cid:2870)(cid:4667),           (5)  where (cid:1510)(cid:1510) denotes  the  Frobenius  norm.  The  first  three  terms  in  the  convex  to  all  the  variables (cid:1844), (cid:1846), (cid:1833),  and (cid:1832).  That  is,  we  cannot  get  the gradients (denoted as(cid:1487)) for each variable:    (cid:1487)(cid:3021)(cid:1838)(cid:3404)(cid:4670)(cid:1846)(cid:4666)(cid:1833);(cid:1833)(cid:4667)(cid:3021)(cid:3398)(cid:1851)(cid:4671)(cid:4666)(cid:1833);(cid:1833)(cid:4667)(cid:3021)(cid:3397)(cid:2019)(cid:2869)(cid:4666)(cid:1846)(cid:4666)(cid:1844);(cid:1844)(cid:4667)(cid:3021)(cid:3398)(cid:1850)(cid:4667)(cid:4666)(cid:1844);(cid:1844)(cid:4667)(cid:3021)(cid:3397)(cid:2019)(cid:2871)(cid:1846),            (cid:1487)(cid:3019)(cid:1838)(cid:3404)(cid:2019)(cid:2869)(cid:4670)(cid:1846)(cid:4666)(cid:1844);(cid:1844)(cid:4667)(cid:3021)(cid:3398)(cid:1850)(cid:4671)(cid:3021)(cid:1846)(cid:3397)(cid:2019)(cid:2870)(cid:4666)(cid:1844)(cid:1832)(cid:3021)(cid:3398)(cid:1852)(cid:4667)(cid:1832)(cid:3021)(cid:3397)(cid:2019)(cid:2871)(cid:1844),            (cid:1487)(cid:3008)(cid:1838)(cid:3404)(cid:3435)(cid:1846)(cid:4666)(cid:1833);(cid:1833)(cid:4667)(cid:1846)(cid:3398)(cid:1851)(cid:3439)(cid:3021)(cid:1846)(cid:3397)(cid:2019)(cid:2871)(cid:1833),                                          (6)         (cid:1487)(cid:3007)(cid:1838)(cid:3404)(cid:2019)(cid:2870)(cid:4666)(cid:1844)(cid:1832)(cid:3021)(cid:3398)(cid:1852)(cid:4667)(cid:3021)(cid:1846)(cid:3397)(cid:2019)(cid:2871)(cid:1832).  Input: Incomplete matrix (cid:1850), context matrices (cid:1851) and (cid:1852)   Output: Complete matrix (cid:1850).  1.  (cid:1872)(cid:3404)1;  2.  While ((cid:1872)(cid:3407)(cid:1840) and (cid:1838)(cid:3047)(cid:3398)(cid:1838)(cid:3047)(cid:2878)(cid:2869)(cid:3408)(cid:2035))         // N is #(max iterations)  3.       Get the gradients (cid:1487)(cid:3021)(cid:3295), (cid:1487)(cid:3019)(cid:3295), (cid:1487)(cid:3008)(cid:3295), and (cid:1487)(cid:3007)(cid:3295) by Eq.(6);  4.       (cid:2011)(cid:3404)1;            (cid:1838)(cid:4666)(cid:1846)(cid:3047)(cid:3398)(cid:2011)(cid:1487)(cid:3021)(cid:3295),(cid:1844)(cid:3047)(cid:3398)(cid:2011)(cid:1487)(cid:3019)(cid:3295),(cid:1833)(cid:3047)(cid:3398)(cid:2011)(cid:1487)(cid:3008)(cid:3295),(cid:1832)(cid:3047)(cid:3398)(cid:2011)(cid:1487)(cid:3007)(cid:3295)(cid:4667)(cid:3410)(cid:1838)(cid:4666)(cid:1846)(cid:3047),(cid:1844)(cid:3047),(cid:1833)(cid:3047),(cid:1832)(cid:3047)(cid:4667)   6.                     (cid:2011)(cid:3404)(cid:2011) 2 ;        // search for the maximal step size  7.       (cid:1846)(cid:3047)(cid:2878)(cid:2869)(cid:3404)(cid:1846)(cid:3047)(cid:3398)(cid:2011)(cid:1487)(cid:3021)(cid:3295), (cid:1844)(cid:3047)(cid:2878)(cid:2869)(cid:3404)(cid:1844)(cid:3047)(cid:3398)(cid:2011)(cid:1487)(cid:3019)(cid:3295) and   8.       (cid:1833)(cid:3047)(cid:2878)(cid:2869)(cid:3404)(cid:1833)(cid:3047)(cid:3398)(cid:2011)(cid:1487)(cid:3008)(cid:3295),  (cid:1832)(cid:3047)(cid:2878)(cid:2869)(cid:3404)(cid:1832)(cid:3047)(cid:3398)(cid:2011)(cid:1487)(cid:3007)(cid:3295);  8.       (cid:1872)(cid:3404)(cid:1872)(cid:3397)1;  9.   Return (cid:1850);   Algorithm TSE   5.       While    it  is   Figure 5. Model for travel speed estimation  3.4  Traffic Volume Inference (TVI)  3.4.1  Model Description  Intrinsically, there exists a certain relationship, e.g., fundamental  diagram, among traffic speed, volume and density. Yet to quantify  this  relationship  accurately  requires  a  large  amount  of  traffic  volume  data.  As  many  road  segments  are  not  equipped  with  in- road devices, collecting such training data with a city-scale is very  costly.  Thus,  impractical  to  use  supervised  learning  algorithms to learn the relationship. In addition, the occurrence of  the sampled vehicles (e.g., taxis) on a road segment may be quite  different from the entire set of vehicles, though their travel speed  could be similar. In other words, observing more taxis on a road  segment  does  not  deduce  more  occurrences  of  other  vehicles.  Given  this,  we  cannot  infer  the  total  volume  of  traffic  directly  based  on  the  sampled  traffic  data.  To  address  this  issue,  we  propose  an  unsupervised  graphical  model,  TVI,  based  on  a  partially observed Bayesian Network.   Figure 6 presents the graphical structure of TVI model, where a  gray  node  denotes  a  hidden  variable  and  white  nodes  are  observations. Note that we can train only one TVI model using the   minute  per  lane)  of  a  road  segment  is  influenced  by  four  major   data  of  all  road  segments.  The  model  is  then  applied  to  infer  the  traffic volume for each road segment respectively. Specifically, the   traffic volume on each road lane (cid:1840)(cid:3028) (i.e., the number of vehicles per  factors, consisting of the  weather conditions (cid:1875), time of day (cid:1872), the  type  of  road (cid:2016),  and  the  volume  of  observed  sample  vehicles (cid:1840)(cid:3047).  Furthermore,  a  roads (cid:2016)  is  co-determined  by  its  road  network  features (cid:1858)(cid:3045)  (such  as (cid:1870).(cid:1864)(cid:1857)(cid:1866) ),  global  position  feature (cid:1858)(cid:3034) ,  and  surrounding POIs (cid:2009) which is influenced by (cid:1858)(cid:3043) and the total number  of  POIs (cid:1840)(cid:3043) . (cid:1874)(cid:1191)  and (cid:1856)(cid:1874)  are  the  average  travel  speed  and  speed  varriance, respectively, inferred by TSE model. (cid:1874)(cid:1191) is determined by  (cid:2016), (cid:1840)(cid:3028), and (cid:1875). (cid:1856)(cid:1874) is co-determined by (cid:1840)(cid:3047), (cid:1840)(cid:3028), and (cid:1874)(cid:1191).       ;    3.4.2  Learning    Algorithm 2: Parameter Learning of TVI   Figure 6. The graphical structure of TVI model   be  drawn  simply  by  counting  the  occurrence  of  each  condition.  Hence, we use the Expectation-Maximization (EM) algorithm to  learn  the  parameters  in  an  unsupervised  manner,  i.e.,  without   Due to the hidden nodes, the conditional probability of (cid:1840)(cid:3028) cannot  knowing the value of traffic volume (cid:1840)(cid:3028), as shown in Figure 7.   Input: Bayesian Network structure; observed evidences (cid:1831)  Output: Conditional probability (cid:1842)(cid:4666)(cid:1841)|(cid:1842)(cid:1853)(cid:4666)(cid:1841)(cid:4667)(cid:4667) of each node (cid:1841)  1. Randomly initialize (cid:1842)(cid:4666)(cid:1841)|(cid:1842)(cid:1853)(cid:4666)(cid:1841)(cid:4667)(cid:4667) for each node (cid:1841)  2. While (cid:1842)(cid:4666)(cid:1841)|(cid:1842)(cid:1853)(cid:4666)(cid:1841)(cid:4667)(cid:4667) does not converge  3.        Foreach evidence (cid:1857)(cid:3404)(cid:4666)(cid:1858)(cid:3045),(cid:1858)(cid:3034),(cid:1858)(cid:3043),(cid:1840)(cid:3043),(cid:1872),(cid:1875),(cid:1840)(cid:3047),(cid:1874)(cid:3365),(cid:1856)(cid:3049)(cid:4667) (cid:1488) (cid:1831)  4.              Foreach value of (cid:1860)(cid:3404)(cid:4666)(cid:2009),(cid:2016),(cid:1840)(cid:3028)(cid:4667) (cid:1488)(cid:1834)  5.                    (cid:1842)(cid:4666)(cid:1860),(cid:1857)(cid:4667)(cid:1370)(cid:1842)(cid:3435)(cid:2009)(cid:3627)(cid:1858)(cid:3043),(cid:1840)(cid:3043)(cid:3439)(cid:1842)(cid:3435)(cid:2016)(cid:3627)(cid:2009),(cid:1858)(cid:3034),(cid:1858)(cid:3045)(cid:3439)(cid:3400)                         (cid:1842)(cid:4666)(cid:1840)(cid:3028)|(cid:2016),(cid:1872),(cid:1875),(cid:1840)(cid:3047)(cid:4667)(cid:1842)(cid:4666)(cid:1874)(cid:3365)|(cid:1840)(cid:3028),(cid:2016),(cid:1875)(cid:4667)(cid:1842)(cid:4666)(cid:1856)(cid:3049)|(cid:1840)(cid:3028),(cid:1840)(cid:3047),(cid:1874)(cid:3365)(cid:4667)  6.               Foreach value of (cid:1860)(cid:3404)(cid:4666)(cid:2009),(cid:2016),(cid:1840)(cid:3028)(cid:4667) (cid:1488)(cid:1834)  7.                    (cid:1842)(cid:4666)(cid:1860)|(cid:1857)(cid:4667)(cid:1370)(cid:1842)(cid:4666)(cid:1860),(cid:1857)(cid:4667)/ (cid:1842)(cid:4666)(cid:1860),(cid:1857)(cid:4667) 8.        Foreach node (cid:1841)  (cid:3035)(cid:1488)(cid:3009) 9.               (cid:2025)(cid:1370) the occurrences of (cid:4666)(cid:1841),(cid:1842)(cid:1853)(cid:4666)(cid:1841)(cid:4667)(cid:4667);  10.             (cid:1842)(cid:4666)(cid:1841)|(cid:1842)(cid:1853)(cid:4666)(cid:1841)(cid:4667)(cid:4667)(cid:1370) (cid:2025)/the occurrence of (cid:1842)(cid:1853)(cid:4666)(cid:1841)(cid:4667);  11. Return (cid:1842)(cid:4666)(cid:1841)|(cid:1842)(cid:1853)(cid:4666)(cid:1841)(cid:4667)(cid:4667) conditional  probabilities,  e.g. (cid:1842)(cid:3435)(cid:2009)(cid:3627)(cid:1858)(cid:3043),(cid:1840)(cid:3043)(cid:3439)  and (cid:1842)(cid:4666)(cid:1874)(cid:1191) |(cid:1840)(cid:3028),(cid:2016),(cid:1875)(cid:4667) ,  the values of the hidden nodes (cid:4666)(cid:2009),(cid:2016),(cid:1840)(cid:3028)(cid:4667) for each instance of the   with  random  values.  In  the  E-step  (Line  4-7),  we  call  exact  inference method, i.e., use the simple Bayesian rule, to compute   At the beginning part, this algorithm sets the parameters, i.e., the   Figure 7. Parameter learning algorithm of TVI   observed data. This is actually an inference process. In the M-step  (Line 8-10), by scanning the inferred results from the E-step, the  algorithm  recalculates  the  conditional  probabilities,  which  will  replace  the  old  parameters.  Keep  iterating  until  the  parameters  converge, we learn a solution for the unknown parameters.   3.4.3  Discretization  All  the  variables  in  our  model  are  discretized.  This  reduces  the  inference  difficulty,  while  ensuring  the  inferred  results  are  statistically useful for gas consumption and emission calculation.   Some  nodes  are  discretized  based  on  commonsense  knowledge.   For  example,  speed (cid:1874)(cid:1191)  has  7  categories,  i.e.,  [0,10),  [10,20),   [20,40), [40,60), [60,80), [80,120), [120, ~) km/h, corresponding  to  different  traffic  conditions  like  free  flow  and  congestion.  However,  it  is  difficult  to  find  a  proper  discretization  for  traffic   1030 volumes  (on  each  lane) (cid:1840)(cid:3028) ,  as  we  do  not  really  have  prior  knowledge on how big (cid:1840)(cid:3028) could be on different road segments.    To  address  this  problem,  we  record  358  video  clips  on  50  road  segments  at  different  times  of  day,  and  then  manually  counted  the  number of vehicles passing these road segments in a given time slot  (i.e. the true traffic volume) (see Table 3 for details) by replaying the  video clips. A simple method is to discretize the traffic volume data  uniformly  according  to  the  range  identified  from  the  collected  observations. However, the observations are too limited to reveal the  true  upper  bound  of  the  possible  volume  on  road  segments.  In  addition,  road  segments  of  different  levels  may  have  very  different  upper  bound  of  traffic  volumes.  So,  we  employ  the  observed  true  volumes  to  fit  a  curve  that  reveals  the  distribution  of  the  traffic  volumes  on  different  levels  of  road  segments.  Then,  the  fitted   distribution is used as a guidance for the discretization of (cid:1840)(cid:3028).   As shown in Figure 8, the black data points indicate the observed true  volumes, which have been projected onto buckets with a width of 2,  i.e., [0, 2), [2, 4), and so on. Significant difference can be observed  among  the  three  road  levels  because  of  the  different  road  features,  such as speed limits and number of lanes. For example, the volume of  level 0-1 roads centers in the range of [10, 40), while most volume  data of level 3 roads is smaller than 10. To model the traffic volumes  on different roads more accurately, we fit a dedicated distributions for  each level of road segment (level 0 and 1 share the same distribution  as  both  of  them  denote  highways  in  Beijing).  We  adopt  normal  distribution   (cid:2870)(cid:3097)(cid:3118) (cid:4667)                 (7)  Figure 7, e.g., (cid:2020)=21.6 and (cid:2026)=6.38 are good fits for level 0-1 roads   (cid:1858)(cid:4666)(cid:1876); (cid:2020),(cid:2026)(cid:4667)(cid:3404) (cid:2869)(cid:3097)(cid:2870)(cid:3095)exp (cid:4666)(cid:3398)(cid:4666)(cid:3051)(cid:2879)(cid:3091)(cid:4667)(cid:3118)  to  fit  the  observed  volume  data.  The  parameters  are  shown  in   (p-value > 0.05 in a chi-square test).    10  s n o  i t  a v r e s b o     #   = 21.61 =  6.38  m  0 0  10  5  0   True Traffic Volumes  Normal Distribution  m1 m2 m3 m4  20  30 A) Level 0-1 (highways)  #veh/min/lane  m5 40  s n o  i t  a v r e s b o     #  40  30  20  10  0  0   =  5.44 =  3.13  True Traffic Volumes  Normal Distribution  10  20  #veh/min/lane  30  40  15  10  s n o  i t  a v r e s b o   #  5  0  0  10  B) Level 2 (main roads)  =  2.95 =  2.38   True Traffic Volumes  Normal Distribution  20  30 C) Level 3 (small streets)  #veh/min/lane  40     Figure 8. Fitting volume distribution for different road levels   The observations on these road segments can fit the distribution of  traffic  volume  w.r.t.  a  level  of  roads  for  two  reasons.  First,  the  selected  road  segments  of  a  level  have  a  diversity  of  features  (such as length) and traffic volumes. Second, we evenly select the  observations  from  each  road  segment  and  in  different  time  slots  (82, 163, and 54 observations for level 0-1, 2, and 3 respectively).   Given  the  fitted  distribution  of  a  road  level,  we  find  a  group  of   splitting  points (cid:1865)(cid:2868),(cid:1865)(cid:2869),(cid:1710),(cid:1865)(cid:2873) that  divide  the  traffic  volume  into  five categories  ((cid:1855)(cid:2869), (cid:1855)(cid:2870),, (cid:1855)(cid:2873)), such that (cid:1516) d(cid:1876)(cid:3404)0.2,  (cid:3040)(cid:3284)(cid:3040)(cid:3284)(cid:3127)(cid:3117) where (cid:1865)(cid:3036)(cid:2879)(cid:2869) and (cid:1865)(cid:3036) are the left and right boundary of category (cid:1855)(cid:3036)s  range  respectively; (cid:1865)(cid:2868)(cid:3404)0, (cid:1865)(cid:2873)(cid:3404)(cid:3397).  The  five  categories  may   (cid:1858)(cid:4666)(cid:1876); (cid:2020),(cid:2026)(cid:4667)  stand for tiny, small, median, big, and very large traffic volumes.   The output of the inference is a probability distribution over the 5  discretized volume categories.    3.4.4  Inference  For a more accurate inference, we train three different models for  road segments of level 0-1, level 2, and level 3 respectively, based   on  the  data  of the  corresponding  level.  Given a  road  segment (cid:1870),  we  select  a  model  according  to (cid:1870).(cid:1864)(cid:1857)(cid:1874) and  then  infer  its  traffic  volume (cid:1870).(cid:1840)(cid:3028) according to the E-step in Line 4-7 of Algorithm 2.  We  choose (cid:1853)(cid:1870)(cid:1859)(cid:1865)(cid:1853)(cid:1876)(cid:3030)(cid:1488)(cid:4668)(cid:3030)(cid:3117),(cid:1710),(cid:3030)(cid:3121)(cid:4669)(cid:1842)(cid:4666)(cid:1840)(cid:3028)(cid:1488)(cid:1855)(cid:4667) as  the  inferred  category  and  convert  the  category (cid:1855) to  a  real  traffic  volume  according  to  the corresponding volume distribution (cid:1858)(cid:4666)(cid:1876); (cid:2020),(cid:2026)(cid:4667) and the inferred  probability (cid:1842)(cid:4666)(cid:1840)(cid:3028)(cid:1488)(cid:1855)(cid:4667).  Specifically,  we  find  the  value (cid:1840)(cid:3028) (in (cid:1855)s  range) such that (cid:1842)(cid:4666)(cid:1840)(cid:3028)(cid:1488)(cid:1855)(cid:4667)(cid:3404)(cid:1516) (cid:1858)(cid:4666)(cid:1876); (cid:2020),(cid:2026)(cid:4667) d(cid:1876)/ 0.2, where (cid:1865) is  the left boundary of (cid:1855)s range, and 0.2 is the total probability of  category (cid:1855).  The  total  traffic  volume  on  a  road  segment (cid:1870) equals  (cid:1870).(cid:1840)(cid:3028)(cid:3400)(cid:1870).(cid:1866).   (cid:3015)(cid:3276)(cid:3040)  3.5  Energy and Emission Calculation  The  information  of  traffic  speed  and  volume  can  be  further  exploited for estimating real-time gas consumption and emissions  on road surfaces. Different models are available in environmental  science,  which  quantify  the  relationship  between  emissions  and  speed,  as  well  as  other  factors,  based  on  large  amounts  of  data.  The most frequently used models include MOBILE and COPERT,  which have been developed by scientists in the USA and Europe  respectively [11]. We use COPERT model [8] because vehicles in  Beijing currently adopt European-3 standards [14].  In  the  COPERT  model,  traffic  emissions  consist  of  three  parts,  namely  hot  emissions,  cold  start  emissions,  and  evaporative  emissions. Hot emissions occur when the engine is at its normal  mode,  which  is  the  general  condition  for  a  running  vehicle  and  thus is our major concern. Cold start emissions denote emissions  from transient engine operation, and evaporative emissions come  from refueling and temperature changes. The latter two parts are  omitted in our estimation due to lack of data; they are also of less  significance in overall emissions [2].   Hot emission factor (EF), the amount of pollutant a single vehicle  emits  per  kilometer  (g/km),  is  calculated  as  a  function  of  travel   speed (cid:1874) (cid:4666)km/h(cid:4667). The generic function is          (cid:1831)(cid:1832)(cid:3404)(cid:4666)(cid:1853)(cid:3397)(cid:1855)(cid:1874)(cid:3397)(cid:1857)(cid:1874)(cid:2870)(cid:4667)/(cid:4666)1(cid:3397)(cid:1854)(cid:1874)(cid:3397)(cid:1856)(cid:1874)(cid:2870)(cid:4667).              (8)   The parameters are given in Table 1 to calculate different kinds of  emissions  and  gas  consumption,  which  applies  for  Euro  3  passenger cars (gas consumption calculation additionally requires  a  vehicle  capacity  of  1.4-2.0L).  Although  diversity  of  vehicles  will  slightly  influence  the  computation,  the  results  are  still  statistically useful as we select the most representative cars in the  calculation.  As  for  other  pollutants  like  CO2  and  PM2.5,  their  emission  factors  are  proportional  to  fuel  consumption  (FC).  For  instance,  the  conversion  factor  of  CO2  is  3.18  for  gasoline,  i.e.,  is   (cid:1831)(cid:1832)(cid:1829)(cid:1841)2(cid:3404)3.18(cid:3400)(cid:1831)(cid:1832)(cid:1832)(cid:1829) ;  for PM(cid:2870).(cid:2873)  the  conversion  factor  3(cid:3400)10(cid:2879)(cid:2873).  The overall emission on a certain road (cid:1870) is:                               (cid:1831)(cid:3404)(cid:1831)(cid:1832)(cid:3400)(cid:1870).(cid:1840)(cid:3028)(cid:3400)(cid:1870).(cid:1866)(cid:3400)(cid:1870).(cid:1864)(cid:1857)(cid:1866),                      (9)  1.25(cid:3400)10(cid:2879)(cid:2873) 1.88(cid:3400) 6.53(cid:3400)10(cid:2879)(cid:2874) 3.97(cid:3400)10(cid:2879)(cid:2873) 9.65(cid:3400)10(cid:2879)(cid:2871) 4.21(cid:3400)  Table 1. Pollution emission parameters of COPERT model [8]   3.65(cid:3400)10(cid:2879)(cid:2870) 1.22(cid:3400) 9.6(cid:3400)10(cid:2879)(cid:2870)  5.57(cid:3400)10(cid:2879)(cid:2870) 9.29(cid:3400)10(cid:2879)(cid:2870)  Consumption   c  11.4   1.1(cid:3400) 1.49(cid:3400)  Hydrocarbon   b 35.4  a 71.7  -0.248  0.253   Fuel   Nox   217   CO  e 0  -  -  d  -  -  -  1031 4.  EXPERIMENTS  As the model introduced in Section 3.5 has already been tested in  environmental research, we focus on evaluating TSE and TVI.  4.1  Settings  4.1.1  Datasets  Road  networks:  We  use  the  road  network  of  Beijing,  which  is  comprised of 148,110 nodes and 196,307 edges. The road network   covers  a  40(cid:3400) 50km  spatial  range,  with  a  total  length  (of  road   segments)  of  21,895km.  Road  segments  with  level  0  and  1  are  highways. The bigger the level number is, the smaller the road is.     POIs: The datasets consist of 273,165 POIs of Beijing, which are  classified into 195 tier two categories. We only choose the top 10  categories that are located nearby road segments most frequently.     GPS  Trajectories:  We  use  GPS  trajectories  generated  by  33,000  Beijing taxis over a period of 47 days. The number of GPS points  reaches 673,469,757, and the total length of the trajectories is over  26,218,407km. The average sampling rate is 96 seconds per point.  After projecting the trajectories onto the road network, we come up  with the statistics shown in Table 2. % covered/time slot denotes  the proportion of road  segments traveled by at least one taxi in  a  given  time  slot  (we  set  10  minutes  a  time  slot  in  the  following  experiments). The last row of Table 2 presents the average number  of  traverses  by  taxis  in  a  time  slot.  Figure  9  A)  presents  the  proportion  of  road  segments  traveled  by  taxis  at  different  times.  Even during the peak hours, the proportion is only about 20% on  workdays and 17.5% on holidays, respectively. In reality, the travel  speed  derived  from  only  one  taxis  trajectory  (i.e.,  sup=1)  is  not  reliable. If counting the number of road segments traveled by three  taxis (i.e., sup=3) in a time slot, the proportion decreases to 8% on  workdays  and  5%  on  holidays,  respectively.  Figure  9  B)  further  shows  the  proportion  changing  over  the  number  of  traverses.  For  example,  over  90  percent  of  road  segments  are  traversed  by  less  than 5 taxis in a time slot. The data presented in Table 2 and Figure  9 reveals the sparsity problem we are facing.  Table 2. Statistics on Beijing road network with mapped trajectories    Num. of segments  Total length   % covered /time slot  # of travels/time slot   Level 3  142,865  14,747km  2.07%  0.11   Level 0,1  5,061  1,448km  9.97%  1.08   others  18,578  2,164km  2.94%  0.20   Level 2  29,803  3,537km  7.02%  0.42   0.20  0.15  0.10  0.05  0.00  s t  n e m g e S   d a o R    f o   n o i t r o p o r P  0  4  1.0  0.9  0.8  0.7  0.6  0.5  n o i t r o p o r  P   Holiday (Sup=1)  Workday (Sup=1)   Holiday (Sup=3)  Workday (Sup=3)  12  16  8 Time of day  40 Support Figure 9. Sparseness of mapped trajectories.   20     20  24  0  60  80     4.1.2  Baselines and Ground Truth  KNN: This baseline uses the average speed and traffic volume of  the nearest 3 neighbors to represent a road segments values.  Kriging is a spatial prediction method with the best linear unbiased   estimator [17]. Given a few detected neighbor points (cid:1876)(cid:3036)(cid:4666)1(cid:3409)(cid:1861)(cid:3409)(cid:1866)(cid:4667),  unknown  point (cid:1876)(cid:2868)  as  follows: (cid:1852)(cid:1499)(cid:4666)(cid:1876)(cid:2868)(cid:4667)(cid:3404) (cid:2019)(cid:3036) (cid:3041)(cid:3036)(cid:2880)(cid:2869) (cid:1852)(cid:4666)(cid:1876)(cid:3036)(cid:4667) ,  where  (cid:1852)(cid:4666)(cid:1876)(cid:3036)(cid:4667) is a value of location (cid:1876)(cid:3036), (cid:2019)(cid:3036) is a weight, and (cid:1866) is the number   Kriging uses a weighted linear combination estimator to predict an   of  samples.  Using  a  Kriging  model  with  a  linear  kernel,  we   interpolate the travel speed of a road segment (absent of taxis) based  on its 5 nearest neighbors with data.   Ground Truth: When evaluating TSE, we randomly remove 30%   of the non-zero entries from (cid:1839)(cid:1314)(cid:3045)s last row (i.e., the current time                                   (10)   slot)  and  predict  their  values  using  different  methods.  The  30  percent  non-zero  entries  are  then  used  as  a  ground  truth  to  measure  the  accuracy  of  the  predicted  values  by  RMSE  (root  mean square error), which is defined as    The  ground  truth  of  TVI  is  collected  as  introduced  in  Section  3.4.3. We calculate the mean absolute error (MAE) of volume on  each lane (i.e., number of vehicles per minute per lane) as   where (cid:1877)(cid:3114)(cid:3549)is a prediction and (cid:1877)(cid:3036) is the ground truth.    (cid:1844)(cid:1839)(cid:1845)(cid:1831)(cid:3404)(cid:3495)(cid:4666)(cid:3052)(cid:3284)(cid:2879)(cid:3052)(cid:3362)(cid:3549)(cid:4667)(cid:3118) (cid:3289)(cid:3284) (cid:3041) (cid:1839)(cid:1827)(cid:1831)(cid:3404)(cid:3627)(cid:1870).(cid:1840)(cid:3028)(cid:3398)(cid:1870).(cid:1840)(cid:3028)(cid:3554)(cid:3627)                             (11)  (cid:1839)(cid:1844)(cid:1831)(cid:3404) where (cid:1870).(cid:1840)(cid:3028) is the ground truth of traffic volume on road (cid:1870)s each  lane and (cid:1870).(cid:1840)(cid:3028)(cid:3554)  is the prediction; (cid:1870).(cid:1866) is the number of lanes in (cid:1870).     |(cid:3045).(cid:3015)(cid:3276)(cid:2879)(cid:3045).(cid:3015)(cid:3276)(cid:3554)|(cid:3400)(cid:3045).(cid:3041) (cid:3293)(cid:1488)(cid:3267)(cid:3263) (cid:3045).(cid:3015)(cid:3276) (cid:3400)(cid:3045).(cid:3041) (cid:3293)(cid:1488)(cid:3267)(cid:3263)  and the mean relative error (MRE) as                            (12)   3  0  4   3  1  7   3  4  9   3  0  8   2  0  28  43   2  8  92  142   2  14  74  136   total    49  309  358   7:00 ~ 10:00  0,1  0  7   10:00~16:00  0,1  6  29   16:00~20:00  0,1  6  28   experiments,  we  also  found  that  using  6  time  slots  (1hour)  to   Table 3. Ground truth collected for evaluation  after 20:00  2  0,1  6  4  6  17  37   Time  Lev.  Holi  Work  Total   4.1.3  Configuration of Models  We set 10 minutes as a time slot in our experiment. We partition a   tried a dynamic extension of our TVI model, and experiment shows  that  TVI  runs  much  faster  without  significant  accuracy  loss.  Therefore we keep using the static TVI model in our experiments.   4.2  Evaluation on TSE  In Table 4, we compare the overall performance of TSE with the   city into 4(cid:3400)4 grids and calculate the global position feature (cid:1858)(cid:3034) and  historical traffic pattern (cid:1839)(cid:3034) (we try different numbers for a partition,  finding  that  4(cid:3400) 4  is  slightly  better  than  others).  During  the  formulate (cid:1839)(cid:1314)(cid:3045) and (cid:1839)(cid:1314)(cid:3034) results  in  a  relatively  higher  accuracy.  We  baseline  method  that  only  factorizes  current  traffic  data (cid:1839)(cid:1314)(cid:3045) ,  denoted as MF((cid:1839)(cid:1314)(cid:3045)), or that combines geographic features (cid:1852) with  (cid:1839)(cid:1314)(cid:3045) ,  denoted  as  MF((cid:1839)(cid:1314)(cid:3045)(cid:3397)(cid:1852)),  or  that  combines  the  temporal  correlation  between  different  time  slots  of (cid:1839)(cid:1314)(cid:3008) with (cid:1852) and (cid:1839)(cid:1314)(cid:3045),  denoted as MF((cid:1839)(cid:1314)(cid:3045)(cid:3397)(cid:1839)(cid:1314)(cid:3034)(cid:3397)(cid:1852)). As a result, TSE outperforms all  the baselines in terms of RMSE of (cid:1874)(cid:1191) and (cid:1856)(cid:1874). The historical traffic  significant decrease of RMSE (about 0.5) over MF((cid:1839)(cid:1314)(cid:3045)(cid:3397)(cid:1839)(cid:1314)(cid:3034)(cid:3397) (cid:1852)). In addition, TSE has very good efficiency, much more so than   patterns  that  TSE  incorporates  are  very  helpful,  bringing  a   Kriging. By only using one server (with 4-core, 3.4GHz CPU and  8GB RAM), TSE can infer the travel speed of every single road  segment in Beijing within 22 seconds.    Table 4. Overall performance of different methods   RMSE of (cid:2204)(cid:3365)   RMSE of (cid:2186)(cid:2204)   2.172  1.939  1.908  1.369  2.340  3.360   1.833  1.385  1.314  1.035  1.300  1.590   Methods   MF((cid:1839)(cid:1314)(cid:3045))  MF((cid:1839)(cid:1314)(cid:3045)(cid:3397)(cid:1852))  MF((cid:1839)(cid:1314)(cid:3045)(cid:3397)(cid:1839)(cid:1314)(cid:3034)(cid:3397)(cid:1852))   TSE   Kriging  KNN   Time (sec)   2.2  18.2  20.2  22.2  1,000  0.14   1032 Figure 10 A) further explores the performance of TSE changing  over time of day.  As there are only a few taxis traveling on road  surfaces after 10pm and before 8am (see Figure 9 for a proof), the  corresponding estimation error is bigger than other time slots. As  time  goes  by,  we  observe  more  taxis  in  the  road  network  (i.e.,  more  road  segments  are  covered  by  trajectories).  Consequently,  the  RMSE  decreases  and  reaches  its  best  performance  at  4pm.  While the number of taxis is approaching to its peak at 4pm, the  traffic  conditions  start  stepping  into  congestions.  If  focusing  on  estimating  the  gas  consumption  and  pollution  in  daytime,  our  model is more accurate than the results presented in Table 4.     1.7  1.6  1.5  1.4  1.3  1.2  1.1  1.0  0.9  E S M R   Workday-v  Holiday-v   Workday-dv  Holiday-dv  4  6  8  10  14  12 16 Time of Day  18  20  22  24  6  5  4  3  2  1  0  E S M R      RMSE-v  RMSE-dv  0  20  60  40 Speed (km/h)  80  100              A) Changing over time of day               B)   Changing over speed   Figure 10.  Exploration of TSEs effectiveness   Figure  10  B)  shows  the  RMSE  of  TSE  changing  over  the  (real)  travel speed of a road segment to be estimated. Intuitively, a high  speed indicates a good traffic condition, in which people have more  flexibility  in  traveling  with  different  speeds.  As  a  result,  the   variance of speeds ((cid:1856)(cid:1874)) on a road segment can be big and become  ((cid:3410) 90km/h)  usually  has  the  lowest  driving  speed  constraint,  or   relatively  difficult  to  estimate.  In  addition,  the  number  of  road  segments that allow a high travel speed is small, making it difficult  for  TSE  model  to  fill  in  missing  values.  However,  a  highway   people  have  the  concern  in  mind  when  traveling  on  it.  This  will  reduce the flexibility of driving at different speeds, possibly leading  to the drop of RMSE after 90km/h in Figure 10 B).    Table 5. Effectiveness of TSE on different levels of road segments   RMSE  Speed  Variance   level 0-1  2.575  1.526   level 2  1.189  1.128   level 3  0.977  0.628   level >=4   1.612  1.234   We further explore the performance of TSE on different levels of  road segments in Table 5. It is worth noting that TSE has a good  performance on level 2 and 3 road segments, which covers 88.5%  of  Beijings  road  network.  These  road  segments  do  not  usually  have a loop sensor. So, it is important to have a method like TSE  that can infer the travel speed on such road segments.   4.3  Evaluation on TVI  Table  6  presents  the  overall  performance  of  TVI.  Using the  test  data presented in Table 3, we compare TVI with six baselines: we   first  study  not  using  the  variance  of  speed (cid:1856)(cid:1874) (TVI  w/o (cid:1856)(cid:1874))  and  weather  conditions (cid:1875)  (TVI  w/o (cid:1875) )  in  our  model,  and  then  Clearly, TVI has better performance beyond TVI w/o (cid:1856)(cid:1874) and TVI  w/o (cid:1875). As traffic conditions depend on the weather condition, e.g.,  improve  inference  accuracy.  Besides,  having (cid:1856)(cid:1874) together  with (cid:1874)(cid:1191),  volume in Beijings road network in 0.84 seconds, (i.e., 7(cid:2020)(cid:1871) each).    we  can  better  reveal  the  traffic  conditions  on  road  segments,  thereby  inferring  traffic  volumes  more  accurately.  According  to  the  efficiency  study,  TVI  is  very  efficient,  inferring  the  traffic   compare TVI with several existing methods, e.g., linear regression  (LR) and fundamental diagram (FD).   on  rainy  days  the  traffic  speed  is  much  slower  and  thus  traffic  volume  is  smaller,  information  on  weather  conditions  does  help   MAE  3.01  3.19  3.15  3.06  2.66  3.9  6.7   MRE  29%  31%  29%  27%  16%  42%  137%   7.27   7.18  7.10  0.15 0.13  0.13  0.13   Table 6. Overall performance of TVI   Inference time (us/road)   Methods  TVI   TVI w/o (cid:1856)(cid:1874)  TVI w/o (cid:1875)   LR  FD  FD-SC  FD-DC  We also compare TVI with two supervised methods, consisting of  linear regression (LR) and Fundamental Diagram (FD), which learn  a curve simulating the relation between the traffic volume and travel  speed  on  a  particular  road  segment  based  on  a  large  volume  of  training data.  For LR, we use half of the data as a training set and  another half for a test. W.r.t. FD, we select three road segments with  enough labels, using half for training and half for testing. Our TVI  model outperforms the supervised LR and has a slightly bigger error  than FD. Note that TVI is an unsupervised model that can scale up  to the entire road network. Designing an unsupervised method with  an  accuracy  even  better  than  a  supervised  approach  is  indeed  a  contribution.  In addition, the performance of TVI is tested based on  the whole dataset presented in Table 1, while FD is only tested on  three roads and LR is on half roads. Tested on the same three road  segments, TVI has a volume error of 2.73 which is even closer to  that  of  FD.  It  should  be  noted  that  FD  needs  training  for  each  individual road segment, some of which may have no volume data  at all. To address this issue, we first cluster road segments into a few   groups in terms of their geographical features in matrix (cid:1852). We train   a FD model based on the data from some road segments in a cluster,  and then apply the model to other road segments in the same cluster  (FD-SC). The performance decreases very quickly. If applying the  model trained from one cluster to another cluster, the volume error  is even bigger. These results denote that FD is  not scalable to an  entire road network.   Table 7 further explores the performance of TVI on different road  levels and in different type of days. It turns out that TVI has a better  performance on level 2 road segments which are absent of a loop  sensor  but  with  a  large  volume  of  traffic,  and  thus  are  our  major  concerns. Additionally, TVI has a better performance on weekdays  than weekends, as some taxi drivers do not work on weekends, and  traffic conditions on weekends are relatively irregular and complex  compared to weekdays.    Table 7. Exploration of the performance of TVI    MAE  MRE   level 0-1   5.55  22%   level 2  Weekday  Weekend  2.23  41%   3.28  30%   2.97  29%   Table 8 further presents the time that different components spend  on processing the data of a time slot (i.e., 10 minutes), if we only  use a single core of a single server. Note that we can map-match  the trajectories of different drivers separately and infer the traffic  volume  on  different  road  segments  independently.  Using  five  cores  of  the  server  to  perform  the  map-matching  and  TVI  in  parallel,  we  can  infer  the  travel  speed,  traffic  volume,  energy  consumption,  and  pollution  emission  throughout  Beijings  road  network in 1 minute.    Table 8. Efficiency of different components of our method   Online components   Map-matching  TSE  TVI (inference)  Total   Offline components    Time  4.94min  Geo-feature extraction  22.2s  0.84s  5.32min  Total   Historical pattern extraction  TVI learning   Time  149s  240s  89s  478s   1033 4.4  Visualization   Figure 11 visualizes the traffic volume, energy consumption, and  pollution  emission  around  Beijing  Olympic  Park  on  a  weekday  (2013/9/17 Tuesday),  weekend  (2013/9/21  Saturday),  and  public  holiday (2013/10/2), respectively.    2013/09/17 Tuesday   2013/09/21 Saturday  2013/10/02  National Holiday  M P 9          8  M P 9          8  M A 1 1          0 1  e m u l o V  n o i t p m u s n o C   s a G  n o i t p m u s n o C   s a G  M P 9     x O N       8  veh/min  25  15  0  kg/km  240  150  0  kg/km  240  150  0  g/km  120  90    Figure 11. Traffic volume, energy consumption and emissions around   0  Beijing Olympic Park in different time slots   As  depicted in the first  row, in  time  slot 8-9pm,  the region  has  a  bigger traffic volume during the weekday than during the weekend  and holiday. This is aligned with our commonsense knowledge that  people  usually  visit  this  region  in  the  daytime  (rather  than  in  the  evening) of weekends or a holiday. The large volume of traffic on a  weekday is caused by people who drive home after work passing by  this region. Given the same reason, in the second row of Figure 11,  we  observe  more  red  road  segments,  which  denotes  more  energy  consumption, on the weekday than on the weekend and the national  holiday.  The  latter  two  days  generally  have  a  similar  energy  consumption  pattern  except  several  road  segments  where  the  national holiday is slightly higher than the weekend. The former has  relatively  more  sightseeing  buses  arriving  at  the  park  or  more  tourists taking taxis to this region in the evening (than the latter). On  the  contrary,  in  the  time  slot  from  10  to  11am,  we  observe  more  energy consumption on the weekend and holiday, as many people  drive to the park at these times for fun. On a workday, after morning  rush hours (e.g., 8-10am), people barely drive to this place during   working  time.  The  emissions  of PM(cid:2870).(cid:2873)  and CO(cid:2870)  have  the  same  (3(cid:3400)10(cid:2879)(cid:2873) and 3.18 respectively). The last row of Figure 11 presents  the  emission  of (cid:1840)(cid:1841)(cid:3051) in  the  region,  where  the  workday  has  more  Figure 12 demonstrates the gas consumption and emission of (cid:1840)(cid:1841)(cid:3051)   pattern  as  the  energy  consumption,  just  having  different  factors   emission than the weekend and national holiday in 8-9pm.      around  Zhongguancun  area,  which  is  a  place  mixed  with  many  companies and entertainments, in the aforementioned three days,   respectively.  In the  time  slot  from  3pm  to  4pm,  the  time  before  evening  rush  hours,  this  area  has  less  gas  consumption  on  the  workday than during the weekend and holiday, because people are  still working indoors. When time goes to weekends and holidays,  many people travel to this region for the purpose of entertainment,  e.g.,  go  shopping  and  watch  a  movie,  leading  to  more  energy  consumption and emission of CO, as illustrated in the two rows of  Figure  12.  There  is  a  movie  theater,  a  supermarket,  and  two  shopping centers located in the region marked by the broken curve.    2013/09/17 Tuesday   2013/09/21 Saturday  2013/10/02  National Holiday  kg/km  240  150  0  kg/km  30  12  n o i t p m u s n o C   s a G     M P 4  3        M P 4  3     O C  0    Figure 12. Gas consumption and pollution emission around   consumption, and (cid:1840)(cid:1841)(cid:3051) emission on three types of days: weekdays,   Figures  13,  14  and  15  show  the  citywide  traffic  volume,  gas   Zhonguancun area   weekends,  and  public  holidays.  The  number  plotted  in  the  three  figures  are  averaged  by  day,  respectively.  Figure  13  presents  the  average  traffic  volume  on  a  road  segment  in  one  minute,  which  depends on the travel speed on the road segment and the density of  the  traffic.  Before  7am,  a  workday  has  a  larger  volume  of  traffic  than  a  weekend  or  a  holiday.  At  this  moment,  the  travel  speed  is  very fast during the three types of days, while more people travel (to  work)  on  a  weekday  than  a  holiday.  When  time  goes  to  8-10am  (i.e.,  Beijings  morning  rush  hours  on  workdays),  however,  the  travel  speed  decreases  significantly  on  a  weekday,  reducing  the  traffic  volume  that  can  pass  a  road  segment.  The  weekend  and  holiday  have  a  similar  decreasing  trend,  but  do  not  drop  tremendously, because the travel speed is not that slow from 8am to  10am. After morning rush hours, the travel speed increases, leading  to  an  increase  of  the  traffic  volume.  Then,  we  see  the  decreasing  pattern  repeats  in  evening  rush  hours,  5-7pm,  during  a  weekday.   After  evening  rush  hours,  the  traffic  volume  increases  again  with  the increase of the travel speed on a weekday, until at later night  when the traffic  density decreases tremendously (we do not show  the traffic volume after 11pm in these figures as they are very small  and  quite  similar  to  each  other).  The  public  holiday  has  a  bigger  traffic  flow  than  the  other  two  days,  as  a  portion  of  people  leave  Beijing for vacation, which reduces the traffic density slightly but  enhances the travel speeds on roads significantly.   Figure  14  shows  the  total  energy  consumption  of  the  entire  road  network per hour changing over time of day. For instance, from 12pm  to 1pm, about 3,850,000 liters of gasoline are consumed by vehicles  in  Beijing.  Supposing  there  are  2  million  vehicles  traveling  on  the  road  network  in  this  time  slot,  each  vehicle  consumes  1.9  liter  gasoline  per  hour,  which  is  about  19  kilometers  per  hour.  A  peak  occurs  in  this  time  slot  due  to  the  bigger  traffic  volume  and  travel  speed. The reason a public holiday consumes more energy may lie in  the fast travel speed and a farther distance that people would travel  during holidays.   Figure  15  presents  the  total  emission  of (cid:1840)(cid:1841)(cid:3051)  in  Beijings  road   network, where weekends have the largest volume in the afternoon.   1034 i  /  d a o R n M / s e c h e V  i  l    .  #  20.0  19.6  19.2  18.8   Weekday  Weekend  Holiday  6  8  10  12  14  16 Time of Day  18  20  22  24  4200K  4100K  4000K  3900K  3800K  3700K  /  ) r u o h L (   s a G    f     o e m u o V  l   Weekday  Weekend  Holiday  1660  1640  1620  1600  1580  r u o h / G K   Weekday  Weekend  Holiday    Figure 13. The citywide traffic volume of Beijing           Figure 14. Citywide gas consumption                       Figure 15. Citywide NOx emission       6  8  10  12  14  16 Time of Day  18  20  22  24      6  8  10  12  14  16 Time of Day  18  20  22  24     Veh/ min  25  15  0  kg/km/ hour  240  150  0  g/km/ hour  120  90  0     Figure 16. Geo-distribution of Traffic Volume      Figure 17. Geo-distribution of energy consumption     Figure 18. Geo-distribution of NOx emission                      therefore   Beijing is running a traffic control policy based on the license ID  of a car on workdays. As this policy does not apply to weekends  and  holidays,  the  number  of  people  who  travel  by  car  is  even  bigger on a weekend. On public holidays, many people leave the  city  for  vacation,  the  emissions  are  not  heavy.  Combining  Figure  14  and  15,  we  find that  public  holidays  have  more  gas  consumption  but  less  emission  than  weekdays  and  weekends, i.e., the energy has been used in a cleaner way.   Figure  16  visualizes  the  mean  traffic  volume  (i.e.,  the  average  number of vehicles per minute) traversing every road segment in  Beijing from 6am to 10pm on workdays. The road segments with  relatively large volumes of traffic (marked red) are mainly located  in the south (e.g., the southern segments of the fifth ring road) and  some  highways  spreading  towards  rural  areas.  As  the  major  business and entertainment areas are located in the northern and  central part of Beijing, the average travel speed in these places are  generally slower than the southern part. The slow speed reduces  the  traffic  volume  on  corresponding  road  segments.  The  traffic  volume  on  the  northern  segment  of  the  fourth  ring  road  is  relatively larger than other road segments in the north part, which  well  matches  our  commonsense  knowledge.  Figure  17  presents  the average energy consumption of vehicles on each road segment  per  hour,  from  6am-10pm.  As  the  total  energy  consumption  depends  on  both  travel  speed  and  traffic  volume,  some  road  segments  marked  red  in  Figure  16  become  green  in  Figure  17.  Given this kind of visualization, urban planners and transportation  authorities  can  identify  the  road  segments  that  have  wasted  unnecessary  energy  (e.g.,  a  road  segment  with  small  traffic  volume  while  having  a  large  energy  consumption),  therefore   informing future urban planning. Figure 18 displays the total (cid:1840)(cid:1841)(cid:3051)   emission on road segments per hour in the same time slot, where  the  ring  roads  and  highways  have  more  emissions.  When  the  emission on some road segments exceeds a threshold, we can send  alerts to people passing by or living around. The information can  also guide drivers for finding the best route in terms of the energy  consumption, air quality, and travel time.   5.  RELATED WORK  5.1  Traffic Condition Modeling  Traffic  modeling  on  individual  roads:  Conventional  methods  use  traffic monitoring cameras (usually combined with a speedometer)  to observe speed and volume data where relevant instrumentation is  installed.  This  kind  of  approach  usually  employs  a  Fundamental  Diagram  [1,  3]  to  learn  a  specific  relation  among  travel  speed,  traffic  density,  and  volume  for  a  particular  road,  from  a  large  amount  of  data  collected  by  the  camera  and  speedometer.  As  the  number of vehicles traversing a road may not be perfectly detected  by  using  automatic  computer  vision  algorithms,  in  most  cases,  human  effort  is  needed  to  count  the  vehicles  so  as  to  generate  training data for the fundamental diagram. Consequently, this kind  of  methods  is  difficult  to  scale  up  to  an  entire  city,  let  alone  the  limited  coverage  of  traffic  monitoring  camera  and  speedometers.  Later, in-road loop sensors are widely deployed to detect both travel  speed  and  traffic  volume.  The  rich  data  enables  sophisticated  modeling to simulate traffic status between the instrument [7, 13],  or  predict  future  traffic  status  [5],  for  a  specific  road  where  the  device is installed. Unfortunately, the majority of these models do  not  incorporate  the  correlation  between  the  traffic  conditions  of  different  road  segments  (especially  those  that  are  geospatially  disconnected), when estimating the traffic on a road segment.  Some  methods [5] model several connected road segments simultaneously  with  a  Markov  Model.  However,  applying  these  methods  to  the  entire road network will result in a huge model that has very poor  efficiency and big issues with training parameters. Additionally, the  coverage  of  loop-sensor  systems  is  also  limited  due  to  the  high  expense for device installation and maintenance.  Traffic  modeling  on  a  road  network:  Recently,  more  traffic  modeling systems have turned to using Floating Car Data [10, 15],  which is generated by vehicles traveling around a city with a GPS  sensor. The trajectories of these vehicles will be sent to a central  system and matched onto the road network for deriving speed on  road  segments.  However,  due  to  the  uneven  distribution  of  the   1035 the  contribution  of   probing vehicles as well as the low sampling rate of GPS data (e.g.,  one point per minute), many road segments are not covered by any  trajectory [17]. To address this problem, some interpolation-based  methods,  such  as  KNN  and  Kriging  [18],  have  been  proposed  to  infer the traffic conditions of a road segment based on the values of  its  spatial  neighbors.  More  advanced  methods  model  the  traffic  conditions on a road network with a road-time matrix, where each  entry stands for the traffic conditions at a specific road segment and  in  a  particular  time  slot.  These  methods  then  adopt  Compressive  Sensing-based algorithms [16, 17] to fill in the missing entries in the  matrix.  The  interpolation-based  methods  consider  the  spatial  correlation  among  different  locations  traffic  conditions,  and  the  compressive  sensing-based  approach  considers  both  spatial  and  temporal  correlations.  Unlike  these  methods,  our  model  incorporates  two  additional  (but  very  helpful)  correlations  from  extra data sources. One is the correlation between road segments in  terms  of  their  geographic  features,  such  as  the  length,  POI  distributions,  and  number  of  connections,  learned  from  road  network and POI datasets. The geographic features capture the local  and  global  similarity  between  two  road  segments  simultaneously.  The other is the correlation between the current and historical traffic  conditions, learned from historical trajectories over a period of time.  Extensive  experiments  validate  these  correlations beyond the original correlation solely learned from the  road-time matrix.   5.2  Energy and Emission Estimation  Vehicular  fuel  consumption  and  pollutant  emission  is  a  critical  environmental issue nowadays. [9] studies the empirical relation  between  traffic  emissions  and  travel  speed  as  well  as  the  acceleration  for  a  single  vehicle.  [2]  exploited  a  framework  similar to ours to estimate macroscopic pollutant emissions. The  main concern with this method is the use of the historical average  to  deal  with  the  aforementioned  data  sparsity  problem.  Consequently,  irregular  conditions  (e.g.,  congestions  caused  by  accidents)  are  not  well  captured.  In  addition,  it  applies  a  homogeneous FD to different roads in the same cluster, which has  been compared with our method as a baseline (FD-SC).  There also exist crowdsensing-based approaches [4, 12] that sense  environmental  data  using  people  or  vehicles  carrying  air  quality  sensors. These methods cannot bypass the data sparsity problem  either when scaling up to a citywide application, as the number of  sensors is even smaller than the number of GPS-equipped vehicles.  These approaches also do not answer the questions, such as how  much pollutant is generated from traffic.   6.  CONCLUSION  In  this  paper,  we  instantly  infer  the  traffic  volume,  energy  consumption, and the emissions of vehicles traveling on a citys  road  networks,  based  on  the  GPS  trajectories  received  from  a  sample  of  vehicles,  e.g.,  GPS-equipped  taxicabs,  in current time  slot and over a period of history. The knowledge derived from our  research  can  enable  many  valuable  applications  for  social  good,  such  as  timely  road-level  pollution  alerts,  monitoring  citywide  traffic  conditions,  improving  urban  planning,  and  helping  study  the root cause of air pollution. This is a very challenging problem,  however, considering its efficiency, effectiveness, and scalability.  We address this problem through a three step approach, where we  first propose TSE model to compute the travel speed on each road  segment  based  on  incomplete  trajectory  data,  then  infer  the  volume  of  a  road  segment  by  using  TVI  model,  and  finally  calculate the energy consumption and pollution emission based on  the  inferred  travel  speed  and  traffic  volume.  We  evaluate  our  approach  based  on  extensive  experiments  that  use  GPS   trajectories  generated  by  over  32,000  taxicabs  over  a  period  of  two months. The results demonstrate the effectiveness, efficiency  and  scalability  of  our  method,  which  outperforms  baseline  approaches,  such  as  Linear  Regression,  Fundamental  Diagram,  and Kriging. Using five cores of a server, we can grasp the traffic  conditions,  energy  consumption,  and  emissions  of  the  past  10  minutes throughout Beijings road network within 1 minute.    REFERENCES  [1]  Greenshields, B. D., Bibbins, J. R., Channing, W. S., and Miller, H.   H. 1935. A study of traffic capacity. In Highway research board  proceedings (Vol. 14).   [2]  Ghnemann, A., Schfer, R. P., Thiessenhusen, K. U., and Wagner,   P. 2004. Monitoring traffic and emissions by floating car data.  Institute of Transport Studies Working Paper, (ITS-WP-04-07).  [3]  Helbing, D. 2001. Traffic and related self-driven many-particle   systems. Reviews of modern physics, 73(4), 1067.   [4]  Honicky, R., Brewer, E. A., Paulos, E., and White, R. 2008. N-  smarts: networked suite of mobile atmospheric real-time sensors. In  Proc. of the second ACM SIGCOMM workshop on Networked  systems for developing regions (pp. 25-30).    [5]  Kwon, J., and Murphy, K. 2000. Modeling freeway traffic with  coupled HMMs. Technical report, Univ. California, Berkeley.   [6]  Lou, Y., Zhang, C., Zheng, Y., Xie, X., Wang, W., and Huang, Y.   2009. Map-matching for low-sampling-rate GPS trajectories. In  Proc. of ACM SIGSPATIAL GIS, 352-361.    [7]  Muoz, L., Sun, X., Horowitz, R., and Alvarez, L. 2003. Traffic   density estimation with the cell transmission model. In Proc. of the  2003 American Control Conference, Vol. 5, 3750-3755.    [8]  Ntziachristos, L., Samaras, Z., Eggleston, S., Gorissen, N., Hassel,   D., and Hickman, A. J. 2000. COPERT III. Computer Programme to  calculate emissions from road transport, methodology and emission  factors (version 2.1). European Energy Agency (EEA), Copenhagen.   [9]  Panis, L.I., Broekx, S., and Liu, R. 2006. Modelling instantaneous  traffic emission and the influence of traffic speed limits. Science of  the total environment, 371(1), 270-285.   [10] Schfer, R. P., Thiessenhusen, K. U., and Wagner, P. 2002. A traffic   information system by means of real-time floating-car data. In ITS  world congress (Vol. 2).   [11] Smit, R., Ntziachristos, L., and Boulter, P. 2010. Validation of road   vehicle and traffic emission modelsA review and meta-analysis.  Atmospheric environment, 44(25), 2943-2953.   [12] Steed, A., Spinello, S., Croxford, B., and Greenhalgh, C. 2003. E- Science in the streets: urban pollution monitoring. In UK e-science  all hands meeting.   [13] Wilkie, D., Sewall, J., and Lin, M. 2013. Flow reconstruction for  data-driven traffic animation. ACM Trans. on Graphics, 32(4), 89.  [14] Xie S., Song X., and Shen X. 2006. Calculating Vehicular Emission   Factors with COPERT Mode in China. Environmental Science,  27(3), 415-419.   [15] Yuan, J., Zheng, Y., Zhang, C., Xie, W., Xie, X., Sun, G., and   Huang, Y. 2010. T-drive: driving directions based on taxi  trajectories. In Proc. of the 18th SIGSPATIAL GIS, 99-108.     [16] Zhang, Y., Roughan, M., Willinger, W., and Qiu, L. 2009. Spatio-  temporal compressive sensing and internet traffic matrices. In ACM  SIGCOMM Computer Communication Review, 39(4), 267-278.    [17] Zhu, Y., Li, Z., Zhu, H., Li, M., and Zhang, Q. 2013. A compressive   sensing approach to urban traffic estimation with probe vehicles.  Mobile Computing, IEEE Transactions on, 12(11), 2289-2302.   [18] Zou, H. X., Yue, Y., Li, Q. Q., and Yeh, A. G. O. 2011. Traffic data   interpolation method of non-detection road link based on Kriging  interpolation. Jiaotong Yunshu Gongcheng Xuebao, 11(3), 118-126.   [19] Zheng, Y., Capra, Li, Wolfson, O., Yang, H. 2014. Urban   computing: concepts, methodologies, and applications. ACM Trans.  On Intelligent systems and Technology, 5(3).   [20] Data released: http://research.microsoft.com/apps/pubs/?id=217455  1036 '"
      ]
     },
     "execution_count": 257,
     "metadata": {},
     "output_type": "execute_result"
    },
    {
     "name": "stdout",
     "output_type": "stream",
     "text": [
      "\n"
     ]
    }
   ],
   "source": [
    "re.sub('[\\s]',\" \",a)"
   ]
  },
  {
   "cell_type": "code",
   "execution_count": 246,
   "metadata": {
    "collapsed": false
   },
   "outputs": [
    {
     "data": {
      "text/plain": [
       "[]"
      ]
     },
     "execution_count": 246,
     "metadata": {},
     "output_type": "execute_result"
    }
   ],
   "source": [
    "re.findall (r'(Abstract|ABSTRACT)([^]]*)',document[:2000])"
   ]
  },
  {
   "cell_type": "code",
   "execution_count": 248,
   "metadata": {
    "collapsed": false
   },
   "outputs": [
    {
     "ename": "IndexError",
     "evalue": "list index out of range",
     "output_type": "error",
     "traceback": [
      "\u001b[0;31m---------------------------------------------------------------------------\u001b[0m",
      "\u001b[0;31mIndexError\u001b[0m                                Traceback (most recent call last)",
      "\u001b[0;32m<ipython-input-248-04468f768981>\u001b[0m in \u001b[0;36m<module>\u001b[0;34m()\u001b[0m\n\u001b[1;32m      2\u001b[0m     \u001b[0mabstract\u001b[0m \u001b[0;34m=\u001b[0m \u001b[0mre\u001b[0m\u001b[0;34m.\u001b[0m\u001b[0mfindall\u001b[0m \u001b[0;34m(\u001b[0m\u001b[0;34mr'\\n\\n(Abstract|ABSTRACT)([^]]*)\\n\\n'\u001b[0m\u001b[0;34m,\u001b[0m\u001b[0mdocument\u001b[0m\u001b[0;34m[\u001b[0m\u001b[0;34m:\u001b[0m\u001b[0;36m2000\u001b[0m\u001b[0;34m]\u001b[0m\u001b[0;34m)\u001b[0m\u001b[0;34m[\u001b[0m\u001b[0;36m0\u001b[0m\u001b[0;34m]\u001b[0m\u001b[0;34m\u001b[0m\u001b[0m\n\u001b[1;32m      3\u001b[0m \u001b[0;32mexcept\u001b[0m \u001b[0mIndexError\u001b[0m\u001b[0;34m:\u001b[0m\u001b[0;34m\u001b[0m\u001b[0m\n\u001b[0;32m----> 4\u001b[0;31m     \u001b[0mabstract\u001b[0m \u001b[0;34m=\u001b[0m \u001b[0mre\u001b[0m\u001b[0;34m.\u001b[0m\u001b[0mfindall\u001b[0m \u001b[0;34m(\u001b[0m\u001b[0;34mr'(Abstract|ABSTRACT)([^]]*)'\u001b[0m\u001b[0;34m,\u001b[0m\u001b[0mdocument\u001b[0m\u001b[0;34m[\u001b[0m\u001b[0;34m:\u001b[0m\u001b[0;36m2000\u001b[0m\u001b[0;34m]\u001b[0m\u001b[0;34m)\u001b[0m\u001b[0;34m[\u001b[0m\u001b[0;36m0\u001b[0m\u001b[0;34m]\u001b[0m\u001b[0;34m[\u001b[0m\u001b[0;36m1\u001b[0m\u001b[0;34m]\u001b[0m\u001b[0;34m\u001b[0m\u001b[0m\n\u001b[0m\u001b[1;32m      5\u001b[0m \u001b[0;34m\u001b[0m\u001b[0m\n\u001b[1;32m      6\u001b[0m \u001b[0;32melse\u001b[0m\u001b[0;34m:\u001b[0m\u001b[0;34m\u001b[0m\u001b[0m\n",
      "\u001b[0;31mIndexError\u001b[0m: list index out of range"
     ]
    }
   ],
   "source": [
    "try:\n",
    "    abstract = re.findall (r'\\n\\n(Abstract|ABSTRACT)([^]]*)\\n\\n',document[:2000])[0]\n",
    "except IndexError:\n",
    "    abstract = re.findall (r'(Abstract|ABSTRACT)([^]]*)',document[:2000])[0][1]\n",
    "except IndexError:\n",
    "    abstract = re.findall()\n",
    "else:\n",
    "    abstract = re.findall (r'(Abstract|ABSTRACT)([^]]*)',document[:2000])[0][1]\n",
    "    \n",
    "if isinstance(abstract, tuple):\n",
    "    abstract = re.sub('[\\s]',\" \",abstract[1])\n",
    "elif isinstance(abstract,list):\n",
    "    abstract = re.sub('[\\s]',\" \",abstract[1])\n",
    "elif isinstance(abstract,str):\n",
    "    abstract = re.sub('[\\s]',\" \", abstract)\n",
    "else:\n",
    "    abstract = re.sub('[\\s]',\" \",abstract)\n",
    "        \n",
    "abstract"
   ]
  },
  {
   "cell_type": "code",
   "execution_count": 225,
   "metadata": {
    "collapsed": false
   },
   "outputs": [
    {
     "data": {
      "text/plain": [
       "'\\n'"
      ]
     },
     "execution_count": 225,
     "metadata": {},
     "output_type": "execute_result"
    }
   ],
   "source": [
    "a\n",
    "document\n",
    "abstract[0]"
   ]
  },
  {
   "cell_type": "code",
   "execution_count": 252,
   "metadata": {
    "collapsed": false
   },
   "outputs": [
    {
     "data": {
      "text/plain": [
       "[]"
      ]
     },
     "execution_count": 252,
     "metadata": {},
     "output_type": "execute_result"
    }
   ],
   "source": [
    "re.findall (r'\\n \\n([^]]*\\n)',a[:2000])"
   ]
  },
  {
   "cell_type": "code",
   "execution_count": 166,
   "metadata": {
    "collapsed": false
   },
   "outputs": [
    {
     "name": "stdout",
     "output_type": "stream",
     "text": [
      "there are 901 items in vocab_frame\n"
     ]
    }
   ],
   "source": [
    "vocab_frame = pd.DataFrame({'words': totalvocab_tokenized}, index = totalvocab_stemmed)\n",
    "print 'there are ' + str(vocab_frame.shape[0]) + ' items in vocab_frame'"
   ]
  },
  {
   "cell_type": "markdown",
   "metadata": {},
   "source": [
    "# Placeholder to see the output of the code above; make sure it does what I want; this will be converted and stored as json document"
   ]
  },
  {
   "cell_type": "code",
   "execution_count": 167,
   "metadata": {
    "collapsed": false
   },
   "outputs": [
    {
     "data": {
      "text/plain": [
       "['p279.pdf',\n",
       " 'ptest.pdf',\n",
       " 'p299.pdf',\n",
       " 'p309.pdf',\n",
       " 'p289.pdf',\n",
       " 'p259.pdf',\n",
       " 'p269.pdf',\n",
       " 'p59.pdf',\n",
       " 'p319.pdf',\n",
       " 'p29.pdf',\n",
       " 'p19.pdf',\n",
       " 'p39.pdf']"
      ]
     },
     "execution_count": 167,
     "metadata": {},
     "output_type": "execute_result"
    }
   ],
   "source": [
    "# remove semicolon to see output\n",
    "corpus.keys()"
   ]
  },
  {
   "cell_type": "markdown",
   "metadata": {},
   "source": [
    "Example of how to access values in document store and attributes of each document for processing"
   ]
  },
  {
   "cell_type": "code",
   "execution_count": 51,
   "metadata": {
    "collapsed": false
   },
   "outputs": [
    {
     "data": {
      "text/plain": [
       "['Title', 'Abstract', 'Entities', 'Stems', 'Lems', 'Stanford ER']"
      ]
     },
     "execution_count": 51,
     "metadata": {},
     "output_type": "execute_result"
    }
   ],
   "source": [
    "corpus['p59.pdf'].keys()"
   ]
  },
  {
   "cell_type": "code",
   "execution_count": 6,
   "metadata": {
    "collapsed": false
   },
   "outputs": [
    {
     "data": {
      "image/png": "[encoded data removed]",
      "text/plain": [
       "Tree('S', [Tree('PERSON', [('Albert', 'NNP')]), Tree('PERSON', [('Bifet', 'NNP'), ('Noahs', 'NNP'), ('Ark', 'NNP'), ('Lab', 'NNP')]), Tree('ORGANIZATION', [('HUAWEI', 'NNP'), ('Hong', 'NNP'), ('Kong', 'NNP')]), ('bifet.albert', 'NNP'), ('@', 'NNP'), ('huawei.com', 'NNP'), Tree('PERSON', [('Jesse', 'NNP'), ('Read', 'NNP')]), ('HIIT', 'NNP'), Tree('PERSON', [('Aalto', 'NNP'), ('University', 'NNP'), ('Helsinki', 'NNP')]), (',', ','), Tree('GPE', [('Finland', 'NNP')]), ('jesse.read', 'NNP'), ('@', 'NNP'), ('aalto', 'NN'), ('.', '.'), Tree('PERSON', [('Gianmarco', 'NNP'), ('De', 'NNP'), ('Francisci', 'NNP'), ('Morales', 'NNP'), ('Aalto', 'NNP'), ('University', 'NNP'), ('Helsinki', 'NNP')]), (',', ','), Tree('GPE', [('Finland', 'NNP')]), ('gdfm', 'NN'), ('@', ':'), ('acm.org', 'JJ'), Tree('PERSON', [('Geoff', 'NNP'), ('Holmes', 'NNP')]), (',', ','), Tree('PERSON', [('Bernhard', 'NNP'), ('Pfahringer', 'NNP'), ('University', 'NNP')]), ('of', 'IN'), Tree('ORGANIZATION', [('Waikato', 'NNP'), ('Hamilton', 'NNP')]), (',', ','), Tree('GPE', [('New', 'NNP'), ('Zealand', 'NNP')]), ('{', 'NNP'), ('geo', 'NN'), (',', ','), ('bernhard', 'NN'), ('}', ':'), ('@', 'IN'), ('waikato.ac.nz', 'JJ')])"
      ]
     },
     "execution_count": 6,
     "metadata": {},
     "output_type": "execute_result"
    }
   ],
   "source": [
    "corpus['p59.pdf']['Entities']"
   ]
  },
  {
   "cell_type": "markdown",
   "metadata": {},
   "source": [
    "# Testing/building individual compents happens below; then I paste it above"
   ]
  },
  {
   "cell_type": "code",
   "execution_count": 7,
   "metadata": {
    "collapsed": false,
    "scrolled": true
   },
   "outputs": [
    {
     "data": {
      "text/plain": [
       "'Using TF-IDF to Determine Word Relevance in Document Queries \\n\\nJuan Ramos \\nDepartment of Computer Science, Rutgers University, 23515 BPO Way, Piscataway, NJ, 08855 \\n \\n \\n\\nJURAMOS@EDEN.RUTGERS.EDU \\n\\nAbstract \\n\\nIn this paper, we examine the results of applying \\nTerm  Frequency  Inverse  Document  Frequency \\n(TF-IDF) to determine what words in a corpus of \\ndocuments might be more favorable to use in a \\nquery.    As  the  term implies, TF-IDF  calculates \\nvalues for each word in a document through an \\ninverse proportion of the frequency of the word \\nin  a  particular  document  to  the  percentage  of \\ndocuments  the  word  appears  in.    Words  with \\nhigh  TF-IDF  numbers \\nstrong \\nrelationship  with  the  document  they  appear  in, \\nsuggesting that if that word were to appear in a \\nquery, the document could  be  of interest to the \\nuser.    We  provide  evidence  that  this  simple \\nalgorithm  efficiently  categorizes  relevant  words \\nthat can enhance query retrieval. \\n\\nimply \\n\\na \\n\\n1.  Introduction \\nBefore  proceeding  in  depth  into  our  experiments,  it  is \\nuseful  to  describe  the  nature  of  the  query  retrieval \\nproblem  for  a  corpus  of  documents  and  the  different \\napproaches used to solve it, including TF-IDF. \\n\\n1.1  Query Retrieval Problem \\nThe task of retrieving data from a user-defined query has \\nbecome so common and natural in recent years that some \\nmight  not  give  it  a  second  thought.    However,  this \\ngrowing  use  of  query  retrieval  warrants  continued \\nresearch and enhancements to generate better solutions to \\nthe problem. \\nInformally, query retrieval can be described as the task of \\nsearching  a  collection  of  data,  be  that  text  documents, \\ndatabases,  networks,  etc.,  for  specific  instances  of  that \\ndata.    First,  we  will  limit  ourselves  to  searching  a \\ncollection  of  English  documents.    The  refined  problem \\nthen  becomes  the  task  of  searching  this  corpus  for \\ndocuments  that  the  query  retrieval  system  considers \\nrelevant to what the user entered as the query. \\nLet us describe this problem more formally.  We have a \\nset of documents D, with the user entering a query q = w1, \\nw2, (cid:133), wn for a sequence of words wi.  Then we wish to \\n\\nreturn  a  subset  D*  of  D  such  that  for  each  d    D*,  we \\nmaximize the following probability: \\n \\n\\nP(d | q, D) (1) \\n\\n \\n\\nframework \\n\\n(Berger  &  Lafferty,  1999).    As  the  above  notation \\nsuggests,  numerous  approaches  to  this  proble'"
      ]
     },
     "execution_count": 7,
     "metadata": {},
     "output_type": "execute_result"
    }
   ],
   "source": [
    "# Convert document from unicode to string \n",
    "\n",
    "import unicodedata\n",
    "document = unicodedata.normalize('NFKD', a).encode('ascii','ignore')\n",
    "document[:2500]"
   ]
  },
  {
   "cell_type": "code",
   "execution_count": 8,
   "metadata": {
    "collapsed": false
   },
   "outputs": [
    {
     "data": {
      "text/plain": [
       "'   In this paper, we examine the results of applying  Term  Frequency  Inverse  Document  Frequency  (TF-IDF) to determine what words in a corpus of  documents might be more favorable to use in a  query.    As  the  term implies, TF-IDF  calculates  values for each word in a document through an  inverse proportion of the frequency of the word  in  a  particular  document  to  the  percentage  of  documents  the  word  appears  in.    Words  with  high  TF-IDF  numbers  strong  relationship  with  the  document  they  appear  in,  suggesting that if that word were to appear in a  query, the document could  be  of interest to the  user.    We  provide  evidence  that  this  simple  algorithm  efficiently  categorizes  relevant  words  that can enhance query retrieval.   imply   a   1.  Introduction  Before  proceeding  in  depth  into  our  experiments,  it  is  useful  to  describe  the  nature  of  the  query  retrieval  problem  for  a  corpus  of  documents  and  the  different  approaches used to solve it, including TF-IDF. '"
      ]
     },
     "execution_count": 8,
     "metadata": {},
     "output_type": "execute_result"
    }
   ],
   "source": [
    "# Getting title\n",
    "title = re.findall(\"^[^\\\\n\\\\n]+\",document)[0]\n",
    "title\n",
    "\n",
    "# Getting the abstract\n",
    "abstract = re.findall (r'\\n\\n(Abstract|ABSTRACT)([^]]*)\\n\\n',document[:2000])[0]\n",
    "\n",
    "if isinstance(abstract, tuple):\n",
    "    abstract = re.sub('[\\s]',\" \",abstract[1])\n",
    "else:\n",
    "    abstract = re.sub('[\\s]',\" \",abstract)\n",
    "abstract"
   ]
  },
  {
   "cell_type": "code",
   "execution_count": 9,
   "metadata": {
    "collapsed": false
   },
   "outputs": [
    {
     "data": {
      "text/plain": [
       "'Juan Ramos  Department of Computer Science, Rutgers University, 23515 BPO Way, Piscataway, NJ, 08855       JURAMOS@EDEN.RUTGERS.EDU '"
      ]
     },
     "execution_count": 9,
     "metadata": {},
     "output_type": "execute_result"
    }
   ],
   "source": [
    "# Extracts section with names and email addresses only\n",
    "\n",
    "section  = re.findall (r'\\n\\n([^]]*)\\n\\n(Abstract|ABSTRACT)',document[:2000])\n",
    "\n",
    "type(section[0][0])\n",
    "\n",
    "if isinstance(section, list):\n",
    "    section = re.sub('[\\s]',\" \",section[0][0])\n",
    "else:\n",
    "    section = re.sub('[\\s]',\" \",section)\n",
    "section\n"
   ]
  },
  {
   "cell_type": "code",
   "execution_count": null,
   "metadata": {
    "collapsed": false
   },
   "outputs": [],
   "source": [
    "test = re.findall (r'\\n\\n([^]]+)\\n\\n(Abstract|ABSTRACT)',document[:2000] )\n",
    "\n",
    "if isinstance(test, str):\n",
    "    print \"Wow\"\n",
    "elif isinstance (test,int):\n",
    "    print \"I'm surprised!\"\n",
    "\n",
    "elif  isinstance (test,list):\n",
    "    print \"We got it RIGHT!\"\n",
    "\n",
    "else:\n",
    "    print \"Nothing fits\"\n"
   ]
  },
  {
   "cell_type": "code",
   "execution_count": 20,
   "metadata": {
    "collapsed": false
   },
   "outputs": [
    {
     "data": {
      "text/plain": [
       "<bound method Tree.collapse_unary of Tree('S', [Tree('PERSON', [('Juan', 'NNP')]), Tree('PERSON', [('Ramos', 'NNP'), ('Department', 'NNP')]), ('of', 'IN'), Tree('ORGANIZATION', [('Computer', 'NNP'), ('Science', 'NNP')]), (',', ','), Tree('ORGANIZATION', [('Rutgers', 'NNP'), ('University', 'NNP')]), (',', ','), ('23515', 'CD'), Tree('ORGANIZATION', [('BPO', 'NNP'), ('Way', 'NNP')]), (',', ','), Tree('GPE', [('Piscataway', 'NNP')]), (',', ','), Tree('ORGANIZATION', [('NJ', 'NNP')]), (',', ','), ('08855', 'CD'), Tree('ORGANIZATION', [('JURAMOS', 'NNP')]), ('@', 'NNP'), ('EDEN.RUTGERS.EDU', 'NNP')])>"
      ]
     },
     "execution_count": 20,
     "metadata": {},
     "output_type": "execute_result"
    }
   ],
   "source": [
    "# Code to extract entities from top section of pdf and store a relationship tree\n",
    "\n",
    "import nltk\n",
    "\n",
    "tagged = nltk.pos_tag(nltk.word_tokenize(section))\n",
    "entities = nltk.chunk.ne_chunk(tagged)\n",
    "entities.collapse_unary"
   ]
  },
  {
   "cell_type": "code",
   "execution_count": 20,
   "metadata": {
    "collapsed": false
   },
   "outputs": [
    {
     "name": "stdout",
     "output_type": "stream",
     "text": [
      "[(u'Juan', u'ORGANIZATION'), (u'Ramos', u'ORGANIZATION'), (u'Department', u'ORGANIZATION'), (u'of', u'ORGANIZATION'), (u'Computer', u'ORGANIZATION'), (u'Science', u'ORGANIZATION'), (u',', u'O'), (u'Rutgers', u'ORGANIZATION'), (u'University', u'ORGANIZATION'), (u',', u'O'), (u'23515', u'O'), (u'BPO', u'MISC'), (u'Way', u'MISC'), (u',', u'O'), (u'Piscataway', u'LOCATION'), (u',', u'O'), (u'NJ', u'LOCATION'), (u',', u'O'), (u'08855', u'O'), (u'JURAMOS', u'O'), (u'@', u'O'), (u'EDEN.RUTGERS.EDU', u'O')]\n"
     ]
    }
   ],
   "source": [
    "# Use another entity extractor\n",
    "\n",
    "\n",
    "from nltk.tag import StanfordNERTagger\n",
    "from nltk.tokenize import word_tokenize\n",
    "\n",
    "st = StanfordNERTagger('/Users/linwood/stanford-corenlp-full-2015-04-20/classifiers/english.conll.4class.distsim.crf.ser.gz',\n",
    "\t\t\t\t\t   '/Users/linwood/stanford-corenlp-full-2015-04-20/stanford-corenlp-3.5.2.jar',\n",
    "\t\t\t\t\t   encoding='utf-8')\n",
    "\n",
    "text = section\n",
    "tokenized_text = word_tokenize(section)\n",
    "classified_text = st.tag(tokenized_text)\n",
    "\n",
    "print(classified_text)"
   ]
  },
  {
   "cell_type": "code",
   "execution_count": null,
   "metadata": {
    "collapsed": false
   },
   "outputs": [],
   "source": [
    "from sklearn.feature_extraction.text import ENGLISH_STOP_WORDS\n",
    "\n",
    "print type(ENGLISH_STOP_WORDS)\n",
    "print type(nltk.corpus.stopwords.words('english'))"
   ]
  },
  {
   "cell_type": "code",
   "execution_count": null,
   "metadata": {
    "collapsed": false
   },
   "outputs": [],
   "source": [
    "a= [l for l in ENGLISH_STOP_WORDS]\n",
    "b = [l for l in nltk.corpus.stopwords.words('english')]\n",
    "\n",
    "len(set(a) & set(b))"
   ]
  },
  {
   "cell_type": "code",
   "execution_count": null,
   "metadata": {
    "collapsed": true
   },
   "outputs": [],
   "source": [
    "# TFIDF processing\n",
    "\n",
    "from sklearn.feature_extraction.text import TfidfVectorizer\n",
    "\n",
    "#define vectorizer parameters\n",
    "tfidf_vectorizer = TfidfVectorizer(max_df=0.8, max_features=200000,\n",
    "                                 min_df=0.2, stop_words='english',\n",
    "                                 use_idf=True, tokenizer=tokenize_and_stem, ngram_range=(1,3))\n",
    "\n",
    "%time tfidf_matrix = tfidf_vectorizer.fit_transform(abstract) #fit the vectorizer to synopses\n",
    "\n",
    "print(tfidf_matrix.shape)from sklearn.feature_extraction.text import TfidfVectorizer\n",
    "\n",
    "#define vectorizer parameters\n",
    "tfidf_vectorizer = TfidfVectorizer(max_df=0.8, max_features=200000,\n",
    "                                 min_df=0.2, stop_words='english',\n",
    "                                 use_idf=True, tokenizer=tokenize_and_stem, ngram_range=(1,3))\n",
    "\n",
    "%time tfidf_matrix = tfidf_vectorizer.fit_transform(abstract) #fit the vectorizer to synopses\n",
    "\n",
    "print(tfidf_matrix.shape)"
   ]
  },
  {
   "cell_type": "code",
   "execution_count": null,
   "metadata": {
    "collapsed": false
   },
   "outputs": [],
   "source": [
    "# Creates the json document format to store the files\n",
    "\n",
    "corpus = {}\n",
    "corpus[str(fileName)]={}\n",
    "corpus[str(fileName)]={'Title':title,'Abstract':abstract,'Entities':entities}\n",
    "corpus['p99.pdf']={'Title':\"Test title\",'Abstract':\"test abstract langauge.  Just adding test to make it longer\", 'Entities':\"Linwood Creekmore\"}\n",
    "\n",
    "corpus.keys()\n",
    "\n"
   ]
  },
  {
   "cell_type": "code",
   "execution_count": 78,
   "metadata": {
    "collapsed": false
   },
   "outputs": [],
   "source": [
    "from nltk.tag import StanfordNERTagger\n",
    "from nltk.tokenize import word_tokenize\n",
    "\n",
    "st = StanfordNERTagger('/Users/linwood/stanford-corenlp-full-2015-04-20/classifiers/english.muc.7class.distsim.crf.ser.gz',\n",
    "\t\t\t\t\t   '/Users/linwood/stanford-corenlp-full-2015-04-20/stanford-ner-3.5.2.jar',\n",
    "\t\t\t\t\t   encoding='utf-8')\n",
    "\n",
    "st.tag(word_tokenize(section));"
   ]
  },
  {
   "cell_type": "code",
   "execution_count": 31,
   "metadata": {
    "collapsed": false
   },
   "outputs": [],
   "source": [
    "from nltk.stem.wordnet import WordNetLemmatizer\n",
    "\n",
    "full = re.sub('[\\s]',\" \", document)"
   ]
  },
  {
   "cell_type": "code",
   "execution_count": 161,
   "metadata": {
    "collapsed": false
   },
   "outputs": [],
   "source": [
    "# from http://brandonrose.org/clustering\n",
    "\n",
    "\n",
    "\n",
    "from nltk.stem import SnowballStemmer\n",
    "from nltk.stem.wordnet import WordNetLemmatizer\n",
    "stemmer = SnowballStemmer(\"english\")\n",
    "lemmer = WordNetLemmatizer()\n",
    "wordnet_tags = ['n', 'v', 'a', 's', 'r']\n",
    "\n",
    "def tokenize_and_stem_n_lem(text):\n",
    "    # first tokenize by sentence, then by word to ensure that punctuation is caught as it's own token\n",
    "    tokens = [word for sent in nltk.sent_tokenize(text) for word in nltk.word_tokenize(sent)]\n",
    "    filtered_tokens = []\n",
    "    # filter out any tokens not containing letters (e.g., numeric tokens, raw punctuation)\n",
    "    for token in tokens:\n",
    "        if re.search('[a-zA-Z]', token):\n",
    "            filtered_tokens.append(token)\n",
    "    stems = [stemmer.stem(t) for t in filtered_tokens]\n",
    "    lems = [lemmer.lemmatize(l) for l in filtered_tokens]\n",
    "    \n",
    "    return stems,lems\n",
    "\n",
    "def tokenize_only(text):\n",
    "    # first tokenize by sentence, then by word to ensure that punctuation is caught as it's own token\n",
    "    tokens = [word.lower() for sent in nltk.sent_tokenize(text) for word in nltk.word_tokenize(sent)]\n",
    "    filtered_tokens = []\n",
    "    # filter out any tokens not containing letters (e.g., numeric tokens, raw punctuation)\n",
    "    for token in tokens:\n",
    "        if re.search('[a-zA-Z]', token):\n",
    "            filtered_tokens.append(token)\n",
    "    return filtered_tokens\n",
    "\n",
    "\n"
   ]
  },
  {
   "cell_type": "code",
   "execution_count": 75,
   "metadata": {
    "collapsed": false
   },
   "outputs": [],
   "source": [
    "abstracts = [i['Abstract'] for i in corpus.values()[:]]\n",
    "\n",
    "totalvocab_stemmed = []\n",
    "totalvocab_tokenized = []\n",
    "for i in abstracts:\n",
    "    allwords_stemmed = tokenize_and_stem_n_lem(i) #for each item in 'synopses', tokenize/stem\n",
    "    totalvocab_stemmed.extend(allwords_stemmed) #extend the 'totalvocab_stemmed' list\n",
    "    \n",
    "    allwords_tokenized = tokenize_only(i)\n",
    "    totalvocab_tokenized.extend(allwords_tokenized)"
   ]
  },
  {
   "cell_type": "code",
   "execution_count": 79,
   "metadata": {
    "collapsed": false
   },
   "outputs": [
    {
     "name": "stdout",
     "output_type": "stream",
     "text": [
      "there are 901 items in vocab_frame\n"
     ]
    }
   ],
   "source": [
    "vocab_frame = pd.DataFrame({'words': totalvocab_tokenized}, index = totalvocab_stemmed)\n",
    "print 'there are ' + str(vocab_frame.shape[0]) + ' items in vocab_frame'"
   ]
  },
  {
   "cell_type": "code",
   "execution_count": 84,
   "metadata": {
    "collapsed": false
   },
   "outputs": [
    {
     "name": "stdout",
     "output_type": "stream",
     "text": [
      "CPU times: user 66.8 ms, sys: 17.6 ms, total: 84.5 ms\n",
      "Wall time: 71.4 ms\n",
      "(5, 1295)\n",
      "[[  9.99200722e-16   9.97015780e-01   9.60432596e-01   9.84189594e-01\n",
      "    9.59554133e-01]\n",
      " [  9.97015780e-01  -4.44089210e-16   9.81368347e-01   9.89242031e-01\n",
      "    9.89661916e-01]\n",
      " [  9.60432596e-01   9.81368347e-01  -5.99520433e-15   9.94369123e-01\n",
      "    9.81712860e-01]\n",
      " [  9.84189594e-01   9.89242031e-01   9.94369123e-01  -1.55431223e-15\n",
      "    9.57102658e-01]\n",
      " [  9.59554133e-01   9.89661916e-01   9.81712860e-01   9.57102658e-01\n",
      "    1.88737914e-15]]\n"
     ]
    }
   ],
   "source": [
    "from sklearn.feature_extraction.text import TfidfVectorizer\n",
    "\n",
    "#define vectorizer parameters\n",
    "tfidf_vectorizer = TfidfVectorizer(max_df=0.8, max_features=200000,\n",
    "                                 min_df=0.2, stop_words='english',\n",
    "                                 use_idf=True, tokenizer=tokenize_and_stem_n_lem, ngram_range=(1,3))\n",
    "\n",
    "%time tfidf_matrix = tfidf_vectorizer.fit_transform(abstracts) #fit the vectorizer to abstracts\n",
    "\n",
    "print(tfidf_matrix.shape)\n",
    "terms = tfidf_vectorizer.get_feature_names()\n",
    "from sklearn.metrics.pairwise import cosine_similarity\n",
    "dist = 1 - cosine_similarity(tfidf_matrix)\n",
    "print dist\n"
   ]
  },
  {
   "cell_type": "code",
   "execution_count": 87,
   "metadata": {
    "collapsed": false
   },
   "outputs": [
    {
     "name": "stdout",
     "output_type": "stream",
     "text": [
      "CPU times: user 58.4 ms, sys: 3.3 ms, total: 61.7 ms\n",
      "Wall time: 59.8 ms\n"
     ]
    }
   ],
   "source": [
    "from sklearn.cluster import KMeans\n",
    "\n",
    "num_clusters = 5\n",
    "\n",
    "km = KMeans(n_clusters=num_clusters)\n",
    "\n",
    "%time km.fit(tfidf_matrix)\n",
    "\n",
    "clusters = km.labels_.tolist()\n",
    "\n",
    "\n",
    "from sklearn.externals import joblib\n",
    "\n",
    "#uncomment the below to save your model \n",
    "#since I've already run my model I am loading from the pickle\n",
    "\n",
    "joblib.dump(km,  'doc_cluster.pkl')\n",
    "\n",
    "km = joblib.load('doc_cluster.pkl')\n",
    "clusters = km.labels_.tolist()"
   ]
  },
  {
   "cell_type": "code",
   "execution_count": null,
   "metadata": {
    "collapsed": false
   },
   "outputs": [],
   "source": [
    "import requests, unicodedata\n",
    "text = urllib2.urlopen('http://www.constitution.org/cons/constitu.txt')\n",
    "constitution = requests.get('http://www.constitution.org/cons/constitu.txt')\n",
    "\n",
    "const = unicodedata.normalize('NFKD', constitution.text).encode('ascii','ignore')\n",
    "type(const)"
   ]
  },
  {
   "cell_type": "code",
   "execution_count": null,
   "metadata": {
    "collapsed": false
   },
   "outputs": [],
   "source": [
    "text = ' '.join(re.findall('[\\w]+',const))\n",
    "type(text)"
   ]
  },
  {
   "cell_type": "code",
   "execution_count": null,
   "metadata": {
    "collapsed": false
   },
   "outputs": [],
   "source": []
  },
  {
   "cell_type": "code",
   "execution_count": null,
   "metadata": {
    "collapsed": false
   },
   "outputs": [],
   "source": [
    "from os import path\n",
    "import numpy as np\n",
    "from scipy.misc import imread\n",
    "import matplotlib.pyplot as plt\n",
    "import requests\n",
    "from wordcloud import WordCloud, STOPWORDS, ImageColorGenerator\n",
    "\n",
    "def grey_color_func(word, font_size, position, orientation, random_state=None, **kwargs):\n",
    "    return \"hsl(0, 0%%, %d%%)\" % random.randint(60, 100)\n",
    "\n",
    "# read the mask / color image\n",
    "# taken from http://jirkavinse.deviantart.com/art/quot-Real-Life-quot-Alice-282261010\n",
    "from PIL import Image\n",
    "import requests\n",
    "from StringIO import StringIO\n",
    "\n",
    "response = requests.get(\"http://www.personal.psu.edu/sdh5174/Mario_png.png\")\n",
    "\n",
    "mario_coloring = np.array(Image.open(StringIO(response.content)))\n",
    "\n",
    "wc = WordCloud(background_color=\"white\", max_words=2000, mask=mario_coloring,\n",
    "               stopwords=STOPWORDS.add(\"said\"),\n",
    "               max_font_size=40, random_state=42)\n",
    "# generate word cloud\n",
    "wc.generate(text)\n",
    "\n",
    "# create coloring from image\n",
    "image_colors = ImageColorGenerator(mario_coloring)\n",
    "\n",
    "# show\n",
    "plt.imshow(wc)\n",
    "plt.axis(\"off\")\n",
    "plt.figure()\n",
    "# recolor wordcloud and show\n",
    "# we could also give color_func=image_colors directly in the constructor\n",
    "plt.imshow(wc.recolor(color_func=image_colors))\n",
    "plt.axis(\"off\")\n",
    "plt.figure()\n",
    "plt.imshow(mario_coloring, cmap=plt.cm.gray)\n",
    "plt.axis(\"off\")\n",
    "plt.show()"
   ]
  },
  {
   "cell_type": "code",
   "execution_count": null,
   "metadata": {
    "collapsed": true
   },
   "outputs": [],
   "source": [
    "from statsmodels.datasets import cancer\n",
    "import statsmodels.api as sm"
   ]
  },
  {
   "cell_type": "code",
   "execution_count": null,
   "metadata": {
    "collapsed": false
   },
   "outputs": [],
   "source": [
    "data = sm.datasets.get_rdataset(\"Duncan\", \"car\")"
   ]
  },
  {
   "cell_type": "code",
   "execution_count": null,
   "metadata": {
    "collapsed": false
   },
   "outputs": [],
   "source": [
    "data"
   ]
  },
  {
   "cell_type": "code",
   "execution_count": null,
   "metadata": {
    "collapsed": false
   },
   "outputs": [],
   "source": [
    "print data.__doc__"
   ]
  },
  {
   "cell_type": "code",
   "execution_count": null,
   "metadata": {
    "collapsed": false
   },
   "outputs": [],
   "source": [
    "sm."
   ]
  },
  {
   "cell_type": "code",
   "execution_count": null,
   "metadata": {
    "collapsed": false
   },
   "outputs": [],
   "source": [
    "import statsmodels.api as sm\n",
    "air = sm.datasets.get_rdataset(\"airquality\")"
   ]
  },
  {
   "cell_type": "code",
   "execution_count": null,
   "metadata": {
    "collapsed": false
   },
   "outputs": [],
   "source": [
    "type(air.data)"
   ]
  },
  {
   "cell_type": "code",
   "execution_count": null,
   "metadata": {
    "collapsed": false
   },
   "outputs": [],
   "source": [
    "air.data.describe()"
   ]
  },
  {
   "cell_type": "code",
   "execution_count": null,
   "metadata": {
    "collapsed": true
   },
   "outputs": [],
   "source": []
  }
 ],
 "metadata": {
  "kernelspec": {
   "display_name": "Python 2",
   "language": "python",
   "name": "python2"
  },
  "language_info": {
   "codemirror_mode": {
    "name": "ipython",
    "version": 2
   },
   "file_extension": ".py",
   "mimetype": "text/x-python",
   "name": "python",
   "nbconvert_exporter": "python",
   "pygments_lexer": "ipython2",
   "version": "2.7.10"
  }
 },
 "nbformat": 4,
 "nbformat_minor": 0
}
