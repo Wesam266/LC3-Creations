{
 "cells": [
  {
   "cell_type": "code",
   "execution_count": 4,
   "metadata": {
    "collapsed": false
   },
   "outputs": [],
   "source": [
    "from os import walk\n",
    "import os\n",
    "import subprocess\n",
    "import sys\n",
    "import nltk\n",
    "from nltk.stem.wordnet import WordNetLemmatizer\n",
    "from nltk import pos_tag\n",
    "import time\n",
    "import json\n",
    "import re\n",
    "import urllib2\n",
    "import unicodedata\n",
    "from nltk.tag import StanfordNERTagger\n",
    "from nltk.tokenize import word_tokenize\n",
    "\n",
    "wordnet_tags = ['n', 'v', 'a', 's', 'r']\n",
    "%matplotlib inline\n"
   ]
  },
  {
   "cell_type": "markdown",
   "metadata": {},
   "source": [
    "# The main code, built from testing, is in the cell immediately below. "
   ]
  },
  {
   "cell_type": "code",
   "execution_count": 43,
   "metadata": {
    "collapsed": true
   },
   "outputs": [],
   "source": [
    "# from http://brandonrose.org/clustering\n",
    "\n",
    "\n",
    "\n",
    "from nltk.stem import SnowballStemmer\n",
    "from nltk.stem.wordnet import WordNetLemmatizer\n",
    "stemmer = SnowballStemmer(\"english\")\n",
    "lemmer = WordNetLemmatizer()\n",
    "wordnet_tags = ['n', 'v', 'a', 's', 'r']\n",
    "\n",
    "def tokenize_and_stem_n_lem(text):\n",
    "    # first tokenize by sentence, then by word to ensure that punctuation is caught as it's own token\n",
    "    tokens = [word for sent in nltk.sent_tokenize(text) for word in nltk.word_tokenize(sent)]\n",
    "    filtered_tokens = []\n",
    "    # filter out any tokens not containing letters (e.g., numeric tokens, raw punctuation)\n",
    "    for token in tokens:\n",
    "        if re.search('[a-zA-Z]', token):\n",
    "            filtered_tokens.append(token)\n",
    "    stems = [stemmer.stem(t) for t in filtered_tokens]\n",
    "    lems = [lemmer.lemmatize(l) for l in filtered_tokens]\n",
    "    \n",
    "    return stems,lems\n",
    "    \n",
    "\n",
    "def tokenize_only(text):\n",
    "    # first tokenize by sentence, then by word to ensure that punctuation is caught as it's own token\n",
    "    tokens = [word.lower() for sent in nltk.sent_tokenize(text) for word in nltk.word_tokenize(sent)]\n",
    "    filtered_tokens = []\n",
    "    # filter out any tokens not containing letters (e.g., numeric tokens, raw punctuation)\n",
    "    for token in tokens:\n",
    "        if re.search('[a-zA-Z]', token):\n",
    "            filtered_tokens.append(token)\n",
    "    return filtered_tokens"
   ]
  },
  {
   "cell_type": "code",
   "execution_count": 44,
   "metadata": {
    "collapsed": false
   },
   "outputs": [],
   "source": [
    "path        = os.path.abspath(os.getcwd())\n",
    "TESTDIR     = os.path.normpath(os.path.join(os.path.expanduser(\"~\"),\"projects\",\"LC3-Creations\", \"examples\",\"KDDsample\"))\n",
    "\n",
    "corpus = {}\n",
    "\n",
    "start_time = time.time()\n",
    "for dirName, subdirList, fileList in walk(TESTDIR):\n",
    "        for fileName in fileList:\n",
    "            if fileName.startswith('p') and fileName.endswith('.pdf'):\n",
    "                a = unicode(subprocess.check_output(['pdf2txt.py',str(os.path.normpath(os.path.join(TESTDIR,fileName)))]),errors='ignore')\n",
    "                document = unicodedata.normalize('NFKD', a).encode('ascii','ignore')\n",
    "                # Getting title\n",
    "                title = re.findall(\"^[^\\\\n\\\\n]+\",document)[0]\n",
    "                \n",
    "                # Getting the abstract\n",
    "                abstract = re.findall (r'\\n\\n(Abstract|ABSTRACT)([^]]*)\\n\\n',document[:2000])[0]\n",
    "                if isinstance(abstract, tuple):\n",
    "                    abstract = re.sub('[\\s]',\" \",abstract[1])\n",
    "                else:\n",
    "                    abstract = re.sub('[\\s]',\" \",abstract)\n",
    "                    \n",
    "                # Extracts section with names and email addresses only\n",
    "                section  = re.findall (r'\\n\\n([^]]*)\\n\\n(Abstract|ABSTRACT)',document[:2000])\n",
    "\n",
    "                type(section[0][0])\n",
    "\n",
    "                if isinstance(section, list):\n",
    "                    section = re.sub('[\\s]',\" \",section[0][0])\n",
    "                else:\n",
    "                    section = re.sub('[\\s]',\" \",section)\n",
    "                section\n",
    "\n",
    "                # Code to extract entities from top section of pdf and store a relationship tree\n",
    "                tagged = nltk.pos_tag(nltk.word_tokenize(section))\n",
    "                entities = nltk.chunk.ne_chunk(tagged)\n",
    "                \n",
    "                # Another entity extractor\n",
    "                st = StanfordNERTagger('/Users/linwood/stanford-corenlp-full-2015-04-20/classifiers/english.conll.4class.distsim.crf.ser.gz',\n",
    "\t\t\t\t\t   '/Users/linwood/stanford-corenlp-full-2015-04-20/stanford-corenlp-3.5.2.jar',\n",
    "\t\t\t\t\t   encoding='utf-8')\n",
    "                tokenized_text = word_tokenize(section)\n",
    "                stanentities = st.tag(tokenized_text)\n",
    "                \n",
    "                # Calls function to lemmatize and stem the document; stores the result\n",
    "                tokenize_and_stem_n_lem(abstract);\n",
    "\n",
    "                \n",
    "                # Creates the json document format to store the files\n",
    "                corpus[str(fileName)]={}\n",
    "                corpus[str(fileName)]={'Title':title,'Abstract':abstract,'Entities':entities, \n",
    "                                       \"Stanford ER\":stanentities, \"Stems\": tokenize_and_stem_n_lem(abstract)[0], \n",
    "                                      \"Lems\": tokenize_and_stem_n_lem(abstract)[1]}"
   ]
  },
  {
   "cell_type": "markdown",
   "metadata": {},
   "source": [
    "# Placeholder to see the output of the code above; make sure it does what I want; this will be converted and stored as json document"
   ]
  },
  {
   "cell_type": "code",
   "execution_count": null,
   "metadata": {
    "collapsed": true
   },
   "outputs": [],
   "source": [
    "# remove semicolon to see output\n",
    "corpus;"
   ]
  },
  {
   "cell_type": "markdown",
   "metadata": {},
   "source": [
    "Example of how to access values in document store and attributes of each document for processing"
   ]
  },
  {
   "cell_type": "code",
   "execution_count": 51,
   "metadata": {
    "collapsed": false
   },
   "outputs": [
    {
     "data": {
      "text/plain": [
       "['Title', 'Abstract', 'Entities', 'Stems', 'Lems', 'Stanford ER']"
      ]
     },
     "execution_count": 51,
     "metadata": {},
     "output_type": "execute_result"
    }
   ],
   "source": [
    "corpus['p59.pdf'].keys()"
   ]
  },
  {
   "cell_type": "code",
   "execution_count": 55,
   "metadata": {
    "collapsed": false
   },
   "outputs": [
    {
     "data": {
      "image/png": "[encoded data removed]",
      "text/plain": [
       "Tree('S', [Tree('PERSON', [('Albert', 'NNP')]), Tree('PERSON', [('Bifet', 'NNP'), ('Noahs', 'NNP'), ('Ark', 'NNP'), ('Lab', 'NNP')]), Tree('ORGANIZATION', [('HUAWEI', 'NNP'), ('Hong', 'NNP'), ('Kong', 'NNP')]), ('bifet.albert', 'VBP'), ('@', 'NNP'), ('huawei.com', 'NN'), Tree('PERSON', [('Jesse', 'NNP'), ('Read', 'NNP')]), ('HIIT', 'NNP'), Tree('PERSON', [('Aalto', 'NNP'), ('University', 'NNP'), ('Helsinki', 'NNP')]), (',', ','), Tree('GPE', [('Finland', 'NNP')]), ('jesse.read', 'NN'), ('@', 'NNP'), ('aalto', 'NN'), ('.', '.'), Tree('PERSON', [('Gianmarco', 'NNP'), ('De', 'NNP'), ('Francisci', 'NNP'), ('Morales', 'NNP'), ('Aalto', 'NNP'), ('University', 'NNP'), ('Helsinki', 'NNP')]), (',', ','), Tree('GPE', [('Finland', 'NNP')]), ('gdfm', 'NN'), ('@', 'NNP'), ('acm.org', 'VBZ'), Tree('PERSON', [('Geoff', 'NNP'), ('Holmes', 'NNP')]), (',', ','), Tree('PERSON', [('Bernhard', 'NNP'), ('Pfahringer', 'NNP'), ('University', 'NNP')]), ('of', 'IN'), Tree('ORGANIZATION', [('Waikato', 'NNP'), ('Hamilton', 'NNP')]), (',', ','), Tree('GPE', [('New', 'NNP'), ('Zealand', 'NNP')]), ('{', '('), ('geo', 'NN'), (',', ','), ('bernhard', 'NN'), ('}', ')'), ('@', 'CD'), ('waikato.ac.nz', 'NNS')])"
      ]
     },
     "execution_count": 55,
     "metadata": {},
     "output_type": "execute_result"
    }
   ],
   "source": [
    "corpus['p59.pdf']['Entities']"
   ]
  },
  {
   "cell_type": "markdown",
   "metadata": {},
   "source": [
    "# Testing/building individual compents happens below; then I paste it above"
   ]
  },
  {
   "cell_type": "code",
   "execution_count": 7,
   "metadata": {
    "collapsed": false,
    "scrolled": true
   },
   "outputs": [
    {
     "data": {
      "text/plain": [
       "'Using TF-IDF to Determine Word Relevance in Document Queries \\n\\nJuan Ramos \\nDepartment of Computer Science, Rutgers University, 23515 BPO Way, Piscataway, NJ, 08855 \\n \\n \\n\\nJURAMOS@EDEN.RUTGERS.EDU \\n\\nAbstract \\n\\nIn this paper, we examine the results of applying \\nTerm  Frequency  Inverse  Document  Frequency \\n(TF-IDF) to determine what words in a corpus of \\ndocuments might be more favorable to use in a \\nquery.    As  the  term implies, TF-IDF  calculates \\nvalues for each word in a document through an \\ninverse proportion of the frequency of the word \\nin  a  particular  document  to  the  percentage  of \\ndocuments  the  word  appears  in.    Words  with \\nhigh  TF-IDF  numbers \\nstrong \\nrelationship  with  the  document  they  appear  in, \\nsuggesting that if that word were to appear in a \\nquery, the document could  be  of interest to the \\nuser.    We  provide  evidence  that  this  simple \\nalgorithm  efficiently  categorizes  relevant  words \\nthat can enhance query retrieval. \\n\\nimply \\n\\na \\n\\n1.  Introduction \\nBefore  proceeding  in  depth  into  our  experiments,  it  is \\nuseful  to  describe  the  nature  of  the  query  retrieval \\nproblem  for  a  corpus  of  documents  and  the  different \\napproaches used to solve it, including TF-IDF. \\n\\n1.1  Query Retrieval Problem \\nThe task of retrieving data from a user-defined query has \\nbecome so common and natural in recent years that some \\nmight  not  give  it  a  second  thought.    However,  this \\ngrowing  use  of  query  retrieval  warrants  continued \\nresearch and enhancements to generate better solutions to \\nthe problem. \\nInformally, query retrieval can be described as the task of \\nsearching  a  collection  of  data,  be  that  text  documents, \\ndatabases,  networks,  etc.,  for  specific  instances  of  that \\ndata.    First,  we  will  limit  ourselves  to  searching  a \\ncollection  of  English  documents.    The  refined  problem \\nthen  becomes  the  task  of  searching  this  corpus  for \\ndocuments  that  the  query  retrieval  system  considers \\nrelevant to what the user entered as the query. \\nLet us describe this problem more formally.  We have a \\nset of documents D, with the user entering a query q = w1, \\nw2, (cid:133), wn for a sequence of words wi.  Then we wish to \\n\\nreturn  a  subset  D*  of  D  such  that  for  each  d    D*,  we \\nmaximize the following probability: \\n \\n\\nP(d | q, D) (1) \\n\\n \\n\\nframework \\n\\n(Berger  &  Lafferty,  1999).    As  the  above  notation \\nsuggests,  numerous  approaches  to  this  proble'"
      ]
     },
     "execution_count": 7,
     "metadata": {},
     "output_type": "execute_result"
    }
   ],
   "source": [
    "# Convert document from unicode to string \n",
    "\n",
    "import unicodedata\n",
    "document = unicodedata.normalize('NFKD', a).encode('ascii','ignore')\n",
    "document[:2500]"
   ]
  },
  {
   "cell_type": "code",
   "execution_count": 8,
   "metadata": {
    "collapsed": false
   },
   "outputs": [
    {
     "data": {
      "text/plain": [
       "'   In this paper, we examine the results of applying  Term  Frequency  Inverse  Document  Frequency  (TF-IDF) to determine what words in a corpus of  documents might be more favorable to use in a  query.    As  the  term implies, TF-IDF  calculates  values for each word in a document through an  inverse proportion of the frequency of the word  in  a  particular  document  to  the  percentage  of  documents  the  word  appears  in.    Words  with  high  TF-IDF  numbers  strong  relationship  with  the  document  they  appear  in,  suggesting that if that word were to appear in a  query, the document could  be  of interest to the  user.    We  provide  evidence  that  this  simple  algorithm  efficiently  categorizes  relevant  words  that can enhance query retrieval.   imply   a   1.  Introduction  Before  proceeding  in  depth  into  our  experiments,  it  is  useful  to  describe  the  nature  of  the  query  retrieval  problem  for  a  corpus  of  documents  and  the  different  approaches used to solve it, including TF-IDF. '"
      ]
     },
     "execution_count": 8,
     "metadata": {},
     "output_type": "execute_result"
    }
   ],
   "source": [
    "# Getting title\n",
    "title = re.findall(\"^[^\\\\n\\\\n]+\",document)[0]\n",
    "title\n",
    "\n",
    "# Getting the abstract\n",
    "abstract = re.findall (r'\\n\\n(Abstract|ABSTRACT)([^]]*)\\n\\n',document[:2000])[0]\n",
    "\n",
    "if isinstance(abstract, tuple):\n",
    "    abstract = re.sub('[\\s]',\" \",abstract[1])\n",
    "else:\n",
    "    abstract = re.sub('[\\s]',\" \",abstract)\n",
    "abstract"
   ]
  },
  {
   "cell_type": "code",
   "execution_count": 9,
   "metadata": {
    "collapsed": false
   },
   "outputs": [
    {
     "data": {
      "text/plain": [
       "'Juan Ramos  Department of Computer Science, Rutgers University, 23515 BPO Way, Piscataway, NJ, 08855       JURAMOS@EDEN.RUTGERS.EDU '"
      ]
     },
     "execution_count": 9,
     "metadata": {},
     "output_type": "execute_result"
    }
   ],
   "source": [
    "# Extracts section with names and email addresses only\n",
    "\n",
    "section  = re.findall (r'\\n\\n([^]]*)\\n\\n(Abstract|ABSTRACT)',document[:2000])\n",
    "\n",
    "type(section[0][0])\n",
    "\n",
    "if isinstance(section, list):\n",
    "    section = re.sub('[\\s]',\" \",section[0][0])\n",
    "else:\n",
    "    section = re.sub('[\\s]',\" \",section)\n",
    "section\n"
   ]
  },
  {
   "cell_type": "code",
   "execution_count": null,
   "metadata": {
    "collapsed": false
   },
   "outputs": [],
   "source": [
    "test = re.findall (r'\\n\\n([^]]+)\\n\\n(Abstract|ABSTRACT)',document[:2000] )\n",
    "\n",
    "if isinstance(test, str):\n",
    "    print \"Wow\"\n",
    "elif isinstance (test,int):\n",
    "    print \"I'm surprised!\"\n",
    "\n",
    "elif  isinstance (test,list):\n",
    "    print \"We got it RIGHT!\"\n",
    "\n",
    "else:\n",
    "    print \"Nothing fits\"\n"
   ]
  },
  {
   "cell_type": "code",
   "execution_count": 16,
   "metadata": {
    "collapsed": false
   },
   "outputs": [
    {
     "data": {
      "text/plain": [
       "<bound method Tree.un_chomsky_normal_form of Tree('S', [Tree('PERSON', [('Juan', 'NNP')]), Tree('PERSON', [('Ramos', 'NNP'), ('Department', 'NNP')]), ('of', 'IN'), Tree('ORGANIZATION', [('Computer', 'NNP'), ('Science', 'NNP')]), (',', ','), Tree('ORGANIZATION', [('Rutgers', 'NNP'), ('University', 'NNP')]), (',', ','), ('23515', 'CD'), Tree('ORGANIZATION', [('BPO', 'NNP'), ('Way', 'NNP')]), (',', ','), Tree('GPE', [('Piscataway', 'NNP')]), (',', ','), Tree('ORGANIZATION', [('NJ', 'NNP')]), (',', ','), ('08855', 'CD'), Tree('ORGANIZATION', [('JURAMOS', 'NNP')]), ('@', 'NNP'), ('EDEN.RUTGERS.EDU', 'NNP')])>"
      ]
     },
     "execution_count": 16,
     "metadata": {},
     "output_type": "execute_result"
    }
   ],
   "source": [
    "# Code to extract entities from top section of pdf and store a relationship tree\n",
    "\n",
    "import nltk\n",
    "\n",
    "tagged = nltk.pos_tag(nltk.word_tokenize(section))\n",
    "entities = nltk.chunk.ne_chunk(tagged)\n",
    "entities.un_chomsky_normal_form"
   ]
  },
  {
   "cell_type": "code",
   "execution_count": 20,
   "metadata": {
    "collapsed": false
   },
   "outputs": [
    {
     "name": "stdout",
     "output_type": "stream",
     "text": [
      "[(u'Juan', u'ORGANIZATION'), (u'Ramos', u'ORGANIZATION'), (u'Department', u'ORGANIZATION'), (u'of', u'ORGANIZATION'), (u'Computer', u'ORGANIZATION'), (u'Science', u'ORGANIZATION'), (u',', u'O'), (u'Rutgers', u'ORGANIZATION'), (u'University', u'ORGANIZATION'), (u',', u'O'), (u'23515', u'O'), (u'BPO', u'MISC'), (u'Way', u'MISC'), (u',', u'O'), (u'Piscataway', u'LOCATION'), (u',', u'O'), (u'NJ', u'LOCATION'), (u',', u'O'), (u'08855', u'O'), (u'JURAMOS', u'O'), (u'@', u'O'), (u'EDEN.RUTGERS.EDU', u'O')]\n"
     ]
    }
   ],
   "source": [
    "# Use another entity extractor\n",
    "\n",
    "\n",
    "from nltk.tag import StanfordNERTagger\n",
    "from nltk.tokenize import word_tokenize\n",
    "\n",
    "st = StanfordNERTagger('/Users/linwood/stanford-corenlp-full-2015-04-20/classifiers/english.conll.4class.distsim.crf.ser.gz',\n",
    "\t\t\t\t\t   '/Users/linwood/stanford-corenlp-full-2015-04-20/stanford-corenlp-3.5.2.jar',\n",
    "\t\t\t\t\t   encoding='utf-8')\n",
    "\n",
    "text = section\n",
    "tokenized_text = word_tokenize(section)\n",
    "classified_text = st.tag(tokenized_text)\n",
    "\n",
    "print(classified_text)"
   ]
  },
  {
   "cell_type": "code",
   "execution_count": null,
   "metadata": {
    "collapsed": true
   },
   "outputs": [],
   "source": []
  },
  {
   "cell_type": "code",
   "execution_count": null,
   "metadata": {
    "collapsed": false
   },
   "outputs": [],
   "source": [
    "from sklearn.feature_extraction.text import ENGLISH_STOP_WORDS\n",
    "\n",
    "print type(ENGLISH_STOP_WORDS)\n",
    "print type(nltk.corpus.stopwords.words('english'))"
   ]
  },
  {
   "cell_type": "code",
   "execution_count": null,
   "metadata": {
    "collapsed": false
   },
   "outputs": [],
   "source": [
    "a= [l for l in ENGLISH_STOP_WORDS]\n",
    "b = [l for l in nltk.corpus.stopwords.words('english')]\n",
    "\n",
    "len(set(a) & set(b))"
   ]
  },
  {
   "cell_type": "code",
   "execution_count": null,
   "metadata": {
    "collapsed": false
   },
   "outputs": [],
   "source": [
    "# Creates the json document format to store the files\n",
    "\n",
    "corpus = {}\n",
    "corpus[str(fileName)]={}\n",
    "corpus[str(fileName)]={'Title':title,'Abstract':abstract,'Entities':entities}\n",
    "corpus['p99.pdf']={'Title':\"Test title\",'Abstract':\"test abstract langauge.  Just adding test to make it longer\", 'Entities':\"Linwood Creekmore\"}\n",
    "\n",
    "corpus.keys()\n",
    "\n"
   ]
  },
  {
   "cell_type": "code",
   "execution_count": 25,
   "metadata": {
    "collapsed": false
   },
   "outputs": [
    {
     "data": {
      "text/plain": [
       "[(u'Juan', u'O'),\n",
       " (u'Ramos', u'ORGANIZATION'),\n",
       " (u'Department', u'ORGANIZATION'),\n",
       " (u'of', u'ORGANIZATION'),\n",
       " (u'Computer', u'ORGANIZATION'),\n",
       " (u'Science', u'ORGANIZATION'),\n",
       " (u',', u'O'),\n",
       " (u'Rutgers', u'ORGANIZATION'),\n",
       " (u'University', u'ORGANIZATION'),\n",
       " (u',', u'O'),\n",
       " (u'23515', u'O'),\n",
       " (u'BPO', u'O'),\n",
       " (u'Way', u'O'),\n",
       " (u',', u'O'),\n",
       " (u'Piscataway', u'LOCATION'),\n",
       " (u',', u'O'),\n",
       " (u'NJ', u'O'),\n",
       " (u',', u'O'),\n",
       " (u'08855', u'O'),\n",
       " (u'JURAMOS', u'O'),\n",
       " (u'@', u'O'),\n",
       " (u'EDEN.RUTGERS.EDU', u'O')]"
      ]
     },
     "execution_count": 25,
     "metadata": {},
     "output_type": "execute_result"
    }
   ],
   "source": [
    "from nltk.tag import StanfordNERTagger\n",
    "from nltk.tokenize import word_tokenize\n",
    "\n",
    "st = StanfordNERTagger('/Users/linwood/stanford-corenlp-full-2015-04-20/classifiers/english.muc.7class.distsim.crf.ser.gz',\n",
    "\t\t\t\t\t   '/Users/linwood/stanford-corenlp-full-2015-04-20/stanford-ner-3.5.2.jar',\n",
    "\t\t\t\t\t   encoding='utf-8')\n",
    "\n",
    "st.tag(word_tokenize(section))"
   ]
  },
  {
   "cell_type": "code",
   "execution_count": 31,
   "metadata": {
    "collapsed": false
   },
   "outputs": [],
   "source": [
    "from nltk.stem.wordnet import WordNetLemmatizer\n",
    "\n",
    "full = re.sub('[\\s]',\" \", document)"
   ]
  },
  {
   "cell_type": "code",
   "execution_count": 34,
   "metadata": {
    "collapsed": false
   },
   "outputs": [],
   "source": [
    "# from http://brandonrose.org/clustering\n",
    "\n",
    "\n",
    "\n",
    "from nltk.stem import SnowballStemmer\n",
    "from nltk.stem.wordnet import WordNetLemmatizer\n",
    "stemmer = SnowballStemmer(\"english\")\n",
    "lemmer = WordNetLemmatizer()\n",
    "wordnet_tags = ['n', 'v', 'a', 's', 'r']\n",
    "\n",
    "def tokenize_and_stem_n_lem(text):\n",
    "    # first tokenize by sentence, then by word to ensure that punctuation is caught as it's own token\n",
    "    tokens = [word for sent in nltk.sent_tokenize(text) for word in nltk.word_tokenize(sent)]\n",
    "    filtered_tokens = []\n",
    "    # filter out any tokens not containing letters (e.g., numeric tokens, raw punctuation)\n",
    "    for token in tokens:\n",
    "        if re.search('[a-zA-Z]', token):\n",
    "            filtered_tokens.append(token)\n",
    "    stems = [stemmer.stem(t) for t in filtered_tokens]\n",
    "    lems = [lemmer.lemmatize(l) for l in filtered_tokens]\n",
    "    \n",
    "    return stems,lems\n",
    "\n",
    "def tokenize_only(text):\n",
    "    # first tokenize by sentence, then by word to ensure that punctuation is caught as it's own token\n",
    "    tokens = [word.lower() for sent in nltk.sent_tokenize(text) for word in nltk.word_tokenize(sent)]\n",
    "    filtered_tokens = []\n",
    "    # filter out any tokens not containing letters (e.g., numeric tokens, raw punctuation)\n",
    "    for token in tokens:\n",
    "        if re.search('[a-zA-Z]', token):\n",
    "            filtered_tokens.append(token)\n",
    "    return filtered_tokens\n",
    "\n",
    "\n"
   ]
  },
  {
   "cell_type": "code",
   "execution_count": 40,
   "metadata": {
    "collapsed": false
   },
   "outputs": [
    {
     "ename": "NameError",
     "evalue": "name 'lems' is not defined",
     "output_type": "error",
     "traceback": [
      "\u001b[0;31m---------------------------------------------------------------------------\u001b[0m",
      "\u001b[0;31mNameError\u001b[0m                                 Traceback (most recent call last)",
      "\u001b[0;32m<ipython-input-40-eac574e28601>\u001b[0m in \u001b[0;36m<module>\u001b[0;34m()\u001b[0m\n\u001b[0;32m----> 1\u001b[0;31m \u001b[0mlems\u001b[0m\u001b[0;34m\u001b[0m\u001b[0m\n\u001b[0m",
      "\u001b[0;31mNameError\u001b[0m: name 'lems' is not defined"
     ]
    }
   ],
   "source": []
  },
  {
   "cell_type": "code",
   "execution_count": 42,
   "metadata": {
    "collapsed": false,
    "scrolled": true
   },
   "outputs": [
    {
     "data": {
      "text/plain": [
       "['In',\n",
       " 'this',\n",
       " 'paper',\n",
       " 'we',\n",
       " 'examine',\n",
       " 'the',\n",
       " u'result',\n",
       " 'of',\n",
       " 'applying',\n",
       " 'Term',\n",
       " 'Frequency',\n",
       " 'Inverse',\n",
       " 'Document',\n",
       " 'Frequency',\n",
       " 'TF-IDF',\n",
       " 'to',\n",
       " 'determine',\n",
       " 'what',\n",
       " u'word',\n",
       " 'in',\n",
       " 'a',\n",
       " 'corpus',\n",
       " 'of',\n",
       " u'document',\n",
       " 'might',\n",
       " 'be',\n",
       " 'more',\n",
       " 'favorable',\n",
       " 'to',\n",
       " 'use',\n",
       " 'in',\n",
       " 'a',\n",
       " 'query',\n",
       " 'As',\n",
       " 'the',\n",
       " 'term',\n",
       " 'implies',\n",
       " 'TF-IDF',\n",
       " 'calculates',\n",
       " u'value',\n",
       " 'for',\n",
       " 'each',\n",
       " 'word',\n",
       " 'in',\n",
       " 'a',\n",
       " 'document',\n",
       " 'through',\n",
       " 'an',\n",
       " 'inverse',\n",
       " 'proportion',\n",
       " 'of',\n",
       " 'the',\n",
       " 'frequency',\n",
       " 'of',\n",
       " 'the',\n",
       " 'word',\n",
       " 'in',\n",
       " 'a',\n",
       " 'particular',\n",
       " 'document',\n",
       " 'to',\n",
       " 'the',\n",
       " 'percentage',\n",
       " 'of',\n",
       " u'document',\n",
       " 'the',\n",
       " 'word',\n",
       " 'appears',\n",
       " 'in',\n",
       " 'Words',\n",
       " 'with',\n",
       " 'high',\n",
       " 'TF-IDF',\n",
       " u'number',\n",
       " 'strong',\n",
       " 'relationship',\n",
       " 'with',\n",
       " 'the',\n",
       " 'document',\n",
       " 'they',\n",
       " 'appear',\n",
       " 'in',\n",
       " 'suggesting',\n",
       " 'that',\n",
       " 'if',\n",
       " 'that',\n",
       " 'word',\n",
       " 'were',\n",
       " 'to',\n",
       " 'appear',\n",
       " 'in',\n",
       " 'a',\n",
       " 'query',\n",
       " 'the',\n",
       " 'document',\n",
       " 'could',\n",
       " 'be',\n",
       " 'of',\n",
       " 'interest',\n",
       " 'to',\n",
       " 'the',\n",
       " 'user',\n",
       " 'We',\n",
       " 'provide',\n",
       " 'evidence',\n",
       " 'that',\n",
       " 'this',\n",
       " 'simple',\n",
       " 'algorithm',\n",
       " 'efficiently',\n",
       " 'categorizes',\n",
       " 'relevant',\n",
       " u'word',\n",
       " 'that',\n",
       " 'can',\n",
       " 'enhance',\n",
       " 'query',\n",
       " 'retrieval',\n",
       " 'imply',\n",
       " 'a',\n",
       " 'Introduction',\n",
       " 'Before',\n",
       " 'proceeding',\n",
       " 'in',\n",
       " 'depth',\n",
       " 'into',\n",
       " 'our',\n",
       " u'experiment',\n",
       " 'it',\n",
       " 'is',\n",
       " 'useful',\n",
       " 'to',\n",
       " 'describe',\n",
       " 'the',\n",
       " 'nature',\n",
       " 'of',\n",
       " 'the',\n",
       " 'query',\n",
       " 'retrieval',\n",
       " 'problem',\n",
       " 'for',\n",
       " 'a',\n",
       " 'corpus',\n",
       " 'of',\n",
       " u'document',\n",
       " 'and',\n",
       " 'the',\n",
       " 'different',\n",
       " u'approach',\n",
       " 'used',\n",
       " 'to',\n",
       " 'solve',\n",
       " 'it',\n",
       " 'including',\n",
       " 'TF-IDF']"
      ]
     },
     "execution_count": 42,
     "metadata": {},
     "output_type": "execute_result"
    }
   ],
   "source": [
    "tokenize_and_stem_n_lem(abstract)[1];"
   ]
  },
  {
   "cell_type": "code",
   "execution_count": null,
   "metadata": {
    "collapsed": false
   },
   "outputs": [],
   "source": [
    "import requests, unicodedata\n",
    "text = urllib2.urlopen('http://www.constitution.org/cons/constitu.txt')\n",
    "constitution = requests.get('http://www.constitution.org/cons/constitu.txt')\n",
    "\n",
    "const = unicodedata.normalize('NFKD', constitution.text).encode('ascii','ignore')\n",
    "type(const)"
   ]
  },
  {
   "cell_type": "code",
   "execution_count": null,
   "metadata": {
    "collapsed": false
   },
   "outputs": [],
   "source": [
    "text = ' '.join(re.findall('[\\w]+',const))\n",
    "type(text)"
   ]
  },
  {
   "cell_type": "code",
   "execution_count": null,
   "metadata": {
    "collapsed": false
   },
   "outputs": [],
   "source": []
  },
  {
   "cell_type": "code",
   "execution_count": null,
   "metadata": {
    "collapsed": false
   },
   "outputs": [],
   "source": [
    "from os import path\n",
    "import numpy as np\n",
    "from scipy.misc import imread\n",
    "import matplotlib.pyplot as plt\n",
    "import requests\n",
    "from wordcloud import WordCloud, STOPWORDS, ImageColorGenerator\n",
    "\n",
    "def grey_color_func(word, font_size, position, orientation, random_state=None, **kwargs):\n",
    "    return \"hsl(0, 0%%, %d%%)\" % random.randint(60, 100)\n",
    "\n",
    "# read the mask / color image\n",
    "# taken from http://jirkavinse.deviantart.com/art/quot-Real-Life-quot-Alice-282261010\n",
    "from PIL import Image\n",
    "import requests\n",
    "from StringIO import StringIO\n",
    "\n",
    "response = requests.get(\"http://www.personal.psu.edu/sdh5174/Mario_png.png\")\n",
    "\n",
    "mario_coloring = np.array(Image.open(StringIO(response.content)))\n",
    "\n",
    "wc = WordCloud(background_color=\"white\", max_words=2000, mask=mario_coloring,\n",
    "               stopwords=STOPWORDS.add(\"said\"),\n",
    "               max_font_size=40, random_state=42)\n",
    "# generate word cloud\n",
    "wc.generate(text)\n",
    "\n",
    "# create coloring from image\n",
    "image_colors = ImageColorGenerator(mario_coloring)\n",
    "\n",
    "# show\n",
    "plt.imshow(wc)\n",
    "plt.axis(\"off\")\n",
    "plt.figure()\n",
    "# recolor wordcloud and show\n",
    "# we could also give color_func=image_colors directly in the constructor\n",
    "plt.imshow(wc.recolor(color_func=image_colors))\n",
    "plt.axis(\"off\")\n",
    "plt.figure()\n",
    "plt.imshow(mario_coloring, cmap=plt.cm.gray)\n",
    "plt.axis(\"off\")\n",
    "plt.show()"
   ]
  },
  {
   "cell_type": "code",
   "execution_count": null,
   "metadata": {
    "collapsed": true
   },
   "outputs": [],
   "source": [
    "from statsmodels.datasets import cancer\n",
    "import statsmodels.api as sm"
   ]
  },
  {
   "cell_type": "code",
   "execution_count": null,
   "metadata": {
    "collapsed": false
   },
   "outputs": [],
   "source": [
    "data = sm.datasets.get_rdataset(\"Duncan\", \"car\")"
   ]
  },
  {
   "cell_type": "code",
   "execution_count": null,
   "metadata": {
    "collapsed": false
   },
   "outputs": [],
   "source": [
    "data"
   ]
  },
  {
   "cell_type": "code",
   "execution_count": null,
   "metadata": {
    "collapsed": false
   },
   "outputs": [],
   "source": [
    "print data.__doc__"
   ]
  },
  {
   "cell_type": "code",
   "execution_count": null,
   "metadata": {
    "collapsed": false
   },
   "outputs": [],
   "source": [
    "sm."
   ]
  },
  {
   "cell_type": "code",
   "execution_count": null,
   "metadata": {
    "collapsed": false
   },
   "outputs": [],
   "source": [
    "import statsmodels.api as sm\n",
    "air = sm.datasets.get_rdataset(\"airquality\")"
   ]
  },
  {
   "cell_type": "code",
   "execution_count": null,
   "metadata": {
    "collapsed": false
   },
   "outputs": [],
   "source": [
    "type(air.data)"
   ]
  },
  {
   "cell_type": "code",
   "execution_count": null,
   "metadata": {
    "collapsed": false
   },
   "outputs": [],
   "source": [
    "air.data.describe()"
   ]
  },
  {
   "cell_type": "code",
   "execution_count": null,
   "metadata": {
    "collapsed": true
   },
   "outputs": [],
   "source": []
  }
 ],
 "metadata": {
  "kernelspec": {
   "display_name": "Python 2",
   "language": "python",
   "name": "python2"
  },
  "language_info": {
   "codemirror_mode": {
    "name": "ipython",
    "version": 2
   },
   "file_extension": ".py",
   "mimetype": "text/x-python",
   "name": "python",
   "nbconvert_exporter": "python",
   "pygments_lexer": "ipython2",
   "version": "2.7.10"
  }
 },
 "nbformat": 4,
 "nbformat_minor": 0
}
