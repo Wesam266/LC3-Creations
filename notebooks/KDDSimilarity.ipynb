{
 "cells": [
  {
   "cell_type": "code",
   "execution_count": 67,
   "metadata": {
    "collapsed": false
   },
   "outputs": [],
   "source": [
    "from os import walk\n",
    "import os\n",
    "import subprocess\n",
    "import sys\n",
    "import nltk\n",
    "from nltk.stem.wordnet import WordNetLemmatizer\n",
    "import time\n",
    "import json\n",
    "import re\n",
    "import urllib2\n",
    "import unicodedata\n",
    "\n",
    "wordnet_tags = ['n', 'v', 'a', 's', 'r']\n",
    "%matplotlib inline"
   ]
  },
  {
   "cell_type": "code",
   "execution_count": 403,
   "metadata": {
    "collapsed": false
   },
   "outputs": [],
   "source": [
    "path        = os.path.abspath(os.getcwd())\n",
    "TESTDIR     = os.path.normpath(os.path.join(os.path.expanduser(\"~\"),\"projects\",\"LC3-Creations\", \"examples\",\"KDDsample\"))\n",
    "\n",
    "corpus = {}\n",
    "\n",
    "start_time = time.time()\n",
    "for dirName, subdirList, fileList in walk(TESTDIR):\n",
    "        for fileName in fileList:\n",
    "            if fileName.startswith('p') and fileName.endswith('.pdf'):\n",
    "                a = unicode(subprocess.check_output(['pdf2txt.py',str(os.path.normpath(os.path.join(TESTDIR,fileName)))]),errors='ignore')\n",
    "                document = unicodedata.normalize('NFKD', a).encode('ascii','ignore')\n",
    "                # Getting title\n",
    "                title = re.findall(\"^[^\\\\n\\\\n]+\",document)[0]\n",
    "                \n",
    "                # Getting the abstract\n",
    "                abstract = re.findall (r'\\n\\n(Abstract|ABSTRACT)([^]]*)\\n\\n',document[:2000])[0]\n",
    "                if isinstance(abstract, tuple):\n",
    "                    abstract = re.sub('[\\s]',\" \",abstract[1])\n",
    "                else:\n",
    "                    abstract = re.sub('[\\s]',\" \",abstract)\n",
    "                    \n",
    "                # Extracts section with names and email addresses only\n",
    "                section  = re.findall (r'\\n\\n([^]]*)\\n\\n(Abstract|ABSTRACT)',document[:2000])\n",
    "\n",
    "                type(section[0][0])\n",
    "\n",
    "                if isinstance(section, list):\n",
    "                    section = re.sub('[\\s]',\" \",section[0][0])\n",
    "                else:\n",
    "                    section = re.sub('[\\s]',\" \",section)\n",
    "                section\n",
    "\n",
    "                # Code to extract entities from top section of pdf and store a relationship tree\n",
    "                tagged = nltk.pos_tag(nltk.word_tokenize(section))\n",
    "                entities = nltk.chunk.ne_chunk(tagged)\n",
    "                \n",
    "                # Creates the json document format to store the files\n",
    "                corpus[str(fileName)]={}\n",
    "                corpus[str(fileName)]={'Title':title,'Abstract':abstract,'Entities':entities}\n",
    "                \n",
    "                 \n",
    "    \n"
   ]
  },
  {
   "cell_type": "markdown",
   "metadata": {},
   "source": [
    "# This is a placeholder to test out the code"
   ]
  },
  {
   "cell_type": "code",
   "execution_count": 405,
   "metadata": {
    "collapsed": false
   },
   "outputs": [
    {
     "data": {
      "text/plain": [
       "{'p19.pdf': {'Abstract': '  We present a method called TIMEMACHINE to generate a time- line of events and relations for entities in a knowledge base. For example for an actor, such a timeline should show the most impor- tant professional and personal milestones and relationships such as works, awards, collaborations, and family relationships. We de- velop three orthogonal timeline quality criteria that an ideal time- line should satisfy: (1) it shows events that are relevant to the en- tity; (2) it shows events that are temporally diverse, so they dis- tribute along the time axis, avoiding visual crowding and allowing for easy user interaction, such as zooming in and out; and (3) it shows events that are content diverse, so they contain many differ- ent types of events (e.g., for an actor, it should show movies and marriages and awards, not just movies). We present an algorithm to generate such timelines for a given time period and screen size, based on submodular optimization and web-co-occurrence statis- tics with provable performance guarantees. A series of user stud- ies using Mechanical Turk shows that all three quality criteria are crucial to produce quality timelines and that our algorithm signi- cantly outperforms various baseline and state-of-the-art methods.',\n",
       "  'Entities': Tree('S', [Tree('GSP', [('TimeMachine', 'NN')]), (':', ':'), Tree('PERSON', [('Tim', 'NNP'), ('Althoff*', 'NNP')]), (',', ','), Tree('PERSON', [('Xin', 'NNP'), ('Luna', 'NNP'), ('Dong', 'NNP')]), (',', ','), Tree('PERSON', [('Kevin', 'NNP'), ('Murphy', 'NNP')]), (',', ','), Tree('PERSON', [('Safa', 'NNP'), ('Alai', 'NNP')]), (',', ','), Tree('PERSON', [('Van', 'NNP'), ('Dang', 'NNP')]), (',', ','), Tree('PERSON', [('Wei', 'NNP'), ('Zhang', 'NNP')]), ('*Computer', 'NNP'), ('Science', 'NNP'), ('Department', 'NNP'), (',', ','), Tree('ORGANIZATION', [('Stanford', 'NNP'), ('University', 'NNP')]), (',', ','), Tree('PERSON', [('Stanford', 'NNP')]), (',', ','), ('CA', 'NNP'), ('94305', 'CD'), ('Google', 'NNP'), (',', ','), ('1600', 'CD'), ('Amphitheatre', 'NNP'), ('Parkway', 'NNP'), (',', ','), Tree('PERSON', [('Mountain', 'NNP'), ('View', 'NNP')]), (',', ','), ('CA', 'NNP'), ('94043', 'CD'), ('*althoff', 'NNP'), ('@', 'NNP'), ('cs.stanford.edu', 'NN'), ('{', '('), ('lunadong', 'JJ'), (',', ','), ('kpmurphy', 'NN'), (',', ','), ('safa', 'NN'), (',', ','), ('vandang', 'NN'), (',', ','), ('weizh', 'NN'), ('}', ')'), ('@', 'NNP'), ('google.com', 'NN')]),\n",
       "  'Title': 'Timeline Generation for Knowledge-Base Entities'},\n",
       " 'p29.pdf': {'Abstract': ' This paper is concerned with the estimation of a local mea- sure of intrinsic dimensionality (ID) recently proposed by Houle. The local model can be regarded as an extension of Karger and Ruhls expansion dimension to a statistical set- ting in which the distribution of distances to a query point is modeled in terms of a continuous random variable. This form of intrinsic dimensionality can be particularly useful in search, classication, outlier detection, and other contexts in machine learning, databases, and data mining, as it has been shown to be equivalent to a measure of the discriminative power of similarity functions. Several estimators of local ID are proposed and analyzed based on extreme value theory, using maximum likelihood estimation (MLE), the method of moments (MoM), probability weighted moments (PWM), and regularly varying functions (RV). An experimental eval- uation is also provided, using both real and articial data.',\n",
       "  'Entities': Tree('S', [Tree('PERSON', [('Laurent', 'NNP')]), Tree('PERSON', [('Amsaleg', 'NNP'), ('Equipe', 'NNP'), ('LINKMEDIA', 'NNP')]), (',', ','), ('CNRS/IRISA', 'NNP'), Tree('PERSON', [('Rennes', 'NNP')]), (',', ','), Tree('GPE', [('France', 'NNP')]), Tree('PERSON', [('Campus', 'NNP'), ('Universitaire', 'NNP')]), ('de', 'IN'), ('Beaulieu', 'NNP'), ('35042', 'CD'), Tree('PERSON', [('Rennes', 'NNP'), ('Cedex', 'NNP')]), (',', ','), Tree('GPE', [('France', 'NNP')]), ('laurent.amsaleg', 'VBD'), ('@', 'NNP'), ('irisa.fr', 'NN'), Tree('PERSON', [('Stphane', 'NNP'), ('Girard', 'NNP'), ('Equipe', 'NNP'), ('MISTIS', 'NNP')]), (',', ','), Tree('ORGANIZATION', [('INRIA', 'NNP'), ('Grenoble', 'NNP')]), (',', ','), Tree('GPE', [('France', 'NNP'), ('Inovalle', 'NNP')]), (',', ','), ('655', 'CD'), (',', ','), Tree('ORGANIZATION', [('Montbonnot', 'NNP')]), ('38334', 'CD'), ('Saint-Ismier', 'NNP'), ('Cedex', 'NNP'), (',', ','), ('stephane.girard', 'RB'), ('@', 'JJ'), ('inria.fr', 'JJ'), Tree('GPE', [('France', 'NNP')]), ('Teddy', 'NNP'), Tree('PERSON', [('Furon', 'NNP'), ('Equipe', 'NNP'), ('LINKMEDIA', 'NNP')]), (',', ','), ('INRIA/IRISA', 'NNP'), Tree('PERSON', [('Rennes', 'NNP')]), (',', ','), Tree('GPE', [('France', 'NNP')]), Tree('PERSON', [('Campus', 'NNP'), ('Universitaire', 'NNP')]), ('de', 'IN'), ('Beaulieu', 'NNP'), ('35042', 'CD'), Tree('PERSON', [('Rennes', 'NNP'), ('Cedex', 'NNP')]), (',', ','), Tree('GPE', [('France', 'NNP')]), ('teddy.furon', 'NNP'), ('@', 'NNP'), ('inria.fr', 'VBZ'), ('Ken-ichi', 'NNP'), ('Kawarabayashi', 'NNP'), ('National', 'NNP'), ('Institute', 'NNP'), ('of', 'IN'), Tree('GPE', [('Informatics', 'NNP')]), (',', ','), Tree('GPE', [('Japan', 'NNP')]), ('2-1-2', 'CD'), ('Hitotsubashi', 'NNP'), (',', ','), ('Chiyoda-ku', 'NNP'), ('Tokyo', 'NNP'), ('101-8430', 'CD'), (',', ','), Tree('GPE', [('Japan', 'NNP')]), ('k_keniti', 'NNP'), ('@', 'NNP'), ('nii.ac.jp', 'JJ'), Tree('PERSON', [('Oussama', 'NNP'), ('Chelly', 'NNP'), ('National', 'NNP'), ('Institute', 'NNP')]), ('of', 'IN'), Tree('GPE', [('Informatics', 'NNP')]), (',', ','), Tree('GPE', [('Japan', 'NNP')]), ('2-1-2', 'CD'), ('Hitotsubashi', 'NNP'), (',', ','), ('Chiyoda-ku', 'NNP'), ('Tokyo', 'NNP'), ('101-8430', 'CD'), (',', ','), Tree('GPE', [('Japan', 'NNP')]), ('chelly', 'RB'), ('@', 'VBP'), ('nii.ac.jp', 'JJ'), Tree('PERSON', [('Michael', 'NNP'), ('E.', 'NNP'), ('Houle', 'NNP'), ('National', 'NNP'), ('Institute', 'NNP')]), ('of', 'IN'), Tree('GPE', [('Informatics', 'NNP')]), (',', ','), Tree('GPE', [('Japan', 'NNP')]), ('2-1-2', 'CD'), ('Hitotsubashi', 'NNP'), (',', ','), ('Chiyoda-ku', 'NNP'), ('Tokyo', 'NNP'), ('101-8430', 'CD'), (',', ','), Tree('GPE', [('Japan', 'NNP')]), ('meh', 'VBP'), ('@', 'NNP'), ('nii.ac.jp', 'NN'), Tree('PERSON', [('Michael', 'NNP'), ('Nett', 'NNP'), ('Google', 'NNP')]), (',', ','), Tree('GPE', [('Japan', 'NNP')]), ('6-10-1', 'CD'), ('Roppongi', 'NNP'), (',', ','), ('Minato-ku', 'NNP'), ('Tokyo', 'NNP'), ('106-6126', 'CD'), (',', ','), Tree('GPE', [('Japan', 'NNP')]), ('mnett', 'VBP'), ('@', 'NNP'), ('google.com', 'NN')]),\n",
       "  'Title': 'Estimating Local Intrinsic Dimensionality'},\n",
       " 'p39.pdf': {'Abstract': ' Microblogging platforms such as Twitter have been recently frequently used for detecting real-time events. The spatial component, as reected by user location, usually plays a key role in such systems. However, an often neglected source of spatial information are location mentions expressed in tweet contents. In this paper we demonstrate a novel visualization system for analyzing how Twitter users collectively talk about space and for uncovering correlations between geographical locations of Twitter users and the locations they tweet about. Our exploratory analysis is based on the development of a model of spatial information extraction and representation that allows building eective visual analytics framework for large scale datasets. We show visualization results based on half a year long dataset of Japanese tweets and a four months long collection of tweets from USA. The proposed system allows observing many space related aspects of tweet messages including the average scope of spatial attention of social media users and variances in spatial interest over time. The analytical framework we provide and the ndings we outline can be valuable for scientists from diverse research areas and for any users interested in geographical and social aspects of shared online data.',\n",
       "  'Entities': Tree('S', [('milien', 'NN'), Tree('PERSON', [('Antoine', 'NNP'), ('Kyoto', 'NNP'), ('Sangyo', 'NNP'), ('University', 'NNP')]), ('emilien.antoine', 'VBP'), ('@', 'NNP'), ('cc.kyoto-', 'JJ'), ('su.ac.jp', 'NN'), Tree('PERSON', [('Adam', 'NNP'), ('Jatowt', 'NNP'), ('Kyoto', 'NNP'), ('University', 'NNP')]), ('adam', 'VBP'), ('@', 'NNP'), ('dl.kuis.kyoto-', 'JJ'), ('u.ac.jp', 'JJ'), Tree('PERSON', [('Shoko', 'NNP'), ('Wakamiya', 'NNP'), ('Kyoto', 'NNP'), ('Sangyo', 'NNP'), ('University', 'NNP')]), ('shokow', 'VBD'), ('@', 'NNP'), ('cc.kyoto-', 'JJ'), ('su.ac.jp', 'NN'), Tree('PERSON', [('Yukiko', 'NNP'), ('Kawai', 'NNP'), ('Kyoto', 'NNP'), ('Sangyo', 'NNP'), ('University', 'NNP')]), ('kawai', 'NNP'), ('@', 'NNP'), ('cc.kyoto-su.ac.jp', 'NN')]),\n",
       "  'Title': 'Portraying Collective Spatial Attention in Twitter'},\n",
       " 'p59.pdf': {'Abstract': ' The evaluation of classiers in data streams is fundamen- tal so that poorly-performing models can be identied, and either improved or replaced by better-performing models. This is an increasingly relevant and important task as stream data is generated from more sources, in real-time, in large quantities, and is now considered the largest source of big data. Both researchers and practitioners need to be able to eectively evaluate the performance of the methods they em- ploy. However, there are major challenges for evaluation in a stream. Instances arriving in a data stream are usually time- dependent, and the underlying concept that they represent may evolve over time. Furthermore, the massive quantity of data also tends to exacerbate issues such as class imbalance. Current frameworks for evaluating streaming and online al- gorithms are able to give predictions in real-time, but as they use a prequential setting, they build only one model, and are thus not able to compute the statistical signicance of results in real-time. In this paper we propose a new evalu- ation methodology for big data streams. This methodology addresses unbalanced data streams, data where change oc- curs on dierent time scales, and the question of how to split the data between training and testing, over multiple models.',\n",
       "  'Entities': Tree('S', [Tree('PERSON', [('Albert', 'NNP')]), Tree('PERSON', [('Bifet', 'NNP'), ('Noahs', 'NNP'), ('Ark', 'NNP'), ('Lab', 'NNP')]), Tree('ORGANIZATION', [('HUAWEI', 'NNP'), ('Hong', 'NNP'), ('Kong', 'NNP')]), ('bifet.albert', 'VBP'), ('@', 'NNP'), ('huawei.com', 'NN'), Tree('PERSON', [('Jesse', 'NNP'), ('Read', 'NNP')]), ('HIIT', 'NNP'), Tree('PERSON', [('Aalto', 'NNP'), ('University', 'NNP'), ('Helsinki', 'NNP')]), (',', ','), Tree('GPE', [('Finland', 'NNP')]), ('jesse.read', 'NN'), ('@', 'NNP'), ('aalto', 'NN'), ('.', '.'), Tree('PERSON', [('Gianmarco', 'NNP'), ('De', 'NNP'), ('Francisci', 'NNP'), ('Morales', 'NNP'), ('Aalto', 'NNP'), ('University', 'NNP'), ('Helsinki', 'NNP')]), (',', ','), Tree('GPE', [('Finland', 'NNP')]), ('gdfm', 'NN'), ('@', 'NNP'), ('acm.org', 'VBZ'), Tree('PERSON', [('Geoff', 'NNP'), ('Holmes', 'NNP')]), (',', ','), Tree('PERSON', [('Bernhard', 'NNP'), ('Pfahringer', 'NNP'), ('University', 'NNP')]), ('of', 'IN'), Tree('ORGANIZATION', [('Waikato', 'NNP'), ('Hamilton', 'NNP')]), (',', ','), Tree('GPE', [('New', 'NNP'), ('Zealand', 'NNP')]), ('{', '('), ('geo', 'NN'), (',', ','), ('bernhard', 'NN'), ('}', ')'), ('@', 'CD'), ('waikato.ac.nz', 'NNS')]),\n",
       "  'Title': 'Efcient Online Evaluation of Big Data Stream Classiers'},\n",
       " 'ptest.pdf': {'Abstract': '   In this paper, we examine the results of applying  Term  Frequency  Inverse  Document  Frequency  (TF-IDF) to determine what words in a corpus of  documents might be more favorable to use in a  query.    As  the  term implies, TF-IDF  calculates  values for each word in a document through an  inverse proportion of the frequency of the word  in  a  particular  document  to  the  percentage  of  documents  the  word  appears  in.    Words  with  high  TF-IDF  numbers  strong  relationship  with  the  document  they  appear  in,  suggesting that if that word were to appear in a  query, the document could  be  of interest to the  user.    We  provide  evidence  that  this  simple  algorithm  efficiently  categorizes  relevant  words  that can enhance query retrieval.   imply   a   1.  Introduction  Before  proceeding  in  depth  into  our  experiments,  it  is  useful  to  describe  the  nature  of  the  query  retrieval  problem  for  a  corpus  of  documents  and  the  different  approaches used to solve it, including TF-IDF. ',\n",
       "  'Entities': Tree('S', [Tree('PERSON', [('Juan', 'NNP')]), Tree('PERSON', [('Ramos', 'NNP'), ('Department', 'NNP')]), ('of', 'IN'), Tree('ORGANIZATION', [('Computer', 'NNP'), ('Science', 'NNP')]), (',', ','), Tree('ORGANIZATION', [('Rutgers', 'NNP'), ('University', 'NNP')]), (',', ','), ('23515', 'CD'), Tree('ORGANIZATION', [('BPO', 'NNP'), ('Way', 'NNP')]), (',', ','), Tree('GPE', [('Piscataway', 'NNP')]), (',', ','), Tree('ORGANIZATION', [('NJ', 'NNP')]), (',', ','), ('08855', 'CD'), Tree('ORGANIZATION', [('JURAMOS', 'NNP')]), ('@', 'NNP'), ('EDEN.RUTGERS.EDU', 'NNP')]),\n",
       "  'Title': 'Using TF-IDF to Determine Word Relevance in Document Queries '}}"
      ]
     },
     "execution_count": 405,
     "metadata": {},
     "output_type": "execute_result"
    }
   ],
   "source": [
    "corpus"
   ]
  },
  {
   "cell_type": "code",
   "execution_count": 338,
   "metadata": {
    "collapsed": false
   },
   "outputs": [
    {
     "data": {
      "text/plain": [
       "'Timeline Generation for Knowledge-Base Entities\\n\\nTimeMachine:\\n\\nTim Althoff*, Xin Luna Dong, Kevin Murphy, Safa Alai, Van Dang, Wei Zhang\\n\\n*Computer Science Department, Stanford University, Stanford, CA 94305\\n\\nGoogle, 1600 Amphitheatre Parkway, Mountain View, CA 94043\\n\\n*althoff@cs.stanford.edu {lunadong, kpmurphy, safa, vandang, weizh}@google.com\\n\\nABSTRACT\\n\\nWe present a method called TIMEMACHINE to generate a time-\\nline of events and relations for entities in a knowledge base. For\\nexample for an actor, such a timeline should show the most impor-\\ntant professional and personal milestones and relationships such as\\nworks, awards, collaborations, and family relationships. We de-\\nvelop three orthogonal timeline quality criteria that an ideal time-\\nline should satisfy: (1) it shows events that are relevant to the en-\\ntity; (2) it shows events that are temporally diverse, so they dis-\\ntribute along the time axis, avoiding visual crowding and allowing\\nfor easy user interaction, such as zooming in and out; and (3) it\\nshows events that are content diverse, so they contain many differ-\\nent types of events (e.g., for an actor, it should show movies and\\nmarriages and awards, not just movies). We present an algorithm\\nto generate such timelines for a given time period and screen size,\\nbased on submodular optimization and web-co-occurrence statis-\\ntics with provable performance guarantees. A series of user stud-\\nies using Mechanical Turk shows that all three quality criteria are\\ncrucial to produce quality timelines and that our algorithm signi-\\ncantly outperforms various baseline and state-of-the-art methods.\\n\\nCategories and Subject Descriptors: H.2.8 [Database Manage-\\nment]: Database applicationsData mining\\nGeneral Terms: Algorithms, Experimentation.\\nKeywords: Summarization, Timeline, Knowledge Base, Submod-\\nular Optimization.\\n\\n1.\\n\\nINTRODUCTION\\n\\nAs the web and other technological advancements continue to\\nbring down barriers for creation and distribution of information,\\nrelevant information is often buried in an avalanche of data, and\\nlocating it has become increasingly difcult [30]. Search engines\\nhave attempted to address this challenge [4], but the volume and\\ndiversity of results can still be overwhelming, even for simple en-\\ntity queries [31]. In many such cases, for instance when searching\\nfor a person or organization, an overview of the most important\\nevents in an organized and readable format would serve users bet-\\nter, ideally with interactive features to enable fu'"
      ]
     },
     "execution_count": 338,
     "metadata": {},
     "output_type": "execute_result"
    }
   ],
   "source": [
    "# Convert document from unicode to string \n",
    "\n",
    "import unicodedata\n",
    "document = unicodedata.normalize('NFKD', a).encode('ascii','ignore')\n",
    "document[:2500]"
   ]
  },
  {
   "cell_type": "code",
   "execution_count": 388,
   "metadata": {
    "collapsed": false
   },
   "outputs": [
    {
     "data": {
      "text/plain": [
       "'  We present a method called TIMEMACHINE to generate a time- line of events and relations for entities in a knowledge base. For example for an actor, such a timeline should show the most impor- tant professional and personal milestones and relationships such as works, awards, collaborations, and family relationships. We de- velop three orthogonal timeline quality criteria that an ideal time- line should satisfy: (1) it shows events that are relevant to the en- tity; (2) it shows events that are temporally diverse, so they dis- tribute along the time axis, avoiding visual crowding and allowing for easy user interaction, such as zooming in and out; and (3) it shows events that are content diverse, so they contain many differ- ent types of events (e.g., for an actor, it should show movies and marriages and awards, not just movies). We present an algorithm to generate such timelines for a given time period and screen size, based on submodular optimization and web-co-occurrence statis- tics with provable performance guarantees. A series of user stud- ies using Mechanical Turk shows that all three quality criteria are crucial to produce quality timelines and that our algorithm signi- cantly outperforms various baseline and state-of-the-art methods.'"
      ]
     },
     "execution_count": 388,
     "metadata": {},
     "output_type": "execute_result"
    }
   ],
   "source": [
    "# Getting title\n",
    "title = re.findall(\"^[^\\\\n\\\\n]+\",document)[0]\n",
    "title\n",
    "\n",
    "# Getting the abstract\n",
    "abstract = re.findall (r'\\n\\n(Abstract|ABSTRACT)([^]]*)\\n\\n',document[:2000])[0]\n",
    "\n",
    "if isinstance(abstract, tuple):\n",
    "    abstract = re.sub('[\\s]',\" \",abstract[1])\n",
    "else:\n",
    "    abstract = re.sub('[\\s]',\" \",abstract)\n",
    "abstract"
   ]
  },
  {
   "cell_type": "code",
   "execution_count": 401,
   "metadata": {
    "collapsed": false
   },
   "outputs": [
    {
     "data": {
      "text/plain": [
       "'TimeMachine:  Tim Althoff*, Xin Luna Dong, Kevin Murphy, Safa Alai, Van Dang, Wei Zhang  *Computer Science Department, Stanford University, Stanford, CA 94305  Google, 1600 Amphitheatre Parkway, Mountain View, CA 94043  *althoff@cs.stanford.edu {lunadong, kpmurphy, safa, vandang, weizh}@google.com'"
      ]
     },
     "execution_count": 401,
     "metadata": {},
     "output_type": "execute_result"
    }
   ],
   "source": [
    "# Extracts section with names and email addresses only\n",
    "\n",
    "section  = re.findall (r'\\n\\n([^]]*)\\n\\n(Abstract|ABSTRACT)',document[:2000])\n",
    "\n",
    "type(section[0][0])\n",
    "\n",
    "if isinstance(section, list):\n",
    "    section = re.sub('[\\s]',\" \",section[0][0])\n",
    "else:\n",
    "    section = re.sub('[\\s]',\" \",section)\n",
    "section\n"
   ]
  },
  {
   "cell_type": "code",
   "execution_count": 384,
   "metadata": {
    "collapsed": false
   },
   "outputs": [
    {
     "name": "stdout",
     "output_type": "stream",
     "text": [
      "We got it RIGHT\n"
     ]
    }
   ],
   "source": [
    "test = re.findall (r'\\n\\n([^]]+)\\n\\n(Abstract|ABSTRACT)',document[:2000] )\n",
    "\n",
    "if isinstance(test, str):\n",
    "    print \"Wow\"\n",
    "elif isinstance (test,int):\n",
    "    print \"I'm surprised!\"\n",
    "\n",
    "elif  isinstance (test,list):\n",
    "    print \"We got it RIGHT!\"\n",
    "\n",
    "else:\n",
    "    print \"Nothing fits\"\n"
   ]
  },
  {
   "cell_type": "code",
   "execution_count": 402,
   "metadata": {
    "collapsed": false
   },
   "outputs": [
    {
     "data": {
      "image/png": "[encoded data removed]",
      "text/plain": [
       "Tree('S', [Tree('GSP', [('TimeMachine', 'NN')]), (':', ':'), Tree('PERSON', [('Tim', 'NNP'), ('Althoff*', 'NNP')]), (',', ','), Tree('PERSON', [('Xin', 'NNP'), ('Luna', 'NNP'), ('Dong', 'NNP')]), (',', ','), Tree('PERSON', [('Kevin', 'NNP'), ('Murphy', 'NNP')]), (',', ','), Tree('PERSON', [('Safa', 'NNP'), ('Alai', 'NNP')]), (',', ','), Tree('PERSON', [('Van', 'NNP'), ('Dang', 'NNP')]), (',', ','), Tree('PERSON', [('Wei', 'NNP'), ('Zhang', 'NNP')]), ('*Computer', 'NNP'), ('Science', 'NNP'), ('Department', 'NNP'), (',', ','), Tree('ORGANIZATION', [('Stanford', 'NNP'), ('University', 'NNP')]), (',', ','), Tree('PERSON', [('Stanford', 'NNP')]), (',', ','), ('CA', 'NNP'), ('94305', 'CD'), ('Google', 'NNP'), (',', ','), ('1600', 'CD'), ('Amphitheatre', 'NNP'), ('Parkway', 'NNP'), (',', ','), Tree('PERSON', [('Mountain', 'NNP'), ('View', 'NNP')]), (',', ','), ('CA', 'NNP'), ('94043', 'CD'), ('*althoff', 'NNP'), ('@', 'NNP'), ('cs.stanford.edu', 'NN'), ('{', '('), ('lunadong', 'JJ'), (',', ','), ('kpmurphy', 'NN'), (',', ','), ('safa', 'NN'), (',', ','), ('vandang', 'NN'), (',', ','), ('weizh', 'NN'), ('}', ')'), ('@', 'NNP'), ('google.com', 'NN')])"
      ]
     },
     "execution_count": 402,
     "metadata": {},
     "output_type": "execute_result"
    }
   ],
   "source": [
    "# Code to extract entities from top section of pdf and store a relationship tree\n",
    "\n",
    "import nltk\n",
    "\n",
    "tagged = nltk.pos_tag(nltk.word_tokenize(section))\n",
    "entities = nltk.chunk.ne_chunk(tagged)\n",
    "entities"
   ]
  },
  {
   "cell_type": "code",
   "execution_count": 307,
   "metadata": {
    "collapsed": false
   },
   "outputs": [
    {
     "name": "stdout",
     "output_type": "stream",
     "text": [
      "<type 'frozenset'>\n",
      "<type 'list'>\n"
     ]
    }
   ],
   "source": [
    "from sklearn.feature_extraction.text import ENGLISH_STOP_WORDS\n",
    "\n",
    "print type(ENGLISH_STOP_WORDS)\n",
    "print type(nltk.corpus.stopwords.words('english'))"
   ]
  },
  {
   "cell_type": "code",
   "execution_count": 314,
   "metadata": {
    "collapsed": false
   },
   "outputs": [
    {
     "data": {
      "text/plain": [
       "118"
      ]
     },
     "execution_count": 314,
     "metadata": {},
     "output_type": "execute_result"
    }
   ],
   "source": [
    "a= [l for l in ENGLISH_STOP_WORDS]\n",
    "b = [l for l in nltk.corpus.stopwords.words('english')]\n",
    "\n",
    "len(set(a) & set(b))"
   ]
  },
  {
   "cell_type": "code",
   "execution_count": 301,
   "metadata": {
    "collapsed": false
   },
   "outputs": [
    {
     "data": {
      "text/plain": [
       "['ptest.pdf', 'p99.pdf']"
      ]
     },
     "execution_count": 301,
     "metadata": {},
     "output_type": "execute_result"
    }
   ],
   "source": [
    "# Creates the json document format to store the files\n",
    "\n",
    "corpus = {}\n",
    "corpus[str(fileName)]={}\n",
    "corpus[str(fileName)]={'Title':title,'Abstract':abstract,'Entities':entities}\n",
    "corpus['p99.pdf']={'Title':\"Test title\",'Abstract':\"test abstract langauge.  Just adding test to make it longer\", 'Entities':\"Linwood Creekmore\"}\n",
    "\n",
    "corpus.keys()\n",
    "\n"
   ]
  },
  {
   "cell_type": "code",
   "execution_count": null,
   "metadata": {
    "collapsed": false
   },
   "outputs": [],
   "source": []
  },
  {
   "cell_type": "code",
   "execution_count": 155,
   "metadata": {
    "collapsed": false
   },
   "outputs": [
    {
     "data": {
      "text/plain": [
       "str"
      ]
     },
     "execution_count": 155,
     "metadata": {},
     "output_type": "execute_result"
    }
   ],
   "source": [
    "import requests, unicodedata\n",
    "text = urllib2.urlopen('http://www.constitution.org/cons/constitu.txt')\n",
    "constitution = requests.get('http://www.constitution.org/cons/constitu.txt')\n",
    "\n",
    "const = unicodedata.normalize('NFKD', constitution.text).encode('ascii','ignore')\n",
    "type(const)"
   ]
  },
  {
   "cell_type": "code",
   "execution_count": 48,
   "metadata": {
    "collapsed": false
   },
   "outputs": [
    {
     "data": {
      "text/plain": [
       "str"
      ]
     },
     "execution_count": 48,
     "metadata": {},
     "output_type": "execute_result"
    }
   ],
   "source": [
    "text = ' '.join(re.findall('[\\w]+',const))\n",
    "type(text)"
   ]
  },
  {
   "cell_type": "code",
   "execution_count": 164,
   "metadata": {
    "collapsed": false
   },
   "outputs": [
    {
     "name": "stdout",
     "output_type": "stream",
     "text": [
      "<matplotlib.colorbar.Colorbar instance at 0x10c3d8998>\n"
     ]
    },
    {
     "data": {
      "image/png": "[encoded data removed]",
      "text/plain": [
       "<matplotlib.figure.Figure at 0x111815e50>"
      ]
     },
     "metadata": {},
     "output_type": "display_data"
    }
   ],
   "source": []
  },
  {
   "cell_type": "code",
   "execution_count": 156,
   "metadata": {
    "collapsed": false
   },
   "outputs": [
    {
     "ename": "TypeError",
     "evalue": "expected string or buffer",
     "output_type": "error",
     "traceback": [
      "\u001b[0;31m---------------------------------------------------------------------------\u001b[0m",
      "\u001b[0;31mTypeError\u001b[0m                                 Traceback (most recent call last)",
      "\u001b[0;32m<ipython-input-156-2f809ca6168c>\u001b[0m in \u001b[0;36m<module>\u001b[0;34m()\u001b[0m\n\u001b[1;32m     23\u001b[0m                max_font_size=40, random_state=42)\n\u001b[1;32m     24\u001b[0m \u001b[0;31m# generate word cloud\u001b[0m\u001b[0;34m\u001b[0m\u001b[0;34m\u001b[0m\u001b[0m\n\u001b[0;32m---> 25\u001b[0;31m \u001b[0mwc\u001b[0m\u001b[0;34m.\u001b[0m\u001b[0mgenerate\u001b[0m\u001b[0;34m(\u001b[0m\u001b[0mtext\u001b[0m\u001b[0;34m)\u001b[0m\u001b[0;34m\u001b[0m\u001b[0m\n\u001b[0m\u001b[1;32m     26\u001b[0m \u001b[0;34m\u001b[0m\u001b[0m\n\u001b[1;32m     27\u001b[0m \u001b[0;31m# create coloring from image\u001b[0m\u001b[0;34m\u001b[0m\u001b[0;34m\u001b[0m\u001b[0m\n",
      "\u001b[0;32m/usr/local/lib/python2.7/site-packages/wordcloud/wordcloud.pyc\u001b[0m in \u001b[0;36mgenerate\u001b[0;34m(self, text)\u001b[0m\n\u001b[1;32m    396\u001b[0m         \u001b[0mself\u001b[0m\u001b[0;34m\u001b[0m\u001b[0m\n\u001b[1;32m    397\u001b[0m         \"\"\"\n\u001b[0;32m--> 398\u001b[0;31m         \u001b[0;32mreturn\u001b[0m \u001b[0mself\u001b[0m\u001b[0;34m.\u001b[0m\u001b[0mgenerate_from_text\u001b[0m\u001b[0;34m(\u001b[0m\u001b[0mtext\u001b[0m\u001b[0;34m)\u001b[0m\u001b[0;34m\u001b[0m\u001b[0m\n\u001b[0m\u001b[1;32m    399\u001b[0m \u001b[0;34m\u001b[0m\u001b[0m\n\u001b[1;32m    400\u001b[0m     \u001b[0;32mdef\u001b[0m \u001b[0m_check_generated\u001b[0m\u001b[0;34m(\u001b[0m\u001b[0mself\u001b[0m\u001b[0;34m)\u001b[0m\u001b[0;34m:\u001b[0m\u001b[0;34m\u001b[0m\u001b[0m\n",
      "\u001b[0;32m/usr/local/lib/python2.7/site-packages/wordcloud/wordcloud.pyc\u001b[0m in \u001b[0;36mgenerate_from_text\u001b[0;34m(self, text)\u001b[0m\n\u001b[1;32m    381\u001b[0m         \u001b[0mself\u001b[0m\u001b[0;34m\u001b[0m\u001b[0m\n\u001b[1;32m    382\u001b[0m         \"\"\"\n\u001b[0;32m--> 383\u001b[0;31m         \u001b[0mself\u001b[0m\u001b[0;34m.\u001b[0m\u001b[0mprocess_text\u001b[0m\u001b[0;34m(\u001b[0m\u001b[0mtext\u001b[0m\u001b[0;34m)\u001b[0m\u001b[0;34m\u001b[0m\u001b[0m\n\u001b[0m\u001b[1;32m    384\u001b[0m         \u001b[0mself\u001b[0m\u001b[0;34m.\u001b[0m\u001b[0mfit_words\u001b[0m\u001b[0;34m(\u001b[0m\u001b[0mself\u001b[0m\u001b[0;34m.\u001b[0m\u001b[0mwords_\u001b[0m\u001b[0;34m)\u001b[0m\u001b[0;34m\u001b[0m\u001b[0m\n\u001b[1;32m    385\u001b[0m         \u001b[0;32mreturn\u001b[0m \u001b[0mself\u001b[0m\u001b[0;34m\u001b[0m\u001b[0m\n",
      "\u001b[0;32m/usr/local/lib/python2.7/site-packages/wordcloud/wordcloud.pyc\u001b[0m in \u001b[0;36mprocess_text\u001b[0;34m(self, text)\u001b[0m\n\u001b[1;32m    328\u001b[0m         flags = (re.UNICODE if sys.version < '3' and type(text) is unicode\n\u001b[1;32m    329\u001b[0m                  else 0)\n\u001b[0;32m--> 330\u001b[0;31m         \u001b[0;32mfor\u001b[0m \u001b[0mword\u001b[0m \u001b[0;32min\u001b[0m \u001b[0mre\u001b[0m\u001b[0;34m.\u001b[0m\u001b[0mfindall\u001b[0m\u001b[0;34m(\u001b[0m\u001b[0;34mr\"\\w[\\w']*\"\u001b[0m\u001b[0;34m,\u001b[0m \u001b[0mtext\u001b[0m\u001b[0;34m,\u001b[0m \u001b[0mflags\u001b[0m\u001b[0;34m=\u001b[0m\u001b[0mflags\u001b[0m\u001b[0;34m)\u001b[0m\u001b[0;34m:\u001b[0m\u001b[0;34m\u001b[0m\u001b[0m\n\u001b[0m\u001b[1;32m    331\u001b[0m             \u001b[0;32mif\u001b[0m \u001b[0mword\u001b[0m\u001b[0;34m.\u001b[0m\u001b[0misdigit\u001b[0m\u001b[0;34m(\u001b[0m\u001b[0;34m)\u001b[0m\u001b[0;34m:\u001b[0m\u001b[0;34m\u001b[0m\u001b[0m\n\u001b[1;32m    332\u001b[0m                 \u001b[0;32mcontinue\u001b[0m\u001b[0;34m\u001b[0m\u001b[0m\n",
      "\u001b[0;32m/Users/linwood/anaconda/lib/python2.7/re.pyc\u001b[0m in \u001b[0;36mfindall\u001b[0;34m(pattern, string, flags)\u001b[0m\n\u001b[1;32m    179\u001b[0m \u001b[0;34m\u001b[0m\u001b[0m\n\u001b[1;32m    180\u001b[0m     Empty matches are included in the result.\"\"\"\n\u001b[0;32m--> 181\u001b[0;31m     \u001b[0;32mreturn\u001b[0m \u001b[0m_compile\u001b[0m\u001b[0;34m(\u001b[0m\u001b[0mpattern\u001b[0m\u001b[0;34m,\u001b[0m \u001b[0mflags\u001b[0m\u001b[0;34m)\u001b[0m\u001b[0;34m.\u001b[0m\u001b[0mfindall\u001b[0m\u001b[0;34m(\u001b[0m\u001b[0mstring\u001b[0m\u001b[0;34m)\u001b[0m\u001b[0;34m\u001b[0m\u001b[0m\n\u001b[0m\u001b[1;32m    182\u001b[0m \u001b[0;34m\u001b[0m\u001b[0m\n\u001b[1;32m    183\u001b[0m \u001b[0;32mif\u001b[0m \u001b[0msys\u001b[0m\u001b[0;34m.\u001b[0m\u001b[0mhexversion\u001b[0m \u001b[0;34m>=\u001b[0m \u001b[0;36m0x02020000\u001b[0m\u001b[0;34m:\u001b[0m\u001b[0;34m\u001b[0m\u001b[0m\n",
      "\u001b[0;31mTypeError\u001b[0m: expected string or buffer"
     ]
    }
   ],
   "source": [
    "from os import path\n",
    "import numpy as np\n",
    "from scipy.misc import imread\n",
    "import matplotlib.pyplot as plt\n",
    "import requests\n",
    "from wordcloud import WordCloud, STOPWORDS, ImageColorGenerator\n",
    "\n",
    "def grey_color_func(word, font_size, position, orientation, random_state=None, **kwargs):\n",
    "    return \"hsl(0, 0%%, %d%%)\" % random.randint(60, 100)\n",
    "\n",
    "# read the mask / color image\n",
    "# taken from http://jirkavinse.deviantart.com/art/quot-Real-Life-quot-Alice-282261010\n",
    "from PIL import Image\n",
    "import requests\n",
    "from StringIO import StringIO\n",
    "\n",
    "response = requests.get(\"http://www.personal.psu.edu/sdh5174/Mario_png.png\")\n",
    "\n",
    "mario_coloring = np.array(Image.open(StringIO(response.content)))\n",
    "\n",
    "wc = WordCloud(background_color=\"white\", max_words=2000, mask=mario_coloring,\n",
    "               stopwords=STOPWORDS.add(\"said\"),\n",
    "               max_font_size=40, random_state=42)\n",
    "# generate word cloud\n",
    "wc.generate(text)\n",
    "\n",
    "# create coloring from image\n",
    "image_colors = ImageColorGenerator(mario_coloring)\n",
    "\n",
    "# show\n",
    "plt.imshow(wc)\n",
    "plt.axis(\"off\")\n",
    "plt.figure()\n",
    "# recolor wordcloud and show\n",
    "# we could also give color_func=image_colors directly in the constructor\n",
    "plt.imshow(wc.recolor(color_func=image_colors))\n",
    "plt.axis(\"off\")\n",
    "plt.figure()\n",
    "plt.imshow(mario_coloring, cmap=plt.cm.gray)\n",
    "plt.axis(\"off\")\n",
    "plt.show()"
   ]
  },
  {
   "cell_type": "code",
   "execution_count": 23,
   "metadata": {
    "collapsed": true
   },
   "outputs": [],
   "source": [
    "from statsmodels.datasets import cancer\n",
    "import statsmodels.api as sm"
   ]
  },
  {
   "cell_type": "code",
   "execution_count": 25,
   "metadata": {
    "collapsed": false
   },
   "outputs": [],
   "source": [
    "data = sm.datasets.get_rdataset(\"Duncan\", \"car\")"
   ]
  },
  {
   "cell_type": "code",
   "execution_count": 26,
   "metadata": {
    "collapsed": false
   },
   "outputs": [
    {
     "data": {
      "text/plain": [
       "<class 'statsmodels.datasets.utils.Dataset'>"
      ]
     },
     "execution_count": 26,
     "metadata": {},
     "output_type": "execute_result"
    }
   ],
   "source": [
    "data"
   ]
  },
  {
   "cell_type": "code",
   "execution_count": 28,
   "metadata": {
    "collapsed": false
   },
   "outputs": [
    {
     "name": "stdout",
     "output_type": "stream",
     "text": [
      "+----------+-------------------+\n",
      "| Duncan   | R Documentation   |\n",
      "+----------+-------------------+\n",
      "\n",
      "Duncan's Occupational Prestige Data\n",
      "-----------------------------------\n",
      "\n",
      "Description\n",
      "~~~~~~~~~~~\n",
      "\n",
      "The ``Duncan`` data frame has 45 rows and 4 columns. Data on the\n",
      "prestige and other characteristics of 45 U. S. occupations in 1950.\n",
      "\n",
      "Usage\n",
      "~~~~~\n",
      "\n",
      "::\n",
      "\n",
      "    Duncan\n",
      "\n",
      "Format\n",
      "~~~~~~\n",
      "\n",
      "This data frame contains the following columns:\n",
      "\n",
      "type\n",
      "    Type of occupation. A factor with the following levels: ``prof``,\n",
      "    professional and managerial; ``wc``, white-collar; ``bc``,\n",
      "    blue-collar.\n",
      "\n",
      "income\n",
      "    Percent of males in occupation earning $3500 or more in 1950.\n",
      "\n",
      "education\n",
      "    Percent of males in occupation in 1950 who were high-school\n",
      "    graduates.\n",
      "\n",
      "prestige\n",
      "    Percent of raters in NORC study rating occupation as excellent or\n",
      "    good in prestige.\n",
      "\n",
      "Source\n",
      "~~~~~~\n",
      "\n",
      "Duncan, O. D. (1961) A socioeconomic index for all occupations. In\n",
      "Reiss, A. J., Jr. (Ed.) *Occupations and Social Status.* Free Press\n",
      "[Table VI-1].\n",
      "\n",
      "References\n",
      "~~~~~~~~~~\n",
      "\n",
      "Fox, J. (2008) *Applied Regression Analysis and Generalized Linear\n",
      "Models*, Second Edition. Sage.\n",
      "\n",
      "Fox, J. and Weisberg, S. (2011) *An R Companion to Applied Regression*,\n",
      "Second Edition, Sage.\n",
      "\n"
     ]
    }
   ],
   "source": [
    "print data.__doc__"
   ]
  },
  {
   "cell_type": "code",
   "execution_count": 30,
   "metadata": {
    "collapsed": false
   },
   "outputs": [
    {
     "data": {
      "text/html": [
       "<div>\n",
       "<table border=\"1\" class=\"dataframe\">\n",
       "  <thead>\n",
       "    <tr style=\"text-align: right;\">\n",
       "      <th></th>\n",
       "      <th>type</th>\n",
       "      <th>income</th>\n",
       "      <th>education</th>\n",
       "      <th>prestige</th>\n",
       "    </tr>\n",
       "  </thead>\n",
       "  <tbody>\n",
       "    <tr>\n",
       "      <th>accountant</th>\n",
       "      <td>prof</td>\n",
       "      <td>62</td>\n",
       "      <td>86</td>\n",
       "      <td>82</td>\n",
       "    </tr>\n",
       "    <tr>\n",
       "      <th>pilot</th>\n",
       "      <td>prof</td>\n",
       "      <td>72</td>\n",
       "      <td>76</td>\n",
       "      <td>83</td>\n",
       "    </tr>\n",
       "    <tr>\n",
       "      <th>architect</th>\n",
       "      <td>prof</td>\n",
       "      <td>75</td>\n",
       "      <td>92</td>\n",
       "      <td>90</td>\n",
       "    </tr>\n",
       "    <tr>\n",
       "      <th>author</th>\n",
       "      <td>prof</td>\n",
       "      <td>55</td>\n",
       "      <td>90</td>\n",
       "      <td>76</td>\n",
       "    </tr>\n",
       "    <tr>\n",
       "      <th>chemist</th>\n",
       "      <td>prof</td>\n",
       "      <td>64</td>\n",
       "      <td>86</td>\n",
       "      <td>90</td>\n",
       "    </tr>\n",
       "    <tr>\n",
       "      <th>minister</th>\n",
       "      <td>prof</td>\n",
       "      <td>21</td>\n",
       "      <td>84</td>\n",
       "      <td>87</td>\n",
       "    </tr>\n",
       "    <tr>\n",
       "      <th>professor</th>\n",
       "      <td>prof</td>\n",
       "      <td>64</td>\n",
       "      <td>93</td>\n",
       "      <td>93</td>\n",
       "    </tr>\n",
       "    <tr>\n",
       "      <th>dentist</th>\n",
       "      <td>prof</td>\n",
       "      <td>80</td>\n",
       "      <td>100</td>\n",
       "      <td>90</td>\n",
       "    </tr>\n",
       "    <tr>\n",
       "      <th>reporter</th>\n",
       "      <td>wc</td>\n",
       "      <td>67</td>\n",
       "      <td>87</td>\n",
       "      <td>52</td>\n",
       "    </tr>\n",
       "    <tr>\n",
       "      <th>engineer</th>\n",
       "      <td>prof</td>\n",
       "      <td>72</td>\n",
       "      <td>86</td>\n",
       "      <td>88</td>\n",
       "    </tr>\n",
       "    <tr>\n",
       "      <th>undertaker</th>\n",
       "      <td>prof</td>\n",
       "      <td>42</td>\n",
       "      <td>74</td>\n",
       "      <td>57</td>\n",
       "    </tr>\n",
       "    <tr>\n",
       "      <th>lawyer</th>\n",
       "      <td>prof</td>\n",
       "      <td>76</td>\n",
       "      <td>98</td>\n",
       "      <td>89</td>\n",
       "    </tr>\n",
       "    <tr>\n",
       "      <th>physician</th>\n",
       "      <td>prof</td>\n",
       "      <td>76</td>\n",
       "      <td>97</td>\n",
       "      <td>97</td>\n",
       "    </tr>\n",
       "    <tr>\n",
       "      <th>welfare.worker</th>\n",
       "      <td>prof</td>\n",
       "      <td>41</td>\n",
       "      <td>84</td>\n",
       "      <td>59</td>\n",
       "    </tr>\n",
       "    <tr>\n",
       "      <th>teacher</th>\n",
       "      <td>prof</td>\n",
       "      <td>48</td>\n",
       "      <td>91</td>\n",
       "      <td>73</td>\n",
       "    </tr>\n",
       "    <tr>\n",
       "      <th>conductor</th>\n",
       "      <td>wc</td>\n",
       "      <td>76</td>\n",
       "      <td>34</td>\n",
       "      <td>38</td>\n",
       "    </tr>\n",
       "    <tr>\n",
       "      <th>contractor</th>\n",
       "      <td>prof</td>\n",
       "      <td>53</td>\n",
       "      <td>45</td>\n",
       "      <td>76</td>\n",
       "    </tr>\n",
       "    <tr>\n",
       "      <th>factory.owner</th>\n",
       "      <td>prof</td>\n",
       "      <td>60</td>\n",
       "      <td>56</td>\n",
       "      <td>81</td>\n",
       "    </tr>\n",
       "    <tr>\n",
       "      <th>store.manager</th>\n",
       "      <td>prof</td>\n",
       "      <td>42</td>\n",
       "      <td>44</td>\n",
       "      <td>45</td>\n",
       "    </tr>\n",
       "    <tr>\n",
       "      <th>banker</th>\n",
       "      <td>prof</td>\n",
       "      <td>78</td>\n",
       "      <td>82</td>\n",
       "      <td>92</td>\n",
       "    </tr>\n",
       "    <tr>\n",
       "      <th>bookkeeper</th>\n",
       "      <td>wc</td>\n",
       "      <td>29</td>\n",
       "      <td>72</td>\n",
       "      <td>39</td>\n",
       "    </tr>\n",
       "    <tr>\n",
       "      <th>mail.carrier</th>\n",
       "      <td>wc</td>\n",
       "      <td>48</td>\n",
       "      <td>55</td>\n",
       "      <td>34</td>\n",
       "    </tr>\n",
       "    <tr>\n",
       "      <th>insurance.agent</th>\n",
       "      <td>wc</td>\n",
       "      <td>55</td>\n",
       "      <td>71</td>\n",
       "      <td>41</td>\n",
       "    </tr>\n",
       "    <tr>\n",
       "      <th>store.clerk</th>\n",
       "      <td>wc</td>\n",
       "      <td>29</td>\n",
       "      <td>50</td>\n",
       "      <td>16</td>\n",
       "    </tr>\n",
       "    <tr>\n",
       "      <th>carpenter</th>\n",
       "      <td>bc</td>\n",
       "      <td>21</td>\n",
       "      <td>23</td>\n",
       "      <td>33</td>\n",
       "    </tr>\n",
       "    <tr>\n",
       "      <th>electrician</th>\n",
       "      <td>bc</td>\n",
       "      <td>47</td>\n",
       "      <td>39</td>\n",
       "      <td>53</td>\n",
       "    </tr>\n",
       "    <tr>\n",
       "      <th>RR.engineer</th>\n",
       "      <td>bc</td>\n",
       "      <td>81</td>\n",
       "      <td>28</td>\n",
       "      <td>67</td>\n",
       "    </tr>\n",
       "    <tr>\n",
       "      <th>machinist</th>\n",
       "      <td>bc</td>\n",
       "      <td>36</td>\n",
       "      <td>32</td>\n",
       "      <td>57</td>\n",
       "    </tr>\n",
       "    <tr>\n",
       "      <th>auto.repairman</th>\n",
       "      <td>bc</td>\n",
       "      <td>22</td>\n",
       "      <td>22</td>\n",
       "      <td>26</td>\n",
       "    </tr>\n",
       "    <tr>\n",
       "      <th>plumber</th>\n",
       "      <td>bc</td>\n",
       "      <td>44</td>\n",
       "      <td>25</td>\n",
       "      <td>29</td>\n",
       "    </tr>\n",
       "    <tr>\n",
       "      <th>gas.stn.attendant</th>\n",
       "      <td>bc</td>\n",
       "      <td>15</td>\n",
       "      <td>29</td>\n",
       "      <td>10</td>\n",
       "    </tr>\n",
       "    <tr>\n",
       "      <th>coal.miner</th>\n",
       "      <td>bc</td>\n",
       "      <td>7</td>\n",
       "      <td>7</td>\n",
       "      <td>15</td>\n",
       "    </tr>\n",
       "    <tr>\n",
       "      <th>streetcar.motorman</th>\n",
       "      <td>bc</td>\n",
       "      <td>42</td>\n",
       "      <td>26</td>\n",
       "      <td>19</td>\n",
       "    </tr>\n",
       "    <tr>\n",
       "      <th>taxi.driver</th>\n",
       "      <td>bc</td>\n",
       "      <td>9</td>\n",
       "      <td>19</td>\n",
       "      <td>10</td>\n",
       "    </tr>\n",
       "    <tr>\n",
       "      <th>truck.driver</th>\n",
       "      <td>bc</td>\n",
       "      <td>21</td>\n",
       "      <td>15</td>\n",
       "      <td>13</td>\n",
       "    </tr>\n",
       "    <tr>\n",
       "      <th>machine.operator</th>\n",
       "      <td>bc</td>\n",
       "      <td>21</td>\n",
       "      <td>20</td>\n",
       "      <td>24</td>\n",
       "    </tr>\n",
       "    <tr>\n",
       "      <th>barber</th>\n",
       "      <td>bc</td>\n",
       "      <td>16</td>\n",
       "      <td>26</td>\n",
       "      <td>20</td>\n",
       "    </tr>\n",
       "    <tr>\n",
       "      <th>bartender</th>\n",
       "      <td>bc</td>\n",
       "      <td>16</td>\n",
       "      <td>28</td>\n",
       "      <td>7</td>\n",
       "    </tr>\n",
       "    <tr>\n",
       "      <th>shoe.shiner</th>\n",
       "      <td>bc</td>\n",
       "      <td>9</td>\n",
       "      <td>17</td>\n",
       "      <td>3</td>\n",
       "    </tr>\n",
       "    <tr>\n",
       "      <th>cook</th>\n",
       "      <td>bc</td>\n",
       "      <td>14</td>\n",
       "      <td>22</td>\n",
       "      <td>16</td>\n",
       "    </tr>\n",
       "    <tr>\n",
       "      <th>soda.clerk</th>\n",
       "      <td>bc</td>\n",
       "      <td>12</td>\n",
       "      <td>30</td>\n",
       "      <td>6</td>\n",
       "    </tr>\n",
       "    <tr>\n",
       "      <th>watchman</th>\n",
       "      <td>bc</td>\n",
       "      <td>17</td>\n",
       "      <td>25</td>\n",
       "      <td>11</td>\n",
       "    </tr>\n",
       "    <tr>\n",
       "      <th>janitor</th>\n",
       "      <td>bc</td>\n",
       "      <td>7</td>\n",
       "      <td>20</td>\n",
       "      <td>8</td>\n",
       "    </tr>\n",
       "    <tr>\n",
       "      <th>policeman</th>\n",
       "      <td>bc</td>\n",
       "      <td>34</td>\n",
       "      <td>47</td>\n",
       "      <td>41</td>\n",
       "    </tr>\n",
       "    <tr>\n",
       "      <th>waiter</th>\n",
       "      <td>bc</td>\n",
       "      <td>8</td>\n",
       "      <td>32</td>\n",
       "      <td>10</td>\n",
       "    </tr>\n",
       "  </tbody>\n",
       "</table>\n",
       "</div>"
      ],
      "text/plain": [
       "                    type  income  education  prestige\n",
       "accountant          prof      62         86        82\n",
       "pilot               prof      72         76        83\n",
       "architect           prof      75         92        90\n",
       "author              prof      55         90        76\n",
       "chemist             prof      64         86        90\n",
       "minister            prof      21         84        87\n",
       "professor           prof      64         93        93\n",
       "dentist             prof      80        100        90\n",
       "reporter              wc      67         87        52\n",
       "engineer            prof      72         86        88\n",
       "undertaker          prof      42         74        57\n",
       "lawyer              prof      76         98        89\n",
       "physician           prof      76         97        97\n",
       "welfare.worker      prof      41         84        59\n",
       "teacher             prof      48         91        73\n",
       "conductor             wc      76         34        38\n",
       "contractor          prof      53         45        76\n",
       "factory.owner       prof      60         56        81\n",
       "store.manager       prof      42         44        45\n",
       "banker              prof      78         82        92\n",
       "bookkeeper            wc      29         72        39\n",
       "mail.carrier          wc      48         55        34\n",
       "insurance.agent       wc      55         71        41\n",
       "store.clerk           wc      29         50        16\n",
       "carpenter             bc      21         23        33\n",
       "electrician           bc      47         39        53\n",
       "RR.engineer           bc      81         28        67\n",
       "machinist             bc      36         32        57\n",
       "auto.repairman        bc      22         22        26\n",
       "plumber               bc      44         25        29\n",
       "gas.stn.attendant     bc      15         29        10\n",
       "coal.miner            bc       7          7        15\n",
       "streetcar.motorman    bc      42         26        19\n",
       "taxi.driver           bc       9         19        10\n",
       "truck.driver          bc      21         15        13\n",
       "machine.operator      bc      21         20        24\n",
       "barber                bc      16         26        20\n",
       "bartender             bc      16         28         7\n",
       "shoe.shiner           bc       9         17         3\n",
       "cook                  bc      14         22        16\n",
       "soda.clerk            bc      12         30         6\n",
       "watchman              bc      17         25        11\n",
       "janitor               bc       7         20         8\n",
       "policeman             bc      34         47        41\n",
       "waiter                bc       8         32        10"
      ]
     },
     "execution_count": 30,
     "metadata": {},
     "output_type": "execute_result"
    }
   ],
   "source": [
    "sm."
   ]
  },
  {
   "cell_type": "code",
   "execution_count": 34,
   "metadata": {
    "collapsed": false
   },
   "outputs": [],
   "source": [
    "import statsmodels.api as sm\n",
    "air = sm.datasets.get_rdataset(\"airquality\")"
   ]
  },
  {
   "cell_type": "code",
   "execution_count": 36,
   "metadata": {
    "collapsed": false
   },
   "outputs": [
    {
     "data": {
      "text/plain": [
       "pandas.core.frame.DataFrame"
      ]
     },
     "execution_count": 36,
     "metadata": {},
     "output_type": "execute_result"
    }
   ],
   "source": [
    "type(air.data)"
   ]
  },
  {
   "cell_type": "code",
   "execution_count": 37,
   "metadata": {
    "collapsed": false
   },
   "outputs": [
    {
     "data": {
      "text/html": [
       "<div>\n",
       "<table border=\"1\" class=\"dataframe\">\n",
       "  <thead>\n",
       "    <tr style=\"text-align: right;\">\n",
       "      <th></th>\n",
       "      <th>Ozone</th>\n",
       "      <th>Solar.R</th>\n",
       "      <th>Wind</th>\n",
       "      <th>Temp</th>\n",
       "      <th>Month</th>\n",
       "      <th>Day</th>\n",
       "    </tr>\n",
       "  </thead>\n",
       "  <tbody>\n",
       "    <tr>\n",
       "      <th>count</th>\n",
       "      <td>116.000000</td>\n",
       "      <td>146.000000</td>\n",
       "      <td>153.000000</td>\n",
       "      <td>153.000000</td>\n",
       "      <td>153.000000</td>\n",
       "      <td>153.000000</td>\n",
       "    </tr>\n",
       "    <tr>\n",
       "      <th>mean</th>\n",
       "      <td>42.129310</td>\n",
       "      <td>185.931507</td>\n",
       "      <td>9.957516</td>\n",
       "      <td>77.882353</td>\n",
       "      <td>6.993464</td>\n",
       "      <td>15.803922</td>\n",
       "    </tr>\n",
       "    <tr>\n",
       "      <th>std</th>\n",
       "      <td>32.987885</td>\n",
       "      <td>90.058422</td>\n",
       "      <td>3.523001</td>\n",
       "      <td>9.465270</td>\n",
       "      <td>1.416522</td>\n",
       "      <td>8.864520</td>\n",
       "    </tr>\n",
       "    <tr>\n",
       "      <th>min</th>\n",
       "      <td>1.000000</td>\n",
       "      <td>7.000000</td>\n",
       "      <td>1.700000</td>\n",
       "      <td>56.000000</td>\n",
       "      <td>5.000000</td>\n",
       "      <td>1.000000</td>\n",
       "    </tr>\n",
       "    <tr>\n",
       "      <th>25%</th>\n",
       "      <td>18.000000</td>\n",
       "      <td>115.750000</td>\n",
       "      <td>7.400000</td>\n",
       "      <td>72.000000</td>\n",
       "      <td>6.000000</td>\n",
       "      <td>8.000000</td>\n",
       "    </tr>\n",
       "    <tr>\n",
       "      <th>50%</th>\n",
       "      <td>31.500000</td>\n",
       "      <td>205.000000</td>\n",
       "      <td>9.700000</td>\n",
       "      <td>79.000000</td>\n",
       "      <td>7.000000</td>\n",
       "      <td>16.000000</td>\n",
       "    </tr>\n",
       "    <tr>\n",
       "      <th>75%</th>\n",
       "      <td>63.250000</td>\n",
       "      <td>258.750000</td>\n",
       "      <td>11.500000</td>\n",
       "      <td>85.000000</td>\n",
       "      <td>8.000000</td>\n",
       "      <td>23.000000</td>\n",
       "    </tr>\n",
       "    <tr>\n",
       "      <th>max</th>\n",
       "      <td>168.000000</td>\n",
       "      <td>334.000000</td>\n",
       "      <td>20.700000</td>\n",
       "      <td>97.000000</td>\n",
       "      <td>9.000000</td>\n",
       "      <td>31.000000</td>\n",
       "    </tr>\n",
       "  </tbody>\n",
       "</table>\n",
       "</div>"
      ],
      "text/plain": [
       "            Ozone     Solar.R        Wind        Temp       Month         Day\n",
       "count  116.000000  146.000000  153.000000  153.000000  153.000000  153.000000\n",
       "mean    42.129310  185.931507    9.957516   77.882353    6.993464   15.803922\n",
       "std     32.987885   90.058422    3.523001    9.465270    1.416522    8.864520\n",
       "min      1.000000    7.000000    1.700000   56.000000    5.000000    1.000000\n",
       "25%     18.000000  115.750000    7.400000   72.000000    6.000000    8.000000\n",
       "50%     31.500000  205.000000    9.700000   79.000000    7.000000   16.000000\n",
       "75%     63.250000  258.750000   11.500000   85.000000    8.000000   23.000000\n",
       "max    168.000000  334.000000   20.700000   97.000000    9.000000   31.000000"
      ]
     },
     "execution_count": 37,
     "metadata": {},
     "output_type": "execute_result"
    }
   ],
   "source": [
    "air.data.describe()"
   ]
  },
  {
   "cell_type": "code",
   "execution_count": null,
   "metadata": {
    "collapsed": true
   },
   "outputs": [],
   "source": []
  }
 ],
 "metadata": {
  "kernelspec": {
   "display_name": "Python 2",
   "language": "python",
   "name": "python2"
  },
  "language_info": {
   "codemirror_mode": {
    "name": "ipython",
    "version": 2
   },
   "file_extension": ".py",
   "mimetype": "text/x-python",
   "name": "python",
   "nbconvert_exporter": "python",
   "pygments_lexer": "ipython2",
   "version": "2.7.10"
  }
 },
 "nbformat": 4,
 "nbformat_minor": 0
}
