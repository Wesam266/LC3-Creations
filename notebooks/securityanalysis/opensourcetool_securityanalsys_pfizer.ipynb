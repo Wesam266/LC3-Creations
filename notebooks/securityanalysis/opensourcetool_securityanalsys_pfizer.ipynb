{
 "cells": [
  {
   "cell_type": "markdown",
   "metadata": {},
   "source": [
    "![MorningStar](files/images/TitleImage.png)"
   ]
  },
  {
   "cell_type": "markdown",
   "metadata": {},
   "source": [
    "This iPython notebook provides value investor-based analysis for [Pfizer, Inc., an American multinational pharmaceutical corporation](http://www.pfizer.com/). Outside of demonstrating one approach to breaking down a company's financials to determine its intrinsic value, this work also demonstrates the utility of modern data analysis tools like [Python](https://www.python.org/), [iPython](http://ipython.org/), Anaconda, and [scikit-learn](http://scikit-learn.org/stable/) (i.e. machine learning tool) to create repeatable analytic workflows.  You can recreate this analysis for any company.  \n",
    "\n",
    "![Disclaimer](http://www.ravenht.org.uk/data/images/Data_Protection/disclaimer.jpg)\n",
    "\n",
    "Now, before you read any further, know this:\n",
    "* *I am not a certified financial analyst*\n",
    "* *I do not have (nor am I working on) a degree or certification from one of the world's [top business schools](http://www.topmba.com/mba-rankings/specialization/finance) hanging on my wall; my degree is in Physics*\n",
    "* *I do not receive any payment or compensation for financial advice or services*\n",
    "* *I am not liable for any decisions that result from this analysis*\n",
    "* *I did not own any shares in [PFE](http://www.morningstar.com/stocks/XNYS/PFE/quote.html) at the time of writing.*\n",
    "\n",
    "Now,with the disclaimer out of the way, let's cover some of my realities.  \n",
    "\n",
    "What I do have is a strong desire to gradually achieve financial independence by acquiring assets at a discount [(if you don't know what an asset is, click here to learn)](http://www.investinganswers.com/financial-dictionary/financial-statement-analysis/asset-2278).  Add to that my insatiable curiosity to learn new and smarter ways of using data to improve my situation (i.e. learn more, grow net worth, or automate something).  In this case, the goal is to purchase assets -- after careful analysis -- at every possible opportunity.  Thus, securities hold a significant portion of my net worth.  More importantly, the analysis I share today is a part of what I do to grow my resources for the future. What's the point? There's no agenda here, outside of sharing a repeatable analytic workflow, helping other value investors along the way, and showing how data analytics impacts nearly every career field. Plain and simple, this exercise will demonstrate how information availability and open source technologies expand the world of possibilities to the common man.  An added benefit is, we'll learn to break down a company like Warren Buffett. \n",
    "\n",
    "![Priorities](https://www.bayzat.com/static/images/media/13%2003%2016%20-%20Smart%20tips%20for%20personal%20finance%20-%20v2.jpg)\n",
    "\n",
    "Before we delve into the analysis, it's only proper that we address or at least provide resources for some of the terms thrown out so far. Let's start with value investing.  Value investing is the [strategy of selecting stocks that sell for less than their intrinsic values](http://www.investopedia.com/terms/v/valueinvesting.asp).  In layman's terms, that translates to \"buying something on sale\".  At the core of value investing is the need to do some financial analysis.  It only make sense; in order to understand that something is selling at a discount you must first understand what it is worth.  So, while value investing involves rigourous analysis of facts and figures, it's still more of an art than a science. \n",
    "\n",
    "The greatest value investing artist of this age is [Warren Buffett](https://en.wikipedia.org/wiki/Warren_Buffett).  In truth, the greatest \"artist\" is actually a tandem of artists, featuring Warren Buffett and [Charlie Munger](https://en.wikipedia.org/wiki/Charlie_Munger), but Mr. Buffett is easily the more visible and vocal of the two.  Warren Buffett has left a wealth of knowledge on value investing in letters to [Berkshire Hathaway shareholders](http://www.berkshirehathaway.com/letters/letters.html), [his autobiography](https://en.wikipedia.org/wiki/The_Snowball:_Warren_Buffett_and_the_Business_of_Life), and dozens of [magazine articles and speeches](http://www.tilsonfunds.com/motley_berkshire_warren_speeches.php) over several decades. In all of that knowledge, and specifically the [1976](https://aboveaverageodds.files.wordpress.com/2009/12/buffett_bh76.pdf) and [1978](http://www.berkshirehathaway.com/letters/1978.html) letters to shareholders , Mr. Buffett provided four rules that govern his strategy for investing, which we will use in our analysis of a company in the notebook.  Buffett acquires partial ownership of a business when it: \n",
    "\n",
    "1. **Is a business that he understands.**  *Levine-Weinberg from TheFool.com put it well in his [July 2014 article](http://www.fool.com/investing/general/2014/07/06/warren-buffetts-4-rules-for-stock-market-success.aspx), \"There are surely tech start-ups you could invest in today that will crush the market in the next 10 years. But if you're not a technology expert, how will you find them?\"  <span style=\"color:red; font-family:Georgia; font-size:initial;\">In this example, I picked Pfizer.  They make discover, develop, and manufacture healthcare products.  Pretty easy to understand.* </span>\n",
    "<br>\n",
    "<br>\n",
    "\n",
    "2. ** Has favorable longterm prospects.**  *A good translation is in a [June 2015 BusinessInsider.com article](http://www.businessinsider.com/warren-buffett-investing-rules-2015-6) where Kathleen Elkins said one must consider \"whether or not the company will be able to sell their product in 30 years.\"  <span style=\"color:red; font-family:Georgia; font-size:initial;\">Here is a simple example: Apple is a great company, but will people be using iPhones in 2045 (pretty much an unknown)?  Will people still be drinking Coca Cola in 2045 (that's a near certainty)?*</span>\n",
    "<br>\n",
    "<br>\n",
    "\n",
    "3.  **Operated by honest and competent people** *This rule is simple enough, but hard to measure.  An article at [InvestorsPodcast.com](http://www.theinvestorspodcast.com/episodes/3-warren-buffett-rules-intrinsic-value.html#sthash.ezTVFQpA.dpuf) gives us one measurable, borrowing from BuffettsBooks.com, when it says \"look for a company that has twice as much equity as debt...Having only a little debt gives the business a lot of flexibility and agility to make the right decisions for shareholders.\"  <span style=\"color:red; font-family:Georgia; font-size:initial;\">We will use the debt-to-equity and current ratios to evaluate leadership impact on debt.*</span>\n",
    "<br>\n",
    "<br>\n",
    "4. **Available at a very attractive price.** *This is the simplest rule, but the one that requires the most detective work and data analysis. This centers on calculating the intrinsic value of a company, or the true worth of a company (not the ticker price).  <span style=\"color:red; font-family:Georgia; font-size:initial;\">Buffett talked about [the \"art\" of calculating intrincic value in an annual report](http://www.valuewalk.com/2014/03/warren-buffett-intrinsic-value-two-problems/).  For now, I use the [BuffetsBooks.com calculator](http://buffettsbooks.com/howtoinvestinstocks/course2/stocks/intrinsic-value-calculator.html#sthash.I02x9s7w.dpbs).*</span>\n",
    "<br>\n",
    "<br>\n",
    "![BerkshireHathawayLetters](http://ecx.images-amazon.com/images/I/51duPVN7EnL._SX391_BO1,204,203,200_.jpg)\n",
    "\n",
    "Simple rules right?  A company qualifies gets into \"Buffet-worthy\" territory by passing these four rules.  Seems like everyone should be knocking it out of the park like Buffett.  But, it can be hard to find company's that are selling below intrinsic value.  As you will see in this notebook's analysis, more of your time will be spent analyzing and deciding a company is not worth owning.  Buffett covered this in his 1976 shareholder letter when he said, *\"It is difficult to find investments meeting such a test, and that is one reason for our concentration of holdings.  We simply can't find one hundred different securities that conform to our investment requirements.\"*\n",
    "\n",
    "One last bit of value investor knowledge before we move to the data analysis.  Purchasing a [share or stock is becoming a part owner of a business](http://www.investopedia.com/terms/s/stock.asp). It is more than buying the price tied to a ticker symbol.  Holding that concept in your mind stresses the importance of analyzing the company in the same way you would analyze a person who asks you to borrow some money.  You lend based on their ability to pay you back.  In this case, you invest based on the company's ability to return value over and extended period of time.   "
   ]
  },
  {
   "cell_type": "markdown",
   "metadata": {},
   "source": [
    "# Environment Set Up (very important)\n",
    "\n",
    "<span style=\"color:red; font-family:Georgia; font-size:initial;\">Full disclosure: I am running OSX El Capitan (10.11.1) on a 2012 Macbook.  Linux or Windows users will have to adjust accordingly. My environment below uses Python 3.5....remember that!!!! </span> \n",
    "\n",
    "The first thing we will do is set up an environment that is exactly like the environment I used to create this notebook.  Lucky for you, I am using [Anaconda](https://www.continuum.io/downloads) which is an easy-to-install, free package manager, environment manager, Python distribution, and collection of over 150 open source packages with free community support. Why are you lucky?  Well, it will take a few lines of code for you to recreate the development environment with all of the dependencies and run this notebook. \n",
    "1. Install Anaconda first; make sure it is properly installed by typing \"conda\" in your command prompt or terminal\n",
    "2. Then, [download my yaml file](https://github.com/linwoodc3/LC3-Creations/blob/master/notebooks/securityanalysis/py35.yml). If you don't use Anaconda, use the list at this link to install all the modules I'm using\n",
    "3. Follow the [\"Use Environment from file\"](http://conda.pydata.org/docs/using/envs.html#export-the-environment-file) instructions on Anaconda's website. \n",
    "4. Clone https://github.com/petercerno/good-morning (make sure this is acessible to your sys.path)"
   ]
  },
  {
   "cell_type": "markdown",
   "metadata": {},
   "source": [
    "There's one more dependency we need to cover; we need to make sure our notebook can import the good-morning repository we just cloned; looking inside the project folder, we see there's no \"setup.py\" file (*I may create one and do the pull request for the github project*).  That means we need to maunally add this file to a path where Python can import it.  I'll put it in the environment path we created. First, I need to know where that is:  "
   ]
  },
  {
   "cell_type": "raw",
   "metadata": {},
   "source": [
    "Input:\n",
    "> which conda \n",
    "Output: \n",
    ">/Users/linwood/anaconda/envs/py35/bin/conda"
   ]
  },
  {
   "cell_type": "markdown",
   "metadata": {},
   "source": [
    "Your output may be slightly different from mine based on how you installed anaconda.  Now, copy the \"good_morning.py\" and \"good_download.py\" files from the repository we cloned earlier, and paste them in the \"py35\" directory somewhere.  "
   ]
  },
  {
   "cell_type": "code",
   "execution_count": 29,
   "metadata": {
    "collapsed": false
   },
   "outputs": [
    {
     "data": {
      "text/plain": [
       "'/Users/linwood/projects/LC3-Creations/notebooks'"
      ]
     },
     "execution_count": 29,
     "metadata": {},
     "output_type": "execute_result"
    }
   ],
   "source": [
    "import os\n",
    "os.getcwd()"
   ]
  },
  {
   "cell_type": "markdown",
   "metadata": {},
   "source": [
    "# Let's get to the Analysis and Coding\n",
    "![Data Analysis](files/images/data_analysis.png)"
   ]
  },
  {
   "cell_type": "code",
   "execution_count": 9,
   "metadata": {
    "collapsed": false
   },
   "outputs": [],
   "source": [
    "import good_morning as gm\n",
    "import pandas as pd\n",
    "import numpy as np\n",
    "import matplotlib.pyplot as plt\n",
    "%matplotlib inline"
   ]
  },
  {
   "cell_type": "markdown",
   "metadata": {},
   "source": [
    "To do this analysis, we need 10 years of fundamental financial data.  To understand why, Buffettsbooks.com put together a great series of videos that explains Buffett's four rules and what type of data we need to analyze the company.  Look at [Course 2, videos 17-21](https://www.youtube.com/playlist?list=PLD3EB06EC4A19BFB8).\n",
    "\n",
    "We have two ways to get the data:\n",
    "<br>\n",
    "1.  **Go to the data provider's portal; here we could download a CSV or copy and paste the data**\n",
    "2.  **Use an existing pythonic interface with the data to ingest it directly into my modeling environment** \n",
    "\n",
    "I did both "
   ]
  },
  {
   "cell_type": "markdown",
   "metadata": {},
   "source": [
    "# Getting data from the web portal"
   ]
  },
  {
   "cell_type": "markdown",
   "metadata": {},
   "source": [
    "The manual data pull is not glamourous at all.  The goal is get ten years worth of financial data from.  Why [MorningStar](http://www.morningstar.com/)?  Well, based on the great video series from [BuffetsBooks.com](http://buffettsbooks.com/start-here.html), this is one of the only websites that provide 10 years of historical financials for FREE. To get to the data, enter the company's [ticker symbol](https://en.wikipedia.org/wiki/Ticker_symbol) in the \"Quote\" entry box on the MorningStar homepage; then, click the \"Key Ratios\" tab.  We have our data!  There are two options now.  We can use the \"Export\" button to download a CSV or we can cut and paste the figures we want.  Both options work for our tool of choice.\n",
    "\n",
    "The goal of this notebook is to use open source tools for analysis, so instead of Excel, I opted to use Python pandas.  [*pandas* is an open source, BSD-licensed library](http://pandas.pydata.org/) providing high-performance, easy-to-use data structures and data analysis tools for the Python programming language.\n",
    "\n",
    "So let's import our tool:"
   ]
  },
  {
   "cell_type": "code",
   "execution_count": 10,
   "metadata": {
    "collapsed": true
   },
   "outputs": [],
   "source": [
    "import pandas as pd"
   ]
  },
  {
   "cell_type": "markdown",
   "metadata": {},
   "source": [
    "We will cover the data import options going from the most time consuming to the least.  In this case, we'll talk about the old **\"cut and paste\"** method first. \n",
    "\n",
    "To start, we need some data copied.  If you followed directions above, the \"Key Ratios\" data should be in our browser.  To copy me directly, we are going to start with the [current ratio](http://www.investopedia.com/terms/c/currentratio.asp).  In the middle-bottom of the \"Key Ratios\" tab, click the \"Financial Health\" tab.  When the screen refreshes, you should see a section titled \"Liquidity/Financial Health\" at the bottom; copy the \"Current ratio\" line of data.  If you copy it, the pasted output will look like this:"
   ]
  },
  {
   "cell_type": "raw",
   "metadata": {},
   "source": [
    "# this is the pasted output from MorningStar.com\n",
    "\n",
    "1.47\t2.20\t2.15\t1.59\t1.66\t2.11\t2.06\t2.15\t2.41\t2.67\t1.62"
   ]
  },
  {
   "cell_type": "markdown",
   "metadata": {},
   "source": [
    "That gives us one current ratio for each year back to 2005.  Next, we create a [python dictionary](https://docs.python.org/2/tutorial/datastructures.html#dictionaries) with our data.  That involves creating key,value pairs.  The year will be the *\"key\"* and the current ratio for that year will be the *\"value\"*. In our data, the first key,value pair is: 2005:1.47.  Let's do that and see the output: "
   ]
  },
  {
   "cell_type": "code",
   "execution_count": 26,
   "metadata": {
    "collapsed": false
   },
   "outputs": [],
   "source": [
    "# Use the year as the key and the current ratio for that year as the value in the dictionary\n",
    "\n",
    "current_ratio={2005:1.47, 2006:2.20, 2007:2.15, 2008:1.59, 2009:1.66, 2010:2.11, 2011:2.06, 2012:2.15, 2013:2.41, 2014:2.67 ,2015:1.62}\n",
    "current_ratio; # remove the semicolon to see the output"
   ]
  },
  {
   "cell_type": "markdown",
   "metadata": {},
   "source": [
    "Typing out the dictionary syntax takes a few minutes.  A dictionary easily converts to a [pandas dataframe](http://pandas.pydata.org/pandas-docs/stable/dsintro.html#dataframe), which is similar to an excel spreadsheet. Our goal is to get all the data into a single dataframe. Let's create our dataframe, and name it df. "
   ]
  },
  {
   "cell_type": "code",
   "execution_count": 21,
   "metadata": {
    "collapsed": false
   },
   "outputs": [],
   "source": [
    "\n",
    "# Use the values as the data in the dataframe but use the keys of the current_ratio dictionary as the dataframe's index\n",
    "\n",
    "df = pd.DataFrame([value for key,value in current_ratio.items()],columns=['current_ratio'], index = current_ratio.keys())\n",
    "df; # remove the semicolon to see the output"
   ]
  },
  {
   "cell_type": "markdown",
   "metadata": {},
   "source": [
    "We only have the current ratio figures.  Let's add more fundamental financial data! \n",
    "\n",
    "This time, we are going to create [python lists](https://docs.python.org/2/tutorial/introduction.html#lists) from the pasted data.  We then convert those lists to arrays using [numpy](http://docs.scipy.org/doc/numpy/user/whatisnumpy.html);  a [numpy array](http://docs.scipy.org/doc/numpy/reference/arrays.ndarray.html) can be appended to a pandas dataframe. At the end of this code block, we should have a dataframe with all of our historical data.  Let's import what we need and write the code."
   ]
  },
  {
   "cell_type": "code",
   "execution_count": 28,
   "metadata": {
    "collapsed": false
   },
   "outputs": [],
   "source": [
    "import numpy as np # we give numpy a shorthand name on import; coders are lazy\n",
    "\n",
    "\n",
    "# We paste the data inside of a list, and then use 'np.asarray' to convert our list to an array\n",
    "# numpy is a fundamental package for scientific computing in Python.\n",
    "# the df['name'] code appends the result to the dataframe we created above and gives the column's title\n",
    "# Then, we look at our new dataframe (df)\n",
    "\n",
    "df['debt_equity']=np.asarray([0.10,\t0.08,\t0.11,\t0.14,\t0.48,\t0.44,\t0.43,\t0.38,\t0.40,\t0.44,\t0.44])\n",
    "df['dividend']=np.asarray([0.76,\t0.96,\t1.16,\t1.28,\t0.80,\t0.72,\t0.80,\t0.88,\t0.96,\t1.04,\t1.10])\n",
    "df['EPS']=np.asarray([1.09,\t2.66,\t1.17,\t1.20,\t1.23,\t1.02,\t1.27,\t1.94,\t3.19,\t1.42,\t1.33])\n",
    "df['BVperShare']=np.asarray([9.05,\t9.77,\t9.60,\t8.52,\t11.15,\t10.95,\t11.88,\t11.16,\t12.18,\t12.39,\t10.82])\n",
    "df['Debt']= np.asarray([5.40,\t4.83,\t6.35,\t7.16,\t20.28,\t19.70,\t18.58,\t16.70,\t17.70,\t18.63,\t17.02])\n",
    "df; # remove semicolon to see output"
   ]
  },
  {
   "cell_type": "code",
   "execution_count": null,
   "metadata": {
    "collapsed": false
   },
   "outputs": [],
   "source": [
    "\n",
    "df['BVdiff']= df['BVperShare']-df['BVperShare'].shift()\n",
    "df['Unaccounted_Earnings']=df.apply(lambda row: row['EPS']-(row['dividend'] + row['BVdiff']),axis=1)"
   ]
  },
  {
   "cell_type": "code",
   "execution_count": null,
   "metadata": {
    "collapsed": false
   },
   "outputs": [],
   "source": [
    "df;"
   ]
  },
  {
   "cell_type": "code",
   "execution_count": null,
   "metadata": {
    "collapsed": false
   },
   "outputs": [],
   "source": [
    "import XKCDplot"
   ]
  },
  {
   "cell_type": "code",
   "execution_count": null,
   "metadata": {
    "collapsed": false
   },
   "outputs": [],
   "source": [
    "import good_morning as gm"
   ]
  },
  {
   "cell_type": "markdown",
   "metadata": {},
   "source": [
    "When we make a prediction of future earnings on a linear model, we can make some assumptions of the future based on the past.  Here, I calculate the the ratio of earnings to book value.  The goal is to see how earnings historically related to book value every year to calculate the next years earnings.  This is why stability is so important; if the financials over a 10 year period form a positively correlated linear model, predictions become easier.  The goal is to find those companies with positively correlated earnings, debt-to-equity ratio, dividend, book-value-per-share, and current ratio. So we get the percentage for each year and then calculate basic summary statistics.  "
   ]
  },
  {
   "cell_type": "code",
   "execution_count": null,
   "metadata": {
    "collapsed": false
   },
   "outputs": [],
   "source": [
    "df.apply(lambda row: row['EPS']/row['BVperShare'], axis=1).describe()\n"
   ]
  },
  {
   "cell_type": "code",
   "execution_count": null,
   "metadata": {
    "collapsed": false
   },
   "outputs": [],
   "source": [
    "df"
   ]
  },
  {
   "cell_type": "code",
   "execution_count": null,
   "metadata": {
    "collapsed": false
   },
   "outputs": [],
   "source": [
    "df[['EPS','BVperShare','dividend','BVdiff']];"
   ]
  },
  {
   "cell_type": "code",
   "execution_count": null,
   "metadata": {
    "collapsed": true
   },
   "outputs": [],
   "source": []
  },
  {
   "cell_type": "code",
   "execution_count": null,
   "metadata": {
    "collapsed": false
   },
   "outputs": [],
   "source": [
    "company = df[['EPS']].sum()\n",
    "pocket=df[['dividend']].sum()+df.BVperShare.iloc[-1]-df.BVperShare.iloc[0]"
   ]
  },
  {
   "cell_type": "code",
   "execution_count": null,
   "metadata": {
    "collapsed": false
   },
   "outputs": [],
   "source": [
    "company.iloc[0]-pocket.iloc[0]"
   ]
  },
  {
   "cell_type": "code",
   "execution_count": null,
   "metadata": {
    "collapsed": false
   },
   "outputs": [],
   "source": [
    "import numpy.polynomial.polynomial as poly\n",
    "\n",
    "# security data for fitting\n",
    "x = df.index\n",
    "y = df['BVperShare']\n",
    "\n",
    "x_new = np.linspace(x[0], x[-1], num=len(x)*10)\n",
    "coefs = poly.polyfit(x, y, 1)\n",
    "ffit = poly.Polynomial(coefs) \n",
    "plt.scatter(x, y, s=30, alpha=0.15, marker='D')\n",
    "plt.plot(x_new, ffit(x_new))\n",
    "plt.xlabel('Period')\n",
    "plt.ylabel('Earnings')\n",
    "plt.xlim([2005,2026])\n",
    "plt.ylim([7,16])\n",
    "plt.title('Book Value per Share for Pfizer, Inc over 10 Years')"
   ]
  },
  {
   "cell_type": "code",
   "execution_count": null,
   "metadata": {
    "collapsed": false
   },
   "outputs": [],
   "source": [
    "df['index']=df.index"
   ]
  },
  {
   "cell_type": "code",
   "execution_count": null,
   "metadata": {
    "collapsed": false
   },
   "outputs": [],
   "source": [
    "from sklearn import linear_model\n",
    "\n",
    "# Create linear regression object\n",
    "regr = linear_model.LinearRegression()\n",
    "\n",
    "# Pulling the data out for the simple linear model\n",
    "X = np.asarray(df[['index']])\n",
    "y = np.asarray(df['BVperShare'])\n",
    "\n",
    "\n",
    "# Train the model using the training sets\n",
    "regr.fit(X, y)\n"
   ]
  },
  {
   "cell_type": "code",
   "execution_count": null,
   "metadata": {
    "collapsed": false
   },
   "outputs": [],
   "source": [
    "regr.predict(2016)"
   ]
  },
  {
   "cell_type": "markdown",
   "metadata": {},
   "source": [
    "Use the predicted book value per share to get an estimated earnings per share.  I use the predicted book value for the next year (above) and the average earnings-to-book value ratio for ten years.  "
   ]
  },
  {
   "cell_type": "code",
   "execution_count": null,
   "metadata": {
    "collapsed": false
   },
   "outputs": [],
   "source": [
    "regr.predict(2016)*df.apply(lambda row: row['EPS']/row['BVperShare'], axis=1).mean()"
   ]
  },
  {
   "cell_type": "markdown",
   "metadata": {},
   "source": [
    "Finally, we have enough data to make the ultimate calculation; the intricsic value.  To do this, we take all the values from the historical financials and plug them into [Buffett Books Intrinsic Value Calculator](http://buffettsbooks.com/howtoinvestinstocks/course2/stocks/intrinsic-value-calculator.html#sthash.I02x9s7w.dpbs).  For every investor, intrinsic values will differ given the use of the current US treasury 10 year yield.  That changes daily; so calculating intrinsic value today or next week will change.  Either way, you set a bar for each stock that you look at, so know when something is 'on sale'.  "
   ]
  }
 ],
 "metadata": {
  "kernelspec": {
   "display_name": "Python 3",
   "language": "python",
   "name": "python3"
  },
  "language_info": {
   "codemirror_mode": {
    "name": "ipython",
    "version": 3
   },
   "file_extension": ".py",
   "mimetype": "text/x-python",
   "name": "python",
   "nbconvert_exporter": "python",
   "pygments_lexer": "ipython3",
   "version": "3.5.0"
  }
 },
 "nbformat": 4,
 "nbformat_minor": 0
}
