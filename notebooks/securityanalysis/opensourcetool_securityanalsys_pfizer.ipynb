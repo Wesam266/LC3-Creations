{
 "cells": [
  {
   "cell_type": "markdown",
   "metadata": {},
   "source": [
    "![MorningStar](files/images/TitleImage.png)"
   ]
  },
  {
   "cell_type": "markdown",
   "metadata": {},
   "source": [
    "This iPython notebook provides value investor-based analysis of [Deere & Company](http://www.deere.com/en_US/corporate/our_company/about_us/about_us.page?/), a company Bershire Hathaway acquired a 5 percent stake in 2014. Outside of demonstrating one approach to breaking down a company's financials to determine its intrinsic value, this work also demonstrates the utility of modern data analysis tools like [Python](https://www.python.org/), [iPython](http://ipython.org/), Anaconda, and [scikit-learn](http://scikit-learn.org/stable/) (i.e. machine learning tool) to create repeatable analytic workflows.  At the end, we will come away with a recommendation of whether to invest in the company or not. If you download this notebook, you can recreate this analysis for any company by using your ticker symbol of choice in the \"good-morning\" module below.  \n",
    "\n",
    "![Disclaimer](http://www.ravenht.org.uk/data/images/Data_Protection/disclaimer.jpg)\n",
    "\n",
    "Now, before you read any further, know this:\n",
    "* *I am not a certified financial analyst*\n",
    "* *I do not have a degree or certification from one of the world's [top business schools](http://www.topmba.com/mba-rankings/specialization/finance)...and I'm not working on one either; my degree is in Physics*\n",
    "* *I do not receive any payment or compensation for financial advice or services*\n",
    "* *I am not liable for any decisions that result from this analysis*\n",
    "* *I did not own any shares in [DE](http://www.morningstar.com/stocks/XNYS/DE/quote.html) at the time of writing.*\n",
    "\n",
    "Now,with the disclaimer out of the way, let's cover some of my realities.  \n",
    "\n",
    "What I do have is a strong desire to gradually achieve financial independence by acquiring assets at a discount [(if you don't know what an asset is, click here to learn)](http://www.investinganswers.com/financial-dictionary/financial-statement-analysis/asset-2278).  Add to that my insatiable curiosity to learn new and smarter ways of using data to improve my situation (i.e. learn more, grow net worth, or automate something).  In this case, the goal is to purchase assets -- after careful analysis -- at every possible opportunity.  Thus, securities hold a significant portion of my net worth.  More importantly, the analysis I share today is a part of what I do to grow my resources for the future. What's the point? There's no agenda here, outside of sharing a repeatable analytic workflow, helping other value investors along the way, and showing how data analytics impacts nearly every career field. Plain and simple, this exercise will demonstrate how information availability and open source technologies expand the world of possibilities to the common man.  An added benefit is, we'll learn to break down a company like Warren Buffett. \n",
    "\n",
    "![Priorities](https://www.bayzat.com/static/images/media/13%2003%2016%20-%20Smart%20tips%20for%20personal%20finance%20-%20v2.jpg)\n",
    "\n",
    "Before we delve into the analysis, it's only proper that we address or at least provide resources for some of the terms thrown out so far. Let's start with value investing.  Value investing is the [strategy of selecting stocks that sell for less than their intrinsic values](http://www.investopedia.com/terms/v/valueinvesting.asp).  In layman's terms, that translates to \"buying something on sale\".  At the core of value investing is the need to do some financial analysis.  It only make sense; in order to understand that something is selling at a discount you must first understand what it is worth.  So, while value investing involves rigourous analysis of facts and figures, it's still more of an art than a science. \n",
    "\n",
    "The greatest value investing artist of this age is [Warren Buffett](https://en.wikipedia.org/wiki/Warren_Buffett).  In truth, the greatest \"artist\" is actually a tandem of artists, featuring Warren Buffett and [Charlie Munger](https://en.wikipedia.org/wiki/Charlie_Munger), but Mr. Buffett is easily the more visible and vocal of the two.  Warren Buffett has left a wealth of knowledge on value investing in letters to [Berkshire Hathaway shareholders](http://www.berkshirehathaway.com/letters/letters.html), [his autobiography](https://en.wikipedia.org/wiki/The_Snowball:_Warren_Buffett_and_the_Business_of_Life), and dozens of [magazine articles and speeches](http://www.tilsonfunds.com/motley_berkshire_warren_speeches.php) over several decades. In all of that knowledge, and specifically the [1976](https://aboveaverageodds.files.wordpress.com/2009/12/buffett_bh76.pdf) and [1978](http://www.berkshirehathaway.com/letters/1978.html) letters to shareholders , Mr. Buffett provided four rules that govern his strategy for investing, which we will use in our analysis of a company in the notebook.  Buffett acquires partial ownership of a business when it: \n",
    "\n",
    "1. **Is a business that he understands.**  *Levine-Weinberg from TheFool.com put it well in his [July 2014 article](http://www.fool.com/investing/general/2014/07/06/warren-buffetts-4-rules-for-stock-market-success.aspx), \"There are surely tech start-ups you could invest in today that will crush the market in the next 10 years. But if you're not a technology expert, how will you find them?\"  <span style=\"color:red; font-family:Georgia; font-size:initial;\">In this example, I picked Pfizer.  They discover, develop, and manufacture healthcare products.  Pretty easy to understand.* </span>\n",
    "<br>\n",
    "<br>\n",
    "\n",
    "2. ** Has favorable longterm prospects.**  *A good translation is in a [June 2015 BusinessInsider.com article](http://www.businessinsider.com/warren-buffett-investing-rules-2015-6) where Kathleen Elkins said one must consider \"whether or not the company will be able to sell their product in 30 years.\"  <span style=\"color:red; font-family:Georgia; font-size:initial;\">Here is a simple example: Apple is a great company, but will people be using iPhones in 2045 (pretty much an unknown)?  Will people still be drinking Coca Cola in 2045 (that's a near certainty)?*</span>\n",
    "<br>\n",
    "<br>\n",
    "\n",
    "3.  **Operated by honest and competent people** *This rule is simple enough, but hard to measure.  An article at [InvestorsPodcast.com](http://www.theinvestorspodcast.com/episodes/3-warren-buffett-rules-intrinsic-value.html#sthash.ezTVFQpA.dpuf) gives us one measurable, borrowing from BuffettsBooks.com, when it says \"look for a company that has twice as much equity as debt...Having only a little debt gives the business a lot of flexibility and agility to make the right decisions for shareholders.\"  <span style=\"color:red; font-family:Georgia; font-size:initial;\">We will use the debt-to-equity and current ratios to evaluate leadership impact on debt.*</span>\n",
    "<br>\n",
    "<br>\n",
    "4. **Available at a very attractive price.** *This is the simplest rule, but the one that requires the most detective work and data analysis. This centers on calculating the intrinsic value of a company, or the true worth of a company (not the ticker price).  <span style=\"color:red; font-family:Georgia; font-size:initial;\">Buffett talked about [the \"art\" of calculating intrincic value in an annual report](http://www.valuewalk.com/2014/03/warren-buffett-intrinsic-value-two-problems/).  For now, I use the [BuffetsBooks.com calculator](http://buffettsbooks.com/howtoinvestinstocks/course2/stocks/intrinsic-value-calculator.html#sthash.I02x9s7w.dpbs).*</span>\n",
    "<br>\n",
    "<br>\n",
    "![BerkshireHathawayLetters](http://ecx.images-amazon.com/images/I/51duPVN7EnL._SX391_BO1,204,203,200_.jpg)\n",
    "\n",
    "Simple rules right?  A company that passes these four rules gets into \"Buffet-worthy\" territory.  This is great territory for a company because when Buffett buys, [millions will follow](http://www.businessspectator.com.au/article/2015/6/18/asx/investors-should-brace-buffett-effect). Following is easy so it seems like all investors should be knocking it out of the park.  Not the case! As you will see, it can be hard to find companies that meet all four requirements.  More of your time will be spent analyzing and deciding on companies not worth buying.  Buffett covered this in his 1976 shareholder letter when he said, [*\"It is difficult to find investments meeting such a test, and that is one reason for our concentration of holdings.  We simply can't find one hundred different securities that conform to our investment requirements.\"*](https://aboveaverageodds.files.wordpress.com/2009/12/buffett_bh76.pdf)\n",
    "\n",
    "One last bit of value investor knowledge before we move to the data access and analysis.  Purchasing a [share or stock is becoming a part owner of a business](http://www.investopedia.com/terms/s/stock.asp). It is more than buying the price tied to a ticker symbol.  Holding that concept in your mind stresses the importance of analyzing the company in the same way you would analyze a person who asks you to borrow some money.  You lend based on their ability to pay you back.  In this case, you invest based in the company's ability to reliably return value over an extended period of time.   "
   ]
  },
  {
   "cell_type": "markdown",
   "metadata": {},
   "source": [
    "# Environment Set Up (very important)\n",
    "\n",
    "<span style=\"color:red; font-family:Georgia; font-size:initial;\">Full disclosure: I am running OSX El Capitan (10.11.1) on a 2012 Macbook.  Linux or Windows users will have to adjust accordingly. My environment below uses Python 3.5....remember that!!!! </span> \n",
    "\n",
    "The first thing we will do is set up an environment that is exactly like the environment I used to create this notebook.  Lucky for you, I am using [Anaconda](https://www.continuum.io/downloads) which is an easy-to-install, free package manager, environment manager, Python distribution, and collection of over 150 open source packages with free community support. Why are you lucky?  Because it takes a few lines of code to recreate my development environment with all its dependencies. The steps are:\n",
    "1. [Install Anaconda first](http://docs.continuum.io/anaconda/install); make sure it is properly installed by typing \"conda\" in your command prompt or terminal\n",
    "2. Then, [get my yaml file](https://github.com/linwoodc3/LC3-Creations/tree/master/notebooks/securityanalysis) from the project repository. If you don't use Anaconda, use the list at this link to install all the modules I'm using\n",
    "3. Follow the [\"Use Environment from file\"](http://conda.pydata.org/docs/using/envs.html#export-the-environment-file) instructions on Anaconda's website. \n",
    "4. Clone https://github.com/petercerno/good-morning (make sure this is acessible to your sys.path)"
   ]
  },
  {
   "cell_type": "markdown",
   "metadata": {},
   "source": [
    "There's one more dependency we need to cover; we need to make sure our notebook can import the good-morning repository we just cloned; looking inside the project folder, we see there's no \"setup.py\" file (*I may create one and do the pull request for the github project*).  That means we need to maunally add this file to a path where Python can import it.  I'll put it in the environment path we created. First, I need to know where that is:  "
   ]
  },
  {
   "cell_type": "markdown",
   "metadata": {},
   "source": [
    "```python\n",
    ">which conda\n",
    "/Users/linwood/anaconda/envs/py35/bin/conda\n",
    "\n",
    "```\n",
    "\n",
    "Alternatively, this may work for you\n",
    "\n",
    "```python\n",
    ">import sys\n",
    ">sys.path.append('/...path to.../anaconda/envs/py35/lib/python3.5') # remove \"...path to...\", and replace with path to  your envs folder\n",
    "```\n"
   ]
  },
  {
   "cell_type": "markdown",
   "metadata": {},
   "source": [
    "Your output may be slightly different from mine based on how you installed anaconda.  Now, copy the \"good_morning.py\" and \"good_download.py\" files from the repository we cloned earlier, and paste them in the \"py35\" directory somewhere.  "
   ]
  },
  {
   "cell_type": "markdown",
   "metadata": {},
   "source": [
    "# Let's Hit the Data Science Pipeline\n",
    "![Data Access](files/images/data_access.png)"
   ]
  },
  {
   "cell_type": "markdown",
   "metadata": {},
   "source": [
    "To do this analysis, we need 10 years of fundamental financial data.  To understand why, Buffettsbooks.com put together a great series of videos that explains Buffett's four rules and what type of data we need to analyze the company.  Look at [Course 2, videos 17-21](https://www.youtube.com/playlist?list=PLD3EB06EC4A19BFB8).\n",
    "\n",
    "We have three ways to get the data:\n",
    "<br>\n",
    "1.  **Go to the data provider's portal; copy and paste the data into dataframe**\n",
    "2.  **Go to the data provider's portal; export a CSV, load into dataframe**\n",
    "3.  **Use an existing pythonic interface with the data to ingest it directly into my modeling environment** \n",
    "\n",
    "I try all three and give advantages and disadvantages of each."
   ]
  },
  {
   "cell_type": "markdown",
   "metadata": {},
   "source": [
    "# Getting data directly from the data provider the old way"
   ]
  },
  {
   "cell_type": "markdown",
   "metadata": {},
   "source": [
    "The manual data pull is not glamourous at all.  The goal is get ten years worth of financial data from MorningStar.  Why [MorningStar](http://www.morningstar.com/)?  Well, based on the great video series from [BuffetsBooks.com](http://buffettsbooks.com/start-here.html), this is one of the only websites that provide 10 years of historical financials for FREE. To get to the data, enter the company's [ticker symbol](https://en.wikipedia.org/wiki/Ticker_symbol) in the \"Quote\" box on the MorningStar homepage.  We are looking at Pfizer, so enter \"PFE\". Select the \"Key Ratios\" tab.  We have our data!  There are two options now.  We can use the \"Export\" button to download a CSV or we can cut and paste the figures we want.  Both options work for our tool of choice.\n",
    "\n",
    "The goal of this notebook is to use open source tools for analysis, so instead of Excel, I opted to use Python pandas.  [*pandas* is an open source, BSD-licensed library](http://pandas.pydata.org/) providing high-performance, easy-to-use data structures and data analysis tools for the Python programming language.\n",
    "\n",
    "So let's import our tool:"
   ]
  },
  {
   "cell_type": "code",
   "execution_count": 1,
   "metadata": {
    "collapsed": false
   },
   "outputs": [],
   "source": [
    "import pandas as pd"
   ]
  },
  {
   "cell_type": "markdown",
   "metadata": {},
   "source": [
    "We will cover the data import options going from the most time consuming to the least.  In this case, we'll talk about the old **\"cut and paste\"** method first. \n",
    "\n",
    "To start, we need some data copied.  If you followed directions above, the \"Key Ratios\" data should be in our browser.  To copy me directly, we are going to start with the [current ratio](http://www.investopedia.com/terms/c/currentratio.asp).  In the [middle-bottom of the \"Key Ratios\" tab, click the \"Financial Health\" tab](http://financials.morningstar.com/ratios/r.html?t=PFE&region=USA&culture=en_US).  When the screen refreshes, you should see a section titled \"Liquidity/Financial Health\" at the bottom; copy the \"Current ratio\" line of data.  If you copy it, the pasted output will look like this:"
   ]
  },
  {
   "cell_type": "markdown",
   "metadata": {},
   "source": [
    "This is the pasted output from MorningStar.com:\n",
    "```python\n",
    "1.47\t2.20\t2.15\t1.59\t1.66\t2.11\t2.06\t2.15\t2.41\t2.67\t1.62\n",
    "```\n"
   ]
  },
  {
   "cell_type": "markdown",
   "metadata": {},
   "source": [
    "That gives us one current ratio for each year back to 2005.  Next, we create a [python dictionary](https://docs.python.org/2/tutorial/datastructures.html#dictionaries) with our data.  That involves creating key,value pairs.  The year will be the *\"key\"* and the current ratio for that year will be the *\"value\"*. In our data, the first key,value pair is: 2005:1.47.  Let's do that and see the output: "
   ]
  },
  {
   "cell_type": "code",
   "execution_count": 2,
   "metadata": {
    "collapsed": false
   },
   "outputs": [],
   "source": [
    "# Use the year as the key and the current ratio for that year as the value in the dictionary\n",
    "\n",
    "current_ratio={2005:1.47, 2006:2.20, 2007:2.15, 2008:1.59, 2009:1.66, 2010:2.11, 2011:2.06, 2012:2.15, 2013:2.41, 2014:2.67 ,2015:1.62}\n",
    "current_ratio; # remove the semicolon to see the output"
   ]
  },
  {
   "cell_type": "markdown",
   "metadata": {},
   "source": [
    "Typing out the dictionary syntax takes a few minutes.  A dictionary easily converts to a [pandas dataframe](http://pandas.pydata.org/pandas-docs/stable/dsintro.html#dataframe), which is similar to an excel spreadsheet. Our goal is to get all the data into a single dataframe. Let's create our dataframe, and name it df. "
   ]
  },
  {
   "cell_type": "code",
   "execution_count": 3,
   "metadata": {
    "collapsed": false
   },
   "outputs": [],
   "source": [
    "\n",
    "# Use the values as the data in the dataframe but use the keys of the current_ratio dictionary as the dataframe's index\n",
    "\n",
    "df = pd.DataFrame([value for key,value in current_ratio.items()],columns=['current_ratio'], index = current_ratio.keys())\n",
    "df; # remove the semicolon to see the output"
   ]
  },
  {
   "cell_type": "markdown",
   "metadata": {},
   "source": [
    "We only have the current ratio figures.  Let's add more fundamental financial data! \n",
    "\n",
    "This time, we are going to create [python lists](https://docs.python.org/2/tutorial/introduction.html#lists) from the pasted data.  We then convert those lists to arrays using [numpy](http://docs.scipy.org/doc/numpy/user/whatisnumpy.html);  a [numpy array](http://docs.scipy.org/doc/numpy/reference/arrays.ndarray.html) can be appended to a pandas dataframe. At the end of this code block, we should have a dataframe with all of our historical data.  Let's import what we need and write the code."
   ]
  },
  {
   "cell_type": "code",
   "execution_count": 4,
   "metadata": {
    "collapsed": false
   },
   "outputs": [],
   "source": [
    "import numpy as np # we give numpy a shorthand name on import; coders are lazy\n",
    "\n",
    "\n",
    "# We paste the data, enclose it in brackets, and add commas between values to create the list\n",
    "# then use 'np.asarray' (numpy) to convert our list to an array\n",
    "# numpy is a fundamental package for scientific computing in Python.\n",
    "# the df['name'] code appends the result to the dataframe we created above and gives the column's title\n",
    "# Then, we look at our new dataframe (df)\n",
    "\n",
    "df['debt_equity']=np.asarray([0.10,\t0.08,\t0.11,\t0.14,\t0.48,\t0.44,\t0.43,\t0.38,\t0.40,\t0.44,\t0.44])\n",
    "df['dividend']=np.asarray([0.76,\t0.96,\t1.16,\t1.28,\t0.80,\t0.72,\t0.80,\t0.88,\t0.96,\t1.04,\t1.10])\n",
    "df['EPS']=np.asarray([1.09,\t2.66,\t1.17,\t1.20,\t1.23,\t1.02,\t1.27,\t1.94,\t3.19,\t1.42,\t1.33])\n",
    "df['BVperShare']=np.asarray([9.05,\t9.77,\t9.60,\t8.52,\t11.15,\t10.95,\t11.88,\t11.16,\t12.18,\t12.39,\t10.82])\n",
    "df['Debt']= np.asarray([5.40,\t4.83,\t6.35,\t7.16,\t20.28,\t19.70,\t18.58,\t16.70,\t17.70,\t18.63,\t17.02])\n",
    "df; # remove semicolon to see output"
   ]
  },
  {
   "cell_type": "markdown",
   "metadata": {},
   "source": [
    "**This is the old way of getting data and it's going out of style fast**.  It works, but let's highlight some quick advantages and disadvantages:\n",
    "1. **Advantages**\n",
    "  * We get the exact data we want\n",
    "  * It's up to date information\n",
    "  * We don't worry about fake data or viruses; the data is coming from the provider's portal\n",
    "  * We get a lot of practice on constructing and relating python data structures\n",
    "  \n",
    "2. **Disadvantages**\n",
    "  * Time consuming\n",
    "  * Chance of human error extremely high; adding commas and deleting extra spaces is always a problem\n",
    "  * The data is not loaded dynamically, when the dataframe is created"
   ]
  },
  {
   "cell_type": "markdown",
   "metadata": {},
   "source": [
    "# Getting data directly from the data provider the 'KIND OF' old way"
   ]
  },
  {
   "cell_type": "markdown",
   "metadata": {},
   "source": [
    "Next, we try the \"kind of old way\" of getting the data we need.  We get a little fancier by eliminating the *cut and paste* workflow and instead, use the option to export a CSV.  pandas can ingest CSV files, so our tool will be happy!  Let's give it a go.  \n",
    "\n",
    "Return to the MorningStar page in your browser with Pfizer's key ratios displayed.  Look for the \"Export\" option, click it and download the csv.  \n",
    "\n",
    "![Export](files/images/MorningStarExport.png)\n",
    "\n",
    "I named my download \"pfe_key_ratios.csv\".  A copy of the data as of 17 November 2015 is in the \"data\" folder of the github repository for this notebook.  Now, let's load it!"
   ]
  },
  {
   "cell_type": "code",
   "execution_count": 5,
   "metadata": {
    "collapsed": false
   },
   "outputs": [
    {
     "name": "stderr",
     "output_type": "stream",
     "text": [
      "b'Skipping line 3: expected 1 fields, saw 12\\nSkipping line 4: expected 1 fields, saw 12\\nSkipping line 5: expected 1 fields, saw 12\\nSkipping line 6: expected 1 fields, saw 12\\nSkipping line 7: expected 1 fields, saw 12\\nSkipping line 8: expected 1 fields, saw 12\\nSkipping line 9: expected 1 fields, saw 12\\nSkipping line 10: expected 1 fields, saw 12\\nSkipping line 11: expected 1 fields, saw 12\\nSkipping line 12: expected 1 fields, saw 12\\nSkipping line 13: expected 1 fields, saw 12\\nSkipping line 14: expected 1 fields, saw 12\\nSkipping line 15: expected 1 fields, saw 12\\nSkipping line 16: expected 1 fields, saw 12\\nSkipping line 17: expected 1 fields, saw 12\\nSkipping line 18: expected 1 fields, saw 12\\nSkipping line 21: expected 1 fields, saw 12\\nSkipping line 22: expected 1 fields, saw 12\\nSkipping line 23: expected 1 fields, saw 12\\nSkipping line 24: expected 1 fields, saw 12\\nSkipping line 25: expected 1 fields, saw 12\\nSkipping line 26: expected 1 fields, saw 12\\nSkipping line 27: expected 1 fields, saw 12\\nSkipping line 28: expected 1 fields, saw 12\\nSkipping line 29: expected 1 fields, saw 12\\nSkipping line 30: expected 1 fields, saw 12\\nSkipping line 32: expected 1 fields, saw 12\\nSkipping line 33: expected 1 fields, saw 12\\nSkipping line 34: expected 1 fields, saw 12\\nSkipping line 35: expected 1 fields, saw 12\\nSkipping line 36: expected 1 fields, saw 12\\nSkipping line 37: expected 1 fields, saw 12\\nSkipping line 38: expected 1 fields, saw 12\\nSkipping line 39: expected 1 fields, saw 12\\nSkipping line 40: expected 1 fields, saw 12\\nSkipping line 43: expected 1 fields, saw 12\\nSkipping line 45: expected 1 fields, saw 12\\nSkipping line 46: expected 1 fields, saw 12\\nSkipping line 47: expected 1 fields, saw 12\\nSkipping line 48: expected 1 fields, saw 12\\nSkipping line 50: expected 1 fields, saw 12\\nSkipping line 51: expected 1 fields, saw 12\\nSkipping line 52: expected 1 fields, saw 12\\nSkipping line 53: expected 1 fields, saw 12\\nSkipping line 55: expected 1 fields, saw 12\\nSkipping line 56: expected 1 fields, saw 12\\nSkipping line 57: expected 1 fields, saw 12\\nSkipping line 58: expected 1 fields, saw 12\\nSkipping line 60: expected 1 fields, saw 12\\nSkipping line 61: expected 1 fields, saw 12\\nSkipping line 62: expected 1 fields, saw 12\\nSkipping line 63: expected 1 fields, saw 12\\nSkipping line 66: expected 1 fields, saw 12\\nSkipping line 67: expected 1 fields, saw 12\\nSkipping line 68: expected 1 fields, saw 12\\nSkipping line 69: expected 1 fields, saw 12\\nSkipping line 70: expected 1 fields, saw 12\\nSkipping line 71: expected 1 fields, saw 12\\nSkipping line 74: expected 1 fields, saw 12\\nSkipping line 75: expected 1 fields, saw 12\\nSkipping line 76: expected 1 fields, saw 12\\nSkipping line 77: expected 1 fields, saw 12\\nSkipping line 78: expected 1 fields, saw 12\\nSkipping line 79: expected 1 fields, saw 12\\nSkipping line 80: expected 1 fields, saw 12\\nSkipping line 81: expected 1 fields, saw 12\\nSkipping line 82: expected 1 fields, saw 12\\nSkipping line 83: expected 1 fields, saw 12\\nSkipping line 84: expected 1 fields, saw 12\\nSkipping line 85: expected 1 fields, saw 12\\nSkipping line 86: expected 1 fields, saw 12\\nSkipping line 87: expected 1 fields, saw 12\\nSkipping line 88: expected 1 fields, saw 12\\nSkipping line 89: expected 1 fields, saw 12\\nSkipping line 90: expected 1 fields, saw 12\\nSkipping line 91: expected 1 fields, saw 12\\nSkipping line 92: expected 1 fields, saw 12\\nSkipping line 93: expected 1 fields, saw 12\\nSkipping line 94: expected 1 fields, saw 12\\nSkipping line 96: expected 1 fields, saw 12\\nSkipping line 97: expected 1 fields, saw 12\\nSkipping line 98: expected 1 fields, saw 12\\nSkipping line 99: expected 1 fields, saw 12\\nSkipping line 100: expected 1 fields, saw 12\\nSkipping line 103: expected 1 fields, saw 12\\nSkipping line 104: expected 1 fields, saw 12\\nSkipping line 105: expected 1 fields, saw 12\\nSkipping line 106: expected 1 fields, saw 12\\nSkipping line 107: expected 1 fields, saw 12\\nSkipping line 108: expected 1 fields, saw 12\\nSkipping line 109: expected 1 fields, saw 12\\nSkipping line 110: expected 1 fields, saw 12\\nSkipping line 111: expected 1 fields, saw 12\\n'\n"
     ]
    }
   ],
   "source": [
    "#df2 = pd.read_csv('data/pfe_key_ratios.csv')\n",
    "\n",
    "'''\n",
    "The first line will throw an error, becuase of some problems with how the file is structured. The\n",
    "exact error is: \"CParserError: Error tokenizing data. C error: Expected 1 fields in line 3, saw 12\"\n",
    "\n",
    "Remember \"Don't reinvent the wheel\". A good practice is to copy the exact error you get, paste \n",
    "it into Google, and see how others solved the problem.  In my case, this url provided the workaround:\n",
    "http://stackoverflow.com/questions/18039057/python-pandas-error-tokenizing-data\n",
    "'''\n",
    "df2 = pd.read_csv('data/pfe_key_ratios.csv',error_bad_lines=False);\n",
    "df2; # remove the semicolon to see the output"
   ]
  },
  {
   "cell_type": "markdown",
   "metadata": {},
   "source": [
    "Whoa!!!!  That red means Python is giving us a warning, and if you look closely, you see a lot of skpped data. Everything actualy. MorningStar's export CSV is not something pandas likes.  Close inspection of the spreadsheet highlights the problem.  \n",
    "\n",
    "![LibreOffice](files/images/LibreOffice.png)\n",
    "\n",
    "The export is nice and structured, but the organization of the data is not something pandas appreciates. Could we write something to read this, probably. But that would take some time. To be fair, I now have everything I need to continue this work in LibreOffice Calc (free and more than capable alternative to Microsoft Excel). Our goal is to do this in Python.   \n",
    "\n",
    "**This is the \"kind of\" old way of getting data and is likely the most used method today**.  It's a super quick option to get data for analysis in spreadsheets, but let's highlight some advantages and disadvantages:\n",
    "1. **Advantages**\n",
    "  * Again, we get the exact data we want\n",
    "  * Quick!  We got everything in one spreadhsheet very quickly\n",
    "  * We don't worry about fake data or viruses; the data is coming from the provider's portal\n",
    "  * We get a lot of practice on constructing and relating python data structures\n",
    "  \n",
    "2. **Disadvantages**\n",
    "  * The format isn't ready for pandas ingest without some tedious wrangling\n",
    "  * We're back to manual analysis; we'll be cutting and pasting data to different sheets \n",
    "  * The data is only as current as the download you get\n",
    "  * Process will be stored locally; not available to others"
   ]
  },
  {
   "cell_type": "markdown",
   "metadata": {},
   "source": [
    "# Getting data from the data provider the new way\n",
    "\n",
    "Last, we'll look at a pythonic way to get this data.  Just as Warren Buffett has his rules to investing, there's a rule that governs the lives of most programmers, coders, data scientists, etc.  [That rule is, \"Don't reinvent the wheel!!\"](http://blog.codinghorror.com/dont-reinvent-the-wheel-unless-you-plan-on-learning-more-about-wheels/)  \n",
    "\n",
    "Chances are, someone, somewhere out there has faced the same problem I'm facing right now.  There are even greater chances that this someone solved the problem, or is farther along at solving the problem than I am.  So, what's my problem?  ** I want to access 10 years of fundamental financial data from MorningStar.com without leaving the Python environment.**  After a few Google searches, I found Peter Cerno's [**good-morning**](https://github.com/petercerno/good-morning/blob/master/good_morning.py) (referred to as *Good Morning* from now on) repository on [GitHub.com](https://github.com/).  Sure enough, my obscure and seemingly crazy problem was solved; COMPLETELY!  *Good Morning* is a simple Python module for downloading fundamental financial data from financials.morningstar.com.  If you followed all the instructions in the environment set up section above, we're ready to give it a whirl.  <font color='red'>**Remember, you must be using an environment with Python 3 to use *Good Morning***</font>.  Let's see how this module does with Pfizer data!"
   ]
  },
  {
   "cell_type": "code",
   "execution_count": 30,
   "metadata": {
    "collapsed": false
   },
   "outputs": [
    {
     "data": {
      "text/plain": [
       "[Period                            2005      2006      2007      2008  \\\n",
       " Key Financials USD                                                     \n",
       " Revenue USD Mil               21931.00  22148.00  24082.00  28438.00   \n",
       " Gross Margin %                   26.50     30.60     32.50     31.20   \n",
       " Operating Income USD Mil       2917.00   3191.00   3827.00   4261.00   \n",
       " Operating Margin %               13.30     14.40     15.90     15.00   \n",
       " Net Income USD Mil             1447.00   1694.00   1822.00   2053.00   \n",
       " Earnings Per Share USD            2.94      3.59      4.00      4.70   \n",
       " Dividends USD                     0.61      0.78      0.91      1.06   \n",
       " Payout Ratio %                     NaN     25.30     22.80     22.60   \n",
       " Shares Mil                      493.00    472.00    455.00    436.00   \n",
       " Book Value Per Share USD           NaN     16.48     16.28     15.47   \n",
       " Operating Cash Flow USD Mil    1217.00    973.00   2759.00   1949.00   \n",
       " Cap Spending USD Mil           -513.00   -766.00  -1484.00  -1608.00   \n",
       " Free Cash Flow USD Mil          704.00    207.00   1275.00    341.00   \n",
       " Free Cash Flow Per Share USD       NaN      0.44      2.80      0.78   \n",
       " Working Capital USD Mil       14452.00  13986.00  11919.00  12582.00   \n",
       " \n",
       " Period                            2009      2010      2011      2012  \\\n",
       " Key Financials USD                                                     \n",
       " Revenue USD Mil               23112.00  26005.00  32013.00  36157.00   \n",
       " Gross Margin %                   28.10     31.80     31.20     30.50   \n",
       " Operating Income USD Mil       1340.00   3025.00   4223.00   4734.00   \n",
       " Operating Margin %                5.80     11.60     13.20     13.10   \n",
       " Net Income USD Mil              874.00   1865.00   2800.00   3065.00   \n",
       " Earnings Per Share USD            2.06      4.35      6.63      7.63   \n",
       " Dividends USD                     1.12      1.16      1.52      1.79   \n",
       " Payout Ratio %                   33.00     41.10     22.90     23.50   \n",
       " Shares Mil                      424.00    429.00    422.00    402.00   \n",
       " Book Value Per Share USD         17.54     14.48     16.75     17.64   \n",
       " Operating Cash Flow USD Mil    1985.00   2282.00   2326.00   1168.00   \n",
       " Cap Spending USD Mil          -1308.00  -1313.00  -1681.00  -2121.00   \n",
       " Free Cash Flow USD Mil          677.00    969.00    646.00   -953.00   \n",
       " Free Cash Flow Per Share USD     -0.27      3.21      1.53     -2.37   \n",
       " Working Capital USD Mil       18105.00  19003.00  18755.00  23628.00   \n",
       " \n",
       " Period                            2013      2014      2015  \n",
       " Key Financials USD                                          \n",
       " Revenue USD Mil               37795.00  36067.00  31112.00  \n",
       " Gross Margin %                   32.10     31.30     30.70  \n",
       " Operating Income USD Mil       6225.00   5461.00   4089.00  \n",
       " Operating Margin %               16.50     15.10     13.10  \n",
       " Net Income USD Mil             3537.00   3162.00   2238.00  \n",
       " Earnings Per Share USD            9.09      8.63      6.52  \n",
       " Dividends USD                     1.99      2.22      2.40  \n",
       " Payout Ratio %                   22.30     23.90     36.80  \n",
       " Shares Mil                      389.00    366.00    343.00  \n",
       " Book Value Per Share USD         22.98     31.35     23.53  \n",
       " Operating Cash Flow USD Mil    3254.00   3526.00   4036.00  \n",
       " Cap Spending USD Mil          -2375.00  -2659.00  -2786.00  \n",
       " Free Cash Flow USD Mil          879.00    867.00   1250.00  \n",
       " Free Cash Flow Per Share USD      1.17      2.45       NaN  \n",
       " Working Capital USD Mil       23124.00  24812.00       NaN  ,\n",
       " Period                    2005    2006    2007    2008    2009    2010  \\\n",
       " Key Margins % of Sales                                                   \n",
       " Revenue                 100.00  100.00  100.00  100.00  100.00  100.00   \n",
       " COGS                     73.49   69.36   67.49   68.83   71.88   68.23   \n",
       " Gross Margin             26.51   30.64   32.51   31.17   28.12   31.77   \n",
       " SG&A                     10.12   12.95   13.23   12.87   12.03   11.42   \n",
       " R&D                       3.09    3.28    3.39    3.32    4.23    4.05   \n",
       " Other                      NaN     NaN     NaN     NaN    6.07    4.67   \n",
       " Operating Margin         13.30   14.41   15.89   14.98    5.80   11.63   \n",
       " Net Int Inc & Other      -3.47   -4.59   -4.78   -4.00     NaN     NaN   \n",
       " EBT Margin                9.83    9.81   11.11   10.98    5.80   11.63   \n",
       " \n",
       " Period                    2011    2012    2013    2014    2015  \n",
       " Key Margins % of Sales                                          \n",
       " Revenue                 100.00  100.00  100.00  100.00  100.00  \n",
       " COGS                     68.83   69.50   67.91   68.69   69.33  \n",
       " Gross Margin             31.17   30.50   32.09   31.31   30.67  \n",
       " SG&A                     10.50   10.13   10.46   10.00   10.70  \n",
       " R&D                       3.83    3.96    3.91    4.03    4.61  \n",
       " Other                     3.65    3.31    1.25    2.13    2.22  \n",
       " Operating Margin         13.19   13.09   16.47   15.14   13.14  \n",
       " Net Int Inc & Other        NaN     NaN   -1.96   -1.84   -2.22  \n",
       " EBT Margin               13.19   13.09   14.51   13.30   10.93  ,\n",
       " Period                         2005   2006   2007   2008   2009   2010   2011  \\\n",
       " Key Profitability                                                               \n",
       " Tax Rate %                    33.17  34.12  33.00  35.57  34.33  38.40  33.71   \n",
       " Net Margin %                   6.60   7.65   7.56   7.22   3.78   7.17   8.75   \n",
       " Asset Turnover (Average)       0.70   0.65   0.66   0.74   0.58   0.62   0.70   \n",
       " Return on Assets %             4.64   4.96   4.97   5.31   2.19   4.42   6.12   \n",
       " Financial Leverage (Average)   4.91   4.63   5.39   5.93   8.54   6.88   7.09   \n",
       " Return on Equity %            21.85  23.62  24.87  29.99  15.39  33.58  42.78   \n",
       " Return on Invested Capital %   4.28   4.53   4.33   5.02   1.19   4.13   6.34   \n",
       " Interest Coverage               NaN    NaN    NaN    NaN    NaN    NaN    NaN   \n",
       " \n",
       " Period                         2012   2013   2014   2015  \n",
       " Key Profitability                                         \n",
       " Tax Rate %                    35.05  35.49  33.90  33.90  \n",
       " Net Margin %                   8.48   9.36   8.77   7.19  \n",
       " Asset Turnover (Average)       0.69   0.65   0.60   0.52  \n",
       " Return on Assets %             5.87   6.11   5.23   3.71  \n",
       " Financial Leverage (Average)   8.22   5.80   6.77   7.63  \n",
       " Return on Equity %            44.93  41.35  32.72  24.13  \n",
       " Return on Invested Capital %   6.29   6.31   4.61   2.40  \n",
       " Interest Coverage               NaN   8.40   8.23   5.93  ,\n",
       " Period           2005   2006   2007   2008   2009   2010   2011   2012   2013  \\\n",
       " Key Revenue %                                                                   \n",
       " Year over Year    NaN   0.99   8.73  18.09 -18.73  12.51  23.10  12.95   4.53   \n",
       " 3-Year Average    NaN  12.55   6.41   9.05   1.43   2.59   4.03  16.09  13.27   \n",
       " 5-Year Average    NaN  10.75  11.54  12.85   2.95   3.47   7.65   8.47   5.85   \n",
       " 10-Year Average   NaN   7.13   6.68   7.63   7.21   7.21   9.19   9.99   9.30   \n",
       " \n",
       " Period           2014   2015  \n",
       " Key Revenue %                 \n",
       " Year over Year  -4.57 -20.07  \n",
       " 3-Year Average   4.06    NaN  \n",
       " 5-Year Average   9.31    NaN  \n",
       " 10-Year Average  6.08    NaN  ,\n",
       " Period                  2005   2006   2007   2008   2009    2010   2011  \\\n",
       " Key Operating Income %                                                    \n",
       " Year over Year           NaN   9.41  19.91  11.34 -68.56  125.79  39.59   \n",
       " 3-Year Average           NaN  25.88  12.25  13.46 -25.12   -7.54  -0.30   \n",
       " 5-Year Average           NaN  33.92  25.28  21.64 -13.11    0.73   5.76   \n",
       " 10-Year Average          NaN   7.23   8.11   8.50   6.82    8.98  19.01   \n",
       " \n",
       " Period                   2012   2013   2014   2015  \n",
       " Key Operating Income %                              \n",
       " Year over Year          12.12  31.48 -12.26 -37.07  \n",
       " 3-Year Average          52.31  27.19   8.95    NaN  \n",
       " 5-Year Average           4.35   7.88  32.45    NaN  \n",
       " 10-Year Average         14.34  14.55   7.28    NaN  ,\n",
       " Period            2005   2006   2007   2008   2009    2010   2011   2012  \\\n",
       " Key Net Income %                                                           \n",
       " Year over Year     NaN  17.07   7.55  12.69 -57.45  113.51  50.13   9.46   \n",
       " 3-Year Average     NaN  38.10   9.02  12.37 -19.81    0.79  10.90  51.95   \n",
       " 5-Year Average     NaN    NaN  41.67  26.13  -9.08    5.21  10.57  10.96   \n",
       " 10-Year Average    NaN   7.56   6.61   7.23  13.83   14.41    NaN  25.38   \n",
       " \n",
       " Period             2013   2014  2015  \n",
       " Key Net Income %                      \n",
       " Year over Year    15.42 -10.62   NaN  \n",
       " 3-Year Average    23.78   4.13   NaN  \n",
       " 5-Year Average    11.50  29.34   NaN  \n",
       " 10-Year Average   18.59   8.44   NaN  ,\n",
       " Period           2005   2006   2007   2008   2009    2010   2011   2012  \\\n",
       " Key EPS %                                                                 \n",
       " Year over Year    NaN  22.32  11.42  17.50 -56.17  111.17  52.41  15.08   \n",
       " 3-Year Average    NaN  39.59  12.89  16.99 -16.90    2.84  12.15  54.72   \n",
       " 5-Year Average    NaN    NaN  43.17  28.92  -5.82    8.19  13.05  13.79   \n",
       " 10-Year Average   NaN   8.62   7.79   8.49  14.98   15.50    NaN  27.64   \n",
       " \n",
       " Period            2013   2014   2015  \n",
       " Key EPS %                             \n",
       " Year over Year   19.14  -5.06 -34.33  \n",
       " 3-Year Average   27.85   9.19    NaN  \n",
       " 5-Year Average   14.10  33.18    NaN  \n",
       " 10-Year Average  21.28  11.99    NaN  ,\n",
       " Period                            2005   2006    2007   2008   2009   2010  \\\n",
       " Key Cash Flow Ratios                                                         \n",
       " Operating Cash Flow Growth % YOY   NaN -20.01  183.54 -29.37   1.84  14.98   \n",
       " Free Cash Flow Growth % YOY        NaN -70.57  515.44 -73.27  98.56  43.25   \n",
       " Cap Ex as a % of Sales            2.34   3.46    6.16   5.66   5.66   5.05   \n",
       " Free Cash Flow/Sales %            3.21   0.94    5.30   1.20   2.93   3.73   \n",
       " Free Cash Flow/Net Income         0.49   0.12    0.70   0.17   0.77   0.52   \n",
       " \n",
       " Period                             2011   2012    2013  2014  2015  \n",
       " Key Cash Flow Ratios                                                \n",
       " Operating Cash Flow Growth % YOY   1.93 -49.80  178.69  8.35   NaN  \n",
       " Free Cash Flow Growth % YOY      -33.41    NaN     NaN -1.41   NaN  \n",
       " Cap Ex as a % of Sales             5.25   5.87    6.28  7.37  8.95  \n",
       " Free Cash Flow/Sales %             2.02  -2.64    2.33  2.40  4.02  \n",
       " Free Cash Flow/Net Income          0.23  -0.31    0.25  0.27  0.56  ,\n",
       " Period                            2005    2006    2007    2008    2009  \\\n",
       " Key Balance Sheet Items (in %)                                           \n",
       " Cash & Short-Term Investments    14.00   10.09   10.11    8.23   11.78   \n",
       " Accounts Receivable              53.59   57.27   56.00   55.78   53.20   \n",
       " Inventory                         6.35    5.64    6.06    7.85    5.83   \n",
       " Other Current Assets              3.97    4.30     NaN     NaN    4.21   \n",
       " Total Current Assets             77.90   77.30   72.17   71.86   75.02   \n",
       " Net PP&E                          7.03    7.96   13.58   14.89   11.02   \n",
       " Intangibles                       3.29    3.36    3.54    3.58    2.85   \n",
       " Other Long-Term Assets           11.78   11.38   10.71    9.67   11.11   \n",
       " Total Assets                    100.00  100.00  100.00  100.00  100.00   \n",
       " Accounts Payable                 13.03   12.91   13.89   16.51    4.18   \n",
       " Short-Term Debt                  20.47   23.39   25.84   22.00   17.40   \n",
       " Taxes Payable                      NaN     NaN     NaN     NaN    0.15   \n",
       " Accrued Liabilities               0.64    0.44    0.71     NaN    7.89   \n",
       " Other Short-Term Liabilities      0.80    0.28    0.83    0.88    1.37   \n",
       " Total Current Liabilities        34.94   37.02   41.27   39.38   31.00   \n",
       " Long-Term Debt                   34.90   33.36   30.58   35.88   42.28   \n",
       " Other Long-Term Liabilities       9.80    8.04    9.59    7.87   15.00   \n",
       " Total Liabilities                79.63   78.42   81.45   83.13   88.28   \n",
       " Total Stockholders' Equity       20.37   21.58   18.55   16.87   11.72   \n",
       " Total Liabilities & Equity      100.00  100.00  100.00  100.00  100.00   \n",
       " \n",
       " Period                            2010    2011    2012    2013    2014    2015  \n",
       " Key Balance Sheet Items (in %)                                                  \n",
       " Cash & Short-Term Investments     9.29    9.20   10.88    8.62    8.16    7.72  \n",
       " Accounts Receivable              56.28   57.05   55.85   58.87   60.05   59.05  \n",
       " Inventory                         7.08    9.07    9.19    8.29    6.86    7.33  \n",
       " Other Current Assets              4.48     NaN     NaN     NaN     NaN     NaN  \n",
       " Total Current Assets             77.12   75.31   75.92   75.78   75.07   74.10  \n",
       " Net PP&E                          8.76   13.49   13.40    9.18   15.64    8.70  \n",
       " Intangibles                       2.58    2.34    1.82    1.55    1.40    1.31  \n",
       " Other Long-Term Assets           11.54    8.86    8.85   13.49    7.89   15.89  \n",
       " Total Assets                    100.00  100.00  100.00  100.00  100.00  100.00  \n",
       " Accounts Payable                  5.51    4.88    4.41     NaN     NaN     NaN  \n",
       " Short-Term Debt                  17.41   19.98   17.71   21.67   20.51   23.66  \n",
       " Taxes Payable                     0.36    0.34     NaN     NaN     NaN     NaN  \n",
       " Accrued Liabilities               8.82    9.48    6.60     NaN     NaN     NaN  \n",
       " Other Short-Term Liabilities      1.10    1.73    5.21   15.26   14.11   12.40  \n",
       " Total Current Liabilities        33.20   36.41   33.93   36.93   34.62   36.06  \n",
       " Long-Term Debt                   38.86   35.18   39.91   36.25   39.75   39.37  \n",
       " Other Long-Term Liabilities      13.40   14.30   14.00    9.58   10.86   11.46  \n",
       " Total Liabilities                85.46   85.89   87.84   82.75   85.22   86.89  \n",
       " Total Stockholders' Equity       14.54   14.11   12.16   17.25   14.78   13.11  \n",
       " Total Liabilities & Equity      100.00  100.00  100.00  100.00  100.00  100.00  ,\n",
       " Period                          2005  2006  2007  2008  2009  2010  2011  \\\n",
       " Key Liquidity/Financial Health                                             \n",
       " Current Ratio                   2.23  2.09  1.75  1.82  2.42  2.32  2.07   \n",
       " Quick Ratio                     1.93  1.82  1.60  1.63  2.10  1.97  1.82   \n",
       " Financial Leverage              4.91  4.63  5.39  5.93  8.54  6.88  7.09   \n",
       " Debt/Equity                     1.71  1.55  1.65  2.13  3.61  2.67  2.49   \n",
       " \n",
       " Period                          2012  2013  2014  2015  \n",
       " Key Liquidity/Financial Health                          \n",
       " Current Ratio                   2.24  2.05  2.17  2.05  \n",
       " Quick Ratio                     1.97  1.83  1.97  1.85  \n",
       " Financial Leverage              8.22  5.80  6.77  7.63  \n",
       " Debt/Equity                     3.28  2.10  2.69  3.00  ,\n",
       " Period                   2005    2006    2007    2008   2009   2010   2011  \\\n",
       " Key Efficiency Ratios                                                        \n",
       " Days Sales Outstanding  52.63   50.72   46.17   40.36  53.33  71.49  56.79   \n",
       " Days Inventory          46.81   48.62   48.22   50.15  59.75  56.16  61.57   \n",
       " Payables Period         94.63  105.34  110.50  109.56  89.15  42.21  39.21   \n",
       " Cash Conversion Cycle    4.81   -6.00  -16.10  -19.05  23.94  85.44  79.15   \n",
       " Receivables Turnover     6.93    7.20    7.91    9.04   6.84   5.11   6.43   \n",
       " Inventory Turnover       7.80    7.51    7.57    7.28   6.11   6.50   5.93   \n",
       " Fixed Assets Turnover    9.69    8.64    6.02    5.17   4.49   6.25   6.22   \n",
       " Asset Turnover           0.70    0.65    0.66    0.74   0.58   0.62   0.70   \n",
       " \n",
       " Period                   2012   2013    2014    2015  \n",
       " Key Efficiency Ratios                                 \n",
       " Days Sales Outstanding  35.80  36.49   35.60   51.46  \n",
       " Days Inventory          69.29  71.85   67.36   82.56  \n",
       " Payables Period         35.09  18.40    1.53    1.39  \n",
       " Cash Conversion Cycle   70.00  89.94  101.43  132.63  \n",
       " Receivables Turnover    10.19  10.00   10.25    7.09  \n",
       " Inventory Turnover       5.27   5.08    5.42    4.42  \n",
       " Fixed Assets Turnover    5.15   5.81    4.79    5.92  \n",
       " Asset Turnover           0.69   0.65    0.60    0.52  ]"
      ]
     },
     "execution_count": 30,
     "metadata": {},
     "output_type": "execute_result"
    }
   ],
   "source": [
    "# Let's import the module\n",
    "import good_morning as gm \n",
    "\n",
    "\n",
    "# if you get an error, remember you must have the .py file in a directory listed in the sys.path printout\n",
    "\n",
    "# Use the example at https://github.com/petercerno/good-morning/blob/master/README.md for syntax\n",
    "\n",
    "# We call the module to load the Key ratios\n",
    "kr = gm.KeyRatiosDownloader()\n",
    "\n",
    "# Now we enter the ticker symbol for the company's data we want.  We want Pfizer. We look at the output\n",
    "data = kr.download('DE')\n",
    "data # remove the semicolon to see the output"
   ]
  },
  {
   "cell_type": "markdown",
   "metadata": {},
   "source": [
    "Great! We have all the data, but we don't know what type of data structure this is. Let's look:"
   ]
  },
  {
   "cell_type": "markdown",
   "metadata": {},
   "source": [
    "So it's a list, which means we can access different elements using list indexes.  The basic syntax is list[integer] to access parts of the python list. It's important to remeber python lists are zero indexed; the first element is 0, not 1.  So, let's try an example:"
   ]
  },
  {
   "cell_type": "code",
   "execution_count": 7,
   "metadata": {
    "collapsed": false
   },
   "outputs": [
    {
     "data": {
      "text/plain": [
       "list"
      ]
     },
     "execution_count": 7,
     "metadata": {},
     "output_type": "execute_result"
    }
   ],
   "source": [
    "type(data)"
   ]
  },
  {
   "cell_type": "code",
   "execution_count": 8,
   "metadata": {
    "collapsed": false
   },
   "outputs": [
    {
     "data": {
      "text/html": [
       "<div>\n",
       "<table border=\"1\" class=\"dataframe\">\n",
       "  <thead>\n",
       "    <tr style=\"text-align: right;\">\n",
       "      <th>Key Financials USD</th>\n",
       "      <th>Revenue USD Mil</th>\n",
       "      <th>Gross Margin %</th>\n",
       "      <th>Operating Income USD Mil</th>\n",
       "      <th>Operating Margin %</th>\n",
       "      <th>Net Income USD Mil</th>\n",
       "      <th>Earnings Per Share USD</th>\n",
       "      <th>Dividends USD</th>\n",
       "      <th>Payout Ratio %</th>\n",
       "      <th>Shares Mil</th>\n",
       "      <th>Book Value Per Share USD</th>\n",
       "      <th>Operating Cash Flow USD Mil</th>\n",
       "      <th>Cap Spending USD Mil</th>\n",
       "      <th>Free Cash Flow USD Mil</th>\n",
       "      <th>Free Cash Flow Per Share USD</th>\n",
       "      <th>Working Capital USD Mil</th>\n",
       "    </tr>\n",
       "    <tr>\n",
       "      <th>Period</th>\n",
       "      <th></th>\n",
       "      <th></th>\n",
       "      <th></th>\n",
       "      <th></th>\n",
       "      <th></th>\n",
       "      <th></th>\n",
       "      <th></th>\n",
       "      <th></th>\n",
       "      <th></th>\n",
       "      <th></th>\n",
       "      <th></th>\n",
       "      <th></th>\n",
       "      <th></th>\n",
       "      <th></th>\n",
       "      <th></th>\n",
       "    </tr>\n",
       "  </thead>\n",
       "  <tbody>\n",
       "    <tr>\n",
       "      <th>2005</th>\n",
       "      <td>21931</td>\n",
       "      <td>26.5</td>\n",
       "      <td>2917</td>\n",
       "      <td>13.3</td>\n",
       "      <td>1447</td>\n",
       "      <td>2.94</td>\n",
       "      <td>0.61</td>\n",
       "      <td>NaN</td>\n",
       "      <td>493</td>\n",
       "      <td>NaN</td>\n",
       "      <td>1217</td>\n",
       "      <td>-513</td>\n",
       "      <td>704</td>\n",
       "      <td>NaN</td>\n",
       "      <td>14452</td>\n",
       "    </tr>\n",
       "    <tr>\n",
       "      <th>2006</th>\n",
       "      <td>22148</td>\n",
       "      <td>30.6</td>\n",
       "      <td>3191</td>\n",
       "      <td>14.4</td>\n",
       "      <td>1694</td>\n",
       "      <td>3.59</td>\n",
       "      <td>0.78</td>\n",
       "      <td>25.3</td>\n",
       "      <td>472</td>\n",
       "      <td>16.48</td>\n",
       "      <td>973</td>\n",
       "      <td>-766</td>\n",
       "      <td>207</td>\n",
       "      <td>0.44</td>\n",
       "      <td>13986</td>\n",
       "    </tr>\n",
       "    <tr>\n",
       "      <th>2007</th>\n",
       "      <td>24082</td>\n",
       "      <td>32.5</td>\n",
       "      <td>3827</td>\n",
       "      <td>15.9</td>\n",
       "      <td>1822</td>\n",
       "      <td>4.00</td>\n",
       "      <td>0.91</td>\n",
       "      <td>22.8</td>\n",
       "      <td>455</td>\n",
       "      <td>16.28</td>\n",
       "      <td>2759</td>\n",
       "      <td>-1484</td>\n",
       "      <td>1275</td>\n",
       "      <td>2.80</td>\n",
       "      <td>11919</td>\n",
       "    </tr>\n",
       "    <tr>\n",
       "      <th>2008</th>\n",
       "      <td>28438</td>\n",
       "      <td>31.2</td>\n",
       "      <td>4261</td>\n",
       "      <td>15.0</td>\n",
       "      <td>2053</td>\n",
       "      <td>4.70</td>\n",
       "      <td>1.06</td>\n",
       "      <td>22.6</td>\n",
       "      <td>436</td>\n",
       "      <td>15.47</td>\n",
       "      <td>1949</td>\n",
       "      <td>-1608</td>\n",
       "      <td>341</td>\n",
       "      <td>0.78</td>\n",
       "      <td>12582</td>\n",
       "    </tr>\n",
       "    <tr>\n",
       "      <th>2009</th>\n",
       "      <td>23112</td>\n",
       "      <td>28.1</td>\n",
       "      <td>1340</td>\n",
       "      <td>5.8</td>\n",
       "      <td>874</td>\n",
       "      <td>2.06</td>\n",
       "      <td>1.12</td>\n",
       "      <td>33.0</td>\n",
       "      <td>424</td>\n",
       "      <td>17.54</td>\n",
       "      <td>1985</td>\n",
       "      <td>-1308</td>\n",
       "      <td>677</td>\n",
       "      <td>-0.27</td>\n",
       "      <td>18105</td>\n",
       "    </tr>\n",
       "    <tr>\n",
       "      <th>2010</th>\n",
       "      <td>26005</td>\n",
       "      <td>31.8</td>\n",
       "      <td>3025</td>\n",
       "      <td>11.6</td>\n",
       "      <td>1865</td>\n",
       "      <td>4.35</td>\n",
       "      <td>1.16</td>\n",
       "      <td>41.1</td>\n",
       "      <td>429</td>\n",
       "      <td>14.48</td>\n",
       "      <td>2282</td>\n",
       "      <td>-1313</td>\n",
       "      <td>969</td>\n",
       "      <td>3.21</td>\n",
       "      <td>19003</td>\n",
       "    </tr>\n",
       "    <tr>\n",
       "      <th>2011</th>\n",
       "      <td>32013</td>\n",
       "      <td>31.2</td>\n",
       "      <td>4223</td>\n",
       "      <td>13.2</td>\n",
       "      <td>2800</td>\n",
       "      <td>6.63</td>\n",
       "      <td>1.52</td>\n",
       "      <td>22.9</td>\n",
       "      <td>422</td>\n",
       "      <td>16.75</td>\n",
       "      <td>2326</td>\n",
       "      <td>-1681</td>\n",
       "      <td>646</td>\n",
       "      <td>1.53</td>\n",
       "      <td>18755</td>\n",
       "    </tr>\n",
       "    <tr>\n",
       "      <th>2012</th>\n",
       "      <td>36157</td>\n",
       "      <td>30.5</td>\n",
       "      <td>4734</td>\n",
       "      <td>13.1</td>\n",
       "      <td>3065</td>\n",
       "      <td>7.63</td>\n",
       "      <td>1.79</td>\n",
       "      <td>23.5</td>\n",
       "      <td>402</td>\n",
       "      <td>17.64</td>\n",
       "      <td>1168</td>\n",
       "      <td>-2121</td>\n",
       "      <td>-953</td>\n",
       "      <td>-2.37</td>\n",
       "      <td>23628</td>\n",
       "    </tr>\n",
       "    <tr>\n",
       "      <th>2013</th>\n",
       "      <td>37795</td>\n",
       "      <td>32.1</td>\n",
       "      <td>6225</td>\n",
       "      <td>16.5</td>\n",
       "      <td>3537</td>\n",
       "      <td>9.09</td>\n",
       "      <td>1.99</td>\n",
       "      <td>22.3</td>\n",
       "      <td>389</td>\n",
       "      <td>22.98</td>\n",
       "      <td>3254</td>\n",
       "      <td>-2375</td>\n",
       "      <td>879</td>\n",
       "      <td>1.17</td>\n",
       "      <td>23124</td>\n",
       "    </tr>\n",
       "    <tr>\n",
       "      <th>2014</th>\n",
       "      <td>36067</td>\n",
       "      <td>31.3</td>\n",
       "      <td>5461</td>\n",
       "      <td>15.1</td>\n",
       "      <td>3162</td>\n",
       "      <td>8.63</td>\n",
       "      <td>2.22</td>\n",
       "      <td>23.9</td>\n",
       "      <td>366</td>\n",
       "      <td>31.35</td>\n",
       "      <td>3526</td>\n",
       "      <td>-2659</td>\n",
       "      <td>867</td>\n",
       "      <td>2.45</td>\n",
       "      <td>24812</td>\n",
       "    </tr>\n",
       "    <tr>\n",
       "      <th>2015</th>\n",
       "      <td>31112</td>\n",
       "      <td>30.7</td>\n",
       "      <td>4089</td>\n",
       "      <td>13.1</td>\n",
       "      <td>2238</td>\n",
       "      <td>6.52</td>\n",
       "      <td>2.40</td>\n",
       "      <td>36.8</td>\n",
       "      <td>343</td>\n",
       "      <td>23.53</td>\n",
       "      <td>4036</td>\n",
       "      <td>-2786</td>\n",
       "      <td>1250</td>\n",
       "      <td>NaN</td>\n",
       "      <td>NaN</td>\n",
       "    </tr>\n",
       "  </tbody>\n",
       "</table>\n",
       "</div>"
      ],
      "text/plain": [
       "Key Financials USD  Revenue USD Mil  Gross Margin %  Operating Income USD Mil  \\\n",
       "Period                                                                          \n",
       "2005                          21931            26.5                      2917   \n",
       "2006                          22148            30.6                      3191   \n",
       "2007                          24082            32.5                      3827   \n",
       "2008                          28438            31.2                      4261   \n",
       "2009                          23112            28.1                      1340   \n",
       "2010                          26005            31.8                      3025   \n",
       "2011                          32013            31.2                      4223   \n",
       "2012                          36157            30.5                      4734   \n",
       "2013                          37795            32.1                      6225   \n",
       "2014                          36067            31.3                      5461   \n",
       "2015                          31112            30.7                      4089   \n",
       "\n",
       "Key Financials USD  Operating Margin %  Net Income USD Mil  \\\n",
       "Period                                                       \n",
       "2005                              13.3                1447   \n",
       "2006                              14.4                1694   \n",
       "2007                              15.9                1822   \n",
       "2008                              15.0                2053   \n",
       "2009                               5.8                 874   \n",
       "2010                              11.6                1865   \n",
       "2011                              13.2                2800   \n",
       "2012                              13.1                3065   \n",
       "2013                              16.5                3537   \n",
       "2014                              15.1                3162   \n",
       "2015                              13.1                2238   \n",
       "\n",
       "Key Financials USD  Earnings Per Share USD  Dividends USD  Payout Ratio %  \\\n",
       "Period                                                                      \n",
       "2005                                  2.94           0.61             NaN   \n",
       "2006                                  3.59           0.78            25.3   \n",
       "2007                                  4.00           0.91            22.8   \n",
       "2008                                  4.70           1.06            22.6   \n",
       "2009                                  2.06           1.12            33.0   \n",
       "2010                                  4.35           1.16            41.1   \n",
       "2011                                  6.63           1.52            22.9   \n",
       "2012                                  7.63           1.79            23.5   \n",
       "2013                                  9.09           1.99            22.3   \n",
       "2014                                  8.63           2.22            23.9   \n",
       "2015                                  6.52           2.40            36.8   \n",
       "\n",
       "Key Financials USD  Shares Mil  Book Value Per Share USD  \\\n",
       "Period                                                     \n",
       "2005                       493                       NaN   \n",
       "2006                       472                     16.48   \n",
       "2007                       455                     16.28   \n",
       "2008                       436                     15.47   \n",
       "2009                       424                     17.54   \n",
       "2010                       429                     14.48   \n",
       "2011                       422                     16.75   \n",
       "2012                       402                     17.64   \n",
       "2013                       389                     22.98   \n",
       "2014                       366                     31.35   \n",
       "2015                       343                     23.53   \n",
       "\n",
       "Key Financials USD  Operating Cash Flow USD Mil  Cap Spending USD Mil  \\\n",
       "Period                                                                  \n",
       "2005                                       1217                  -513   \n",
       "2006                                        973                  -766   \n",
       "2007                                       2759                 -1484   \n",
       "2008                                       1949                 -1608   \n",
       "2009                                       1985                 -1308   \n",
       "2010                                       2282                 -1313   \n",
       "2011                                       2326                 -1681   \n",
       "2012                                       1168                 -2121   \n",
       "2013                                       3254                 -2375   \n",
       "2014                                       3526                 -2659   \n",
       "2015                                       4036                 -2786   \n",
       "\n",
       "Key Financials USD  Free Cash Flow USD Mil  Free Cash Flow Per Share USD  \\\n",
       "Period                                                                     \n",
       "2005                                   704                           NaN   \n",
       "2006                                   207                          0.44   \n",
       "2007                                  1275                          2.80   \n",
       "2008                                   341                          0.78   \n",
       "2009                                   677                         -0.27   \n",
       "2010                                   969                          3.21   \n",
       "2011                                   646                          1.53   \n",
       "2012                                  -953                         -2.37   \n",
       "2013                                   879                          1.17   \n",
       "2014                                   867                          2.45   \n",
       "2015                                  1250                           NaN   \n",
       "\n",
       "Key Financials USD  Working Capital USD Mil  \n",
       "Period                                       \n",
       "2005                                  14452  \n",
       "2006                                  13986  \n",
       "2007                                  11919  \n",
       "2008                                  12582  \n",
       "2009                                  18105  \n",
       "2010                                  19003  \n",
       "2011                                  18755  \n",
       "2012                                  23628  \n",
       "2013                                  23124  \n",
       "2014                                  24812  \n",
       "2015                                    NaN  "
      ]
     },
     "execution_count": 8,
     "metadata": {},
     "output_type": "execute_result"
    }
   ],
   "source": [
    "data[0].transpose() # remove the semicolon to see the output\n",
    "# we transposed the list to get it to match our earlier example. Dates now go from top to bottom  "
   ]
  },
  {
   "cell_type": "markdown",
   "metadata": {},
   "source": [
    "The data comes back as a list of dataframes.  We are primed for analyis.  But first, let's get the data we needed.  We want to recreate the data we had in the manual process earlier.  I'll use some intermediate pandas subsetting and slicing.  The [pandas tutorial](http://pandas.pydata.org/pandas-docs/stable/tutorials.html) covers a lot of the techniques I'm using here and more.  We will name our new dataframe, df3."
   ]
  },
  {
   "cell_type": "code",
   "execution_count": 9,
   "metadata": {
    "collapsed": false
   },
   "outputs": [],
   "source": [
    "df3=pd.concat([data[0].transpose()[['Earnings Per Share USD','Dividends USD','Book Value Per Share USD']],data[8].transpose()[['Long-Term Debt']],data[9].transpose()[['Current Ratio','Debt/Equity']],data[2].transpose()[['Return on Equity %']]],axis=1)\n",
    "df3=df3.rename(columns={'Earnings Per Share USD':'EPS', 'Dividends USD':'Dividends', 'Book Value Per Share USD':'BVPerShare',\n",
    "       'Long-Term Debt':'LTDebt', 'Current Ratio':'CurrentRatio', 'Debt/Equity':'Debt2Equity','Return on Equity %':'ROE'})\n",
    "df3['Year']=[i for i in range(2005,2016,1)]\n",
    "df3; # remove the semicolon to see the output"
   ]
  },
  {
   "cell_type": "markdown",
   "metadata": {},
   "source": [
    "**This is the modern way of getting data**.  You don't have to go directly to the data provider's web portal.  Let's highlight some advantages and disadvantages:\n",
    "\n",
    "1. **Advantages**\n",
    "  * Again, we get the exact data we want and MORE with less effort.  We don't click through tabs, just enter the ticker symbol\n",
    "  * Minimal code needed;  we had all the data we needed an more in 4 lines of code\n",
    "  * Data will load dynamically as each time the code is run, the data is updated\n",
    "  * It's already in python pandas data format\n",
    "  \n",
    "2. **Disadvantages**\n",
    "  * If the data provider changes their website or data structure, the module fails\n",
    "  * Set up to get the module as a callable tool takes some prior knowledge; can be frustrating\n",
    "  * Limited to the data the tool is structured to retrieve; if more data is available from portal, I'd never know"
   ]
  },
  {
   "cell_type": "markdown",
   "metadata": {},
   "source": [
    "![Data Analysis](files/images/data_analysis.png)"
   ]
  },
  {
   "cell_type": "markdown",
   "metadata": {},
   "source": [
    "# Rule 1: A stable and understandable business\n",
    "\n",
    "[According to BuffetBooks.com (Course 2, unit 3, lesson 2)](http://buffettsbooks.com/howtoinvestinstocks/course2/stocks/stock-stability.html#sthash.VX0jBPeo.dpuf), value investors  want to find and invest in businesses that are very steady and predictable.  Investors can look at key ratios of companies over the past 10 years to judge the stability of a company. The ultimate goal is to find companies with positive linear correlations for the key ratios. The more linear, the more predictable it is to assess how much the company will grow in 10 years.  Admittedly, a linear trend does not mean the company will increase at the same rate over the 10 year period. Furthermore, the volative company could someday be stable or very profitable.  The point is that stable companies tend to remain stable, and unstable companies tend to remain less stable.  [Companies with a history of stable increases in earnings and equity will likely do the same in the future](http://www.investopedia.com/terms/d/defensivecompany.asp).  First, a quick example of the PERFECT company"
   ]
  },
  {
   "cell_type": "code",
   "execution_count": 10,
   "metadata": {
    "collapsed": false
   },
   "outputs": [],
   "source": [
    "# Let's import the plotting tools we will use\n",
    "import matplotlib.pyplot as plt\n",
    "\n",
    "# This line of code pushes the matplotlib output to the ipython notebook vice opening another window\n",
    "%matplotlib inline\n",
    "\n",
    "# For linear regression\n",
    "from scipy import stats"
   ]
  },
  {
   "cell_type": "code",
   "execution_count": 11,
   "metadata": {
    "collapsed": false
   },
   "outputs": [
    {
     "data": {
      "text/plain": [
       "<matplotlib.text.Text at 0x10a933438>"
      ]
     },
     "execution_count": 11,
     "metadata": {},
     "output_type": "execute_result"
    },
    {
     "data": {
      "image/png": "[encoded data removed]",
      "text/plain": [
       "<matplotlib.figure.Figure at 0x10a90c6a0>"
      ]
     },
     "metadata": {},
     "output_type": "display_data"
    }
   ],
   "source": [
    "# Here is an example of the perfect linear relationship; we want our company's financials to plot like this..perfect world\n",
    "# create some fake sample data\n",
    "x = np.arange(2005,2016,1)\n",
    "y = 5*x + 10 \n",
    "\n",
    "# fit with np.polyfit\n",
    "m, b = np.polyfit(x, y, 1)\n",
    "\n",
    "plt.figure(figsize=(8,4))\n",
    "plt.plot(x, y, 'o')\n",
    "plt.plot(x, m*x + b, '-')\n",
    "plt.title('The perfect company')\n",
    "plt.xlabel('Year')\n",
    "plt.ylabel('Book value per Share ($)')"
   ]
  },
  {
   "cell_type": "markdown",
   "metadata": {},
   "source": [
    "<br>\n",
    "Let's examine Pfizer's financials in a table. At the time of this writing (November 2015), the financials for 2015 are not finished (likely only 3 Qtrs in the 2015 numbers).  Things could change at the end of the year.    "
   ]
  },
  {
   "cell_type": "code",
   "execution_count": 12,
   "metadata": {
    "collapsed": false
   },
   "outputs": [
    {
     "data": {
      "text/html": [
       "<div>\n",
       "<table border=\"1\" class=\"dataframe\">\n",
       "  <thead>\n",
       "    <tr style=\"text-align: right;\">\n",
       "      <th>Period</th>\n",
       "      <th>2005</th>\n",
       "      <th>2006</th>\n",
       "      <th>2007</th>\n",
       "      <th>2008</th>\n",
       "      <th>2009</th>\n",
       "      <th>2010</th>\n",
       "      <th>2011</th>\n",
       "      <th>2012</th>\n",
       "      <th>2013</th>\n",
       "      <th>2014</th>\n",
       "      <th>2015</th>\n",
       "    </tr>\n",
       "  </thead>\n",
       "  <tbody>\n",
       "    <tr>\n",
       "      <th>EPS</th>\n",
       "      <td>2.94</td>\n",
       "      <td>3.59</td>\n",
       "      <td>4.00</td>\n",
       "      <td>4.70</td>\n",
       "      <td>2.06</td>\n",
       "      <td>4.35</td>\n",
       "      <td>6.63</td>\n",
       "      <td>7.63</td>\n",
       "      <td>9.09</td>\n",
       "      <td>8.63</td>\n",
       "      <td>6.52</td>\n",
       "    </tr>\n",
       "    <tr>\n",
       "      <th>Dividends</th>\n",
       "      <td>0.61</td>\n",
       "      <td>0.78</td>\n",
       "      <td>0.91</td>\n",
       "      <td>1.06</td>\n",
       "      <td>1.12</td>\n",
       "      <td>1.16</td>\n",
       "      <td>1.52</td>\n",
       "      <td>1.79</td>\n",
       "      <td>1.99</td>\n",
       "      <td>2.22</td>\n",
       "      <td>2.40</td>\n",
       "    </tr>\n",
       "    <tr>\n",
       "      <th>BVPerShare</th>\n",
       "      <td>NaN</td>\n",
       "      <td>16.48</td>\n",
       "      <td>16.28</td>\n",
       "      <td>15.47</td>\n",
       "      <td>17.54</td>\n",
       "      <td>14.48</td>\n",
       "      <td>16.75</td>\n",
       "      <td>17.64</td>\n",
       "      <td>22.98</td>\n",
       "      <td>31.35</td>\n",
       "      <td>23.53</td>\n",
       "    </tr>\n",
       "    <tr>\n",
       "      <th>CurrentRatio</th>\n",
       "      <td>2.23</td>\n",
       "      <td>2.09</td>\n",
       "      <td>1.75</td>\n",
       "      <td>1.82</td>\n",
       "      <td>2.42</td>\n",
       "      <td>2.32</td>\n",
       "      <td>2.07</td>\n",
       "      <td>2.24</td>\n",
       "      <td>2.05</td>\n",
       "      <td>2.17</td>\n",
       "      <td>2.05</td>\n",
       "    </tr>\n",
       "    <tr>\n",
       "      <th>Debt2Equity</th>\n",
       "      <td>1.71</td>\n",
       "      <td>1.55</td>\n",
       "      <td>1.65</td>\n",
       "      <td>2.13</td>\n",
       "      <td>3.61</td>\n",
       "      <td>2.67</td>\n",
       "      <td>2.49</td>\n",
       "      <td>3.28</td>\n",
       "      <td>2.10</td>\n",
       "      <td>2.69</td>\n",
       "      <td>3.00</td>\n",
       "    </tr>\n",
       "    <tr>\n",
       "      <th>ROE</th>\n",
       "      <td>21.85</td>\n",
       "      <td>23.62</td>\n",
       "      <td>24.87</td>\n",
       "      <td>29.99</td>\n",
       "      <td>15.39</td>\n",
       "      <td>33.58</td>\n",
       "      <td>42.78</td>\n",
       "      <td>44.93</td>\n",
       "      <td>41.35</td>\n",
       "      <td>32.72</td>\n",
       "      <td>24.13</td>\n",
       "    </tr>\n",
       "  </tbody>\n",
       "</table>\n",
       "</div>"
      ],
      "text/plain": [
       "Period         2005   2006   2007   2008   2009   2010   2011   2012   2013  \\\n",
       "EPS            2.94   3.59   4.00   4.70   2.06   4.35   6.63   7.63   9.09   \n",
       "Dividends      0.61   0.78   0.91   1.06   1.12   1.16   1.52   1.79   1.99   \n",
       "BVPerShare      NaN  16.48  16.28  15.47  17.54  14.48  16.75  17.64  22.98   \n",
       "CurrentRatio   2.23   2.09   1.75   1.82   2.42   2.32   2.07   2.24   2.05   \n",
       "Debt2Equity    1.71   1.55   1.65   2.13   3.61   2.67   2.49   3.28   2.10   \n",
       "ROE           21.85  23.62  24.87  29.99  15.39  33.58  42.78  44.93  41.35   \n",
       "\n",
       "Period         2014   2015  \n",
       "EPS            8.63   6.52  \n",
       "Dividends      2.22   2.40  \n",
       "BVPerShare    31.35  23.53  \n",
       "CurrentRatio   2.17   2.05  \n",
       "Debt2Equity    2.69   3.00  \n",
       "ROE           32.72  24.13  "
      ]
     },
     "execution_count": 12,
     "metadata": {},
     "output_type": "execute_result"
    }
   ],
   "source": [
    "# Show a quick table with all the values\n",
    "\n",
    "df3[['EPS','Dividends','BVPerShare','CurrentRatio','Debt2Equity','ROE']].transpose()"
   ]
  },
  {
   "cell_type": "markdown",
   "metadata": {},
   "source": [
    "Now we invoke [BuffettsBooks.com's](http://buffettsbooks.com/howtoinvestinstocks/course2/stocks/stock-stability.html#sthash.VX0jBPeo.hbdJYZI9.dpbs) interpretation of the first rule. To quote:\n",
    ">\"you want the book value per share (equity) to steadily increase. You want the debt/equity to be below 0.5 and steady or declining, and you want your EPS to be growing or at least consistent. Again, this is no guarantee of the future, but it is a strong indication whether the company at least in the future has proven to have a good track record.\"\n",
    "\n",
    "Let's look at the data:"
   ]
  },
  {
   "cell_type": "code",
   "execution_count": 29,
   "metadata": {
    "collapsed": false
   },
   "outputs": [
    {
     "name": "stdout",
     "output_type": "stream",
     "text": [
      "R^2 for book value per share = 0.73683483897995339\n",
      "Slope= 1.267030303030303\n",
      "p value = 0.01505672232290849\n",
      "R^2 for debt to equity = 0.59761225569503207\n",
      "Slope= 0.1230909090909091\n",
      "p value = 0.052178258957800996\n",
      "R^2 for Earnings per share is = 0.81401297404187112\n",
      "Slope= 0.57963636363636373\n",
      "p value = 0.0022921424801715003\n"
     ]
    },
    {
     "data": {
      "text/plain": [
       "<matplotlib.text.Text at 0x10ccf11d0>"
      ]
     },
     "execution_count": 29,
     "metadata": {},
     "output_type": "execute_result"
    },
    {
     "data": {
      "image/png": "[encoded data removed]",
      "text/plain": [
       "<matplotlib.figure.Figure at 0x10ce36f60>"
      ]
     },
     "metadata": {},
     "output_type": "display_data"
    }
   ],
   "source": [
    "# We plot all the key ratios to test for linear trends to the data; we can do a correlation test for promising data\n",
    "import numpy.polynomial.polynomial as poly\n",
    "import matplotlib.pyplot as plt\n",
    "\n",
    "plt.xkcd() # nifty XKCD formatted plots\n",
    "\n",
    "# Setting up x and y for plots\n",
    "y1 = df3['BVPerShare']\n",
    "y2 = df3['Debt2Equity']\n",
    "y3 = df3['EPS']\n",
    "\n",
    "# subplots(nrows, ncols, plot_number)\n",
    "\n",
    "x = df3['Year']\n",
    "\n",
    "\n",
    "plt.figure(figsize=(18,8))\n",
    "\n",
    "plt.subplot(2, 3, 1)\n",
    "\n",
    "slope, intercept, r_value, p_value, slope_std_error = stats.linregress(x[1:], y1[1:])\n",
    "\n",
    "# Calculate some additional outputs\n",
    "predict_y = intercept + slope * x\n",
    "pred_error = y1[1:] - predict_y\n",
    "degrees_of_freedom = len(x) - 2\n",
    "residual_std_error = np.sqrt(np.sum(pred_error**2) / degrees_of_freedom)\n",
    "\n",
    "# Plotting\n",
    "plt.plot(x[1:], y1[1:], '^')\n",
    "plt.plot(x, predict_y)\n",
    "print (\"R^2 for book value per share = %r\\nSlope= %r\\np value = %r\" % (r_value, slope, p_value))\n",
    "x_new = np.linspace(x[1], x[-1], num=len(x)*10)\n",
    "coefs = poly.polyfit(x[1:], y1[1:], 2)\n",
    "ffit = poly.Polynomial(coefs)\n",
    "plt.plot(x_new, ffit(x_new), color='#660066')\n",
    "plt.title('Deere & Co.')\n",
    "plt.ylabel('BV per share')\n",
    "plt.xlabel('Year')\n",
    "\n",
    "plt.subplot(2, 3, 2)\n",
    "slope, intercept, r_value, p_value, slope_std_error = stats.linregress(x, y2)\n",
    "\n",
    "# Calculate some additional outputs\n",
    "predict_y = intercept + slope * x\n",
    "pred_error = y2 - predict_y\n",
    "degrees_of_freedom = len(x) - 2\n",
    "residual_std_error = np.sqrt(np.sum(pred_error**2) / degrees_of_freedom)\n",
    "\n",
    "# Plotting\n",
    "plt.plot(x, y2, '^')\n",
    "plt.plot(x, predict_y)\n",
    "print (\"R^2 for debt to equity = %r\\nSlope= %r\\np value = %r\" % (r_value, slope, p_value))\n",
    "plt.title('10-year Trends')\n",
    "plt.xlabel('Year')\n",
    "plt.ylabel('Debt to Equity (%)')\n",
    "\n",
    "plt.subplot(2, 3, 3)\n",
    "slope, intercept, r_value, p_value, slope_std_error = stats.linregress(x, y3)\n",
    "\n",
    "# Calculate some additional outputs\n",
    "predict_y = intercept + slope * x\n",
    "pred_error = y3 - predict_y\n",
    "degrees_of_freedom = len(x) - 2\n",
    "residual_std_error = np.sqrt(np.sum(pred_error**2) / degrees_of_freedom)\n",
    "\n",
    "# Plotting\n",
    "plt.plot(x, y3, '^')\n",
    "plt.plot(x, predict_y)\n",
    "print (\"R^2 for Earnings per share is = %r\\nSlope= %r\\np value = %r\" % (r_value, slope, p_value))\n",
    "plt.title('for Stability')\n",
    "plt.xlabel('Year')\n",
    "plt.ylabel('EPS ($)')"
   ]
  },
  {
   "cell_type": "markdown",
   "metadata": {},
   "source": [
    "# <font color = 'red'>Everything below here under construction</font>"
   ]
  },
  {
   "cell_type": "code",
   "execution_count": 14,
   "metadata": {
    "collapsed": false
   },
   "outputs": [
    {
     "name": "stdout",
     "output_type": "stream",
     "text": [
      "                            OLS Regression Results                            \n",
      "==============================================================================\n",
      "Dep. Variable:                   Year   R-squared:                       0.969\n",
      "Model:                            OLS   Adj. R-squared:                  0.962\n",
      "Method:                 Least Squares   F-statistic:                     126.6\n",
      "Date:                Sun, 22 Nov 2015   Prob (F-statistic):           8.80e-07\n",
      "Time:                        21:25:08   Log-Likelihood:                -9.1000\n",
      "No. Observations:                  11   AIC:                             24.20\n",
      "Df Residuals:                       8   BIC:                             25.39\n",
      "Df Model:                           2                                         \n",
      "Covariance Type:            nonrobust                                         \n",
      "==============================================================================\n",
      "                 coef    std err          t      P>|t|      [95.0% Conf. Int.]\n",
      "------------------------------------------------------------------------------\n",
      "const       2002.4694      0.533   3754.727      0.000      2001.240  2003.699\n",
      "Dividends      5.6763      0.634      8.952      0.000         4.214     7.139\n",
      "EPS           -0.0912      0.163     -0.560      0.591        -0.467     0.285\n",
      "==============================================================================\n",
      "Omnibus:                        5.306   Durbin-Watson:                   0.695\n",
      "Prob(Omnibus):                  0.070   Jarque-Bera (JB):                2.183\n",
      "Skew:                           1.050   Prob(JB):                        0.336\n",
      "Kurtosis:                       3.594   Cond. No.                         21.4\n",
      "==============================================================================\n",
      "\n",
      "Warnings:\n",
      "[1] Standard Errors assume that the covariance matrix of the errors is correctly specified.\n"
     ]
    },
    {
     "name": "stderr",
     "output_type": "stream",
     "text": [
      "/Users/linwood/anaconda/envs/py35/lib/python3.5/site-packages/scipy/stats/stats.py:1277: UserWarning: kurtosistest only valid for n>=20 ... continuing anyway, n=11\n",
      "  \"anyway, n=%i\" % int(n))\n"
     ]
    }
   ],
   "source": [
    "import statsmodels.api as sm\n",
    "import matplotlib.pyplot as plt\n",
    "from statsmodels.sandbox.regression.predstd import wls_prediction_std\n",
    "\n",
    "X = df3[['Dividends','EPS']]\n",
    "y = df3['Year']\n",
    "\n",
    "## fit a OLS model with intercept on TV and Radio\n",
    "X = sm.add_constant(X)\n",
    "est = sm.OLS(y, X).fit()\n",
    "\n",
    "print (est.summary())"
   ]
  },
  {
   "cell_type": "markdown",
   "metadata": {},
   "source": [
    "Pfizer's business model did not change between 2008-2009.  \"Mr. Market\" however, did change and the market crash is what got him into a fit.  For this analysis, it is important to remember that some financials were impacted by events outside of Pfizer's control.  Any endeavor to evaluate the attractiveness of investing in a business must consider all of the information available. We can now conclude that **Pfizer has pretty stable financials**. That is exemplified in the current ratio plot above.  Note the consistent trends in key financials (book value per share, dividends, debt-to-equity, and current ratio) after the 2008-2009 timeframe; after the setback, the same slope and trend continue.  As stated, stable companies tend to remain stable, and unstable companies tend to remain less stable.   "
   ]
  },
  {
   "cell_type": "code",
   "execution_count": 15,
   "metadata": {
    "collapsed": false
   },
   "outputs": [
    {
     "data": {
      "image/png": "[encoded data removed]",
      "text/plain": [
       "<matplotlib.figure.Figure at 0x10c67a4e0>"
      ]
     },
     "metadata": {},
     "output_type": "display_data"
    },
    {
     "data": {
      "image/png": "[encoded data removed]",
      "text/plain": [
       "<matplotlib.figure.Figure at 0x10ac64e10>"
      ]
     },
     "metadata": {},
     "output_type": "display_data"
    },
    {
     "data": {
      "image/png": "[encoded data removed]",
      "text/plain": [
       "<matplotlib.figure.Figure at 0x10c85df60>"
      ]
     },
     "metadata": {},
     "output_type": "display_data"
    }
   ],
   "source": [
    "\n",
    "import matplotlib.pyplot as plt\n",
    "\n",
    "plt.xkcd() # nifty XKCD formatted plots\n",
    "\n",
    "# Setting up x and y for plots\n",
    "y1 = df3['BVPerShare']\n",
    "y2 = df3['Debt2Equity']\n",
    "y3 = df3['EPS']\n",
    "\n",
    "# subplots(nrows, ncols, plot_number)\n",
    "\n",
    "x = df3['Year']\n",
    "\n",
    "\n",
    "\n",
    "plt.subplot(2,3,1)\n",
    "\n",
    "\n",
    "\n",
    "slope1, intercept1, r_value1, p_value1, slope_std_error1 = stats.linregress(x, y1)\n",
    "\n",
    "# Calculate some additional outputs\n",
    "predict_y1 = intercept1 + slope1 * x\n",
    "pred_error1 = y1 - predict_y1\n",
    "degrees_of_freedom = len(x) - 2\n",
    "residual_std_error1 = np.sqrt(np.sum(pred_error1**2) / degrees_of_freedom)\n",
    "\n",
    "# Plotting\n",
    "plt.plot(x, y1, '<')\n",
    "plt.plot(x, predict_y1, 'r--')\n",
    "plt.show()\n",
    "\n",
    "\n",
    "plt.subplot(2,3,2)\n",
    "\n",
    "slope2, intercept2, r_value2, p_value2, slope_std_error2 = stats.linregress(x, y2)\n",
    "\n",
    "# Calculate some additional outputs\n",
    "predict_y2 = intercept2 + slope2 * x\n",
    "pred_error2 = y2 - predict_y2\n",
    "degrees_of_freedom = len(x) - 2\n",
    "residual_std_error2 = np.sqrt(np.sum(pred_error2**2) / degrees_of_freedom)\n",
    "\n",
    "# Plotting\n",
    "plt.plot(x, y2, '^')\n",
    "plt.plot(x, predict_y2, 'r--')\n",
    "plt.show()\n",
    "\n",
    "\n",
    "plt.subplot(2,3,3)\n",
    "\n",
    "slope3, intercept3, r_value3, p_value3, slope_std_error3 = stats.linregress(x, y3)\n",
    "\n",
    "# Calculate some additional outputs\n",
    "predict_y3 = intercept3 + slope3 * x\n",
    "pred_error3 = y3 - predict_y3\n",
    "degrees_of_freedom = len(x) - 2\n",
    "residual_std_error3 = np.sqrt(np.sum(pred_error3**2) / degrees_of_freedom)\n",
    "\n",
    "# Plotting\n",
    "plt.plot(x, y3, '>')\n",
    "plt.plot(x, predict_y3, 'k-')\n",
    "plt.show()"
   ]
  },
  {
   "cell_type": "code",
   "execution_count": 16,
   "metadata": {
    "collapsed": false
   },
   "outputs": [
    {
     "data": {
      "image/png": "[encoded data removed]",
      "text/plain": [
       "<matplotlib.figure.Figure at 0x10c5ee5f8>"
      ]
     },
     "metadata": {},
     "output_type": "display_data"
    },
    {
     "name": "stdout",
     "output_type": "stream",
     "text": [
      "The correlation coefficient for Book value per share data is 0.73683483897995339; the p value is 0.01505672232290849\n",
      "\n",
      "\n",
      "The pandas Series below provides the year over year percentage change in book value per share.\n",
      "\n",
      "Period\n",
      "2005         NaN\n",
      "2006         NaN\n",
      "2007   -0.012136\n",
      "2008   -0.049754\n",
      "2009    0.133807\n",
      "2010   -0.174458\n",
      "2011    0.156768\n",
      "2012    0.053134\n",
      "2013    0.302721\n",
      "2014    0.364230\n",
      "2015   -0.249442\n",
      "Freq: A-OCT, Name: BVPerShare, dtype: float64\n"
     ]
    }
   ],
   "source": [
    "# Fit the model\n",
    "\n",
    "x = df3['Year'][1:]\n",
    "y = df3['BVPerShare'][1:]\n",
    "\n",
    "slope, intercept, r_value, p_value, slope_std_error = stats.linregress(x, y)\n",
    "\n",
    "# Calculate some additional outputs\n",
    "predict_y = intercept + slope * x\n",
    "pred_error = y - predict_y\n",
    "degrees_of_freedom = len(x) - 2\n",
    "residual_std_error = np.sqrt(np.sum(pred_error**2) / degrees_of_freedom)\n",
    "\n",
    "# Plotting\n",
    "plt.plot(x, y, '^')\n",
    "plt.plot(x, predict_y)\n",
    "\n",
    "plt.show()\n",
    "\n",
    "\n",
    "print ('The correlation coefficient for Book value per share data is %r; the p value is %r' % (r_value,p_value))\n",
    "print ('\\n\\nThe pandas Series below provides the year over year percentage change in book value per share.\\n')\n",
    "print ((df3['BVPerShare']- df3['BVPerShare'].shift())/df3['BVPerShare'].shift(1))"
   ]
  },
  {
   "cell_type": "code",
   "execution_count": 17,
   "metadata": {
    "collapsed": false
   },
   "outputs": [
    {
     "data": {
      "image/png": "[encoded data removed]",
      "text/plain": [
       "<matplotlib.figure.Figure at 0x10c6c3cf8>"
      ]
     },
     "metadata": {},
     "output_type": "display_data"
    },
    {
     "name": "stdout",
     "output_type": "stream",
     "text": [
      "\n",
      "The slope of current ratio data from 2005-2007 is -0.16 and the R sqaured coefficient is -0.89790000000000003\n",
      "\n",
      "The slope for 2008-2014 data is -0.050000000000000003 and the R squared correlation coefficient is -0.76046599999999998\n"
     ]
    }
   ],
   "source": [
    "from scipy import stats\n",
    "\n",
    "# We are doing a simple linear regression on the current ratio data\n",
    "# The example comes from http://central.scipy.org/item/16/2/basic-linear-regression\n",
    "\n",
    "x = df3['Year']\n",
    "y6 = df3['CurrentRatio']\n",
    "\n",
    "slope, intercept, r_value, p_value, slope_std_error = stats.linregress(x[:4], y6[:4])\n",
    "slope1, intercept1, r_value1, p_value1, slope_std_error1 = stats.linregress(x[4:], y6[4:])\n",
    "predict_y = intercept + slope * x\n",
    "predict_y1 = intercept1 + slope1 * x\n",
    "pred_error = y6[:4] - predict_y\n",
    "pred_error1 = y6[4:] - predict_y1\n",
    "degrees_of_freedom = len(x) - 2\n",
    "residual_std_error = np.sqrt(np.sum(pred_error**2) / degrees_of_freedom)\n",
    "residual_std_error1 = np.sqrt(np.sum(pred_error1**2) / degrees_of_freedom)\n",
    "\n",
    "# Plotting\n",
    "\n",
    "plt.plot(x, y6, 'o')\n",
    "plt.plot(x[:4], predict_y[:4], 'r-')\n",
    "plt.plot(x[4:], predict_y1[4:], 'b-')\n",
    "plt.title('Mr. Market Impact on Deere&Co Current Ratio')\n",
    "plt.ylabel('Current Ratio (%)')\n",
    "plt.xlabel('Year')\n",
    "plt.annotate('Mr. Market gap', xy=(2010, 2.0), xytext=(2011, 1.8),arrowprops=dict(facecolor='blue', shrink=0.05),)\n",
    "#plt.annotate('2005-2007', xy=(2006.3, 2.4), xytext=(2006, 3.0),arrowprops=dict(facecolor='red', shrink=0.05),)\n",
    "#plt.annotate('2008-2014', xy=(2014.5, 2.8), xytext=(2012.6, 3.4),arrowprops=dict(facecolor='red', shrink=0.05),)\n",
    "#plt.annotate('Split data at the crash;\\nsee two linear trends', xy=(2004.5, 4.5), xytext=(2005, 4.1),arrowprops=dict(facecolor='white', shrink=0.05),)\n",
    "#plt.annotate('This is 2015', xy=(2014.6, 1.58), xytext=(2010, 1.3),arrowprops=dict(facecolor='black', shrink=0.05),)\n",
    "plt.show()\n",
    "print ('\\nThe slope of current ratio data from 2005-2007 is %r and the R sqaured coefficient is %r\\n\\nThe slope for \\\n",
    "2008-2014 data is %r and the R squared correlation coefficient is %r' \n",
    "       % (round(slope,2),round(r_value,4),round(slope1,2),round(r_value1,6)))"
   ]
  },
  {
   "cell_type": "markdown",
   "metadata": {},
   "source": [
    "Real company data rarely lines up in a perfect line (sometimes it does, we're lucky).  But, there is a consistent trend in Pfizer's financials after 2009.  Why the big difference in numbers during this timeframe?  Recall the [stock market crash between 2008-2009](https://en.wikipedia.org/wiki/Stock_market_crash#Crash_of_2008.E2.80.932009).  So, while the linear trend of our data changed (especially in Debt-to-equity, BV per share, and Dividends), the underlying value of the business didn't.  Here, you see how external events can impact the value of businesses. Looking at the financials between 2008-2009, we see the [\"Mr. Market\" effect](https://en.wikipedia.org/wiki/Mr._Market) on a company's value. In simple terms, Mr. Market explains the impact emotions and short term trends can have on a company's value.  \n",
    "\n",
    "Let's isolate the \"Mr. Market\" effect on Pfizer's current ratio which should give us a perfect linear trend.  Pfizer's 10-year current ratio captures its ability to pay bills in a 12 month period; it's only considering short term assets and short term liabilities.  If a company has a current ratio of 1.0 exactly, every dollar it takes in over the next year will go out to pay liabilities (bills) that are due in that 12 months.  Anything over 1.0 means you have a cushion.  Think about it like personal finance month to month.  If you make 2000 USD a month, and have bills that equate to 2000 USD a month, you have a current ratio of 1.0 (not good right?).  If your bills are lower than 2000 USD, then your current ratio is above 1.0. We will break down Pfizer's current ratio to see if that ratio was improving at a steady rate or holding in a general area.  This is an indicator of stability.  Breaking out the data, we get the following: "
   ]
  },
  {
   "cell_type": "code",
   "execution_count": 18,
   "metadata": {
    "collapsed": false
   },
   "outputs": [
    {
     "data": {
      "image/png": "[encoded data removed]",
      "text/plain": [
       "<matplotlib.figure.Figure at 0x10c95aa58>"
      ]
     },
     "metadata": {},
     "output_type": "display_data"
    }
   ],
   "source": [
    "# We plot all the key ratios to test for linear trends to the data; we can do a correlation test for promising data\n",
    "import numpy.polynomial.polynomial as poly\n",
    "import matplotlib.pyplot as plt\n",
    "\n",
    "plt.xkcd() # nifty XKCD formatted plots\n",
    "\n",
    "# Setting up x and y for plots\n",
    "y1 = df3['Debt2Equity']\n",
    "y2 = df3['EPS']\n",
    "y3 = df3['Dividends']\n",
    "y4 = df3['BVPerShare']\n",
    "y5 = df3['ROE']\n",
    "y6 = df3['CurrentRatio']\n",
    "# subplots(nrows, ncols, plot_number)\n",
    "\n",
    "x = df3['Year']\n",
    "\n",
    "\n",
    "plt.figure(figsize=(18,8))\n",
    "\n",
    "plt.subplot(2, 3, 1)\n",
    "\n",
    "x_new = np.linspace(x[0], x[-1], num=len(x)*10)\n",
    "coefs = poly.polyfit(x, y1, 3)\n",
    "ffit = poly.Polynomial(coefs)\n",
    "plt.plot(x_new, ffit(x_new))\n",
    "plt.scatter(x, y1, s=30, alpha=0.15, marker='<', c='#0a13ea')\n",
    "plt.title('Pfizer')\n",
    "plt.ylabel('Debt-to-equity')\n",
    "plt.xlabel('Year')\n",
    "\n",
    "plt.subplot(2, 3, 2)\n",
    "x_new = np.linspace(x[0], x[-1], num=len(x)*10)\n",
    "coefs = poly.polyfit(x, y2, 3)\n",
    "ffit = poly.Polynomial(coefs)\n",
    "plt.plot(x_new, ffit(x_new), color='#ff0000')\n",
    "plt.scatter(x, y2, s=30, alpha=0.15, marker=',', c='#ff6600')\n",
    "plt.title('10-year Trends')\n",
    "plt.xlabel('Year')\n",
    "plt.ylabel('EPS ($)')\n",
    "\n",
    "plt.subplot(2, 3, 3)\n",
    "x_new = np.linspace(x[0], x[-1], num=len(x)*10)\n",
    "coefs = poly.polyfit(x, y3, 3)\n",
    "ffit = poly.Polynomial(coefs)\n",
    "plt.plot(x_new, ffit(x_new), color='#00cc99')\n",
    "plt.scatter(x, y3, s=30, alpha=0.15, marker='*',c='#ff0000')\n",
    "plt.title('in Key Ratios')\n",
    "plt.xlabel('Year')\n",
    "plt.ylabel('Dividends ($)')\n",
    "\n",
    "plt.subplot(2, 3, 4)\n",
    "x_new = np.linspace(x[0], x[-1], num=len(x)*10)\n",
    "coefs = poly.polyfit(x, y4, 1)\n",
    "ffit = poly.Polynomial(coefs)\n",
    "plt.plot(x_new, ffit(x_new), color='#660066')\n",
    "plt.scatter(x, y4, s=30, alpha=0.15, marker='>',c='black')\n",
    "plt.xlabel('Year')\n",
    "plt.ylabel('BV per Share ($)')\n",
    "\n",
    "plt.subplot(2, 3, 5)\n",
    "x_new = np.linspace(x[0], x[-1], num=len(x)*10)\n",
    "coefs = poly.polyfit(x, y5, 3)\n",
    "ffit = poly.Polynomial(coefs)\n",
    "plt.plot(x_new, ffit(x_new), color='#ffff66')\n",
    "plt.scatter(x, y5, s=30, alpha=0.15, marker='o',c='blue')\n",
    "plt.xlabel('Year')\n",
    "plt.ylabel('ROE (%)')\n",
    "\n",
    "plt.subplot(2, 3, 6)\n",
    "x_new = np.linspace(x[0], x[-1], num=len(x)*10)\n",
    "coefs = poly.polyfit(x, y6, 4)\n",
    "ffit = poly.Polynomial(coefs)\n",
    "plt.plot(x_new, ffit(x_new), color='#000066')\n",
    "plt.scatter(x, y6, s=30, alpha=0.15, marker='s',c='#ff9966')\n",
    "plt.xlabel('Year')\n",
    "plt.ylabel('Current Ratio')\n",
    "\n",
    "plt.show()"
   ]
  },
  {
   "cell_type": "markdown",
   "metadata": {},
   "source": [
    "After the grunt work, we're finally to the data analysis.  This part is relatively simple.  Here, we are using Buffett's rules and the available data to decide where or not Pfizer is a \"value investor\" pick for longterm ownership.  This type of analysis is good for individual investors but also for institutional investors who have a longer outlook.  \n",
    "\n",
    "Of the four rules, two are somewhat subjective.  Its why no two value investor's will have the same portfolio.  We all view companies and profiles differently.  But, to refresh the first two rules for Pfizer:\n",
    "\n",
    "1. **Is Pfizer a business that I understand?**  <span style=\"color:red; font-family:Georgia; font-size:initial;\">In this example, This rule involves looking at a business your understand and also at the relative stability of the company.  They discover, develop, and manufacture healthcare products. *</span>  \n",
    "<br>\n",
    "<br>\n",
    "\n",
    "2. ** Does Pfizer have favorable longterm prospects?**  *  <span style=\"color:red; font-family:Georgia; font-size:initial;\"> Can we look at the past trajectory of earnings and bookvalue increases, and make a prediction of where the company will be 10 years down the road or more?  We are looking for the simplest model; a linear, positively correlated relationship.  In 2045, people will still need healthcare products.  In fact, we may need them more as medical advances and technology increase the life expectancy. </span>\n",
    "<br>\n",
    "<br>\n",
    "\n",
    "3.  **Is Pfizer operated by honest and competent people?** <span style=\"color:red; font-family:Georgia; font-size:initial;\">We want a debt-to-equity ratio below .50 and a current ratio above 1.50.</span>\n",
    "<br>\n",
    "<br>\n",
    "\n",
    "4. **Is Pfizer available at a very attractive price?** <span style=\"color:red; font-family:Georgia; font-size:initial;\">I will use the [BuffetsBooks.com calculator](http://buffettsbooks.com/howtoinvestinstocks/course2/stocks/intrinsic-value-calculator.html#sthash.I02x9s7w.dpbs).*</span>\n",
    "<br>\n",
    "<br>\n",
    "\n",
    "# Measuring leadership: Debt-to-equity < 0.50 and Current Ratio > 1.50\n",
    "\n",
    "[In course 2, unit 3 lesson 2 (video #18)](https://www.youtube.com/watch?v=2ngO4jtyGlk&list=PLD3EB06EC4A19BFB8&index=7), Buffettsbooks.com does a great job of explaining how we can measure leadership of a company looking for debt-to-equity ratios below .50  and current ratios greater than 1.50 over a 10 year period.  Our simple task for rule 3 is to see if Pfizer made the cut. But first, let's use a personal example to bring show why measuring these two figures helps identify vigilant leadership.  \n",
    "\n",
    "## Understanding Debt-to-equity ratio impact to value\n",
    "Debt represents one of the greatest risks to a company in the same way that debt can damamge personal financial situaitons.  Debt-to-equity can be thought of like this:\n",
    ">Add up all of your personal debts (credit card, car, loan, etc).  Imagine that came to 20,000 USD.<br>\n",
    ">Add up all the equity or assets you own (money left in bank account and value of clothes, car and everything you own) minus all the debts and assume that's equal to 100,000 USD <br>\n",
    "> -->The debt-to-equity ratio is debt (20,000 USD) divided by equity (100,000) USD:\n"
   ]
  },
  {
   "cell_type": "markdown",
   "metadata": {},
   "source": [
    "# Rule 3; Measuring a company's leaderhip using financials\n",
    "\n",
    "[According to BuffetBooks.com (Course 2, unit 3 lesson 2, video #18)](https://www.youtube.com/watch?v=2ngO4jtyGlk&list=PLD3EB06EC4A19BFB8&index=7), competent leaders will manage the amount debt their company takes; the goal is to identify evaluates whether the company's debt-to-equity ratio is below .50  and if the current ratio is greater than 1.50 over a 10 year period.  Managers that carry low levels of debt are conservative with the capital of the business and don't risk your (shareholder) money for a desire to grow too fast. Using the *Good Morning* module, we examine Pfizer's numbers: "
   ]
  },
  {
   "cell_type": "code",
   "execution_count": 19,
   "metadata": {
    "collapsed": false
   },
   "outputs": [
    {
     "name": "stdout",
     "output_type": "stream",
     "text": [
      "\n",
      "The personal debt-to-equity ratio is 0.2\n",
      "\n",
      "In this case, we have 20 cents of debt for every 1 dollar of value\n"
     ]
    }
   ],
   "source": [
    "dtoe=20000/100000\n",
    "print()\n",
    "print (\"The personal debt-to-equity ratio is %r\" % dtoe)  # 20,000 in debt divided by 100,000 in equity after paying everything off\n",
    "print()\n",
    "print (\"In this case, we have 20 cents of debt for every 1 dollar of value\")"
   ]
  },
  {
   "cell_type": "markdown",
   "metadata": {},
   "source": [
    "The Buffet rule requires that our companies have ratios below or at 0.50.  Managers that carry low levels of debt are [conservative with the capital of the business and don't risk your (shareholder) money for a desire to grow too fast](http://www.theinvestorspodcast.com/episodes/3-warren-buffett-rules-intrinsic-value.html#sthash.hLue3dzB.dpuf). So we do a simple test to see if individual years were at or below the threshold value and then calculate the average and median of ratio over the previous 10 years. With numbers below the threshold, the company should be able to easily pay of debts in crises situations.."
   ]
  },
  {
   "cell_type": "code",
   "execution_count": 20,
   "metadata": {
    "collapsed": false
   },
   "outputs": [
    {
     "data": {
      "text/html": [
       "<div>\n",
       "<table border=\"1\" class=\"dataframe\">\n",
       "  <thead>\n",
       "    <tr style=\"text-align: right;\">\n",
       "      <th></th>\n",
       "      <th>EPS</th>\n",
       "      <th>Dividends</th>\n",
       "      <th>BVPerShare</th>\n",
       "      <th>LTDebt</th>\n",
       "      <th>CurrentRatio</th>\n",
       "      <th>Debt2Equity</th>\n",
       "      <th>ROE</th>\n",
       "      <th>Year</th>\n",
       "    </tr>\n",
       "    <tr>\n",
       "      <th>Period</th>\n",
       "      <th></th>\n",
       "      <th></th>\n",
       "      <th></th>\n",
       "      <th></th>\n",
       "      <th></th>\n",
       "      <th></th>\n",
       "      <th></th>\n",
       "      <th></th>\n",
       "    </tr>\n",
       "  </thead>\n",
       "  <tbody>\n",
       "    <tr>\n",
       "      <th>2005</th>\n",
       "      <td>2.94</td>\n",
       "      <td>0.61</td>\n",
       "      <td>NaN</td>\n",
       "      <td>34.90</td>\n",
       "      <td>2.23</td>\n",
       "      <td>1.71</td>\n",
       "      <td>21.85</td>\n",
       "      <td>2005</td>\n",
       "    </tr>\n",
       "    <tr>\n",
       "      <th>2006</th>\n",
       "      <td>3.59</td>\n",
       "      <td>0.78</td>\n",
       "      <td>16.48</td>\n",
       "      <td>33.36</td>\n",
       "      <td>2.09</td>\n",
       "      <td>1.55</td>\n",
       "      <td>23.62</td>\n",
       "      <td>2006</td>\n",
       "    </tr>\n",
       "    <tr>\n",
       "      <th>2007</th>\n",
       "      <td>4.00</td>\n",
       "      <td>0.91</td>\n",
       "      <td>16.28</td>\n",
       "      <td>30.58</td>\n",
       "      <td>1.75</td>\n",
       "      <td>1.65</td>\n",
       "      <td>24.87</td>\n",
       "      <td>2007</td>\n",
       "    </tr>\n",
       "    <tr>\n",
       "      <th>2008</th>\n",
       "      <td>4.70</td>\n",
       "      <td>1.06</td>\n",
       "      <td>15.47</td>\n",
       "      <td>35.88</td>\n",
       "      <td>1.82</td>\n",
       "      <td>2.13</td>\n",
       "      <td>29.99</td>\n",
       "      <td>2008</td>\n",
       "    </tr>\n",
       "    <tr>\n",
       "      <th>2009</th>\n",
       "      <td>2.06</td>\n",
       "      <td>1.12</td>\n",
       "      <td>17.54</td>\n",
       "      <td>42.28</td>\n",
       "      <td>2.42</td>\n",
       "      <td>3.61</td>\n",
       "      <td>15.39</td>\n",
       "      <td>2009</td>\n",
       "    </tr>\n",
       "    <tr>\n",
       "      <th>2010</th>\n",
       "      <td>4.35</td>\n",
       "      <td>1.16</td>\n",
       "      <td>14.48</td>\n",
       "      <td>38.86</td>\n",
       "      <td>2.32</td>\n",
       "      <td>2.67</td>\n",
       "      <td>33.58</td>\n",
       "      <td>2010</td>\n",
       "    </tr>\n",
       "    <tr>\n",
       "      <th>2011</th>\n",
       "      <td>6.63</td>\n",
       "      <td>1.52</td>\n",
       "      <td>16.75</td>\n",
       "      <td>35.18</td>\n",
       "      <td>2.07</td>\n",
       "      <td>2.49</td>\n",
       "      <td>42.78</td>\n",
       "      <td>2011</td>\n",
       "    </tr>\n",
       "    <tr>\n",
       "      <th>2012</th>\n",
       "      <td>7.63</td>\n",
       "      <td>1.79</td>\n",
       "      <td>17.64</td>\n",
       "      <td>39.91</td>\n",
       "      <td>2.24</td>\n",
       "      <td>3.28</td>\n",
       "      <td>44.93</td>\n",
       "      <td>2012</td>\n",
       "    </tr>\n",
       "    <tr>\n",
       "      <th>2013</th>\n",
       "      <td>9.09</td>\n",
       "      <td>1.99</td>\n",
       "      <td>22.98</td>\n",
       "      <td>36.25</td>\n",
       "      <td>2.05</td>\n",
       "      <td>2.10</td>\n",
       "      <td>41.35</td>\n",
       "      <td>2013</td>\n",
       "    </tr>\n",
       "    <tr>\n",
       "      <th>2014</th>\n",
       "      <td>8.63</td>\n",
       "      <td>2.22</td>\n",
       "      <td>31.35</td>\n",
       "      <td>39.75</td>\n",
       "      <td>2.17</td>\n",
       "      <td>2.69</td>\n",
       "      <td>32.72</td>\n",
       "      <td>2014</td>\n",
       "    </tr>\n",
       "    <tr>\n",
       "      <th>2015</th>\n",
       "      <td>6.52</td>\n",
       "      <td>2.40</td>\n",
       "      <td>23.53</td>\n",
       "      <td>39.37</td>\n",
       "      <td>2.05</td>\n",
       "      <td>3.00</td>\n",
       "      <td>24.13</td>\n",
       "      <td>2015</td>\n",
       "    </tr>\n",
       "  </tbody>\n",
       "</table>\n",
       "</div>"
      ],
      "text/plain": [
       "         EPS  Dividends  BVPerShare  LTDebt  CurrentRatio  Debt2Equity    ROE  \\\n",
       "Period                                                                          \n",
       "2005    2.94       0.61         NaN   34.90          2.23         1.71  21.85   \n",
       "2006    3.59       0.78       16.48   33.36          2.09         1.55  23.62   \n",
       "2007    4.00       0.91       16.28   30.58          1.75         1.65  24.87   \n",
       "2008    4.70       1.06       15.47   35.88          1.82         2.13  29.99   \n",
       "2009    2.06       1.12       17.54   42.28          2.42         3.61  15.39   \n",
       "2010    4.35       1.16       14.48   38.86          2.32         2.67  33.58   \n",
       "2011    6.63       1.52       16.75   35.18          2.07         2.49  42.78   \n",
       "2012    7.63       1.79       17.64   39.91          2.24         3.28  44.93   \n",
       "2013    9.09       1.99       22.98   36.25          2.05         2.10  41.35   \n",
       "2014    8.63       2.22       31.35   39.75          2.17         2.69  32.72   \n",
       "2015    6.52       2.40       23.53   39.37          2.05         3.00  24.13   \n",
       "\n",
       "        Year  \n",
       "Period        \n",
       "2005    2005  \n",
       "2006    2006  \n",
       "2007    2007  \n",
       "2008    2008  \n",
       "2009    2009  \n",
       "2010    2010  \n",
       "2011    2011  \n",
       "2012    2012  \n",
       "2013    2013  \n",
       "2014    2014  \n",
       "2015    2015  "
      ]
     },
     "execution_count": 20,
     "metadata": {},
     "output_type": "execute_result"
    }
   ],
   "source": [
    "# Let's create a smaller dataframe with only debt-to-equity\n",
    "\n",
    "df3"
   ]
  },
  {
   "cell_type": "code",
   "execution_count": 21,
   "metadata": {
    "collapsed": false
   },
   "outputs": [
    {
     "data": {
      "text/plain": [
       "<matplotlib.text.Text at 0x10ce735f8>"
      ]
     },
     "execution_count": 21,
     "metadata": {},
     "output_type": "execute_result"
    },
    {
     "data": {
      "image/png": "[encoded data removed]",
      "text/plain": [
       "<matplotlib.figure.Figure at 0x10c5ee320>"
      ]
     },
     "metadata": {},
     "output_type": "display_data"
    }
   ],
   "source": [
    "\n",
    "import statsmodels.api as sm\n",
    "import numpy.polynomial.polynomial as poly\n",
    "\n",
    "# There's nothing new under the sun; I modified some code for numpy data fitting.  \n",
    "# The link is http://docs.scipy.org/doc/numpy/reference/generated/numpy.polyfit.html\n",
    "\n",
    "\n",
    "\n",
    "plt.xkcd()\n",
    "# security data for fitting\n",
    "x = df3['Year']\n",
    "y = df3['Debt2Equity']\n",
    "\n",
    "x_new = np.linspace(x[0], x[-1], num=len(x)*10)\n",
    "coefs = poly.polyfit(x, y, 3)\n",
    "ffit = poly.Polynomial(coefs) \n",
    "plt.figure(figsize=(10,8))\n",
    "plt.scatter(x, y, s=30, alpha=0.15, marker='D', c='#0a13ea')\n",
    "plt.plot(x_new, ffit(x_new))\n",
    "plt.scatter(df3['Year'],df3['Dividends'], marker ='*', c='#c1b24f')\n",
    "plt.xlabel('Period')\n",
    "plt.ylabel('Earnings')\n",
    "plt.xlim([2005,2026])\n",
    "plt.ylim([0,2])\n",
    "plt.title('Debt-to Equity per Share for Pfizer, Inc over 10 Years')\n",
    "# security data for fitting\n",
    "\n"
   ]
  },
  {
   "cell_type": "code",
   "execution_count": 22,
   "metadata": {
    "collapsed": false
   },
   "outputs": [
    {
     "data": {
      "text/html": [
       "<div>\n",
       "<table border=\"1\" class=\"dataframe\">\n",
       "  <thead>\n",
       "    <tr style=\"text-align: right;\">\n",
       "      <th></th>\n",
       "      <th>EPS</th>\n",
       "      <th>Dividends</th>\n",
       "      <th>BVPerShare</th>\n",
       "      <th>LTDebt</th>\n",
       "      <th>CurrentRatio</th>\n",
       "      <th>Debt2Equity</th>\n",
       "      <th>ROE</th>\n",
       "      <th>Year</th>\n",
       "    </tr>\n",
       "    <tr>\n",
       "      <th>Period</th>\n",
       "      <th></th>\n",
       "      <th></th>\n",
       "      <th></th>\n",
       "      <th></th>\n",
       "      <th></th>\n",
       "      <th></th>\n",
       "      <th></th>\n",
       "      <th></th>\n",
       "    </tr>\n",
       "  </thead>\n",
       "  <tbody>\n",
       "    <tr>\n",
       "      <th>2005</th>\n",
       "      <td>2.94</td>\n",
       "      <td>0.61</td>\n",
       "      <td>NaN</td>\n",
       "      <td>34.90</td>\n",
       "      <td>2.23</td>\n",
       "      <td>1.71</td>\n",
       "      <td>21.85</td>\n",
       "      <td>2005</td>\n",
       "    </tr>\n",
       "    <tr>\n",
       "      <th>2006</th>\n",
       "      <td>3.59</td>\n",
       "      <td>0.78</td>\n",
       "      <td>16.48</td>\n",
       "      <td>33.36</td>\n",
       "      <td>2.09</td>\n",
       "      <td>1.55</td>\n",
       "      <td>23.62</td>\n",
       "      <td>2006</td>\n",
       "    </tr>\n",
       "    <tr>\n",
       "      <th>2007</th>\n",
       "      <td>4.00</td>\n",
       "      <td>0.91</td>\n",
       "      <td>16.28</td>\n",
       "      <td>30.58</td>\n",
       "      <td>1.75</td>\n",
       "      <td>1.65</td>\n",
       "      <td>24.87</td>\n",
       "      <td>2007</td>\n",
       "    </tr>\n",
       "    <tr>\n",
       "      <th>2008</th>\n",
       "      <td>4.70</td>\n",
       "      <td>1.06</td>\n",
       "      <td>15.47</td>\n",
       "      <td>35.88</td>\n",
       "      <td>1.82</td>\n",
       "      <td>2.13</td>\n",
       "      <td>29.99</td>\n",
       "      <td>2008</td>\n",
       "    </tr>\n",
       "    <tr>\n",
       "      <th>2009</th>\n",
       "      <td>2.06</td>\n",
       "      <td>1.12</td>\n",
       "      <td>17.54</td>\n",
       "      <td>42.28</td>\n",
       "      <td>2.42</td>\n",
       "      <td>3.61</td>\n",
       "      <td>15.39</td>\n",
       "      <td>2009</td>\n",
       "    </tr>\n",
       "    <tr>\n",
       "      <th>2010</th>\n",
       "      <td>4.35</td>\n",
       "      <td>1.16</td>\n",
       "      <td>14.48</td>\n",
       "      <td>38.86</td>\n",
       "      <td>2.32</td>\n",
       "      <td>2.67</td>\n",
       "      <td>33.58</td>\n",
       "      <td>2010</td>\n",
       "    </tr>\n",
       "    <tr>\n",
       "      <th>2011</th>\n",
       "      <td>6.63</td>\n",
       "      <td>1.52</td>\n",
       "      <td>16.75</td>\n",
       "      <td>35.18</td>\n",
       "      <td>2.07</td>\n",
       "      <td>2.49</td>\n",
       "      <td>42.78</td>\n",
       "      <td>2011</td>\n",
       "    </tr>\n",
       "    <tr>\n",
       "      <th>2012</th>\n",
       "      <td>7.63</td>\n",
       "      <td>1.79</td>\n",
       "      <td>17.64</td>\n",
       "      <td>39.91</td>\n",
       "      <td>2.24</td>\n",
       "      <td>3.28</td>\n",
       "      <td>44.93</td>\n",
       "      <td>2012</td>\n",
       "    </tr>\n",
       "    <tr>\n",
       "      <th>2013</th>\n",
       "      <td>9.09</td>\n",
       "      <td>1.99</td>\n",
       "      <td>22.98</td>\n",
       "      <td>36.25</td>\n",
       "      <td>2.05</td>\n",
       "      <td>2.10</td>\n",
       "      <td>41.35</td>\n",
       "      <td>2013</td>\n",
       "    </tr>\n",
       "    <tr>\n",
       "      <th>2014</th>\n",
       "      <td>8.63</td>\n",
       "      <td>2.22</td>\n",
       "      <td>31.35</td>\n",
       "      <td>39.75</td>\n",
       "      <td>2.17</td>\n",
       "      <td>2.69</td>\n",
       "      <td>32.72</td>\n",
       "      <td>2014</td>\n",
       "    </tr>\n",
       "    <tr>\n",
       "      <th>2015</th>\n",
       "      <td>6.52</td>\n",
       "      <td>2.40</td>\n",
       "      <td>23.53</td>\n",
       "      <td>39.37</td>\n",
       "      <td>2.05</td>\n",
       "      <td>3.00</td>\n",
       "      <td>24.13</td>\n",
       "      <td>2015</td>\n",
       "    </tr>\n",
       "  </tbody>\n",
       "</table>\n",
       "</div>"
      ],
      "text/plain": [
       "         EPS  Dividends  BVPerShare  LTDebt  CurrentRatio  Debt2Equity    ROE  \\\n",
       "Period                                                                          \n",
       "2005    2.94       0.61         NaN   34.90          2.23         1.71  21.85   \n",
       "2006    3.59       0.78       16.48   33.36          2.09         1.55  23.62   \n",
       "2007    4.00       0.91       16.28   30.58          1.75         1.65  24.87   \n",
       "2008    4.70       1.06       15.47   35.88          1.82         2.13  29.99   \n",
       "2009    2.06       1.12       17.54   42.28          2.42         3.61  15.39   \n",
       "2010    4.35       1.16       14.48   38.86          2.32         2.67  33.58   \n",
       "2011    6.63       1.52       16.75   35.18          2.07         2.49  42.78   \n",
       "2012    7.63       1.79       17.64   39.91          2.24         3.28  44.93   \n",
       "2013    9.09       1.99       22.98   36.25          2.05         2.10  41.35   \n",
       "2014    8.63       2.22       31.35   39.75          2.17         2.69  32.72   \n",
       "2015    6.52       2.40       23.53   39.37          2.05         3.00  24.13   \n",
       "\n",
       "        Year  \n",
       "Period        \n",
       "2005    2005  \n",
       "2006    2006  \n",
       "2007    2007  \n",
       "2008    2008  \n",
       "2009    2009  \n",
       "2010    2010  \n",
       "2011    2011  \n",
       "2012    2012  \n",
       "2013    2013  \n",
       "2014    2014  \n",
       "2015    2015  "
      ]
     },
     "execution_count": 22,
     "metadata": {},
     "output_type": "execute_result"
    }
   ],
   "source": [
    "df3"
   ]
  },
  {
   "cell_type": "code",
   "execution_count": 23,
   "metadata": {
    "collapsed": false
   },
   "outputs": [
    {
     "data": {
      "text/plain": [
       "Index(['EPS', 'Dividends', 'BVPerShare', 'LTDebt', 'CurrentRatio',\n",
       "       'Debt2Equity', 'ROE', 'Year'],\n",
       "      dtype='object')"
      ]
     },
     "execution_count": 23,
     "metadata": {},
     "output_type": "execute_result"
    }
   ],
   "source": [
    "df3.columns"
   ]
  },
  {
   "cell_type": "code",
   "execution_count": 24,
   "metadata": {
    "collapsed": false
   },
   "outputs": [
    {
     "data": {
      "text/html": [
       "<div>\n",
       "<table border=\"1\" class=\"dataframe\">\n",
       "  <thead>\n",
       "    <tr style=\"text-align: right;\">\n",
       "      <th></th>\n",
       "      <th>EPS</th>\n",
       "      <th>Dividends</th>\n",
       "      <th>BVPerShare</th>\n",
       "      <th>LTDebt</th>\n",
       "      <th>CurrentRatio</th>\n",
       "      <th>Debt2Equity</th>\n",
       "      <th>ROE</th>\n",
       "      <th>Year</th>\n",
       "    </tr>\n",
       "    <tr>\n",
       "      <th>Period</th>\n",
       "      <th></th>\n",
       "      <th></th>\n",
       "      <th></th>\n",
       "      <th></th>\n",
       "      <th></th>\n",
       "      <th></th>\n",
       "      <th></th>\n",
       "      <th></th>\n",
       "    </tr>\n",
       "  </thead>\n",
       "  <tbody>\n",
       "    <tr>\n",
       "      <th>2005</th>\n",
       "      <td>2.94</td>\n",
       "      <td>0.61</td>\n",
       "      <td>NaN</td>\n",
       "      <td>34.90</td>\n",
       "      <td>2.23</td>\n",
       "      <td>1.71</td>\n",
       "      <td>21.85</td>\n",
       "      <td>2005</td>\n",
       "    </tr>\n",
       "    <tr>\n",
       "      <th>2006</th>\n",
       "      <td>3.59</td>\n",
       "      <td>0.78</td>\n",
       "      <td>16.48</td>\n",
       "      <td>33.36</td>\n",
       "      <td>2.09</td>\n",
       "      <td>1.55</td>\n",
       "      <td>23.62</td>\n",
       "      <td>2006</td>\n",
       "    </tr>\n",
       "    <tr>\n",
       "      <th>2007</th>\n",
       "      <td>4.00</td>\n",
       "      <td>0.91</td>\n",
       "      <td>16.28</td>\n",
       "      <td>30.58</td>\n",
       "      <td>1.75</td>\n",
       "      <td>1.65</td>\n",
       "      <td>24.87</td>\n",
       "      <td>2007</td>\n",
       "    </tr>\n",
       "    <tr>\n",
       "      <th>2008</th>\n",
       "      <td>4.70</td>\n",
       "      <td>1.06</td>\n",
       "      <td>15.47</td>\n",
       "      <td>35.88</td>\n",
       "      <td>1.82</td>\n",
       "      <td>2.13</td>\n",
       "      <td>29.99</td>\n",
       "      <td>2008</td>\n",
       "    </tr>\n",
       "    <tr>\n",
       "      <th>2009</th>\n",
       "      <td>2.06</td>\n",
       "      <td>1.12</td>\n",
       "      <td>17.54</td>\n",
       "      <td>42.28</td>\n",
       "      <td>2.42</td>\n",
       "      <td>3.61</td>\n",
       "      <td>15.39</td>\n",
       "      <td>2009</td>\n",
       "    </tr>\n",
       "    <tr>\n",
       "      <th>2010</th>\n",
       "      <td>4.35</td>\n",
       "      <td>1.16</td>\n",
       "      <td>14.48</td>\n",
       "      <td>38.86</td>\n",
       "      <td>2.32</td>\n",
       "      <td>2.67</td>\n",
       "      <td>33.58</td>\n",
       "      <td>2010</td>\n",
       "    </tr>\n",
       "    <tr>\n",
       "      <th>2011</th>\n",
       "      <td>6.63</td>\n",
       "      <td>1.52</td>\n",
       "      <td>16.75</td>\n",
       "      <td>35.18</td>\n",
       "      <td>2.07</td>\n",
       "      <td>2.49</td>\n",
       "      <td>42.78</td>\n",
       "      <td>2011</td>\n",
       "    </tr>\n",
       "    <tr>\n",
       "      <th>2012</th>\n",
       "      <td>7.63</td>\n",
       "      <td>1.79</td>\n",
       "      <td>17.64</td>\n",
       "      <td>39.91</td>\n",
       "      <td>2.24</td>\n",
       "      <td>3.28</td>\n",
       "      <td>44.93</td>\n",
       "      <td>2012</td>\n",
       "    </tr>\n",
       "    <tr>\n",
       "      <th>2013</th>\n",
       "      <td>9.09</td>\n",
       "      <td>1.99</td>\n",
       "      <td>22.98</td>\n",
       "      <td>36.25</td>\n",
       "      <td>2.05</td>\n",
       "      <td>2.10</td>\n",
       "      <td>41.35</td>\n",
       "      <td>2013</td>\n",
       "    </tr>\n",
       "    <tr>\n",
       "      <th>2014</th>\n",
       "      <td>8.63</td>\n",
       "      <td>2.22</td>\n",
       "      <td>31.35</td>\n",
       "      <td>39.75</td>\n",
       "      <td>2.17</td>\n",
       "      <td>2.69</td>\n",
       "      <td>32.72</td>\n",
       "      <td>2014</td>\n",
       "    </tr>\n",
       "    <tr>\n",
       "      <th>2015</th>\n",
       "      <td>6.52</td>\n",
       "      <td>2.40</td>\n",
       "      <td>23.53</td>\n",
       "      <td>39.37</td>\n",
       "      <td>2.05</td>\n",
       "      <td>3.00</td>\n",
       "      <td>24.13</td>\n",
       "      <td>2015</td>\n",
       "    </tr>\n",
       "  </tbody>\n",
       "</table>\n",
       "</div>"
      ],
      "text/plain": [
       "         EPS  Dividends  BVPerShare  LTDebt  CurrentRatio  Debt2Equity    ROE  \\\n",
       "Period                                                                          \n",
       "2005    2.94       0.61         NaN   34.90          2.23         1.71  21.85   \n",
       "2006    3.59       0.78       16.48   33.36          2.09         1.55  23.62   \n",
       "2007    4.00       0.91       16.28   30.58          1.75         1.65  24.87   \n",
       "2008    4.70       1.06       15.47   35.88          1.82         2.13  29.99   \n",
       "2009    2.06       1.12       17.54   42.28          2.42         3.61  15.39   \n",
       "2010    4.35       1.16       14.48   38.86          2.32         2.67  33.58   \n",
       "2011    6.63       1.52       16.75   35.18          2.07         2.49  42.78   \n",
       "2012    7.63       1.79       17.64   39.91          2.24         3.28  44.93   \n",
       "2013    9.09       1.99       22.98   36.25          2.05         2.10  41.35   \n",
       "2014    8.63       2.22       31.35   39.75          2.17         2.69  32.72   \n",
       "2015    6.52       2.40       23.53   39.37          2.05         3.00  24.13   \n",
       "\n",
       "        Year  \n",
       "Period        \n",
       "2005    2005  \n",
       "2006    2006  \n",
       "2007    2007  \n",
       "2008    2008  \n",
       "2009    2009  \n",
       "2010    2010  \n",
       "2011    2011  \n",
       "2012    2012  \n",
       "2013    2013  \n",
       "2014    2014  \n",
       "2015    2015  "
      ]
     },
     "execution_count": 24,
     "metadata": {},
     "output_type": "execute_result"
    }
   ],
   "source": [
    "\n",
    "df3"
   ]
  },
  {
   "cell_type": "code",
   "execution_count": 25,
   "metadata": {
    "collapsed": false
   },
   "outputs": [],
   "source": [
    "import statsmodels.api as sm\n",
    "from patsy import dmatrices\n",
    "y, X = dmatrices('BVPerShare ~ LTDebt+Year', data=df3, return_type='dataframe')"
   ]
  },
  {
   "cell_type": "code",
   "execution_count": 26,
   "metadata": {
    "collapsed": false
   },
   "outputs": [
    {
     "name": "stdout",
     "output_type": "stream",
     "text": [
      "                            OLS Regression Results                            \n",
      "==============================================================================\n",
      "Dep. Variable:             BVPerShare   R-squared:                       0.552\n",
      "Model:                            OLS   Adj. R-squared:                  0.425\n",
      "Method:                 Least Squares   F-statistic:                     4.320\n",
      "Date:                Sun, 22 Nov 2015   Prob (F-statistic):             0.0600\n",
      "Time:                        21:25:11   Log-Likelihood:                -26.141\n",
      "No. Observations:                  10   AIC:                             58.28\n",
      "Df Residuals:                       7   BIC:                             59.19\n",
      "Df Model:                           2                                         \n",
      "Covariance Type:            nonrobust                                         \n",
      "==============================================================================\n",
      "                 coef    std err          t      P>|t|      [95.0% Conf. Int.]\n",
      "------------------------------------------------------------------------------\n",
      "Intercept  -2754.3113   1052.484     -2.617      0.035     -5243.041  -265.581\n",
      "LTDebt        -0.1746      0.453     -0.386      0.711        -1.245     0.895\n",
      "Year           1.3828      0.528      2.618      0.035         0.134     2.632\n",
      "==============================================================================\n",
      "Omnibus:                        4.446   Durbin-Watson:                   1.735\n",
      "Prob(Omnibus):                  0.108   Jarque-Bera (JB):                1.631\n",
      "Skew:                           0.967   Prob(JB):                        0.442\n",
      "Kurtosis:                       3.422   Cond. No.                     1.69e+06\n",
      "==============================================================================\n",
      "\n",
      "Warnings:\n",
      "[1] Standard Errors assume that the covariance matrix of the errors is correctly specified.\n",
      "[2] The condition number is large, 1.69e+06. This might indicate that there are\n",
      "strong multicollinearity or other numerical problems.\n"
     ]
    },
    {
     "name": "stderr",
     "output_type": "stream",
     "text": [
      "/Users/linwood/anaconda/envs/py35/lib/python3.5/site-packages/scipy/stats/stats.py:1277: UserWarning: kurtosistest only valid for n>=20 ... continuing anyway, n=10\n",
      "  \"anyway, n=%i\" % int(n))\n"
     ]
    },
    {
     "data": {
      "text/plain": [
       "(2.0080434205987197, 0.36500257437763428)"
      ]
     },
     "execution_count": 26,
     "metadata": {},
     "output_type": "execute_result"
    }
   ],
   "source": [
    "mod = sm.OLS(y, X)\n",
    "res=mod.fit()\n",
    "print (res.summary())\n",
    "sm.stats.linear_rainbow(res)"
   ]
  },
  {
   "cell_type": "code",
   "execution_count": 27,
   "metadata": {
    "collapsed": false
   },
   "outputs": [
    {
     "ename": "TypeError",
     "evalue": "plot_partregress() missing 2 required positional arguments: 'exog_i' and 'exog_others'",
     "output_type": "error",
     "traceback": [
      "\u001b[0;31m---------------------------------------------------------------------------\u001b[0m",
      "\u001b[0;31mTypeError\u001b[0m                                 Traceback (most recent call last)",
      "\u001b[0;32m<ipython-input-27-b9c69bbd03a9>\u001b[0m in \u001b[0;36m<module>\u001b[0;34m()\u001b[0m\n\u001b[0;32m----> 1\u001b[0;31m \u001b[0msm\u001b[0m\u001b[0;34m.\u001b[0m\u001b[0mgraphics\u001b[0m\u001b[0;34m.\u001b[0m\u001b[0mplot_partregress\u001b[0m\u001b[0;34m(\u001b[0m\u001b[0;34m''\u001b[0m\u001b[0;34m)\u001b[0m\u001b[0;34m\u001b[0m\u001b[0m\n\u001b[0m",
      "\u001b[0;31mTypeError\u001b[0m: plot_partregress() missing 2 required positional arguments: 'exog_i' and 'exog_others'"
     ]
    }
   ],
   "source": [
    "sm.graphics.plot_partregress('')"
   ]
  },
  {
   "cell_type": "code",
   "execution_count": null,
   "metadata": {
    "collapsed": false
   },
   "outputs": [],
   "source": [
    "'''\n",
    "from bokeh.plotting import figure, show, output_notebook\n",
    "import numpy.polynomial.polynomial as poly\n",
    "\n",
    "x = df3.index\n",
    "y = df3['Debt/Equity']\n",
    "output_notebook()\n",
    "p1 = figure(x_axis_type='datetime',plot_width=800, plot_height=600)\n",
    "p1.scatter(x,y, color=\"#FF00FF\", nonselection_fill_color=\"#FFFF00\", nonselection_fill_alpha=1)\n",
    "show(p1);\n",
    "'''"
   ]
  },
  {
   "cell_type": "code",
   "execution_count": null,
   "metadata": {
    "collapsed": true
   },
   "outputs": [],
   "source": [
    "df3['index']=df3.index.to_period()"
   ]
  },
  {
   "cell_type": "code",
   "execution_count": null,
   "metadata": {
    "collapsed": false
   },
   "outputs": [],
   "source": [
    "df3"
   ]
  },
  {
   "cell_type": "code",
   "execution_count": null,
   "metadata": {
    "collapsed": false
   },
   "outputs": [],
   "source": [
    "# We create a conditional to look at the 75% quantile and average debt-to-equity over 10 years\n",
    "\n",
    "print (df3['Debt/Equity']<.50)\n",
    "print () #whitespace\n",
    "print ()\n",
    "\n",
    "vigilant1 = df3['Debt/Equity'].mean()\n",
    "vigilant1med=df3['Debt/Equity'].quantile(0.75)\n",
    "if vigilant1 < .50 and vigilant1med < .50 :\n",
    "    print (\"The 10-year average and median debt-to-equity ratios for this company are %r and %r respectively (both less than 0.50).  Therefore, the company PASSES Buffett's 3rd rule for vigilant leadership.\" % (round(vigilant1,2),vigilant1med))\n",
    "    \n",
    "else:\n",
    "    print (\"The 10-year average and median debt-to-equity ratios for this company are %r and %r respectively (one or both under 0.50).  Therefore, the company FAILS Buffett's 3rd rule for vigilant leadership.\" % (round(vigilant1,2),vigilant1med))\n"
   ]
  },
  {
   "cell_type": "markdown",
   "metadata": {},
   "source": [
    "## A quick lesson on the current ratio\n",
    "Next, we will look at the current ratio.  This number gives an idea of how the company will handle debt in the next year (12 months).  Just like personal finance, a company will take on debt if it takes in less money over the next 12 months than it pays out.  Any assets that will likely convert to cash over the next 12 months is [Total current assets](http://www.investopedia.com/terms/c/currentassets.asp); this flows INTO the company.  The number of \"bills' due within 12 months are the [Total current Liabilities](http://www.investopedia.com/terms/c/currentliabilities.asp); this flows OUT OF the company. You just divide the money going in by the money going out.  Current ratios are above 1.50 are ideal, and current ratios right at the 1.0 mark bring cause for concern.  Figures lower than 1 point to a situation where a company will likely take on debt to finance current operations.  "
   ]
  },
  {
   "cell_type": "code",
   "execution_count": null,
   "metadata": {
    "collapsed": false
   },
   "outputs": [],
   "source": [
    "print() # whitespace\n",
    "\n",
    "# Boolean index of the dataframe; if the value is less than .50, returns \"True\"\n",
    "print (df3['Debt/Equity']<.50)\n",
    "\n",
    "print() # whitespace\n",
    "print()\n",
    "\n",
    "\n",
    "# Average of the column; we want a value less than .50\n",
    "print (\"The average debt-to-equity ratio for Pfizer over a 10-year period is %r.\" % round(df3['Debt/Equity'].mean(),2) )\n",
    "vigilant1= round(df3['Debt/Equity'].mean(),2)"
   ]
  },
  {
   "cell_type": "markdown",
   "metadata": {},
   "source": [
    "This is the same concept as the personal debt-to-equity ratio used in personal finance.  Basically, this is a calculation of the total assets you own and the total liabilities (debts) you owe.  High debt is one danger to a company, and good managers manage the amount of debt their companies take on.  \n",
    "\n",
    "We can illustrate this \"danger\" by equating it to personal finance.  If you added up everything you owned (stocks, bank accounts, etc.) that would be your assets.  Let's say that was 100,000.  Now, if you added up everything you OWED (mortgage, car, bills, etc.), that would equal your total liabilities.  Let's say that is 90,000. If you died, your family would be left with $ 10,000 after everything was paid off (not including taxes).  In this case, you equity is $10,000 and your debt-to-equity ratio is 0.90.\n",
    "\n",
    "Buffett historically buys companies with a ratio lower than .50.  A debt-to-equity ratio of .50 means that a company has 50 cents of debt for every dollar of equity.  "
   ]
  },
  {
   "cell_type": "code",
   "execution_count": null,
   "metadata": {
    "collapsed": false
   },
   "outputs": [],
   "source": [
    "df3['Current Ratio']>1.50"
   ]
  },
  {
   "cell_type": "code",
   "execution_count": null,
   "metadata": {
    "collapsed": false
   },
   "outputs": [],
   "source": [
    "\n",
    "df3['BVdiff']= df3['BVperShare']-df3['BVperShare'].shift()\n",
    "df3['Unaccounted_Earnings']=df3.apply(lambda row: row['EPS']-(row['dividend'] + row['BVdiff']),axis=1)"
   ]
  },
  {
   "cell_type": "code",
   "execution_count": null,
   "metadata": {
    "collapsed": false
   },
   "outputs": [],
   "source": [
    "df3;"
   ]
  },
  {
   "cell_type": "code",
   "execution_count": null,
   "metadata": {
    "collapsed": false
   },
   "outputs": [],
   "source": [
    "import good_morning as gm\n",
    "import pandas as pd\n",
    "import numpy as np\n",
    "import matplotlib.pyplot as plt\n",
    "%matplotlib inline"
   ]
  },
  {
   "cell_type": "markdown",
   "metadata": {},
   "source": [
    "When we make a prediction of future earnings on a linear model, we can make some assumptions of the future based on the past.  Here, I calculate the the ratio of earnings to book value.  The goal is to see how earnings historically related to book value every year to calculate the next years earnings.  This is why stability is so important; if the financials over a 10 year period form a positively correlated linear model, predictions become easier.  The goal is to find those companies with positively correlated earnings, debt-to-equity ratio, dividend, book-value-per-share, and current ratio. So we get the percentage for each year and then calculate basic summary statistics.  "
   ]
  },
  {
   "cell_type": "code",
   "execution_count": null,
   "metadata": {
    "collapsed": false
   },
   "outputs": [],
   "source": [
    "df.apply(lambda row: row['EPS']/row['BVperShare'], axis=1).describe()\n"
   ]
  },
  {
   "cell_type": "code",
   "execution_count": null,
   "metadata": {
    "collapsed": false
   },
   "outputs": [],
   "source": [
    "df"
   ]
  },
  {
   "cell_type": "code",
   "execution_count": null,
   "metadata": {
    "collapsed": false
   },
   "outputs": [],
   "source": [
    "df[['EPS','BVperShare','dividend','BVdiff']];"
   ]
  },
  {
   "cell_type": "code",
   "execution_count": null,
   "metadata": {
    "collapsed": true
   },
   "outputs": [],
   "source": []
  },
  {
   "cell_type": "code",
   "execution_count": null,
   "metadata": {
    "collapsed": false
   },
   "outputs": [],
   "source": [
    "company = df[['EPS']].sum()\n",
    "pocket=df[['dividend']].sum()+df.BVperShare.iloc[-1]-df.BVperShare.iloc[0]"
   ]
  },
  {
   "cell_type": "code",
   "execution_count": null,
   "metadata": {
    "collapsed": false
   },
   "outputs": [],
   "source": [
    "company.iloc[0]-pocket.iloc[0]"
   ]
  },
  {
   "cell_type": "code",
   "execution_count": null,
   "metadata": {
    "collapsed": false
   },
   "outputs": [],
   "source": [
    "import numpy.polynomial.polynomial as poly\n",
    "\n",
    "# There's nothing new under the sun; I modified some code for numpy data fitting.  \n",
    "# The link is http://docs.scipy.org/doc/numpy/reference/generated/numpy.polyfit.html\n",
    "\n",
    "\n",
    "# security data for fitting\n",
    "x = df.index\n",
    "y = df['BVperShare']\n",
    "\n",
    "x_new = np.linspace(x[0], x[-1], num=len(x)*10)\n",
    "coefs = poly.polyfit(x, y, 1)\n",
    "ffit = poly.Polynomial(coefs) \n",
    "plt.scatter(x, y, s=30, alpha=0.15, marker='D')\n",
    "plt.plot(x_new, ffit(x_new))\n",
    "plt.xlabel('Period')\n",
    "plt.ylabel('Earnings')\n",
    "plt.xlim([2005,2026])\n",
    "plt.ylim([7,16])\n",
    "plt.title('Book Value per Share for Pfizer, Inc over 10 Years')"
   ]
  },
  {
   "cell_type": "code",
   "execution_count": null,
   "metadata": {
    "collapsed": false
   },
   "outputs": [],
   "source": [
    "(intday.index+1)"
   ]
  },
  {
   "cell_type": "code",
   "execution_count": null,
   "metadata": {
    "collapsed": false
   },
   "outputs": [],
   "source": [
    "df3=df3.rename(columns={'index':'Year'})\n",
    "df3"
   ]
  },
  {
   "cell_type": "code",
   "execution_count": null,
   "metadata": {
    "collapsed": false
   },
   "outputs": [],
   "source": [
    "from sklearn import linear_model\n",
    "\n",
    "# Create linear regression object\n",
    "regr = linear_model.LinearRegression()\n",
    "\n",
    "# Pulling the data out for the simple linear model\n",
    "X = np.asarray(df[['index']])\n",
    "y = np.asarray(df['BVperShare'])\n",
    "\n",
    "\n",
    "# Train the model using the training sets\n",
    "regr.fit(X, y)\n"
   ]
  },
  {
   "cell_type": "code",
   "execution_count": null,
   "metadata": {
    "collapsed": false
   },
   "outputs": [],
   "source": [
    "regr.predict(2016)"
   ]
  },
  {
   "cell_type": "markdown",
   "metadata": {},
   "source": [
    "Use the predicted book value per share to get an estimated earnings per share.  I use the predicted book value for the next year (above) and the average earnings-to-book value ratio for ten years.  "
   ]
  },
  {
   "cell_type": "code",
   "execution_count": null,
   "metadata": {
    "collapsed": false
   },
   "outputs": [],
   "source": [
    "regr.predict(2016)*df.apply(lambda row: row['EPS']/row['BVperShare'], axis=1).mean()"
   ]
  },
  {
   "cell_type": "markdown",
   "metadata": {},
   "source": [
    "Finally, we have enough data to make the ultimate calculation; the intricsic value.  To do this, we take all the values from the historical financials and plug them into [Buffett Books Intrinsic Value Calculator](http://buffettsbooks.com/howtoinvestinstocks/course2/stocks/intrinsic-value-calculator.html#sthash.I02x9s7w.dpbs).  For every investor, intrinsic values will differ given the use of the current US treasury 10 year yield.  That changes daily; so calculating intrinsic value today or next week will change.  Either way, you set a bar for each stock that you look at, so know when something is 'on sale'.  "
   ]
  }
 ],
 "metadata": {
  "kernelspec": {
   "display_name": "Python 3",
   "language": "python",
   "name": "python3"
  },
  "language_info": {
   "codemirror_mode": {
    "name": "ipython",
    "version": 3
   },
   "file_extension": ".py",
   "mimetype": "text/x-python",
   "name": "python",
   "nbconvert_exporter": "python",
   "pygments_lexer": "ipython3",
   "version": "3.5.0"
  }
 },
 "nbformat": 4,
 "nbformat_minor": 0
}
