{
 "cells": [
  {
   "cell_type": "code",
   "execution_count": 2,
   "metadata": {
    "collapsed": false
   },
   "outputs": [],
   "source": [
    "import pandas as pd\n",
    "import numpy as np\n",
    "import urllib2\n",
    "import matplotlib.pyplot as plt\n",
    "%matplotlib inline"
   ]
  },
  {
   "cell_type": "code",
   "execution_count": 3,
   "metadata": {
    "collapsed": false
   },
   "outputs": [
    {
     "name": "stderr",
     "output_type": "stream",
     "text": [
      "/Users/linwood/anaconda/lib/python2.7/site-packages/pandas/io/parsers.py:1170: DtypeWarning: Columns (4,5,6,9) have mixed types. Specify dtype option on import or set low_memory=False.\n",
      "  data = self._reader.read(nrows)\n"
     ]
    }
   ],
   "source": [
    "df = pd.read_csv(\"/Users/linwood/Downloads/Data/Consumer_Complaints.csv\", parse_dates=['Date received','Date sent to company'])"
   ]
  },
  {
   "cell_type": "code",
   "execution_count": 59,
   "metadata": {
    "collapsed": false
   },
   "outputs": [
    {
     "data": {
      "text/html": [
       "<div>\n",
       "<table border=\"1\" class=\"dataframe\">\n",
       "  <thead>\n",
       "    <tr style=\"text-align: right;\">\n",
       "      <th></th>\n",
       "      <th>Date received</th>\n",
       "      <th>Product</th>\n",
       "      <th>Sub-product</th>\n",
       "      <th>Issue</th>\n",
       "      <th>Sub-issue</th>\n",
       "      <th>Consumer complaint narrative</th>\n",
       "      <th>Company public response</th>\n",
       "      <th>Company</th>\n",
       "      <th>State</th>\n",
       "      <th>ZIP code</th>\n",
       "      <th>Submitted via</th>\n",
       "      <th>Date sent to company</th>\n",
       "      <th>Company response to consumer</th>\n",
       "      <th>Timely response?</th>\n",
       "      <th>Consumer disputed?</th>\n",
       "      <th>Complaint ID</th>\n",
       "    </tr>\n",
       "  </thead>\n",
       "  <tbody>\n",
       "    <tr>\n",
       "      <th>0</th>\n",
       "      <td>2015-09-28</td>\n",
       "      <td>Debt collection</td>\n",
       "      <td>Other (phone, health club, etc.)</td>\n",
       "      <td>Cont'd attempts collect debt not owed</td>\n",
       "      <td>Debt is not mine</td>\n",
       "      <td>NaN</td>\n",
       "      <td>Company believes it acted appropriately as aut...</td>\n",
       "      <td>ATG Credit, LLC</td>\n",
       "      <td>CA</td>\n",
       "      <td>945XX</td>\n",
       "      <td>Web</td>\n",
       "      <td>2015-09-28</td>\n",
       "      <td>Closed with explanation</td>\n",
       "      <td>Yes</td>\n",
       "      <td>NaN</td>\n",
       "      <td>1582230</td>\n",
       "    </tr>\n",
       "    <tr>\n",
       "      <th>1</th>\n",
       "      <td>2015-09-28</td>\n",
       "      <td>Debt collection</td>\n",
       "      <td>NaN</td>\n",
       "      <td>Cont'd attempts collect debt not owed</td>\n",
       "      <td>Debt is not mine</td>\n",
       "      <td>NaN</td>\n",
       "      <td>Company can't verify or dispute the facts in t...</td>\n",
       "      <td>The CMI Group, Inc.</td>\n",
       "      <td>NY</td>\n",
       "      <td>07719</td>\n",
       "      <td>Web</td>\n",
       "      <td>2015-09-28</td>\n",
       "      <td>Closed with explanation</td>\n",
       "      <td>Yes</td>\n",
       "      <td>NaN</td>\n",
       "      <td>1582808</td>\n",
       "    </tr>\n",
       "    <tr>\n",
       "      <th>2</th>\n",
       "      <td>2015-09-28</td>\n",
       "      <td>Debt collection</td>\n",
       "      <td>NaN</td>\n",
       "      <td>Disclosure verification of debt</td>\n",
       "      <td>Not given enough info to verify debt</td>\n",
       "      <td>NaN</td>\n",
       "      <td>Company believes it acted appropriately as aut...</td>\n",
       "      <td>First National Collection Bureau, Inc.</td>\n",
       "      <td>FL</td>\n",
       "      <td>346XX</td>\n",
       "      <td>Web</td>\n",
       "      <td>2015-09-28</td>\n",
       "      <td>Closed with explanation</td>\n",
       "      <td>Yes</td>\n",
       "      <td>NaN</td>\n",
       "      <td>1582475</td>\n",
       "    </tr>\n",
       "    <tr>\n",
       "      <th>3</th>\n",
       "      <td>2015-09-27</td>\n",
       "      <td>Credit reporting</td>\n",
       "      <td>NaN</td>\n",
       "      <td>Incorrect information on credit report</td>\n",
       "      <td>Information is not mine</td>\n",
       "      <td>NaN</td>\n",
       "      <td>Company chooses not to provide a public response</td>\n",
       "      <td>FNIS (Fidelity National Information Services, ...</td>\n",
       "      <td>TN</td>\n",
       "      <td>38474</td>\n",
       "      <td>Web</td>\n",
       "      <td>2015-09-27</td>\n",
       "      <td>Closed with explanation</td>\n",
       "      <td>Yes</td>\n",
       "      <td>NaN</td>\n",
       "      <td>1581870</td>\n",
       "    </tr>\n",
       "    <tr>\n",
       "      <th>4</th>\n",
       "      <td>2015-09-27</td>\n",
       "      <td>Credit card</td>\n",
       "      <td>NaN</td>\n",
       "      <td>APR or interest rate</td>\n",
       "      <td>NaN</td>\n",
       "      <td>NaN</td>\n",
       "      <td>NaN</td>\n",
       "      <td>Navy FCU</td>\n",
       "      <td>NY</td>\n",
       "      <td>12208</td>\n",
       "      <td>Web</td>\n",
       "      <td>2015-09-27</td>\n",
       "      <td>In progress</td>\n",
       "      <td>Yes</td>\n",
       "      <td>NaN</td>\n",
       "      <td>1582019</td>\n",
       "    </tr>\n",
       "  </tbody>\n",
       "</table>\n",
       "</div>"
      ],
      "text/plain": [
       "  Date received           Product                       Sub-product  \\\n",
       "0    2015-09-28   Debt collection  Other (phone, health club, etc.)   \n",
       "1    2015-09-28   Debt collection                               NaN   \n",
       "2    2015-09-28   Debt collection                               NaN   \n",
       "3    2015-09-27  Credit reporting                               NaN   \n",
       "4    2015-09-27       Credit card                               NaN   \n",
       "\n",
       "                                    Issue  \\\n",
       "0   Cont'd attempts collect debt not owed   \n",
       "1   Cont'd attempts collect debt not owed   \n",
       "2         Disclosure verification of debt   \n",
       "3  Incorrect information on credit report   \n",
       "4                    APR or interest rate   \n",
       "\n",
       "                              Sub-issue Consumer complaint narrative  \\\n",
       "0                      Debt is not mine                          NaN   \n",
       "1                      Debt is not mine                          NaN   \n",
       "2  Not given enough info to verify debt                          NaN   \n",
       "3               Information is not mine                          NaN   \n",
       "4                                   NaN                          NaN   \n",
       "\n",
       "                             Company public response  \\\n",
       "0  Company believes it acted appropriately as aut...   \n",
       "1  Company can't verify or dispute the facts in t...   \n",
       "2  Company believes it acted appropriately as aut...   \n",
       "3   Company chooses not to provide a public response   \n",
       "4                                                NaN   \n",
       "\n",
       "                                             Company State ZIP code  \\\n",
       "0                                    ATG Credit, LLC    CA    945XX   \n",
       "1                                The CMI Group, Inc.    NY    07719   \n",
       "2             First National Collection Bureau, Inc.    FL    346XX   \n",
       "3  FNIS (Fidelity National Information Services, ...    TN    38474   \n",
       "4                                           Navy FCU    NY    12208   \n",
       "\n",
       "  Submitted via Date sent to company Company response to consumer  \\\n",
       "0           Web           2015-09-28      Closed with explanation   \n",
       "1           Web           2015-09-28      Closed with explanation   \n",
       "2           Web           2015-09-28      Closed with explanation   \n",
       "3           Web           2015-09-27      Closed with explanation   \n",
       "4           Web           2015-09-27                  In progress   \n",
       "\n",
       "  Timely response? Consumer disputed?  Complaint ID  \n",
       "0              Yes                NaN       1582230  \n",
       "1              Yes                NaN       1582808  \n",
       "2              Yes                NaN       1582475  \n",
       "3              Yes                NaN       1581870  \n",
       "4              Yes                NaN       1582019  "
      ]
     },
     "execution_count": 59,
     "metadata": {},
     "output_type": "execute_result"
    }
   ],
   "source": [
    "df.head()"
   ]
  },
  {
   "cell_type": "code",
   "execution_count": 7,
   "metadata": {
    "collapsed": false
   },
   "outputs": [
    {
     "data": {
      "text/plain": [
       "Date received  Submitted via\n",
       "2011-12-01     Phone             16\n",
       "               Postal mail        3\n",
       "               Referral          68\n",
       "               Web               49\n",
       "2011-12-02     Phone             10\n",
       "               Postal mail        1\n",
       "               Referral          73\n",
       "               Web               46\n",
       "2011-12-03     Web               25\n",
       "2011-12-04     Referral           6\n",
       "               Web               19\n",
       "2011-12-05     Fax                1\n",
       "               Phone             10\n",
       "               Postal mail        4\n",
       "               Referral         114\n",
       "               Web               54\n",
       "2011-12-06     Phone              5\n",
       "               Referral          99\n",
       "               Web               46\n",
       "2011-12-07     Email              2\n",
       "               Fax                1\n",
       "               Phone             16\n",
       "               Postal mail        6\n",
       "               Referral          41\n",
       "               Web               43\n",
       "2011-12-08     Email              1\n",
       "               Fax                2\n",
       "               Phone             10\n",
       "               Postal mail        2\n",
       "               Referral          28\n",
       "                               ... \n",
       "2015-09-17     Referral          11\n",
       "               Web              184\n",
       "2015-09-18     Phone             11\n",
       "               Postal mail        8\n",
       "               Referral           6\n",
       "               Web              167\n",
       "2015-09-19     Web               75\n",
       "2015-09-20     Web               64\n",
       "2015-09-21     Phone              5\n",
       "               Postal mail        1\n",
       "               Referral           6\n",
       "               Web              142\n",
       "2015-09-22     Fax                1\n",
       "               Phone              2\n",
       "               Postal mail        3\n",
       "               Referral          18\n",
       "               Web              155\n",
       "2015-09-23     Phone              6\n",
       "               Postal mail        2\n",
       "               Referral           4\n",
       "               Web              110\n",
       "2015-09-24     Fax                1\n",
       "               Phone              2\n",
       "               Referral           2\n",
       "               Web               64\n",
       "2015-09-25     Phone              2\n",
       "               Web               17\n",
       "2015-09-26     Web                6\n",
       "2015-09-27     Web               11\n",
       "2015-09-28     Web                3\n",
       "Name: Product, dtype: int64"
      ]
     },
     "execution_count": 7,
     "metadata": {},
     "output_type": "execute_result"
    }
   ],
   "source": [
    "df.groupby(['Date received', 'Submitted via']).Product.count()"
   ]
  },
  {
   "cell_type": "code",
   "execution_count": 6,
   "metadata": {
    "collapsed": false
   },
   "outputs": [
    {
     "data": {
      "text/plain": [
       "Date received  Submitted via\n",
       "2011-12-01     Phone             16\n",
       "               Postal mail        3\n",
       "               Referral          68\n",
       "               Web               49\n",
       "2011-12-02     Phone             10\n",
       "               Postal mail        1\n",
       "               Referral          73\n",
       "               Web               46\n",
       "2011-12-03     Web               25\n",
       "2011-12-04     Referral           6\n",
       "               Web               19\n",
       "2011-12-05     Fax                1\n",
       "               Phone             10\n",
       "               Postal mail        4\n",
       "               Referral         114\n",
       "               Web               54\n",
       "2011-12-06     Phone              5\n",
       "               Referral          99\n",
       "               Web               46\n",
       "2011-12-07     Email              2\n",
       "               Fax                1\n",
       "               Phone             16\n",
       "               Postal mail        6\n",
       "               Referral          41\n",
       "               Web               43\n",
       "2011-12-08     Email              1\n",
       "               Fax                2\n",
       "               Phone             10\n",
       "               Postal mail        2\n",
       "               Referral          28\n",
       "                               ... \n",
       "2015-09-17     Referral          11\n",
       "               Web              184\n",
       "2015-09-18     Phone             11\n",
       "               Postal mail        8\n",
       "               Referral           6\n",
       "               Web              167\n",
       "2015-09-19     Web               75\n",
       "2015-09-20     Web               64\n",
       "2015-09-21     Phone              5\n",
       "               Postal mail        1\n",
       "               Referral           6\n",
       "               Web              142\n",
       "2015-09-22     Fax                1\n",
       "               Phone              2\n",
       "               Postal mail        3\n",
       "               Referral          18\n",
       "               Web              155\n",
       "2015-09-23     Phone              6\n",
       "               Postal mail        2\n",
       "               Referral           4\n",
       "               Web              110\n",
       "2015-09-24     Fax                1\n",
       "               Phone              2\n",
       "               Referral           2\n",
       "               Web               64\n",
       "2015-09-25     Phone              2\n",
       "               Web               17\n",
       "2015-09-26     Web                6\n",
       "2015-09-27     Web               11\n",
       "2015-09-28     Web                3\n",
       "Name: Product, dtype: int64"
      ]
     },
     "execution_count": 6,
     "metadata": {},
     "output_type": "execute_result"
    }
   ],
   "source": [
    "ts"
   ]
  },
  {
   "cell_type": "code",
   "execution_count": 41,
   "metadata": {
    "collapsed": false
   },
   "outputs": [
    {
     "data": {
      "text/plain": [
       "array([ 18. ,  15. ,  18. ,  16. ,  17. ,  15. ,  14. ,  14. ,  14. ,\n",
       "        15. ,  15. ,  14. ,  15. ,  14. ,  24. ,  22. ,  18. ,  21. ,\n",
       "        27. ,  26. ,  25. ,  24. ,  25. ,  26. ,  21. ,  10. ,  10. ,\n",
       "        11. ,   9. ,  27. ,  28. ,  25. ,  19. ,  16. ,  17. ,  19. ,\n",
       "        18. ,  14. ,  14. ,  14. ,  14. ,  12. ,  13. ,  13. ,  18. ,\n",
       "        22. ,  19. ,  18. ,  23. ,  28. ,  30. ,  30. ,  31. ,  35. ,\n",
       "        27. ,  26. ,  24. ,  25. ,  23. ,  20. ,  21. ,  13. ,  14. ,\n",
       "        15. ,  14. ,  17. ,  11. ,  13. ,  12. ,  13. ,  19. ,  15. ,\n",
       "        13. ,  13. ,  14. ,  18. ,  22. ,  21. ,  26. ,  22. ,  28. ,\n",
       "        23. ,  28. ,  27. ,  13. ,  14. ,  13. ,  14. ,  15. ,  12. ,\n",
       "        13. ,  13. ,  14. ,  13. ,  12. ,  13. ,  18. ,  16. ,  18. ,\n",
       "        18. ,  23. ,  26. ,  11. ,  12. ,  13. ,  12. ,  18. ,  20. ,\n",
       "        21. ,  22. ,  18. ,  19. ,  21. ,  26. ,  15. ,  16. ,  29. ,\n",
       "        24. ,  20. ,  19. ,  15. ,  24. ,  20. ,  11. ,  20. ,  19. ,\n",
       "        15. ,  31. ,  26. ,  32. ,  25. ,  16. ,  16. ,  18. ,  16. ,\n",
       "        13. ,  14. ,  14. ,  14. ,  29. ,  26. ,  26. ,  31. ,  32. ,\n",
       "        28. ,  24. ,  26. ,  24. ,  26. ,  31. ,  19. ,  18. ,  15. ,\n",
       "        15. ,  16. ,  15. ,  16. ,  14. ,  17. ,  16. ,  15. ,  18. ,\n",
       "        21. ,  20. ,  13. ,  29. ,  23. ,  20. ,  23. ,  24. ,  25. ,\n",
       "        24. ,  18. ,  29. ,  19. ,  23. ,  23. ,  22. ,  25. ,  33. ,\n",
       "        28. ,  25. ,  25. ,  26. ,  27. ,  17.5,  16. ,  15.5,  14.5,\n",
       "        22. ,  22. ,  24. ,  22.5,  29. ,  24.5,  29. ,  33. ,  20. ,\n",
       "        18. ,  18.5,  17.5,  29.5,  32. ,  28. ,  26.5,  20. ,  13. ,\n",
       "        19. ,  19. ,  16.5,  16.5,  13. ,  13. ,  13. ,  31.5,  30. ,\n",
       "        36. ,  25.5,  33.5,  17.5,  17. ,  15.5,  15. ,  17.5,  20.5,\n",
       "        19. ,  18.5,  16. ,  15.5,  15.5,  16. ,  29. ,  24.5,  26. ,\n",
       "        25.5,  30.5,  33.5,  30. ,  30.5,  22. ,  21.5,  21.5,  43.1,\n",
       "        36.1,  32.8,  39.4,  36.1,  19.9,  19.4,  20.2,  19.2,  20.5,\n",
       "        20.2,  25.1,  20.5,  19.4,  20.6,  20.8,  18.6,  18.1,  19.2,\n",
       "        17.7,  18.1,  17.5,  30. ,  27.5,  27.2,  30.9,  21.1,  23.2,\n",
       "        23.8,  23.9,  20.3,  17. ,  21.6,  16.2,  31.5,  29.5,  21.5,\n",
       "        19.8,  22.3,  20.2,  20.6,  17. ,  17.6,  16.5,  18.2,  16.9,\n",
       "        15.5,  19.2,  18.5,  31.9,  34.1,  35.7,  27.4,  25.4,  23. ,\n",
       "        27.2,  23.9,  34.2,  34.5,  31.8,  37.3,  28.4,  28.8,  26.8,\n",
       "        33.5,  41.5,  38.1,  32.1,  37.2,  28. ,  26.4,  24.3,  19.1,\n",
       "        34.3,  29.8,  31.3,  37. ,  32.2,  46.6,  27.9,  40.8,  44.3,\n",
       "        43.4,  36.4,  30. ,  44.6,  33.8,  29.8,  32.7,  23.7,  35. ,\n",
       "        32.4,  27.2,  26.6,  25.8,  23.5,  30. ,  39.1,  39. ,  35.1,\n",
       "        32.3,  37. ,  37.7,  34.1,  34.7,  34.4,  29.9,  33. ,  33.7,\n",
       "        32.4,  32.9,  31.6,  28.1,  30.7,  25.4,  24.2,  22.4,  26.6,\n",
       "        20.2,  17.6,  28. ,  27. ,  34. ,  31. ,  29. ,  27. ,  24. ,\n",
       "        36. ,  37. ,  31. ,  38. ,  36. ,  36. ,  36. ,  34. ,  38. ,\n",
       "        32. ,  38. ,  25. ,  38. ,  26. ,  22. ,  32. ,  36. ,  27. ,\n",
       "        27. ,  44. ,  32. ,  28. ,  31. ])"
      ]
     },
     "execution_count": 41,
     "metadata": {},
     "output_type": "execute_result"
    }
   ],
   "source": [
    "df['mpg'].values"
   ]
  },
  {
   "cell_type": "code",
   "execution_count": 42,
   "metadata": {
    "collapsed": false
   },
   "outputs": [],
   "source": [
    "from numpy import cumprod, linspace, random\n",
    "num_points = 300\n",
    "cumprod(random.lognormal(0.0, 0.04, size=num_points));"
   ]
  },
  {
   "cell_type": "code",
   "execution_count": 36,
   "metadata": {
    "collapsed": false
   },
   "outputs": [],
   "source": [
    "df.ix[1:,1].values;"
   ]
  },
  {
   "cell_type": "code",
   "execution_count": 44,
   "metadata": {
    "collapsed": false
   },
   "outputs": [
    {
     "data": {
      "image/png": "[encoded data removed]",
      "text/plain": [
       "<matplotlib.figure.Figure at 0x1107fbcd0>"
      ]
     },
     "metadata": {},
     "output_type": "display_data"
    }
   ],
   "source": [
    "\n",
    "import scipy.stats as stats\n",
    "import pylab as pl\n",
    "\n",
    "h = sorted(df['mpg'].values)  #sorted\n",
    "\n",
    "fit = stats.norm.pdf(h, np.mean(h), np.std(h))  #this is a fitting indeed\n",
    "\n",
    "pl.plot(h,fit,'-D')\n",
    "\n",
    "pl.hist(h,normed=True)      #use this to draw histogram of your data\n",
    "\n",
    "pl.show() "
   ]
  },
  {
   "cell_type": "code",
   "execution_count": 52,
   "metadata": {
    "collapsed": false
   },
   "outputs": [
    {
     "data": {
      "text/plain": [
       "(2.2030372133078027, 0.33236596708927935)"
      ]
     },
     "execution_count": 52,
     "metadata": {},
     "output_type": "execute_result"
    }
   ],
   "source": [
    "\n",
    "samp = np.random.normal(0, 5, 1000000)\n",
    "stats.mstats.normaltest(samp)"
   ]
  },
  {
   "cell_type": "code",
   "execution_count": 120,
   "metadata": {
    "collapsed": true
   },
   "outputs": [],
   "source": [
    "s = np.random.normal(0, .1, 1000)"
   ]
  },
  {
   "cell_type": "code",
   "execution_count": 53,
   "metadata": {
    "collapsed": false
   },
   "outputs": [
    {
     "data": {
      "text/plain": [
       "[9.0,\n",
       " 10.0,\n",
       " 10.0,\n",
       " 11.0,\n",
       " 11.0,\n",
       " 11.0,\n",
       " 11.0,\n",
       " 12.0,\n",
       " 12.0,\n",
       " 12.0,\n",
       " 12.0,\n",
       " 12.0,\n",
       " 12.0,\n",
       " 13.0,\n",
       " 13.0,\n",
       " 13.0,\n",
       " 13.0,\n",
       " 13.0,\n",
       " 13.0,\n",
       " 13.0,\n",
       " 13.0,\n",
       " 13.0,\n",
       " 13.0,\n",
       " 13.0,\n",
       " 13.0,\n",
       " 13.0,\n",
       " 13.0,\n",
       " 13.0,\n",
       " 13.0,\n",
       " 13.0,\n",
       " 13.0,\n",
       " 13.0,\n",
       " 13.0,\n",
       " 14.0,\n",
       " 14.0,\n",
       " 14.0,\n",
       " 14.0,\n",
       " 14.0,\n",
       " 14.0,\n",
       " 14.0,\n",
       " 14.0,\n",
       " 14.0,\n",
       " 14.0,\n",
       " 14.0,\n",
       " 14.0,\n",
       " 14.0,\n",
       " 14.0,\n",
       " 14.0,\n",
       " 14.0,\n",
       " 14.0,\n",
       " 14.0,\n",
       " 14.0,\n",
       " 14.5,\n",
       " 15.0,\n",
       " 15.0,\n",
       " 15.0,\n",
       " 15.0,\n",
       " 15.0,\n",
       " 15.0,\n",
       " 15.0,\n",
       " 15.0,\n",
       " 15.0,\n",
       " 15.0,\n",
       " 15.0,\n",
       " 15.0,\n",
       " 15.0,\n",
       " 15.0,\n",
       " 15.0,\n",
       " 15.0,\n",
       " 15.5,\n",
       " 15.5,\n",
       " 15.5,\n",
       " 15.5,\n",
       " 15.5,\n",
       " 16.0,\n",
       " 16.0,\n",
       " 16.0,\n",
       " 16.0,\n",
       " 16.0,\n",
       " 16.0,\n",
       " 16.0,\n",
       " 16.0,\n",
       " 16.0,\n",
       " 16.0,\n",
       " 16.0,\n",
       " 16.0,\n",
       " 16.0,\n",
       " 16.199999999999999,\n",
       " 16.5,\n",
       " 16.5,\n",
       " 16.5,\n",
       " 16.899999999999999,\n",
       " 17.0,\n",
       " 17.0,\n",
       " 17.0,\n",
       " 17.0,\n",
       " 17.0,\n",
       " 17.0,\n",
       " 17.0,\n",
       " 17.5,\n",
       " 17.5,\n",
       " 17.5,\n",
       " 17.5,\n",
       " 17.5,\n",
       " 17.600000000000001,\n",
       " 17.600000000000001,\n",
       " 17.699999999999999,\n",
       " 18.0,\n",
       " 18.0,\n",
       " 18.0,\n",
       " 18.0,\n",
       " 18.0,\n",
       " 18.0,\n",
       " 18.0,\n",
       " 18.0,\n",
       " 18.0,\n",
       " 18.0,\n",
       " 18.0,\n",
       " 18.0,\n",
       " 18.0,\n",
       " 18.0,\n",
       " 18.0,\n",
       " 18.0,\n",
       " 18.0,\n",
       " 18.100000000000001,\n",
       " 18.100000000000001,\n",
       " 18.199999999999999,\n",
       " 18.5,\n",
       " 18.5,\n",
       " 18.5,\n",
       " 18.600000000000001,\n",
       " 19.0,\n",
       " 19.0,\n",
       " 19.0,\n",
       " 19.0,\n",
       " 19.0,\n",
       " 19.0,\n",
       " 19.0,\n",
       " 19.0,\n",
       " 19.0,\n",
       " 19.0,\n",
       " 19.0,\n",
       " 19.0,\n",
       " 19.100000000000001,\n",
       " 19.199999999999999,\n",
       " 19.199999999999999,\n",
       " 19.199999999999999,\n",
       " 19.399999999999999,\n",
       " 19.399999999999999,\n",
       " 19.800000000000001,\n",
       " 19.899999999999999,\n",
       " 20.0,\n",
       " 20.0,\n",
       " 20.0,\n",
       " 20.0,\n",
       " 20.0,\n",
       " 20.0,\n",
       " 20.0,\n",
       " 20.0,\n",
       " 20.0,\n",
       " 20.199999999999999,\n",
       " 20.199999999999999,\n",
       " 20.199999999999999,\n",
       " 20.199999999999999,\n",
       " 20.300000000000001,\n",
       " 20.5,\n",
       " 20.5,\n",
       " 20.5,\n",
       " 20.600000000000001,\n",
       " 20.600000000000001,\n",
       " 20.800000000000001,\n",
       " 21.0,\n",
       " 21.0,\n",
       " 21.0,\n",
       " 21.0,\n",
       " 21.0,\n",
       " 21.0,\n",
       " 21.0,\n",
       " 21.100000000000001,\n",
       " 21.5,\n",
       " 21.5,\n",
       " 21.5,\n",
       " 21.600000000000001,\n",
       " 22.0,\n",
       " 22.0,\n",
       " 22.0,\n",
       " 22.0,\n",
       " 22.0,\n",
       " 22.0,\n",
       " 22.0,\n",
       " 22.0,\n",
       " 22.0,\n",
       " 22.0,\n",
       " 22.300000000000001,\n",
       " 22.399999999999999,\n",
       " 22.5,\n",
       " 23.0,\n",
       " 23.0,\n",
       " 23.0,\n",
       " 23.0,\n",
       " 23.0,\n",
       " 23.0,\n",
       " 23.0,\n",
       " 23.0,\n",
       " 23.0,\n",
       " 23.199999999999999,\n",
       " 23.5,\n",
       " 23.699999999999999,\n",
       " 23.800000000000001,\n",
       " 23.899999999999999,\n",
       " 23.899999999999999,\n",
       " 24.0,\n",
       " 24.0,\n",
       " 24.0,\n",
       " 24.0,\n",
       " 24.0,\n",
       " 24.0,\n",
       " 24.0,\n",
       " 24.0,\n",
       " 24.0,\n",
       " 24.0,\n",
       " 24.0,\n",
       " 24.199999999999999,\n",
       " 24.300000000000001,\n",
       " 24.5,\n",
       " 24.5,\n",
       " 25.0,\n",
       " 25.0,\n",
       " 25.0,\n",
       " 25.0,\n",
       " 25.0,\n",
       " 25.0,\n",
       " 25.0,\n",
       " 25.0,\n",
       " 25.0,\n",
       " 25.0,\n",
       " 25.100000000000001,\n",
       " 25.399999999999999,\n",
       " 25.399999999999999,\n",
       " 25.5,\n",
       " 25.5,\n",
       " 25.800000000000001,\n",
       " 26.0,\n",
       " 26.0,\n",
       " 26.0,\n",
       " 26.0,\n",
       " 26.0,\n",
       " 26.0,\n",
       " 26.0,\n",
       " 26.0,\n",
       " 26.0,\n",
       " 26.0,\n",
       " 26.0,\n",
       " 26.0,\n",
       " 26.0,\n",
       " 26.0,\n",
       " 26.399999999999999,\n",
       " 26.5,\n",
       " 26.600000000000001,\n",
       " 26.600000000000001,\n",
       " 26.800000000000001,\n",
       " 27.0,\n",
       " 27.0,\n",
       " 27.0,\n",
       " 27.0,\n",
       " 27.0,\n",
       " 27.0,\n",
       " 27.0,\n",
       " 27.0,\n",
       " 27.0,\n",
       " 27.199999999999999,\n",
       " 27.199999999999999,\n",
       " 27.199999999999999,\n",
       " 27.399999999999999,\n",
       " 27.5,\n",
       " 27.899999999999999,\n",
       " 28.0,\n",
       " 28.0,\n",
       " 28.0,\n",
       " 28.0,\n",
       " 28.0,\n",
       " 28.0,\n",
       " 28.0,\n",
       " 28.0,\n",
       " 28.0,\n",
       " 28.0,\n",
       " 28.100000000000001,\n",
       " 28.399999999999999,\n",
       " 28.800000000000001,\n",
       " 29.0,\n",
       " 29.0,\n",
       " 29.0,\n",
       " 29.0,\n",
       " 29.0,\n",
       " 29.0,\n",
       " 29.0,\n",
       " 29.0,\n",
       " 29.5,\n",
       " 29.5,\n",
       " 29.800000000000001,\n",
       " 29.800000000000001,\n",
       " 29.899999999999999,\n",
       " 30.0,\n",
       " 30.0,\n",
       " 30.0,\n",
       " 30.0,\n",
       " 30.0,\n",
       " 30.0,\n",
       " 30.0,\n",
       " 30.5,\n",
       " 30.5,\n",
       " 30.699999999999999,\n",
       " 30.899999999999999,\n",
       " 31.0,\n",
       " 31.0,\n",
       " 31.0,\n",
       " 31.0,\n",
       " 31.0,\n",
       " 31.0,\n",
       " 31.0,\n",
       " 31.300000000000001,\n",
       " 31.5,\n",
       " 31.5,\n",
       " 31.600000000000001,\n",
       " 31.800000000000001,\n",
       " 31.899999999999999,\n",
       " 32.0,\n",
       " 32.0,\n",
       " 32.0,\n",
       " 32.0,\n",
       " 32.0,\n",
       " 32.0,\n",
       " 32.100000000000001,\n",
       " 32.200000000000003,\n",
       " 32.299999999999997,\n",
       " 32.399999999999999,\n",
       " 32.399999999999999,\n",
       " 32.700000000000003,\n",
       " 32.799999999999997,\n",
       " 32.899999999999999,\n",
       " 33.0,\n",
       " 33.0,\n",
       " 33.0,\n",
       " 33.5,\n",
       " 33.5,\n",
       " 33.5,\n",
       " 33.700000000000003,\n",
       " 33.799999999999997,\n",
       " 34.0,\n",
       " 34.0,\n",
       " 34.100000000000001,\n",
       " 34.100000000000001,\n",
       " 34.200000000000003,\n",
       " 34.299999999999997,\n",
       " 34.399999999999999,\n",
       " 34.5,\n",
       " 34.700000000000003,\n",
       " 35.0,\n",
       " 35.0,\n",
       " 35.100000000000001,\n",
       " 35.700000000000003,\n",
       " 36.0,\n",
       " 36.0,\n",
       " 36.0,\n",
       " 36.0,\n",
       " 36.0,\n",
       " 36.0,\n",
       " 36.100000000000001,\n",
       " 36.100000000000001,\n",
       " 36.399999999999999,\n",
       " 37.0,\n",
       " 37.0,\n",
       " 37.0,\n",
       " 37.200000000000003,\n",
       " 37.299999999999997,\n",
       " 37.700000000000003,\n",
       " 38.0,\n",
       " 38.0,\n",
       " 38.0,\n",
       " 38.0,\n",
       " 38.100000000000001,\n",
       " 39.0,\n",
       " 39.100000000000001,\n",
       " 39.399999999999999,\n",
       " 40.799999999999997,\n",
       " 41.5,\n",
       " 43.100000000000001,\n",
       " 43.399999999999999,\n",
       " 44.0,\n",
       " 44.299999999999997,\n",
       " 44.600000000000001,\n",
       " 46.600000000000001]"
      ]
     },
     "execution_count": 53,
     "metadata": {},
     "output_type": "execute_result"
    }
   ],
   "source": [
    "h"
   ]
  },
  {
   "cell_type": "code",
   "execution_count": 47,
   "metadata": {
    "collapsed": false
   },
   "outputs": [
    {
     "data": {
      "text/plain": [
       "(20.460736308268345, 3.6058492220664109e-05)"
      ]
     },
     "execution_count": 47,
     "metadata": {},
     "output_type": "execute_result"
    }
   ],
   "source": [
    "stats.mstats.normaltest(h)"
   ]
  },
  {
   "cell_type": "code",
   "execution_count": 46,
   "metadata": {
    "collapsed": false
   },
   "outputs": [
    {
     "data": {
      "text/plain": [
       "<matplotlib.axes._subplots.AxesSubplot at 0x117f68510>"
      ]
     },
     "execution_count": 46,
     "metadata": {},
     "output_type": "execute_result"
    },
    {
     "data": {
      "image/png": "[encoded data removed]",
      "text/plain": [
       "<matplotlib.figure.Figure at 0x10bb0d9d0>"
      ]
     },
     "metadata": {},
     "output_type": "display_data"
    }
   ],
   "source": [
    "df['mpg'].plot(kind='hist', alpha=0.5, bins = 25)"
   ]
  },
  {
   "cell_type": "code",
   "execution_count": 54,
   "metadata": {
    "collapsed": false
   },
   "outputs": [
    {
     "data": {
      "text/plain": [
       "(3.5320571685469986,\n",
       " array([ 0.57 ,  0.649,  0.779,  0.909,  1.081]),\n",
       " array([ 15. ,  10. ,   5. ,   2.5,   1. ]))"
      ]
     },
     "execution_count": 54,
     "metadata": {},
     "output_type": "execute_result"
    }
   ],
   "source": [
    "import sys\n",
    "sys.path.append('/Users/linwood/anaconda/pkgs/statsmodels-0.6.1-np19py27_0/lib/python2.7/site-packages')\n",
    "import statsmodels\n",
    "samp = np.random.normal(0, 5, 1000000)\n",
    "stats.anderson(h, dist='norm')"
   ]
  },
  {
   "cell_type": "code",
   "execution_count": 143,
   "metadata": {
    "collapsed": false
   },
   "outputs": [
    {
     "data": {
      "text/plain": [
       "'/Users/linwood/projects/LC3-Creations'"
      ]
     },
     "execution_count": 143,
     "metadata": {},
     "output_type": "execute_result"
    }
   ],
   "source": [
    "import os\n",
    "os.getcwd()"
   ]
  },
  {
   "cell_type": "code",
   "execution_count": 156,
   "metadata": {
    "collapsed": false
   },
   "outputs": [
    {
     "data": {
      "text/plain": [
       "count     846\n",
       "unique     27\n",
       "top        43\n",
       "freq       60\n",
       "Name: CIRCULARITY, dtype: float64"
      ]
     },
     "execution_count": 156,
     "metadata": {},
     "output_type": "execute_result"
    }
   ],
   "source": [
    "df.ix[1:,1].describe()"
   ]
  },
  {
   "cell_type": "code",
   "execution_count": 158,
   "metadata": {
    "collapsed": false
   },
   "outputs": [
    {
     "data": {
      "text/plain": [
       "(44.861702127659576, 6.1698656060220678, 44.0)"
      ]
     },
     "execution_count": 158,
     "metadata": {},
     "output_type": "execute_result"
    }
   ],
   "source": [
    "df.ix[1:,1].mean(), df.ix[1:,1].std(), df.ix[1:,1].median(), "
   ]
  },
  {
   "cell_type": "code",
   "execution_count": 62,
   "metadata": {
    "collapsed": false
   },
   "outputs": [
    {
     "data": {
      "text/plain": [
       "'# download the file\\nraw_data = urllib.urlopen(url)\\n# load the CSV file as a numpy matrix\\ndataset = np.loadtxt(raw_data, delimiter=\",\")'"
      ]
     },
     "execution_count": 62,
     "metadata": {},
     "output_type": "execute_result"
    }
   ],
   "source": [
    "import numpy as np\n",
    "import urllib\n",
    "# URL for the Pima Indians Diabetes dataset (UCI Machine Learning Repository)\n",
    "url = \"https://archive.ics.uci.edu/ml/machine-learning-databases/autos/imports-85.data\"\n",
    "dataset = pd.read_table(url, sep=',')\n",
    "'''# download the file\n",
    "raw_data = urllib.urlopen(url)\n",
    "# load the CSV file as a numpy matrix\n",
    "dataset = np.loadtxt(raw_data, delimiter=\",\")'''\n"
   ]
  },
  {
   "cell_type": "code",
   "execution_count": 65,
   "metadata": {
    "collapsed": false,
    "scrolled": true
   },
   "outputs": [
    {
     "ename": "ValueError",
     "evalue": "Length mismatch: Expected axis has 26 elements, new values have 1 elements",
     "output_type": "error",
     "traceback": [
      "\u001b[0;31m---------------------------------------------------------------------------\u001b[0m",
      "\u001b[0;31mValueError\u001b[0m                                Traceback (most recent call last)",
      "\u001b[0;32m<ipython-input-65-0f39f61e65aa>\u001b[0m in \u001b[0;36m<module>\u001b[0;34m()\u001b[0m\n\u001b[0;32m----> 1\u001b[0;31m \u001b[0mdataset\u001b[0m\u001b[0;34m.\u001b[0m\u001b[0mcolumns\u001b[0m\u001b[0;34m=\u001b[0m\u001b[0;34m[\u001b[0m\u001b[0;34m'make'\u001b[0m\u001b[0;34m]\u001b[0m\u001b[0;34m\u001b[0m\u001b[0m\n\u001b[0m",
      "\u001b[0;32m/Users/linwood/anaconda/lib/python2.7/site-packages/pandas/core/generic.pyc\u001b[0m in \u001b[0;36m__setattr__\u001b[0;34m(self, name, value)\u001b[0m\n\u001b[1;32m   2159\u001b[0m         \u001b[0;32mtry\u001b[0m\u001b[0;34m:\u001b[0m\u001b[0;34m\u001b[0m\u001b[0m\n\u001b[1;32m   2160\u001b[0m             \u001b[0mobject\u001b[0m\u001b[0;34m.\u001b[0m\u001b[0m__getattribute__\u001b[0m\u001b[0;34m(\u001b[0m\u001b[0mself\u001b[0m\u001b[0;34m,\u001b[0m \u001b[0mname\u001b[0m\u001b[0;34m)\u001b[0m\u001b[0;34m\u001b[0m\u001b[0m\n\u001b[0;32m-> 2161\u001b[0;31m             \u001b[0;32mreturn\u001b[0m \u001b[0mobject\u001b[0m\u001b[0;34m.\u001b[0m\u001b[0m__setattr__\u001b[0m\u001b[0;34m(\u001b[0m\u001b[0mself\u001b[0m\u001b[0;34m,\u001b[0m \u001b[0mname\u001b[0m\u001b[0;34m,\u001b[0m \u001b[0mvalue\u001b[0m\u001b[0;34m)\u001b[0m\u001b[0;34m\u001b[0m\u001b[0m\n\u001b[0m\u001b[1;32m   2162\u001b[0m         \u001b[0;32mexcept\u001b[0m \u001b[0mAttributeError\u001b[0m\u001b[0;34m:\u001b[0m\u001b[0;34m\u001b[0m\u001b[0m\n\u001b[1;32m   2163\u001b[0m             \u001b[0;32mpass\u001b[0m\u001b[0;34m\u001b[0m\u001b[0m\n",
      "\u001b[0;32mpandas/src/properties.pyx\u001b[0m in \u001b[0;36mpandas.lib.AxisProperty.__set__ (pandas/lib.c:42548)\u001b[0;34m()\u001b[0m\n",
      "\u001b[0;32m/Users/linwood/anaconda/lib/python2.7/site-packages/pandas/core/generic.pyc\u001b[0m in \u001b[0;36m_set_axis\u001b[0;34m(self, axis, labels)\u001b[0m\n\u001b[1;32m    411\u001b[0m \u001b[0;34m\u001b[0m\u001b[0m\n\u001b[1;32m    412\u001b[0m     \u001b[0;32mdef\u001b[0m \u001b[0m_set_axis\u001b[0m\u001b[0;34m(\u001b[0m\u001b[0mself\u001b[0m\u001b[0;34m,\u001b[0m \u001b[0maxis\u001b[0m\u001b[0;34m,\u001b[0m \u001b[0mlabels\u001b[0m\u001b[0;34m)\u001b[0m\u001b[0;34m:\u001b[0m\u001b[0;34m\u001b[0m\u001b[0m\n\u001b[0;32m--> 413\u001b[0;31m         \u001b[0mself\u001b[0m\u001b[0;34m.\u001b[0m\u001b[0m_data\u001b[0m\u001b[0;34m.\u001b[0m\u001b[0mset_axis\u001b[0m\u001b[0;34m(\u001b[0m\u001b[0maxis\u001b[0m\u001b[0;34m,\u001b[0m \u001b[0mlabels\u001b[0m\u001b[0;34m)\u001b[0m\u001b[0;34m\u001b[0m\u001b[0m\n\u001b[0m\u001b[1;32m    414\u001b[0m         \u001b[0mself\u001b[0m\u001b[0;34m.\u001b[0m\u001b[0m_clear_item_cache\u001b[0m\u001b[0;34m(\u001b[0m\u001b[0;34m)\u001b[0m\u001b[0;34m\u001b[0m\u001b[0m\n\u001b[1;32m    415\u001b[0m \u001b[0;34m\u001b[0m\u001b[0m\n",
      "\u001b[0;32m/Users/linwood/anaconda/lib/python2.7/site-packages/pandas/core/internals.pyc\u001b[0m in \u001b[0;36mset_axis\u001b[0;34m(self, axis, new_labels)\u001b[0m\n\u001b[1;32m   2217\u001b[0m         \u001b[0;32mif\u001b[0m \u001b[0mnew_len\u001b[0m \u001b[0;34m!=\u001b[0m \u001b[0mold_len\u001b[0m\u001b[0;34m:\u001b[0m\u001b[0;34m\u001b[0m\u001b[0m\n\u001b[1;32m   2218\u001b[0m             raise ValueError('Length mismatch: Expected axis has %d elements, '\n\u001b[0;32m-> 2219\u001b[0;31m                              'new values have %d elements' % (old_len, new_len))\n\u001b[0m\u001b[1;32m   2220\u001b[0m \u001b[0;34m\u001b[0m\u001b[0m\n\u001b[1;32m   2221\u001b[0m         \u001b[0mself\u001b[0m\u001b[0;34m.\u001b[0m\u001b[0maxes\u001b[0m\u001b[0;34m[\u001b[0m\u001b[0maxis\u001b[0m\u001b[0;34m]\u001b[0m \u001b[0;34m=\u001b[0m \u001b[0mnew_labels\u001b[0m\u001b[0;34m\u001b[0m\u001b[0m\n",
      "\u001b[0;31mValueError\u001b[0m: Length mismatch: Expected axis has 26 elements, new values have 1 elements"
     ]
    }
   ],
   "source": [
    "dataset.columns=['make']"
   ]
  },
  {
   "cell_type": "code",
   "execution_count": 66,
   "metadata": {
    "collapsed": false
   },
   "outputs": [
    {
     "data": {
      "text/html": [
       "<div>\n",
       "<table border=\"1\" class=\"dataframe\">\n",
       "  <thead>\n",
       "    <tr style=\"text-align: right;\">\n",
       "      <th></th>\n",
       "      <th>3</th>\n",
       "      <th>88.60</th>\n",
       "      <th>168.80</th>\n",
       "      <th>64.10</th>\n",
       "      <th>48.80</th>\n",
       "      <th>2548</th>\n",
       "      <th>130</th>\n",
       "      <th>9.00</th>\n",
       "      <th>21</th>\n",
       "      <th>27</th>\n",
       "    </tr>\n",
       "  </thead>\n",
       "  <tbody>\n",
       "    <tr>\n",
       "      <th>count</th>\n",
       "      <td>204.000000</td>\n",
       "      <td>204.000000</td>\n",
       "      <td>204.000000</td>\n",
       "      <td>204.000000</td>\n",
       "      <td>204.000000</td>\n",
       "      <td>204.000000</td>\n",
       "      <td>204.000000</td>\n",
       "      <td>204.000000</td>\n",
       "      <td>204.000000</td>\n",
       "      <td>204.000000</td>\n",
       "    </tr>\n",
       "    <tr>\n",
       "      <th>mean</th>\n",
       "      <td>0.823529</td>\n",
       "      <td>98.806373</td>\n",
       "      <td>174.075000</td>\n",
       "      <td>65.916667</td>\n",
       "      <td>53.749020</td>\n",
       "      <td>2555.602941</td>\n",
       "      <td>126.892157</td>\n",
       "      <td>10.148137</td>\n",
       "      <td>25.240196</td>\n",
       "      <td>30.769608</td>\n",
       "    </tr>\n",
       "    <tr>\n",
       "      <th>std</th>\n",
       "      <td>1.239035</td>\n",
       "      <td>5.994144</td>\n",
       "      <td>12.362123</td>\n",
       "      <td>2.146716</td>\n",
       "      <td>2.424901</td>\n",
       "      <td>521.960820</td>\n",
       "      <td>41.744569</td>\n",
       "      <td>3.981000</td>\n",
       "      <td>6.551513</td>\n",
       "      <td>6.898337</td>\n",
       "    </tr>\n",
       "    <tr>\n",
       "      <th>min</th>\n",
       "      <td>-2.000000</td>\n",
       "      <td>86.600000</td>\n",
       "      <td>141.100000</td>\n",
       "      <td>60.300000</td>\n",
       "      <td>47.800000</td>\n",
       "      <td>1488.000000</td>\n",
       "      <td>61.000000</td>\n",
       "      <td>7.000000</td>\n",
       "      <td>13.000000</td>\n",
       "      <td>16.000000</td>\n",
       "    </tr>\n",
       "    <tr>\n",
       "      <th>25%</th>\n",
       "      <td>0.000000</td>\n",
       "      <td>94.500000</td>\n",
       "      <td>166.300000</td>\n",
       "      <td>64.075000</td>\n",
       "      <td>52.000000</td>\n",
       "      <td>2145.000000</td>\n",
       "      <td>97.000000</td>\n",
       "      <td>8.575000</td>\n",
       "      <td>19.000000</td>\n",
       "      <td>25.000000</td>\n",
       "    </tr>\n",
       "    <tr>\n",
       "      <th>50%</th>\n",
       "      <td>1.000000</td>\n",
       "      <td>97.000000</td>\n",
       "      <td>173.200000</td>\n",
       "      <td>65.500000</td>\n",
       "      <td>54.100000</td>\n",
       "      <td>2414.000000</td>\n",
       "      <td>119.500000</td>\n",
       "      <td>9.000000</td>\n",
       "      <td>24.000000</td>\n",
       "      <td>30.000000</td>\n",
       "    </tr>\n",
       "    <tr>\n",
       "      <th>75%</th>\n",
       "      <td>2.000000</td>\n",
       "      <td>102.400000</td>\n",
       "      <td>183.200000</td>\n",
       "      <td>66.900000</td>\n",
       "      <td>55.500000</td>\n",
       "      <td>2939.250000</td>\n",
       "      <td>142.000000</td>\n",
       "      <td>9.400000</td>\n",
       "      <td>30.000000</td>\n",
       "      <td>34.500000</td>\n",
       "    </tr>\n",
       "    <tr>\n",
       "      <th>max</th>\n",
       "      <td>3.000000</td>\n",
       "      <td>120.900000</td>\n",
       "      <td>208.100000</td>\n",
       "      <td>72.300000</td>\n",
       "      <td>59.800000</td>\n",
       "      <td>4066.000000</td>\n",
       "      <td>326.000000</td>\n",
       "      <td>23.000000</td>\n",
       "      <td>49.000000</td>\n",
       "      <td>54.000000</td>\n",
       "    </tr>\n",
       "  </tbody>\n",
       "</table>\n",
       "</div>"
      ],
      "text/plain": [
       "                3       88.60      168.80       64.10       48.80  \\\n",
       "count  204.000000  204.000000  204.000000  204.000000  204.000000   \n",
       "mean     0.823529   98.806373  174.075000   65.916667   53.749020   \n",
       "std      1.239035    5.994144   12.362123    2.146716    2.424901   \n",
       "min     -2.000000   86.600000  141.100000   60.300000   47.800000   \n",
       "25%      0.000000   94.500000  166.300000   64.075000   52.000000   \n",
       "50%      1.000000   97.000000  173.200000   65.500000   54.100000   \n",
       "75%      2.000000  102.400000  183.200000   66.900000   55.500000   \n",
       "max      3.000000  120.900000  208.100000   72.300000   59.800000   \n",
       "\n",
       "              2548         130        9.00          21          27  \n",
       "count   204.000000  204.000000  204.000000  204.000000  204.000000  \n",
       "mean   2555.602941  126.892157   10.148137   25.240196   30.769608  \n",
       "std     521.960820   41.744569    3.981000    6.551513    6.898337  \n",
       "min    1488.000000   61.000000    7.000000   13.000000   16.000000  \n",
       "25%    2145.000000   97.000000    8.575000   19.000000   25.000000  \n",
       "50%    2414.000000  119.500000    9.000000   24.000000   30.000000  \n",
       "75%    2939.250000  142.000000    9.400000   30.000000   34.500000  \n",
       "max    4066.000000  326.000000   23.000000   49.000000   54.000000  "
      ]
     },
     "execution_count": 66,
     "metadata": {},
     "output_type": "execute_result"
    }
   ],
   "source": [
    "dataset.describe()"
   ]
  },
  {
   "cell_type": "code",
   "execution_count": null,
   "metadata": {
    "collapsed": true
   },
   "outputs": [],
   "source": []
  }
 ],
 "metadata": {
  "kernelspec": {
   "display_name": "Python 2",
   "language": "python",
   "name": "python2"
  },
  "language_info": {
   "codemirror_mode": {
    "name": "ipython",
    "version": 2
   },
   "file_extension": ".py",
   "mimetype": "text/x-python",
   "name": "python",
   "nbconvert_exporter": "python",
   "pygments_lexer": "ipython2",
   "version": "2.7.10"
  }
 },
 "nbformat": 4,
 "nbformat_minor": 0
}
