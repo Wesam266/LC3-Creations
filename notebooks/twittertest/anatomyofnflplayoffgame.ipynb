{
 "cells": [
  {
   "cell_type": "code",
   "execution_count": 1,
   "metadata": {
    "collapsed": false,
    "scrolled": true
   },
   "outputs": [],
   "source": [
    "###############################################################################\n",
    "# Information\n",
    "###############################################################################\n",
    "# Created by Linwood Creekmore \n",
    "\n",
    "# https://github.com/linwoodc3\n"
   ]
  },
  {
   "cell_type": "code",
   "execution_count": 2,
   "metadata": {
    "collapsed": true
   },
   "outputs": [],
   "source": [
    "import json\n",
    "import re\n",
    "\n",
    "#shameless copy paste from json/decoder.py\n",
    "FLAGS = re.VERBOSE | re.MULTILINE | re.DOTALL\n",
    "WHITESPACE = re.compile(r'[ \\t\\n\\r]*', FLAGS)\n",
    "\n",
    "class ConcatJSONDecoder(json.JSONDecoder):\n",
    "    def decode(self, s, _w=WHITESPACE.match):\n",
    "        s_len = len(s)\n",
    "\n",
    "        objs = []\n",
    "        end = 0\n",
    "        while end != s_len:\n",
    "            obj, end = self.raw_decode(s, idx=_w(s, end).end())\n",
    "            end = _w(s, end).end()\n",
    "            objs.append(obj)\n",
    "        return objs"
   ]
  },
  {
   "cell_type": "code",
   "execution_count": null,
   "metadata": {
    "collapsed": false
   },
   "outputs": [],
   "source": [
    "#**********************************************************************\n",
    "# How to obviscate API keys; store as json, run, then clear. DON'T add to GITHUB \n",
    "#**********************************************************************\n",
    "'''\n",
    "TwitterOauth = {u'accesssecret': u'Insert your secret here',\n",
    "  u'accesstoken': u'Insert your secret here',\n",
    "  u'consumerkey': u'Insert your secret here',\n",
    "  u'consumersecret': u'Insert your secret here'}\n",
    "\n",
    "\n",
    "import json\n",
    "with open('twitterapikeys.txt', 'w+') as outfile:\n",
    "    json.dump(TwitterOauth, outfile)\n",
    "outfile.closed\n",
    "'''"
   ]
  },
  {
   "cell_type": "code",
   "execution_count": 4,
   "metadata": {
    "collapsed": false
   },
   "outputs": [],
   "source": [
    "#**********************************************************************\n",
    "# Keys for API and application keys....DO NOT add this file to git\n",
    "#**********************************************************************\n",
    "\n",
    "# I created a nested dictionary with my API keys, then wrote that json to disk.  Now, I load the json and just pass the keys into the application\n",
    "\n",
    "TwitterOauth = json.load(open('/Users/linwood/projects/LC3-Creations/notebooks/twittertest/twitterapikeys.txt'), cls=ConcatJSONDecoder)"
   ]
  },
  {
   "cell_type": "code",
   "execution_count": 5,
   "metadata": {
    "collapsed": true
   },
   "outputs": [],
   "source": [
    "#**********************************************************************\n",
    "# Passing in Oauth values; you obviscate by loading your locally stored json\n",
    "#**********************************************************************\n",
    "'''\n",
    "# Import the necessary package to process data in JSON format\n",
    "try:\n",
    "    import json\n",
    "except ImportError:\n",
    "    import simplejson as json\n",
    "\n",
    "# Import the necessary methods from \"twitter\" library\n",
    "from twitter import Twitter, OAuth, TwitterHTTPError, TwitterStream\n",
    "\n",
    "# Variables that contains the user credentials to access Twitter API \n",
    "ACCESS_TOKEN = str(TwitterOauth[0]['accesstoken'])\n",
    "ACCESS_SECRET = str(TwitterOauth[0]['accesssecret'])\n",
    "CONSUMER_KEY = str(TwitterOauth[0]['consumerkey'])\n",
    "CONSUMER_SECRET = str(TwitterOauth[0]['consumersecret'])\n",
    "\n",
    "oauth = OAuth(ACCESS_TOKEN, ACCESS_SECRET, CONSUMER_KEY, CONSUMER_SECRET)\n",
    "'''"
   ]
  },
  {
   "cell_type": "code",
   "execution_count": null,
   "metadata": {
    "collapsed": false
   },
   "outputs": [],
   "source": [
    "'''\n",
    "# Initiate the connection to Twitter Streaming API\n",
    "twitter_stream = TwitterStream(auth=oauth)\n",
    "\n",
    "# Get a sample of the public data following through Twitter\n",
    "iterator = twitter_stream.statuses.filter(locations = '-76.871724,38.902399, -76.859321,38.911399')\n",
    "\n",
    "# Print each tweet in the stream to the screen \n",
    "# Here we set it to stop after getting 1000 tweets. \n",
    "# You don't have to set it to stop, but can continue running \n",
    "# the Twitter API to collect data for days or even longer. \n",
    "\n",
    "with open('data.txt', 'w+') as outfile:\n",
    "    for tweet in iterator:\n",
    "        \n",
    "        # Twitter Python Tool wraps the data returned by Twitter \n",
    "        # as a TwitterDictResponse object.\n",
    "        # We convert it back to the JSON format to print/score\n",
    "        #print json.dumps(tweet)  \n",
    "\n",
    "        # The command below will do pretty printing for JSON data, try it out\n",
    "        # print json.dumps(tweet, indent=4)\n",
    "        print tweet\n",
    "'''    "
   ]
  },
  {
   "cell_type": "code",
   "execution_count": 17,
   "metadata": {
    "collapsed": false
   },
   "outputs": [],
   "source": [
    "viks_vs_hawks = json.load(open('/Users/linwood/projects/LC3-Creations/notebooks/twittertest/viks_vs_hawks.txt'), cls=ConcatJSONDecoder)"
   ]
  },
  {
   "cell_type": "code",
   "execution_count": 18,
   "metadata": {
    "collapsed": false
   },
   "outputs": [],
   "source": [
    "viks_vs_hawks = [json.loads(l) for l in viks_vs_hawks]"
   ]
  },
  {
   "cell_type": "code",
   "execution_count": 22,
   "metadata": {
    "collapsed": true
   },
   "outputs": [],
   "source": [
    "goal = [\"PHS |⚡️804⚡️ | RVA \",\"Virginia, USA\", \"Washington, DC\"]"
   ]
  },
  {
   "cell_type": "code",
   "execution_count": 20,
   "metadata": {
    "collapsed": false
   },
   "outputs": [
    {
     "name": "stdout",
     "output_type": "stream",
     "text": [
      "Minneapolis\n",
      "dana\n",
      "Alberta, Canada\n",
      "Alberta, Canada\n",
      "Monterey, California\n",
      "PA\n",
      "Alberta, Canada\n",
      "Eden Prairie\n",
      "Minneapolis\n",
      "Minneapolis\n",
      "Not with\n",
      "Eden Prairie\n",
      "Canada\n",
      "Minnesota\n",
      "New York\n",
      "Seattle\n",
      "cameron, wi\n",
      "Alberta, Canada\n",
      "Minnesota, USA\n",
      "sota\n",
      "Alberta, Canada\n",
      "Minneapolis, MN\n",
      "Alberta, Canada\n",
      "Minneapolis\n",
      "Alberta, Canada\n",
      "DeLaSalle\n",
      "Alberta, Canada\n",
      "Minnesota\n",
      "Canada\n",
      "Seattle\n",
      "Eden Prairie\n",
      "Lancaster, MN\n",
      "Ontario, Canada\n",
      "Twin Cities\n",
      "Minneapolis, MN\n",
      "Minneapolis\n",
      "Minneapolis MN\n",
      "kait is\n",
      "The Dark\n",
      "Berlin\n",
      "sota\n",
      "MPLS\n",
      "Plymouth, MN\n",
      "St Cloud\n",
      "Minneapolis, MN\n",
      "Waseca\n",
      "Minneapolis, MN\n",
      "Northeastern Ontario\n",
      "CCAT\n",
      "PA\n",
      "Rochester, MN\n",
      "Alberta, Canada\n",
      "Seattle\n",
      "St\n",
      "Rochester\n",
      "Minneapolis\n",
      "Fargo\n",
      "Minneapolis, MN\n",
      "Alberta, Canada\n",
      "Dallas\n",
      "Minneapolis\n",
      "Moorestown, NJ\n",
      "Alberta, Canada\n",
      "Burnsville, MN\n",
      "mpls\n",
      "Minneapolis, MN\n",
      "Alberta, Canada\n",
      "Minnesota, USA\n",
      "Minneapolis, MN\n",
      "Canada\n",
      "Los Angeles\n",
      "Minneapolis, MN\n",
      "Trimont, Minnesota\n",
      "Alberta, Canada\n",
      "Minnesota\n",
      "Seattle\n",
      "DeLaSalle\n",
      "probably somewhere\n"
     ]
    }
   ],
   "source": [
    "# Use regex to return only text seperated by , (city, state) or text  by itself; ignores symbols\n",
    "\n",
    "for l in viks_vs_hawks[800:900]:\n",
    "    try:\n",
    "        print re.search('^ ?[^ ]?[A-Za-z]+ ?(,)?[ ]?[A-Za-z]+',l['user']['location']).group(0).strip()\n",
    "    except:\n",
    "        pass"
   ]
  },
  {
   "cell_type": "code",
   "execution_count": 52,
   "metadata": {
    "collapsed": false
   },
   "outputs": [],
   "source": [
    "skins_vs_pack_locs = [l['user']['location'] for l in b]   "
   ]
  },
  {
   "cell_type": "code",
   "execution_count": 53,
   "metadata": {
    "collapsed": false
   },
   "outputs": [
    {
     "data": {
      "text/plain": [
       "8452"
      ]
     },
     "execution_count": 53,
     "metadata": {},
     "output_type": "execute_result"
    }
   ],
   "source": [
    "len(skins_vs_pack_locs)"
   ]
  },
  {
   "cell_type": "code",
   "execution_count": null,
   "metadata": {
    "collapsed": false
   },
   "outputs": [],
   "source": [
    "for l in set(skins_vs_pack_locs):\n",
    "    try:\n",
    "        print geolocator.geocode(l)\n",
    "    except:\n",
    "        pass"
   ]
  },
  {
   "cell_type": "code",
   "execution_count": null,
   "metadata": {
    "collapsed": false
   },
   "outputs": [],
   "source": [
    "skins_vs_pack_locs[1:100]"
   ]
  },
  {
   "cell_type": "code",
   "execution_count": 39,
   "metadata": {
    "collapsed": true
   },
   "outputs": [],
   "source": [
    "from geopy.geocoders import Nominatim\n",
    "geolocator = Nominatim()\n"
   ]
  },
  {
   "cell_type": "code",
   "execution_count": null,
   "metadata": {
    "collapsed": false
   },
   "outputs": [],
   "source": [
    "geolocator.geocode('Richmond, Virginia')"
   ]
  },
  {
   "cell_type": "code",
   "execution_count": 41,
   "metadata": {
    "collapsed": false
   },
   "outputs": [
    {
     "data": {
      "text/plain": [
       "Location((38.2910251, -121.31106, 0.0))"
      ]
     },
     "execution_count": 41,
     "metadata": {},
     "output_type": "execute_result"
    }
   ],
   "source": [
    "(geolocator.geocode('Twin Cities'))"
   ]
  },
  {
   "cell_type": "code",
   "execution_count": 17,
   "metadata": {
    "collapsed": true
   },
   "outputs": [],
   "source": [
    "skins_vs_pack_truelocs = []\n",
    "for l['user']['location'] in b:\n",
    "    try:\n",
    "        if len(geolocator.geocode(l['user']['location'])) > 0:\n",
    "            skins_vs_pack_truelocs.append(l['user']['location'])\n",
    "    except:\n",
    "        pass   "
   ]
  },
  {
   "cell_type": "code",
   "execution_count": 18,
   "metadata": {
    "collapsed": false
   },
   "outputs": [
    {
     "data": {
      "text/plain": [
       "0"
      ]
     },
     "execution_count": 18,
     "metadata": {},
     "output_type": "execute_result"
    }
   ],
   "source": [
    "len(skins_vs_pack_truelocs)"
   ]
  },
  {
   "cell_type": "code",
   "execution_count": null,
   "metadata": {
    "collapsed": false
   },
   "outputs": [],
   "source": [
    "for l in b[1:10]:\n",
    "    print l['user']['location']"
   ]
  },
  {
   "cell_type": "code",
   "execution_count": null,
   "metadata": {
    "collapsed": false
   },
   "outputs": [],
   "source": []
  },
  {
   "cell_type": "code",
   "execution_count": null,
   "metadata": {
    "collapsed": true
   },
   "outputs": [],
   "source": []
  }
 ],
 "metadata": {
  "kernelspec": {
   "display_name": "Python 2",
   "language": "python",
   "name": "python2"
  },
  "language_info": {
   "codemirror_mode": {
    "name": "ipython",
    "version": 2
   },
   "file_extension": ".py",
   "mimetype": "text/x-python",
   "name": "python",
   "nbconvert_exporter": "python",
   "pygments_lexer": "ipython2",
   "version": "2.7.11"
  }
 },
 "nbformat": 4,
 "nbformat_minor": 0
}
