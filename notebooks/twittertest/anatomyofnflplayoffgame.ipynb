{
 "cells": [
  {
   "cell_type": "code",
   "execution_count": 1,
   "metadata": {
    "collapsed": false
   },
   "outputs": [
    {
     "data": {
      "text/plain": [
       "['',\n",
       " '//anaconda/envs/py27/lib/python2.7/site-packages/twitter-1.17.1-py2.7.egg',\n",
       " '//anaconda/envs/py27/lib/python27.zip',\n",
       " '//anaconda/envs/py27/lib/python2.7',\n",
       " '//anaconda/envs/py27/lib/python2.7/plat-darwin',\n",
       " '//anaconda/envs/py27/lib/python2.7/plat-mac',\n",
       " '//anaconda/envs/py27/lib/python2.7/plat-mac/lib-scriptpackages',\n",
       " '//anaconda/envs/py27/lib/python2.7/lib-tk',\n",
       " '//anaconda/envs/py27/lib/python2.7/lib-old',\n",
       " '//anaconda/envs/py27/lib/python2.7/lib-dynload',\n",
       " '/anaconda/envs/py27/lib/python2.7/site-packages/setuptools-19.1.1-py2.7.egg',\n",
       " '//anaconda/envs/py27/lib/python2.7/site-packages',\n",
       " '//anaconda/envs/py27/lib/python2.7/site-packages/IPython/extensions',\n",
       " '/Users/linwoodc3/.ipython']"
      ]
     },
     "execution_count": 1,
     "metadata": {},
     "output_type": "execute_result"
    }
   ],
   "source": [
    "import sys\n",
    "sys.path"
   ]
  },
  {
   "cell_type": "code",
   "execution_count": null,
   "metadata": {
    "collapsed": false
   },
   "outputs": [],
   "source": [
    "# Import the necessary package to process data in JSON format\n",
    "try:\n",
    "    import json\n",
    "except ImportError:\n",
    "    import simplejson as json\n",
    "\n",
    "# Import the necessary methods from \"twitter\" library\n",
    "from twitter import Twitter, OAuth, TwitterHTTPError, TwitterStream\n",
    "\n",
    "# Variables that contains the user credentials to access Twitter API \n",
    "ACCESS_TOKEN = ''\n",
    "ACCESS_SECRET = ''\n",
    "CONSUMER_KEY = ''\n",
    "CONSUMER_SECRET = ''\n",
    "\n",
    "oauth = OAuth(ACCESS_TOKEN, ACCESS_SECRET, CONSUMER_KEY, CONSUMER_SECRET)\n",
    "\n",
    "# Initiate the connection to Twitter Streaming API\n",
    "twitter_stream = TwitterStream(auth=oauth)\n",
    "\n",
    "# Get a sample of the public data following through Twitter\n",
    "iterator = twitter_stream.statuses.filter(locations = '-76.871724,38.902399, -76.859321,38.911399')\n",
    "\n",
    "# Print each tweet in the stream to the screen \n",
    "# Here we set it to stop after getting 1000 tweets. \n",
    "# You don't have to set it to stop, but can continue running \n",
    "# the Twitter API to collect data for days or even longer. \n",
    "\n",
    "with open('data.txt', 'w+') as outfile:\n",
    "    for tweet in iterator:\n",
    "        \n",
    "        # Twitter Python Tool wraps the data returned by Twitter \n",
    "        # as a TwitterDictResponse object.\n",
    "        # We convert it back to the JSON format to print/score\n",
    "        #print json.dumps(tweet)  \n",
    "\n",
    "        # The command below will do pretty printing for JSON data, try it out\n",
    "        # print json.dumps(tweet, indent=4)\n",
    "        json.dump(tweet, outfile)\n",
    "    outfile.closed"
   ]
  },
  {
   "cell_type": "code",
   "execution_count": 4,
   "metadata": {
    "collapsed": false
   },
   "outputs": [],
   "source": [
    "file = open('/Users/linwoodc3/projects/LC3-Creations/notebooks/twittertest/data.txt', 'r')\n",
    "#b = json.loads(\"\")"
   ]
  },
  {
   "cell_type": "code",
   "execution_count": 5,
   "metadata": {
    "collapsed": false
   },
   "outputs": [
    {
     "data": {
      "text/plain": [
       "<open file '/Users/linwoodc3/projects/LC3-Creations/notebooks/twittertest/data.txt', mode 'r' at 0x10370a930>"
      ]
     },
     "execution_count": 5,
     "metadata": {},
     "output_type": "execute_result"
    }
   ],
   "source": [
    "file"
   ]
  },
  {
   "cell_type": "code",
   "execution_count": 7,
   "metadata": {
    "collapsed": false
   },
   "outputs": [
    {
     "data": {
      "text/plain": [
       "144"
      ]
     },
     "execution_count": 7,
     "metadata": {},
     "output_type": "execute_result"
    }
   ],
   "source": [
    "import sys\n",
    "sys.getsizeof(file)"
   ]
  },
  {
   "cell_type": "code",
   "execution_count": 12,
   "metadata": {
    "collapsed": false
   },
   "outputs": [
    {
     "name": "stdout",
     "output_type": "stream",
     "text": [
      ", \"indices\": [43, 66], \"type\": \"photo\", \"id\": 686299088757731328, \"media_url\": \"http://pbs.twimg.com/media/CYY5YpMUMAAEuxk.jpg\"}]}, \"in_reply_to_screen_name\": null, \"id_str\": \"686299098371256320\", \"retweet_count\": 0, \"in_reply_to_user_id\": null, \"favorited\": false, \"user\": {\"follow_request_sent\": null, \"profile_use_background_image\": false, \"default_profile_image\": false, \"id\": 78427473, \"verified\": false, \"profile_image_url_https\": \"https://pbs.twimg.com/profile_images/684746209454592000/nXcvpy5t_normal.jpg\", \"profile_sidebar_fill_color\": \"000000\", \"profile_text_color\": \"000000\", \"followers_count\": 12734, \"profile_sidebar_border_color\": \"000000\", \"id_str\": \"78427473\", \"profile_background_color\": \"000000\", \"listed_count\": 353, \"profile_background_image_url_https\": \"https://abs.twimg.com/images/themes/theme1/bg.png\", \"utc_offset\": -18000, \"statuses_count\": 45390, \"description\": \"I work in radio & TV for @Fanduel, @masnsports, @scoutfantasy, @SiriusXM, @wusa9, @1067thefandc Daddy, husband, friend to dogs, Fantasy Football nut. ROCK CHALK\", \"friends_count\": 899, \"location\": \"Washington, D.C.\", \"profile_link_color\": \"DD2E44\", \"profile_image_url\": \"http://pbs.twimg.com/profile_images/684746209454592000/nXcvpy5t_normal.jpg\", \"following\": null, \"geo_enabled\": false, \"profile_background_image_url\": \"http://abs.twimg.com/images/themes/theme1/bg.png\", \"name\": \"HoldenKushner\", \"lang\": \"en\", \"profile_background_tile\": false, \"favourites_count\": 2571, \"screen_name\": \"Holdenradio\", \"notifications\": null, \"url\": null, \"created_at\": \"Tue Sep 29 21:57:33 +0000 2009\", \"contributors_enabled\": false, \"time_zone\": \"Indiana (East)\", \"protected\": false, \"default_profile\": false, \"is_translator\": false}, \"geo\": null, \"in_reply_to_user_id_str\": null, \"possibly_sensitive\": false, \"lang\": \"en\", \"created_at\": \"Sun Jan 10 21:30:30 +0000 2016\", \"filter_level\": \"low\", \"in_reply_to_status_id_str\": null, \"place\": null, \"extended_entities\": {\"media\": [{\"expanded_url\": \"http://twitter.com/Holdenradio/status/686299098371256320/photo/1\", \"display_url\": \"pic.twitter.com/A4d7VYG08L\", \"url\": \"https://t.co/A4d7VYG08L\", \"media_url_https\": \"https://pbs.twimg.com/media/CYY5YpMUMAAEuxk.jpg\", \"id_str\": \"686299088757731328\", \"sizes\": {\"small\": {\"h\": 255, \"resize\": \"fit\", \"w\": 340}, \"large\": {\"h\": 768, \"resize\": \"fit\", \"w\": 1024}, \"medium\": {\"h\": 450, \"resize\": \"fit\", \"w\": 600}, \"thumb\": {\"h\": 150, \"resize\": \"crop\", \"w\": 150}}, \"indices\": [43, 66], \"type\": \"photo\", \"id\": 686299088757731328, \"media_url\": \"http://pbs.twimg.com/media/CYY5YpMUMAAEuxk.jpg\"}]}}, \"entities\": {\"user_mentions\": [{\"id\": 8824902, \"indices\": [19, 33], \"id_str\": \"8824902\", \"screen_name\": \"dallascowboys\", \"name\": \"Dallas Cowboys\"}, {\"id\": 2827850566, \"indices\": [34, 50], \"id_str\": \"2827850566\", \"screen_name\": \"stayhungaryboys\", \"name\": \"Randy Brooks Jr\"}, {\"id\": 370458410, \"indices\": [51, 64], \"id_str\": \"370458410\", \"screen_name\": \"KirkCousins8\", \"name\": \"Kirk Cousins\"}], \"symbols\": [], \"hashtags\": [{\"indices\": [0, 12], \"te\n"
     ]
    }
   ],
   "source": [
    "print file.readline(3000)"
   ]
  },
  {
   "cell_type": "code",
   "execution_count": 1,
   "metadata": {
    "collapsed": true
   },
   "outputs": [],
   "source": [
    "import json\n",
    "import re\n",
    "\n",
    "#shameless copy paste from json/decoder.py\n",
    "FLAGS = re.VERBOSE | re.MULTILINE | re.DOTALL\n",
    "WHITESPACE = re.compile(r'[ \\t\\n\\r]*', FLAGS)\n",
    "\n",
    "class ConcatJSONDecoder(json.JSONDecoder):\n",
    "    def decode(self, s, _w=WHITESPACE.match):\n",
    "        s_len = len(s)\n",
    "\n",
    "        objs = []\n",
    "        end = 0\n",
    "        while end != s_len:\n",
    "            obj, end = self.raw_decode(s, idx=_w(s, end).end())\n",
    "            end = _w(s, end).end()\n",
    "            objs.append(obj)\n",
    "        return objs"
   ]
  },
  {
   "cell_type": "code",
   "execution_count": 2,
   "metadata": {
    "collapsed": true
   },
   "outputs": [],
   "source": [
    "with open('/Users/linwoodc3/projects/LC3-Creations/notebooks/twittertest/data.txt', 'r') as myfile:\n",
    "    data=myfile.read()"
   ]
  },
  {
   "cell_type": "code",
   "execution_count": 3,
   "metadata": {
    "collapsed": false
   },
   "outputs": [
    {
     "data": {
      "text/plain": [
       "__main__.ConcatJSONDecoder"
      ]
     },
     "execution_count": 3,
     "metadata": {},
     "output_type": "execute_result"
    }
   ],
   "source": [
    "ConcatJSONDecoder"
   ]
  },
  {
   "cell_type": "code",
   "execution_count": 4,
   "metadata": {
    "collapsed": false
   },
   "outputs": [],
   "source": [
    "b = json.load(open('/Users/linwoodc3/projects/LC3-Creations/notebooks/twittertest/data.txt'), cls=ConcatJSONDecoder)"
   ]
  },
  {
   "cell_type": "code",
   "execution_count": 49,
   "metadata": {
    "collapsed": false
   },
   "outputs": [
    {
     "data": {
      "text/plain": [
       "u'in the 6IX with Aubrey '"
      ]
     },
     "execution_count": 49,
     "metadata": {},
     "output_type": "execute_result"
    }
   ],
   "source": [
    "b[3]['user']['location']"
   ]
  },
  {
   "cell_type": "code",
   "execution_count": 50,
   "metadata": {
    "collapsed": false
   },
   "outputs": [
    {
     "name": "stdout",
     "output_type": "stream",
     "text": [
      "Chesterfield, Virginia\n",
      "Brasil / Mexico\n",
      "in the 6IX with Aubrey \n",
      "None\n",
      "Washington, D.C.\n",
      "Timberville, VA\n",
      "Virginia.\n",
      "None\n",
      "maryland\n",
      "Virginia, USA\n",
      "PHS |⚡️804⚡️ | RVA \n",
      "Virginia, USA\n",
      "None\n",
      "Haymarket, VA\n",
      "Fairfax, VA\n",
      "Richmond, VA\n",
      "804//DRHS\n",
      "USA\n",
      "Va\n",
      "None\n",
      "The 410\n",
      "None\n",
      "Virginia, USA\n",
      "None\n",
      "Triangle, VA\n",
      "Church Hill, TN but ❤️ in LA\n",
      "None\n",
      "757 // PG County, 〽️urrland\n",
      "Snapchat: Chucktaylor6\n",
      "Atlee High School\n",
      "The Trenches\n",
      "Yorktown, VA\n",
      "Pittsburgh ➡ Annapolis⚓⛵\n",
      "301\n",
      "Washington, DC\n",
      "Morgantown, WV\n",
      "Washington, DC\n",
      "None\n",
      "Baltimore, MD\n",
      "Washington, DC\n",
      "Washington, DC\n",
      "None\n",
      "Richmond, VA\n",
      "Washington, DC\n",
      "Baltimore, MD\n",
      "Virginia, USA\n",
      "None\n",
      "None\n",
      "Washington, DC\n"
     ]
    }
   ],
   "source": [
    "for l in b[1:50]:\n",
    "    print l['user']['location']"
   ]
  },
  {
   "cell_type": "code",
   "execution_count": 52,
   "metadata": {
    "collapsed": false
   },
   "outputs": [],
   "source": [
    "skins_vs_pack_locs = [l['user']['location'] for l in b]\n",
    "    "
   ]
  },
  {
   "cell_type": "code",
   "execution_count": 53,
   "metadata": {
    "collapsed": false
   },
   "outputs": [
    {
     "data": {
      "text/plain": [
       "8452"
      ]
     },
     "execution_count": 53,
     "metadata": {},
     "output_type": "execute_result"
    }
   ],
   "source": [
    "len(skins_vs_pack_locs)"
   ]
  },
  {
   "cell_type": "code",
   "execution_count": null,
   "metadata": {
    "collapsed": false
   },
   "outputs": [],
   "source": [
    "for l in set(skins_vs_pack_locs):\n",
    "    try:\n",
    "        print geolocator.geocode(l)\n",
    "    except:\n",
    "        pass"
   ]
  },
  {
   "cell_type": "code",
   "execution_count": null,
   "metadata": {
    "collapsed": false
   },
   "outputs": [],
   "source": [
    "skins_vs_pack_locs[1:100]"
   ]
  },
  {
   "cell_type": "code",
   "execution_count": 7,
   "metadata": {
    "collapsed": true
   },
   "outputs": [],
   "source": [
    "from geopy.geocoders import Nominatim\n",
    "geolocator = Nominatim()\n"
   ]
  },
  {
   "cell_type": "code",
   "execution_count": 10,
   "metadata": {
    "collapsed": false
   },
   "outputs": [
    {
     "ename": "GeocoderServiceError",
     "evalue": "<urlopen error [Errno 61] Connection refused>",
     "output_type": "error",
     "traceback": [
      "\u001b[0;31m---------------------------------------------------------------------------\u001b[0m",
      "\u001b[0;31mGeocoderServiceError\u001b[0m                      Traceback (most recent call last)",
      "\u001b[0;32m<ipython-input-10-f2eb4724d855>\u001b[0m in \u001b[0;36m<module>\u001b[0;34m()\u001b[0m\n\u001b[0;32m----> 1\u001b[0;31m \u001b[0mgeolocator\u001b[0m\u001b[0;34m.\u001b[0m\u001b[0mgeocode\u001b[0m\u001b[0;34m(\u001b[0m\u001b[0;34m'Richmond, Virginia'\u001b[0m\u001b[0;34m)\u001b[0m\u001b[0;34m\u001b[0m\u001b[0m\n\u001b[0m",
      "\u001b[0;32m//anaconda/envs/py27/lib/python2.7/site-packages/geopy/geocoders/osm.pyc\u001b[0m in \u001b[0;36mgeocode\u001b[0;34m(self, query, exactly_one, timeout, addressdetails, language, geometry)\u001b[0m\n\u001b[1;32m    191\u001b[0m         \u001b[0mlogger\u001b[0m\u001b[0;34m.\u001b[0m\u001b[0mdebug\u001b[0m\u001b[0;34m(\u001b[0m\u001b[0;34m\"%s.geocode: %s\"\u001b[0m\u001b[0;34m,\u001b[0m \u001b[0mself\u001b[0m\u001b[0;34m.\u001b[0m\u001b[0m__class__\u001b[0m\u001b[0;34m.\u001b[0m\u001b[0m__name__\u001b[0m\u001b[0;34m,\u001b[0m \u001b[0murl\u001b[0m\u001b[0;34m)\u001b[0m\u001b[0;34m\u001b[0m\u001b[0m\n\u001b[1;32m    192\u001b[0m         return self._parse_json(\n\u001b[0;32m--> 193\u001b[0;31m             \u001b[0mself\u001b[0m\u001b[0;34m.\u001b[0m\u001b[0m_call_geocoder\u001b[0m\u001b[0;34m(\u001b[0m\u001b[0murl\u001b[0m\u001b[0;34m,\u001b[0m \u001b[0mtimeout\u001b[0m\u001b[0;34m=\u001b[0m\u001b[0mtimeout\u001b[0m\u001b[0;34m)\u001b[0m\u001b[0;34m,\u001b[0m \u001b[0mexactly_one\u001b[0m\u001b[0;34m\u001b[0m\u001b[0m\n\u001b[0m\u001b[1;32m    194\u001b[0m         )\n\u001b[1;32m    195\u001b[0m \u001b[0;34m\u001b[0m\u001b[0m\n",
      "\u001b[0;32m//anaconda/envs/py27/lib/python2.7/site-packages/geopy/geocoders/base.pyc\u001b[0m in \u001b[0;36m_call_geocoder\u001b[0;34m(self, url, timeout, raw, requester, deserializer, **kwargs)\u001b[0m\n\u001b[1;32m    169\u001b[0m                 \u001b[0;32mif\u001b[0m \u001b[0;34m\"timed out\"\u001b[0m \u001b[0;32min\u001b[0m \u001b[0mmessage\u001b[0m\u001b[0;34m:\u001b[0m\u001b[0;34m\u001b[0m\u001b[0m\n\u001b[1;32m    170\u001b[0m                     \u001b[0;32mraise\u001b[0m \u001b[0mGeocoderTimedOut\u001b[0m\u001b[0;34m(\u001b[0m\u001b[0;34m'Service timed out'\u001b[0m\u001b[0;34m)\u001b[0m\u001b[0;34m\u001b[0m\u001b[0m\n\u001b[0;32m--> 171\u001b[0;31m             \u001b[0;32mraise\u001b[0m \u001b[0mGeocoderServiceError\u001b[0m\u001b[0;34m(\u001b[0m\u001b[0mmessage\u001b[0m\u001b[0;34m)\u001b[0m\u001b[0;34m\u001b[0m\u001b[0m\n\u001b[0m\u001b[1;32m    172\u001b[0m \u001b[0;34m\u001b[0m\u001b[0m\n\u001b[1;32m    173\u001b[0m         \u001b[0;32mif\u001b[0m \u001b[0mhasattr\u001b[0m\u001b[0;34m(\u001b[0m\u001b[0mpage\u001b[0m\u001b[0;34m,\u001b[0m \u001b[0;34m'getcode'\u001b[0m\u001b[0;34m)\u001b[0m\u001b[0;34m:\u001b[0m\u001b[0;34m\u001b[0m\u001b[0m\n",
      "\u001b[0;31mGeocoderServiceError\u001b[0m: <urlopen error [Errno 61] Connection refused>"
     ]
    }
   ],
   "source": [
    "geolocator.geocode('Richmond, Virginia')"
   ]
  },
  {
   "cell_type": "code",
   "execution_count": 16,
   "metadata": {
    "collapsed": false
   },
   "outputs": [
    {
     "data": {
      "text/plain": [
       "2"
      ]
     },
     "execution_count": 16,
     "metadata": {},
     "output_type": "execute_result"
    }
   ],
   "source": [
    "len(geolocator.geocode('College Park, MD'))"
   ]
  },
  {
   "cell_type": "code",
   "execution_count": 17,
   "metadata": {
    "collapsed": true
   },
   "outputs": [],
   "source": [
    "skins_vs_pack_truelocs = []\n",
    "for l['user']['location'] in b:\n",
    "    try:\n",
    "        if len(geolocator.geocode(l['user']['location'])) > 0:\n",
    "            skins_vs_pack_truelocs.append(l['user']['location'])\n",
    "    except:\n",
    "        pass   "
   ]
  },
  {
   "cell_type": "code",
   "execution_count": 18,
   "metadata": {
    "collapsed": false
   },
   "outputs": [
    {
     "data": {
      "text/plain": [
       "0"
      ]
     },
     "execution_count": 18,
     "metadata": {},
     "output_type": "execute_result"
    }
   ],
   "source": [
    "len(skins_vs_pack_truelocs)"
   ]
  },
  {
   "cell_type": "code",
   "execution_count": 20,
   "metadata": {
    "collapsed": false
   },
   "outputs": [
    {
     "name": "stdout",
     "output_type": "stream",
     "text": [
      "Chesterfield, Virginia\n",
      "Brasil / Mexico\n",
      "{u'contributors': None, u'truncated': False, u'text': u'My baby daddy https://t.co/4DD3Gc2i3M', u'is_quote_status': False, u'in_reply_to_status_id': None, u'id': 686299562491953152, u'favorite_count': 0, u'source': u'<a href=\"http://twitter.com/download/iphone\" rel=\"nofollow\">Twitter for iPhone</a>', u'retweeted': False, u'coordinates': None, u'timestamp_ms': u'1452461541184', u'entities': {u'user_mentions': [], u'symbols': [], u'hashtags': [], u'urls': [], u'media': [{u'expanded_url': u'http://twitter.com/mrspoohbear20/status/686299562491953152/photo/1', u'sizes': {u'large': {u'h': 656, u'w': 620, u'resize': u'fit'}, u'small': {u'h': 359, u'w': 340, u'resize': u'fit'}, u'medium': {u'h': 634, u'w': 600, u'resize': u'fit'}, u'thumb': {u'h': 150, u'w': 150, u'resize': u'crop'}}, u'url': u'https://t.co/4DD3Gc2i3M', u'media_url_https': u'https://pbs.twimg.com/media/CYY5zqQUQAAgEOO.jpg', u'id_str': u'686299552899416064', u'indices': [14, 37], u'media_url': u'http://pbs.twimg.com/media/CYY5zqQUQAAgEOO.jpg', u'type': u'photo', u'id': 686299552899416064, u'display_url': u'pic.twitter.com/4DD3Gc2i3M'}]}, u'in_reply_to_screen_name': None, u'id_str': u'686299562491953152', u'retweet_count': 0, u'in_reply_to_user_id': None, u'favorited': False, u'user': {u'follow_request_sent': None, u'profile_use_background_image': True, u'id': 215170795, u'verified': False, u'profile_image_url_https': u'https://pbs.twimg.com/profile_images/686291355547611137/Nqp2mh3o_normal.jpg', u'profile_sidebar_fill_color': u'E5507E', u'is_translator': False, u'geo_enabled': True, u'profile_text_color': u'362720', u'followers_count': 52, u'protected': False, u'location': u'maryland', u'default_profile_image': False, u'id_str': u'215170795', u'utc_offset': -21600, u'statuses_count': 280, u'description': u'Hi its me bre mommy of my beautiful daughter chelsea and wifey of spotlight i love my family and my life', u'friends_count': 178, u'profile_link_color': u'B40B43', u'profile_image_url': u'http://pbs.twimg.com/profile_images/686291355547611137/Nqp2mh3o_normal.jpg', u'notifications': None, u'profile_background_image_url_https': u'https://pbs.twimg.com/profile_background_images/378800000040681379/83736ff48fb9e0cfcb5579670c8ea9fc.jpeg', u'profile_background_color': u'FF6699', u'profile_banner_url': u'https://pbs.twimg.com/profile_banners/215170795/1452436533', u'profile_background_image_url': u'http://pbs.twimg.com/profile_background_images/378800000040681379/83736ff48fb9e0cfcb5579670c8ea9fc.jpeg', u'screen_name': u'mrspoohbear20', u'lang': u'en', u'profile_background_tile': True, u'favourites_count': 13, u'name': u'mrs.kinney_bre', u'url': None, u'created_at': u'Sat Nov 13 05:13:49 +0000 2010', u'contributors_enabled': False, u'time_zone': u'Central Time (US & Canada)', u'profile_sidebar_border_color': u'FFFFFF', u'default_profile': False, u'following': None, u'listed_count': 0}, u'geo': None, u'in_reply_to_user_id_str': None, u'possibly_sensitive': False, u'lang': u'en', u'created_at': u'Sun Jan 10 21:32:21 +0000 2016', u'filter_level': u'low', u'in_reply_to_status_id_str': None, u'place': {u'country_code': u'US', u'url': u'https://api.twitter.com/1.1/geo/id/0051db7004c337bf.json', u'country': u'United States', u'place_type': u'city', u'bounding_box': {u'type': u'Polygon', u'coordinates': [[[-76.917955, 38.907419], [-76.917955, 38.945052], [-76.851914, 38.945052], [-76.851914, 38.907419]]]}, u'full_name': u'Landover, MD', u'attributes': {}, u'id': u'0051db7004c337bf', u'name': u'Landover'}, u'extended_entities': {u'media': [{u'expanded_url': u'http://twitter.com/mrspoohbear20/status/686299562491953152/photo/1', u'sizes': {u'large': {u'h': 656, u'w': 620, u'resize': u'fit'}, u'small': {u'h': 359, u'w': 340, u'resize': u'fit'}, u'medium': {u'h': 634, u'w': 600, u'resize': u'fit'}, u'thumb': {u'h': 150, u'w': 150, u'resize': u'crop'}}, u'url': u'https://t.co/4DD3Gc2i3M', u'media_url_https': u'https://pbs.twimg.com/media/CYY5zqQUQAAgEOO.jpg', u'id_str': u'686299552899416064', u'indices': [14, 37], u'media_url': u'http://pbs.twimg.com/media/CYY5zqQUQAAgEOO.jpg', u'type': u'photo', u'id': 686299552899416064, u'display_url': u'pic.twitter.com/4DD3Gc2i3M'}]}}\n",
      "None\n",
      "Washington, D.C.\n",
      "Timberville, VA\n",
      "Virginia.\n",
      "None\n",
      "maryland\n"
     ]
    }
   ],
   "source": [
    "for l in b[1:10]:\n",
    "    print l['user']['location']"
   ]
  },
  {
   "cell_type": "code",
   "execution_count": null,
   "metadata": {
    "collapsed": true
   },
   "outputs": [],
   "source": []
  }
 ],
 "metadata": {
  "kernelspec": {
   "display_name": "Python 2",
   "language": "python",
   "name": "python2"
  },
  "language_info": {
   "codemirror_mode": {
    "name": "ipython",
    "version": 2
   },
   "file_extension": ".py",
   "mimetype": "text/x-python",
   "name": "python",
   "nbconvert_exporter": "python",
   "pygments_lexer": "ipython2",
   "version": "2.7.11"
  }
 },
 "nbformat": 4,
 "nbformat_minor": 0
}
