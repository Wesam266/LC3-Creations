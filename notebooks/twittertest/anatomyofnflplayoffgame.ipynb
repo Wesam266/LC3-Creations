{
 "cells": [
  {
   "cell_type": "code",
   "execution_count": 1,
   "metadata": {
    "collapsed": false,
    "scrolled": true
   },
   "outputs": [],
   "source": [
    "###############################################################################\n",
    "# Information\n",
    "###############################################################################\n",
    "# Created by Linwood Creekmore \n",
    "\n",
    "# https://github.com/linwoodc3\n"
   ]
  },
  {
   "cell_type": "code",
   "execution_count": 2,
   "metadata": {
    "collapsed": false
   },
   "outputs": [],
   "source": [
    "###############################################################################\n",
    "# Admin work; creating a normalized path to work on any OS for calls to keys or files\n",
    "###############################################################################\n",
    "import geohash\n",
    "import os\n",
    "path = os.path.normpath(os.path.join(os.path.normpath(os.path.expanduser(\"~\")),\"projects\",\"LC3-Creations\"))\n",
    "\n",
    "#**********************************************************************\n",
    "# This block of imports eliminates an ipython error associated with\n",
    "# 'import sys' where the print statement goes to the console\n",
    "# and not the ipython notebook.  For more information on this workaround,\n",
    "# see https://github.com/ipython/ipython/issues/8354\n",
    "#**********************************************************************\n",
    "\n",
    "import sys\n",
    "default_stdout = sys.stdout\n",
    "default_stderr = sys.stderr\n",
    "sys.path.append(os.path.join(path,\"timehash\"))\n",
    "#import timehash\n",
    "#reload(sys)\n",
    "sys.stdout = default_stdout\n",
    "sys.stderr = default_stderr"
   ]
  },
  {
   "cell_type": "code",
   "execution_count": 3,
   "metadata": {
    "collapsed": true
   },
   "outputs": [],
   "source": [
    "#**********************************************************************\n",
    "# Class to load json stored in .txt files from disc into python json/dicts for analysis\n",
    "#**********************************************************************\n",
    "\n",
    "import json\n",
    "import re\n",
    "\n",
    "#shameless copy paste from json/decoder.py\n",
    "FLAGS = re.VERBOSE | re.MULTILINE | re.DOTALL\n",
    "WHITESPACE = re.compile(r'[ \\t\\n\\r]*', FLAGS)\n",
    "\n",
    "class ConcatJSONDecoder(json.JSONDecoder):\n",
    "    def decode(self, s, _w=WHITESPACE.match):\n",
    "        s_len = len(s)\n",
    "\n",
    "        objs = []\n",
    "        end = 0\n",
    "        while end != s_len:\n",
    "            obj, end = self.raw_decode(s, idx=_w(s, end).end())\n",
    "            end = _w(s, end).end()\n",
    "            objs.append(obj)\n",
    "        return objs"
   ]
  },
  {
   "cell_type": "code",
   "execution_count": 4,
   "metadata": {
    "collapsed": false
   },
   "outputs": [],
   "source": [
    "#**********************************************************************\n",
    "# Function to Turn Twitter hashtags into a string for NLP or analysis\n",
    "#**********************************************************************\n",
    "\n",
    "def hashtag_getter(tweet):\n",
    "    try:\n",
    "        # do a test to see if the length of the entities is greater than zero, if not skip\n",
    "        if len([l['text'] for l in tweet['entities']['hashtags']])>0:\n",
    "            \n",
    "            # join all hashtags into a list, split by \",\" and whitespace\n",
    "            hashtags = [(\", \".join([l['text'] for l in tweet['entities']['hashtags']]))]\n",
    "            hashtags_string = \", \".join(hashtags)\n",
    "        else:\n",
    "            hashtags = \"\"\n",
    "            hashtags_string = \"\"\n",
    "            \n",
    "    # if we don't have hashtags, this exception prevents an error hangup   \n",
    "    except:\n",
    "        pass\n",
    "    return hashtags,hashtags_string"
   ]
  },
  {
   "cell_type": "code",
   "execution_count": 5,
   "metadata": {
    "collapsed": false
   },
   "outputs": [],
   "source": [
    "#**********************************************************************\n",
    "# Function to Retrieve polygon points from tweet \"place\", \"bounding_box\" tag\n",
    "# return in format well known text, qgis, or plain polygon\n",
    "#**********************************************************************\n",
    "\n",
    "def polyformatter(geometry,format = \"wkt\"):\n",
    "    \n",
    "    geometry = geometry\n",
    "    \n",
    "    # base extraction of longitude and latitude from twitter locations services\n",
    "    basepolygon = [(m[0],m[1]) for m in (geometry['place']['bounding_box']['coordinates'][0])]\n",
    "    \n",
    "    # returns format POLYGON ((30 10, 40 40, 20 40, 10 20, 30 10)) as designed on https://en.wikipedia.org/wiki/Well-known_text\n",
    "    if format == \"wkt\":\n",
    "        polygon = \"POLYGON((\"+str(\",\".join((map(str,[re.sub(\"[,()]\",\"\",str(l)) for l in basepolygon]))))+\"))\"\n",
    "    \n",
    "    # returns format [[QgsPoint(long, lat), QgsPoint(long, lat)]] as designated on http://docs.qgis.org/testing/en/docs/pyqgis_developer_cookbook/geometry.html\n",
    "    elif format == \"qgis\":\n",
    "        polygon = \"[[\"+ \", \".join([m for m in [\"QgsPoint\"+str(l) for l in basepolygon]])+\"]]\"\n",
    "        \n",
    "    # returns format [[QgsPoint(long, lat), QgsPoint(long, lat)]] as designated on http://docs.qgis.org/testing/en/docs/pyqgis_developer_cookbook/geometry.html\n",
    "    elif format == \"basic\":\n",
    "        polygon = \"((\"+str(\", \".join(map(str,[(m[0],m[1]) for m in (l['place']['bounding_box']['coordinates'][0])])))+\"))\"\n",
    "    else:\n",
    "        raise BaseException(\"Enter a correct argument; choose between 3 formats which are \\\"wkt\\\",\\\"qgis\\\", or \\\"basic\\\"\")\n",
    "    \n",
    "    return polygon\n",
    "    "
   ]
  },
  {
   "cell_type": "code",
   "execution_count": null,
   "metadata": {
    "collapsed": false
   },
   "outputs": [],
   "source": [
    "#**********************************************************************\n",
    "# IMPORTANT Admin step; getting Twitter API keys; DO THIS!!!!!\n",
    "#**********************************************************************\n",
    "'''\n",
    "Before the next step, follow the instructions at this link, Section 1 only\n",
    "--> http://socialmedia-class.org/twittertutorial.html\n",
    "\n",
    "Copy your four (4) keys to a .txt file or wordpad (somewhere you can copy and paste easily)\n",
    "'''"
   ]
  },
  {
   "cell_type": "code",
   "execution_count": null,
   "metadata": {
    "collapsed": false
   },
   "outputs": [],
   "source": [
    "#**********************************************************************\n",
    "# IMPORTANT Admin step; Obfuscating your keys...example you can reuse\n",
    "#**********************************************************************\n",
    "\n",
    "'''\n",
    "A complaint I have with data scientists, computer scientists, data analysts\n",
    "or people who do this programming in general, is their inability to explain things.\n",
    "Like any field, they assume everyone is \"on their level\". \n",
    "\n",
    "One thing they told me was, \"Hide your api keys!\"  But no one ever showed me how.\n",
    "By how, I mean a way to hide them but not have to always cut and paste.\n",
    "It's insane!  I had to reinvent the wheel myself because out of all my googling,\n",
    "I never found a good example.  I'm solving that problem for you. This is one \n",
    "clear example you can reuse anywhere and anytime you need to add an api to your\n",
    "code.\n",
    "\n",
    "This block of code below (under this rant) requires you to cut and paste\n",
    "your keys into a nested dictionary.  We make simple key:value pairs for our api key\n",
    "combinations for every service.  Then, we convert our nested dictionary to a .json\n",
    "file using \"json.dumps\".  Finally, we write that json file to disc as a .txt file, \n",
    "with the intention of NEVER adding that file to git.  You could store EVERY api key\n",
    "or consumer secret or consumer key for ANY service in this file. \n",
    "You will NEVER cut and paste a key into your notebooks or code again, but just \n",
    "load the .txt file and retrieve the key:value pair you need.  Make sure to clear your\n",
    "cut and pasted key from the code/notebook after writing the .txt to disc!!!\n",
    "I explain how to add new key:value pairs below as well. \n",
    "'''\n",
    "\n",
    "#**********************************************************************\n",
    "# Here is the code; remove multiline comment quotes to use\n",
    "#**********************************************************************\n",
    "\n",
    "\n",
    "'''\n",
    "apikeys = {}\n",
    "apikeys['service']= {\"keyname\": \"key\"}\n",
    "\n",
    "import json\n",
    "\n",
    "# writing to directory two steps above current; in this case, to the repository's base directory\n",
    "with open('../../apikeys.txt', 'w+') as outfile:\n",
    "    json.dump(apikeys, outfile)\n",
    "outfile.closed\n",
    "\n",
    "#**********************************************************************\n",
    "# Have new keys to add? Easy, just follow this process\n",
    "# To add new keys to your file, \n",
    "# just open the .txt in a text editor like notepad, wordpad, sublime, etc\n",
    "# And the new key manually using this example below\n",
    "# anything with \"new\" below would just be added in manually\n",
    "#**********************************************************************\n",
    "\n",
    "apikeys = {\"newservice\": {\"newconsumerkey\": \"newkey\", \"newconsumersecret\": \"newkey\"},\"existingservice\":{\"consumerkey\":\"key\", \"consumersecret\":\"key}}\n",
    "\n",
    "'''"
   ]
  },
  {
   "cell_type": "code",
   "execution_count": 62,
   "metadata": {
    "collapsed": false
   },
   "outputs": [],
   "source": [
    "#**********************************************************************\n",
    "# How to load your obfuscated keys from a local \".txt\" file\n",
    "# The text file is from the json file you stored above\n",
    "#**********************************************************************\n",
    "\n",
    "# I created a nested dictionary with my API keys, then wrote that json to disk.  Now, I load the json and just pass the keys into the application\n",
    "\n",
    "oauth = json.load(open(os.path.join(path,\"apikeys.txt\")), cls=ConcatJSONDecoder)"
   ]
  },
  {
   "cell_type": "code",
   "execution_count": null,
   "metadata": {
    "collapsed": false
   },
   "outputs": [],
   "source": [
    "#**********************************************************************\n",
    "# How to retrieve your key for a specific service\n",
    "#**********************************************************************\n",
    "\n",
    "# If you have NOT created the apikeys json file and saved to disc, this will error\n",
    "oauth[0]['openmapquest']['consumerkey']"
   ]
  },
  {
   "cell_type": "code",
   "execution_count": 8,
   "metadata": {
    "collapsed": false
   },
   "outputs": [],
   "source": [
    "#**********************************************************************\n",
    "# Passing in oauth values; you obviscate by loading your locally stored json\n",
    "#**********************************************************************\n",
    "\n",
    "# Import the necessary package to process data in JSON format\n",
    "try:\n",
    "    import json\n",
    "except ImportError:\n",
    "    import simplejson as json\n",
    "\n",
    "# Import the necessary methods from \"twitter\" library\n",
    "from twitter import Twitter, OAuth, TwitterHTTPError, TwitterStream\n",
    "\n",
    "# Variables that contains the user credentials to access Twitter API \n",
    "# If you have not followed the obfuscate process above, this will be empty and error out\n",
    "ACCESS_TOKEN = oauth[0]['twitter']['accesstoken']\n",
    "ACCESS_SECRET = oauth[0]['twitter']['accesssecret']\n",
    "CONSUMER_KEY = oauth[0]['twitter']['consumerkey']\n",
    "CONSUMER_SECRET = oauth[0]['twitter']['consumersecret']\n",
    "\n",
    "oauth = OAuth(ACCESS_TOKEN, ACCESS_SECRET, CONSUMER_KEY, CONSUMER_SECRET)\n"
   ]
  },
  {
   "cell_type": "code",
   "execution_count": 12,
   "metadata": {
    "collapsed": false
   },
   "outputs": [
    {
     "ename": "KeyboardInterrupt",
     "evalue": "",
     "output_type": "error",
     "traceback": [
      "\u001b[0;31m---------------------------------------------------------------------------\u001b[0m",
      "\u001b[0;31mKeyboardInterrupt\u001b[0m                         Traceback (most recent call last)",
      "\u001b[0;32m<ipython-input-12-188e1f5b5ac1>\u001b[0m in \u001b[0;36m<module>\u001b[0;34m()\u001b[0m\n\u001b[1;32m     22\u001b[0m \u001b[0;34m\u001b[0m\u001b[0m\n\u001b[1;32m     23\u001b[0m \u001b[0;32mwith\u001b[0m \u001b[0mopen\u001b[0m\u001b[0;34m(\u001b[0m\u001b[0;34m'./output/superbowl3.txt'\u001b[0m\u001b[0;34m,\u001b[0m \u001b[0;34m'w+'\u001b[0m\u001b[0;34m)\u001b[0m \u001b[0;32mas\u001b[0m \u001b[0moutfile\u001b[0m\u001b[0;34m:\u001b[0m\u001b[0;34m\u001b[0m\u001b[0m\n\u001b[0;32m---> 24\u001b[0;31m     \u001b[0;32mfor\u001b[0m \u001b[0mtweet\u001b[0m \u001b[0;32min\u001b[0m \u001b[0miterator\u001b[0m\u001b[0;34m:\u001b[0m\u001b[0;34m\u001b[0m\u001b[0m\n\u001b[0m\u001b[1;32m     25\u001b[0m         \u001b[0;32mtry\u001b[0m\u001b[0;34m:\u001b[0m\u001b[0;34m\u001b[0m\u001b[0m\n\u001b[1;32m     26\u001b[0m             \u001b[0;32mif\u001b[0m \u001b[0mtweet\u001b[0m\u001b[0;34m[\u001b[0m\u001b[0;34m'user'\u001b[0m\u001b[0;34m]\u001b[0m\u001b[0;34m[\u001b[0m\u001b[0;34m'geo_enabled'\u001b[0m\u001b[0;34m]\u001b[0m\u001b[0;34m==\u001b[0m\u001b[0mTrue\u001b[0m\u001b[0;34m:\u001b[0m\u001b[0;34m\u001b[0m\u001b[0m\n",
      "\u001b[0;32m/Users/linwood/anaconda/envs/twitter/lib/python2.7/site-packages/twitter/stream.pyc\u001b[0m in \u001b[0;36m__iter__\u001b[0;34m(self)\u001b[0m\n\u001b[1;32m    174\u001b[0m         \u001b[0;32mwhile\u001b[0m \u001b[0mTrue\u001b[0m\u001b[0;34m:\u001b[0m\u001b[0;34m\u001b[0m\u001b[0m\n\u001b[1;32m    175\u001b[0m             \u001b[0;31m# Decode all the things:\u001b[0m\u001b[0;34m\u001b[0m\u001b[0;34m\u001b[0m\u001b[0m\n\u001b[0;32m--> 176\u001b[0;31m             \u001b[0mdata\u001b[0m \u001b[0;34m=\u001b[0m \u001b[0msock_reader\u001b[0m\u001b[0;34m.\u001b[0m\u001b[0mread\u001b[0m\u001b[0;34m(\u001b[0m\u001b[0;34m)\u001b[0m\u001b[0;34m\u001b[0m\u001b[0m\n\u001b[0m\u001b[1;32m    177\u001b[0m             \u001b[0mdechunked_data\u001b[0m\u001b[0;34m,\u001b[0m \u001b[0mend_of_stream\u001b[0m\u001b[0;34m,\u001b[0m \u001b[0mdecode_error\u001b[0m \u001b[0;34m=\u001b[0m \u001b[0mchunk_decoder\u001b[0m\u001b[0;34m.\u001b[0m\u001b[0mdecode\u001b[0m\u001b[0;34m(\u001b[0m\u001b[0mdata\u001b[0m\u001b[0;34m)\u001b[0m\u001b[0;34m\u001b[0m\u001b[0m\n\u001b[1;32m    178\u001b[0m             \u001b[0municode_data\u001b[0m \u001b[0;34m=\u001b[0m \u001b[0mutf8_decoder\u001b[0m\u001b[0;34m.\u001b[0m\u001b[0mdecode\u001b[0m\u001b[0;34m(\u001b[0m\u001b[0mdechunked_data\u001b[0m\u001b[0;34m)\u001b[0m\u001b[0;34m\u001b[0m\u001b[0m\n",
      "\u001b[0;32m/Users/linwood/anaconda/envs/twitter/lib/python2.7/site-packages/twitter/stream.pyc\u001b[0m in \u001b[0;36mread\u001b[0;34m(self)\u001b[0m\n\u001b[1;32m    131\u001b[0m     \u001b[0;32mdef\u001b[0m \u001b[0mread\u001b[0m\u001b[0;34m(\u001b[0m\u001b[0mself\u001b[0m\u001b[0;34m)\u001b[0m\u001b[0;34m:\u001b[0m\u001b[0;34m\u001b[0m\u001b[0m\n\u001b[1;32m    132\u001b[0m         \u001b[0;32mtry\u001b[0m\u001b[0;34m:\u001b[0m\u001b[0;34m\u001b[0m\u001b[0m\n\u001b[0;32m--> 133\u001b[0;31m             \u001b[0mready_to_read\u001b[0m \u001b[0;34m=\u001b[0m \u001b[0mselect\u001b[0m\u001b[0;34m.\u001b[0m\u001b[0mselect\u001b[0m\u001b[0;34m(\u001b[0m\u001b[0;34m[\u001b[0m\u001b[0mself\u001b[0m\u001b[0;34m.\u001b[0m\u001b[0msock\u001b[0m\u001b[0;34m]\u001b[0m\u001b[0;34m,\u001b[0m \u001b[0;34m[\u001b[0m\u001b[0;34m]\u001b[0m\u001b[0;34m,\u001b[0m \u001b[0;34m[\u001b[0m\u001b[0;34m]\u001b[0m\u001b[0;34m,\u001b[0m \u001b[0mself\u001b[0m\u001b[0;34m.\u001b[0m\u001b[0msock_timeout\u001b[0m\u001b[0;34m)\u001b[0m\u001b[0;34m[\u001b[0m\u001b[0;36m0\u001b[0m\u001b[0;34m]\u001b[0m\u001b[0;34m\u001b[0m\u001b[0m\n\u001b[0m\u001b[1;32m    134\u001b[0m             \u001b[0;32mif\u001b[0m \u001b[0mready_to_read\u001b[0m\u001b[0;34m:\u001b[0m\u001b[0;34m\u001b[0m\u001b[0m\n\u001b[1;32m    135\u001b[0m                 \u001b[0;32mreturn\u001b[0m \u001b[0mself\u001b[0m\u001b[0;34m.\u001b[0m\u001b[0msock\u001b[0m\u001b[0;34m.\u001b[0m\u001b[0mread\u001b[0m\u001b[0;34m(\u001b[0m\u001b[0;34m)\u001b[0m\u001b[0;34m\u001b[0m\u001b[0m\n",
      "\u001b[0;31mKeyboardInterrupt\u001b[0m: "
     ]
    }
   ],
   "source": [
    "#**********************************************************************\n",
    "# Code to pull tweets from twitter stream\n",
    "\n",
    "# I pulled this code from http://socialmedia-class.org/twittertutorial.html.  \n",
    "# I used the locations filter, but you can alter to get a sample or pull \n",
    "# specific keywords.  Use the link above.  The only line you would alter is:\n",
    "# iterator = twitter_stream.statuses.filter()\n",
    "# Want to know what arguments to pass in? visit https://dev.twitter.com/streaming/reference/post/statuses/filter\n",
    "#**********************************************************************\n",
    "\n",
    "\n",
    "# Initiate the connection to Twitter Streaming API\n",
    "twitter_stream = TwitterStream(auth=oauth)\n",
    "\n",
    "# Filter the public data following through Twitter; the format is \"long,lat , long,lat\" with southwest corner first\n",
    "iterator = twitter_stream.statuses.filter(locations = '-121.971550, 37.401234, -121.968417,37.405334 ')\n",
    "\n",
    "# Print each tweet in the stream to the screen \n",
    "# Here we set it to stop after getting 1000 tweets. \n",
    "# You don't have to set it to stop, but can continue running \n",
    "# the Twitter API to collect data for days or even longer. \n",
    "\n",
    "with open('./output/superbowl3.txt', 'w+') as outfile:\n",
    "    for tweet in iterator:\n",
    "        try:\n",
    "            if tweet['user']['geo_enabled']==True:\n",
    "                json.dump(tweet, outfile)\n",
    "        except:\n",
    "            pass\n",
    "            \n",
    "        \n",
    "        # Twitter Python Tool wraps the data returned by Twitter \n",
    "        # as a TwitterDictResponse object.\n",
    "        # We convert it back to the JSON format to print/score\n",
    "        #print json.dumps(tweet)  \n",
    "\n",
    "        # The command below will do pretty printing for JSON data, try it out\n",
    "        # print json.dumps(tweet, indent=4)\n",
    "        \n",
    "    outfile.closed  "
   ]
  },
  {
   "cell_type": "code",
   "execution_count": 5,
   "metadata": {
    "collapsed": true
   },
   "outputs": [],
   "source": [
    "import glob\n",
    "read_files = glob.glob(\"/Users/linwood/projects/LC3-Creations/notebooks/twittertest/output/superbowl*.txt\")"
   ]
  },
  {
   "cell_type": "code",
   "execution_count": 6,
   "metadata": {
    "collapsed": false
   },
   "outputs": [
    {
     "data": {
      "text/plain": [
       "['/Users/linwood/projects/LC3-Creations/notebooks/twittertest/output/superbowl.txt',\n",
       " '/Users/linwood/projects/LC3-Creations/notebooks/twittertest/output/superbowl2.txt',\n",
       " '/Users/linwood/projects/LC3-Creations/notebooks/twittertest/output/superbowl3.txt']"
      ]
     },
     "execution_count": 6,
     "metadata": {},
     "output_type": "execute_result"
    }
   ],
   "source": [
    "read_files"
   ]
  },
  {
   "cell_type": "code",
   "execution_count": 23,
   "metadata": {
    "collapsed": true
   },
   "outputs": [],
   "source": [
    "with open(\"./input/superbowl50.txt\", \"wb\") as outfile:\n",
    "    for f in read_files:\n",
    "        with open(f, \"rb\") as infile:\n",
    "            outfile.write(infile.read())"
   ]
  },
  {
   "cell_type": "code",
   "execution_count": 6,
   "metadata": {
    "collapsed": false
   },
   "outputs": [],
   "source": [
    "#**********************************************************************\n",
    "# After the tweet streaming data collection is complete, this is how to load the file\n",
    "#**********************************************************************\n",
    "\n",
    "nflgame = json.load(open(os.path.join(path,\"notebooks\",\"twittertest\",\"input\",\"pats_vs_broncos.txt\")), cls=ConcatJSONDecoder)\n",
    "nflgame2 = json.load(open(os.path.join(path,\"notebooks\",\"twittertest\",\"input\",\"chiefs_vs_pats.txt\")), cls=ConcatJSONDecoder)\n",
    "nflgame3 = json.load(open(os.path.join(path,\"notebooks\",\"twittertest\",\"input\",\"skins_vs_pack.txt\")), cls=ConcatJSONDecoder)\n",
    "nflgame4 = [json.loads(l) for l in json.load(open(os.path.join(path,\"notebooks\",\"twittertest\",\"input\",\"viks_vs_hawks.txt\")), cls=ConcatJSONDecoder)]\n",
    "superbowl = json.load(open(os.path.join(path,\"notebooks\",\"twittertest\",\"input\",\"superbowl50.txt\")), cls=ConcatJSONDecoder)"
   ]
  },
  {
   "cell_type": "code",
   "execution_count": 65,
   "metadata": {
    "collapsed": true
   },
   "outputs": [],
   "source": [
    "games = nflgame+nflgame2+nflgame3+nflgame4+superbowl"
   ]
  },
  {
   "cell_type": "code",
   "execution_count": 66,
   "metadata": {
    "collapsed": false
   },
   "outputs": [
    {
     "data": {
      "text/plain": [
       "23661"
      ]
     },
     "execution_count": 66,
     "metadata": {},
     "output_type": "execute_result"
    }
   ],
   "source": [
    "len(games)"
   ]
  },
  {
   "cell_type": "code",
   "execution_count": 40,
   "metadata": {
    "collapsed": false
   },
   "outputs": [
    {
     "data": {
      "text/plain": [
       "u\"@DomsWildThings @AnimalPlanet How adorable were those puppies?! Can't get enough of #SwimSailor &amp; #PuppyBowl\""
      ]
     },
     "execution_count": 40,
     "metadata": {},
     "output_type": "execute_result"
    }
   ],
   "source": [
    "#**********************************************************************\n",
    "# Check for the number of tweets you collected\n",
    "#**********************************************************************\n",
    "\n",
    "superbowl[7000]['text']"
   ]
  },
  {
   "cell_type": "code",
   "execution_count": 259,
   "metadata": {
    "collapsed": false
   },
   "outputs": [
    {
     "name": "stdout",
     "output_type": "stream",
     "text": [
      "0\n"
     ]
    }
   ],
   "source": [
    "#**********************************************************************\n",
    "# Code to extract values from json tweet and write to csv\n",
    "# http://blog.appliedinformaticsinc.com/how-to-parse-and-convert-json-to-csv-using-python/\n",
    "#**********************************************************************\n",
    "import csv\n",
    "import datetime\n",
    "import re\n",
    "import collections\n",
    "\n",
    "row = collections.OrderedDict({\"tweetdetails\":{}})\n",
    "polygons = 0\n",
    "points = 0\n",
    "game_data = row['tweetdetails']\n",
    "\n",
    "# create a folder to store data\n",
    "if not os.path.exists('./output'):\n",
    "    os.makedirs('./output')\n",
    "\n",
    "# open a file for writing\n",
    "playoffs = open('./output/playoffs.csv', 'w+')\n",
    "\n",
    "# create the csv writer object\n",
    "csvwriter = csv.writer(playoffs)\n",
    "count = 0\n",
    "passed = 0\n",
    "for l in nflgame2:\n",
    "    try:\n",
    "        row['tweetdetails']['message_id']= str(l['id'])\n",
    "        row['tweetdetails']['epochtime']= str(round(float(l['timestamp_ms'])/float(1000),0))\n",
    "        row['tweetdetails']['timehash']= timehash.encode(int(l['timestamp_ms'])/1000)\n",
    "        row['tweetdetails']['polygon']= polyformatter(l,\"wkt\")\n",
    "        row['tweetdetails']['screen_name']= l['user']['screen_name']\n",
    "        row['tweetdetails']['user_id']= l['user']['id_str']\n",
    "        row['tweetdetails']['tweet']= l['text']\n",
    "        row['tweetdetails']['hashtags']= hashtag_getter(l)[1]\n",
    "        row['tweetdetails']['time'] = datetime.datetime.fromtimestamp((int(l['timestamp_ms'])/1000)).strftime('%Y-%m-%d %H:%M:%S')\n",
    "        row['tweetdetails']['usermentions']=(\", \".join(map(str,[(m['screen_name'],m['id_str']) for m in l['entities']['user_mentions']])))\n",
    "        polygons += 1\n",
    "        try:\n",
    "            if l['geo']['type'] == 'Point':\n",
    "                row['tweetdetails']['Latitude']=l['geo']['coordinates'][0]\n",
    "                row['tweetdetails']['Longitude']=l['geo']['coordinates'][1]\n",
    "                row['tweetdetails']['geohash']=str((geohash.encode(l['coordinates']['coordinates'][1],l['coordinates']['coordinates'][0])))+\"\"\n",
    "                points += 1\n",
    "                \n",
    "        except:\n",
    "            row['tweetdetails']['Latitude']=\"\"\n",
    "            row['tweetdetails']['Longitude']=\"\"\n",
    "            row['tweetdetails']['geohash']=\"\"\n",
    "        \n",
    "        \n",
    "        header = row['tweetdetails'].keys()\n",
    "        \n",
    "        if count == 0:\n",
    "            csvwriter.writerow(header)\n",
    "            count += 1\n",
    "        csvwriter.writerow(row['tweetdetails'].values())\n",
    "            \n",
    "    except:\n",
    "        passed += 1\n",
    "        \n",
    "        \n",
    "playoffs.close() \n",
    "print passed"
   ]
  },
  {
   "cell_type": "code",
   "execution_count": 27,
   "metadata": {
    "collapsed": false
   },
   "outputs": [
    {
     "name": "stdout",
     "output_type": "stream",
     "text": [
      "0\n"
     ]
    }
   ],
   "source": [
    "#**********************************************************************\n",
    "# Code to extract values from json tweet and write to csv\n",
    "# http://blog.appliedinformaticsinc.com/how-to-parse-and-convert-json-to-csv-using-python/\n",
    "#**********************************************************************\n",
    "import csv\n",
    "import datetime\n",
    "import re\n",
    "import collections\n",
    "\n",
    "row = collections.OrderedDict({\"tweetdetails\":{}})\n",
    "polygons = 0\n",
    "points = 0\n",
    "game_data = row['tweetdetails']\n",
    "\n",
    "# create a folder to store data\n",
    "if not os.path.exists('./output'):\n",
    "    os.makedirs('./output')\n",
    "\n",
    "# open a file for writing\n",
    "superbowl = open('./output/superbowl50.csv', 'w+')\n",
    "\n",
    "# create the csv writer object\n",
    "csvwriter = csv.writer(superbowl)\n",
    "count = 0\n",
    "passed = 0\n",
    "for l in superbowl:\n",
    "    try:\n",
    "        row['tweetdetails']['message_id']= str(l['id'])\n",
    "        row['tweetdetails']['epochtime']= int(round(float(l['timestamp_ms'])/float(1000),0))\n",
    "        row['tweetdetails']['screen_name']= l['user']['screen_name']\n",
    "        row['tweetdetails']['tweet']= l['text']\n",
    "        row['tweetdetails']['hashtags']= hashtag_getter(l)[1]\n",
    "        row['tweetdetails']['time'] = datetime.datetime.fromtimestamp((int(l['timestamp_ms'])/1000)).strftime('%Y-%m-%d %H:%M:%S')\n",
    "        polygons += 1\n",
    "        try:\n",
    "            if l['geo']['type'] == 'Point':\n",
    "                row['tweetdetails']['Latitude']=l['geo']['coordinates'][0]\n",
    "                row['tweetdetails']['Longitude']=l['geo']['coordinates'][1]\n",
    "                points += 1\n",
    "                \n",
    "        except:\n",
    "            row['tweetdetails']['Latitude']=\"\"\n",
    "            row['tweetdetails']['Longitude']=\"\"\n",
    "            \n",
    "        \n",
    "        \n",
    "        header = row['tweetdetails'].keys()\n",
    "        \n",
    "        if count == 0:\n",
    "            csvwriter.writerow(header)\n",
    "            count += 1\n",
    "        csvwriter.writerow(row['tweetdetails'].values())\n",
    "            \n",
    "    except:\n",
    "        passed += 1\n",
    "        \n",
    "        \n",
    "superbowl.close() \n",
    "print passed"
   ]
  },
  {
   "cell_type": "code",
   "execution_count": 201,
   "metadata": {
    "collapsed": false
   },
   "outputs": [
    {
     "name": "stdout",
     "output_type": "stream",
     "text": [
      "POLYGON ((-117.523867 33.85216,-117.523867 39.79369,-84.097028 39.79369,-84.097028 33.85216))\n"
     ]
    }
   ],
   "source": [
    "#**********************************************************************\n",
    "# Retrieve polygon points from tweet \"place\", \"bounding_box\" tag\n",
    "# return in format well known text, qgis, or plain points\n",
    "#**********************************************************************\n",
    "\n",
    "\n",
    "for l in nflgame[18:19]:\n",
    "    tweetpoly = [(m[0],m[1]) for m in (l['place']['bounding_box']['coordinates'][0])]\n",
    "    polypoints = \", \".join(map(str,[(m[0],m[1]) for m in (l['place']['bounding_box']['coordinates'][0])]))\n",
    "    tweetpoly_qgisformat = \",\".join(map(str,[[[ u\"QgsPoint\"+str(l) for l in tweetpoly]]]))\n",
    "    tweetpoly_wkt = \"POLYGON ((\"+str(\",\".join((map(str,[re.sub(\"[,()]\",\"\",str(l)) for l in tweetpoly]))))+\"))\"\n",
    "    print tweetpoly_wkt"
   ]
  },
  {
   "cell_type": "code",
   "execution_count": 8,
   "metadata": {
    "collapsed": false
   },
   "outputs": [
    {
     "ename": "SyntaxError",
     "evalue": "invalid syntax (<ipython-input-8-4e9a127b4197>, line 2)",
     "output_type": "error",
     "traceback": [
      "\u001b[0;36m  File \u001b[0;32m\"<ipython-input-8-4e9a127b4197>\"\u001b[0;36m, line \u001b[0;32m2\u001b[0m\n\u001b[0;31m    print polyformatter(l,\"wkt\")\u001b[0m\n\u001b[0m                      ^\u001b[0m\n\u001b[0;31mSyntaxError\u001b[0m\u001b[0;31m:\u001b[0m invalid syntax\n"
     ]
    }
   ],
   "source": [
    "for l in nflgame2[12:13]:\n",
    "    print polyformatter(l,\"wkt\")\n",
    "print \n",
    "print\n"
   ]
  },
  {
   "cell_type": "code",
   "execution_count": null,
   "metadata": {
    "collapsed": true
   },
   "outputs": [],
   "source": []
  },
  {
   "cell_type": "code",
   "execution_count": 132,
   "metadata": {
    "collapsed": false
   },
   "outputs": [
    {
     "name": "stdout",
     "output_type": "stream",
     "text": [
      "\n",
      "\n",
      "(u'Gothbrookz', u'37138910')\n",
      "\n",
      "(u'newsmanone', u'16336228')\n",
      "(u'NBC10', u'16521206')\n",
      "\n",
      "\n",
      "\n"
     ]
    }
   ],
   "source": [
    "#**********************************************************************\n",
    "# Retrieve user mentions to build graph of relationships\n",
    "#**********************************************************************\n",
    "\n",
    "\n",
    "for l in nflgame[15:24]:\n",
    "    try:\n",
    "        usermentions = \", \".join(map(str,[(m['screen_name'],m['id_str']) for m in l['entities']['user_mentions']]))\n",
    "        \n",
    "    \n",
    "    except:\n",
    "        usermentions = \"\"\n",
    "        entry = \"\"\n",
    "    \n",
    "    print usermentions"
   ]
  },
  {
   "cell_type": "code",
   "execution_count": null,
   "metadata": {
    "collapsed": false
   },
   "outputs": [],
   "source": [
    "nflgame2[19]"
   ]
  },
  {
   "cell_type": "code",
   "execution_count": 53,
   "metadata": {
    "collapsed": false
   },
   "outputs": [
    {
     "data": {
      "text/plain": [
       "1469"
      ]
     },
     "execution_count": 53,
     "metadata": {},
     "output_type": "execute_result"
    }
   ],
   "source": [
    "len(lengths)"
   ]
  },
  {
   "cell_type": "code",
   "execution_count": 38,
   "metadata": {
    "collapsed": false
   },
   "outputs": [
    {
     "data": {
      "text/plain": [
       "['user_id',\n",
       " 'polygon',\n",
       " 'tweet',\n",
       " 'hashtags',\n",
       " 'epochtime',\n",
       " 'timehash',\n",
       " 'geohash',\n",
       " 'Longitude',\n",
       " 'Latitude',\n",
       " 'message_id',\n",
       " 'screen_name']"
      ]
     },
     "execution_count": 38,
     "metadata": {},
     "output_type": "execute_result"
    }
   ],
   "source": [
    "row['tweetdetails'].keys()"
   ]
  },
  {
   "cell_type": "code",
   "execution_count": 46,
   "metadata": {
    "collapsed": false
   },
   "outputs": [],
   "source": [
    "import csv\n",
    "\n",
    "game_data = row['tweetdetails']\n",
    "\n",
    "# create a folder to store data\n",
    "if not os.path.exists('./output'):\n",
    "    os.makedirs('./output')\n",
    "\n",
    "# open a file for writing\n",
    "playoffs = open('./output/playoffs.csv', 'w+')\n",
    "\n",
    "# create the csv writer object\n",
    "csvwriter = csv.writer(playoffs)\n",
    "\n",
    "count = 0\n",
    "header = row['tweetdetails'].keys()\n",
    "csvwriter.writerow(header)\n",
    "csvwriter.writerow(row['tweetdetails'].values())\n",
    "playoffs.close()"
   ]
  },
  {
   "cell_type": "code",
   "execution_count": 163,
   "metadata": {
    "collapsed": false
   },
   "outputs": [
    {
     "data": {
      "text/plain": [
       "-104.7808024"
      ]
     },
     "execution_count": 163,
     "metadata": {},
     "output_type": "execute_result"
    }
   ],
   "source": [
    "nflgame[4]['coordinates']['coordinates'][0]"
   ]
  },
  {
   "cell_type": "code",
   "execution_count": null,
   "metadata": {
    "collapsed": false
   },
   "outputs": [],
   "source": [
    "(float(l['timestamp_ms'])/float(1000))"
   ]
  },
  {
   "cell_type": "code",
   "execution_count": 28,
   "metadata": {
    "collapsed": false
   },
   "outputs": [
    {
     "name": "stdout",
     "output_type": "stream",
     "text": [
      "1883\n"
     ]
    },
    {
     "ename": "ValueError",
     "evalue": "I/O operation on closed file",
     "output_type": "error",
     "traceback": [
      "\u001b[0;31m---------------------------------------------------------------------------\u001b[0m",
      "\u001b[0;31mValueError\u001b[0m                                Traceback (most recent call last)",
      "\u001b[0;32m<ipython-input-28-d9f01e101aa2>\u001b[0m in \u001b[0;36m<module>\u001b[0;34m()\u001b[0m\n\u001b[1;32m     11\u001b[0m \u001b[0;32mprint\u001b[0m \u001b[0mlen\u001b[0m\u001b[0;34m(\u001b[0m\u001b[0musers3\u001b[0m\u001b[0;34m)\u001b[0m\u001b[0;34m\u001b[0m\u001b[0m\n\u001b[1;32m     12\u001b[0m \u001b[0;34m\u001b[0m\u001b[0m\n\u001b[0;32m---> 13\u001b[0;31m \u001b[0musers1\u001b[0m \u001b[0;34m=\u001b[0m \u001b[0;34m[\u001b[0m\u001b[0;34m(\u001b[0m\u001b[0ml\u001b[0m\u001b[0;34m[\u001b[0m\u001b[0;34m'user'\u001b[0m\u001b[0;34m]\u001b[0m\u001b[0;34m[\u001b[0m\u001b[0;34m'id_str'\u001b[0m\u001b[0;34m]\u001b[0m\u001b[0;34m,\u001b[0m\u001b[0ml\u001b[0m\u001b[0;34m[\u001b[0m\u001b[0;34m'user'\u001b[0m\u001b[0;34m]\u001b[0m\u001b[0;34m[\u001b[0m\u001b[0;34m'screen_name'\u001b[0m\u001b[0;34m]\u001b[0m\u001b[0;34m)\u001b[0m \u001b[0;32mfor\u001b[0m \u001b[0ml\u001b[0m \u001b[0;32min\u001b[0m \u001b[0msuperbowl\u001b[0m\u001b[0;34m]\u001b[0m\u001b[0;34m\u001b[0m\u001b[0m\n\u001b[0m\u001b[1;32m     14\u001b[0m \u001b[0musers2\u001b[0m \u001b[0;34m=\u001b[0m \u001b[0;34m[\u001b[0m\u001b[0;34m(\u001b[0m\u001b[0ml\u001b[0m\u001b[0;34m[\u001b[0m\u001b[0;34m'user'\u001b[0m\u001b[0;34m]\u001b[0m\u001b[0;34m[\u001b[0m\u001b[0;34m'id_str'\u001b[0m\u001b[0;34m]\u001b[0m\u001b[0;34m,\u001b[0m\u001b[0ml\u001b[0m\u001b[0;34m[\u001b[0m\u001b[0;34m'user'\u001b[0m\u001b[0;34m]\u001b[0m\u001b[0;34m[\u001b[0m\u001b[0;34m'screen_name'\u001b[0m\u001b[0;34m]\u001b[0m\u001b[0;34m)\u001b[0m \u001b[0;32mfor\u001b[0m \u001b[0ml\u001b[0m \u001b[0;32min\u001b[0m \u001b[0mnflgame2\u001b[0m\u001b[0;34m]\u001b[0m\u001b[0;34m\u001b[0m\u001b[0m\n\u001b[1;32m     15\u001b[0m \u001b[0musers4\u001b[0m \u001b[0;34m=\u001b[0m \u001b[0;34m[\u001b[0m\u001b[0;34m(\u001b[0m\u001b[0ml\u001b[0m\u001b[0;34m[\u001b[0m\u001b[0;34m'user'\u001b[0m\u001b[0;34m]\u001b[0m\u001b[0;34m[\u001b[0m\u001b[0;34m'id_str'\u001b[0m\u001b[0;34m]\u001b[0m\u001b[0;34m,\u001b[0m\u001b[0ml\u001b[0m\u001b[0;34m[\u001b[0m\u001b[0;34m'user'\u001b[0m\u001b[0;34m]\u001b[0m\u001b[0;34m[\u001b[0m\u001b[0;34m'screen_name'\u001b[0m\u001b[0;34m]\u001b[0m\u001b[0;34m)\u001b[0m \u001b[0;32mfor\u001b[0m \u001b[0ml\u001b[0m \u001b[0;32min\u001b[0m \u001b[0mnflgame3\u001b[0m\u001b[0;34m]\u001b[0m\u001b[0;34m\u001b[0m\u001b[0m\n",
      "\u001b[0;31mValueError\u001b[0m: I/O operation on closed file"
     ]
    }
   ],
   "source": [
    "#**********************************************************************\n",
    "# Testing for common users at games\n",
    "#**********************************************************************\n",
    "\n",
    "users3 = []\n",
    "for l in nflgame4:\n",
    "    try:\n",
    "        users3.append((l['user']['id_str'],l['user']['screen_name']))\n",
    "    except:\n",
    "        pass\n",
    "print len(users3)\n",
    "\n",
    "users1 = [(l['user']['id_str'],l['user']['screen_name']) for l in superbowl]\n",
    "users2 = [(l['user']['id_str'],l['user']['screen_name']) for l in nflgame2]\n",
    "users4 = [(l['user']['id_str'],l['user']['screen_name']) for l in nflgame3]\n",
    "\n",
    "a =set(users1) & set(users2)\n",
    "b = set(users2) & set(users4)\n",
    "c = set(users1) & set(users4)\n",
    "d = set(users3) & set(users4)\n",
    "e = set(users3) & set(users2)\n",
    "f = set(users3) & set(users1)\n",
    "\n",
    "\n",
    "#**********************************************************************\n",
    "# Super set of profiles who participated in at least two events\n",
    "#**********************************************************************\n",
    "((((a.union(b)).union(c)).union(d)).union(e)).union(f)"
   ]
  },
  {
   "cell_type": "code",
   "execution_count": 29,
   "metadata": {
    "collapsed": false
   },
   "outputs": [
    {
     "ename": "TypeError",
     "evalue": "'file' object has no attribute '__getitem__'",
     "output_type": "error",
     "traceback": [
      "\u001b[0;31m---------------------------------------------------------------------------\u001b[0m",
      "\u001b[0;31mTypeError\u001b[0m                                 Traceback (most recent call last)",
      "\u001b[0;32m<ipython-input-29-8919a0e4bc88>\u001b[0m in \u001b[0;36m<module>\u001b[0;34m()\u001b[0m\n\u001b[0;32m----> 1\u001b[0;31m \u001b[0msuperbowl\u001b[0m\u001b[0;34m[\u001b[0m\u001b[0;36m1\u001b[0m\u001b[0;34m]\u001b[0m\u001b[0;34m\u001b[0m\u001b[0m\n\u001b[0m",
      "\u001b[0;31mTypeError\u001b[0m: 'file' object has no attribute '__getitem__'"
     ]
    }
   ],
   "source": [
    "superbowl[1]"
   ]
  },
  {
   "cell_type": "code",
   "execution_count": null,
   "metadata": {
    "collapsed": true
   },
   "outputs": [],
   "source": [
    "#**********************************************************************\n",
    "# Geo point locations of tweets; store separately\n",
    "#**********************************************************************\n",
    "\n",
    "count = 0\n",
    "for l in nflgame:\n",
    "    try:\n",
    "        if l['geo']['type'] == 'Point':\n",
    "            print l['geo']['coordinates']\n",
    "            count += 1\n",
    "            print count\n",
    "    except:\n",
    "        pass\n",
    "print float(count)/float(len(nflgame))"
   ]
  },
  {
   "cell_type": "code",
   "execution_count": null,
   "metadata": {
    "collapsed": false
   },
   "outputs": [],
   "source": [
    "count =0\n",
    "for l in nflgame[1:100]:\n",
    "    try:\n",
    "        print l['geo']\n",
    "        count += 1\n",
    "        print count\n",
    "    except:\n",
    "        pass\n",
    "    "
   ]
  },
  {
   "cell_type": "code",
   "execution_count": null,
   "metadata": {
    "collapsed": false
   },
   "outputs": [],
   "source": [
    "googlegeolocator.reverse([nflgame[4]['coordinates']['coordinates'][1],nflgame[4]['coordinates']['coordinates'][0]])"
   ]
  },
  {
   "cell_type": "code",
   "execution_count": null,
   "metadata": {
    "collapsed": false
   },
   "outputs": [],
   "source": [
    "osmgeolocator.reverse((nflgame[111]['coordinates']['coordinates'][1],nflgame[111]['coordinates']['coordinates'][0]))[0]"
   ]
  },
  {
   "cell_type": "code",
   "execution_count": null,
   "metadata": {
    "collapsed": false,
    "scrolled": false
   },
   "outputs": [],
   "source": [
    "# Use regex to return only text seperated by , (city, state) or text  by itself; ignores symbols\n",
    "\n",
    "import re\n",
    "\n",
    "for l in nflgame[80:115]:\n",
    "    try:\n",
    "        print re.search('[ ]?[A-Za-z]+[ ]?([A-Za-z]+)?[ ]?([A-Za-z]+)?(,)?[ ]?([A-Za-z]+)?((\\.)[^ ])?([A-Za-z]+)?((\\.)[^ ])?',l['user']['location']).group(0).strip()\n",
    "    except:\n",
    "        pass"
   ]
  },
  {
   "cell_type": "code",
   "execution_count": null,
   "metadata": {
    "collapsed": false
   },
   "outputs": [],
   "source": [
    "import datetime\n",
    "datetime.datetime.fromtimestamp((int(nflgame[20]['timestamp_ms'])/1000)).strftime('%Y-%m-%d %H:%M:%S')"
   ]
  },
  {
   "cell_type": "code",
   "execution_count": null,
   "metadata": {
    "collapsed": false
   },
   "outputs": [],
   "source": [
    "# Use regex to return only text seperated by , (city, state) or text  by itself; ignores symbols\n",
    "\n",
    "import re\n",
    "\n",
    "for l in nflgame[1800:2000]:\n",
    "    try:\n",
    "        print l['text']\n",
    "    except:\n",
    "        pass"
   ]
  },
  {
   "cell_type": "code",
   "execution_count": 26,
   "metadata": {
    "collapsed": false
   },
   "outputs": [
    {
     "name": "stdout",
     "output_type": "stream",
     "text": [
      "[u'Nunn, Transportation, VeteranJob, Job, Jobs, Hiring, CareerArc']\n",
      "[u'mountmorrisonsummit, mountainevans']\n",
      "[u'broncos']\n"
     ]
    },
    {
     "data": {
      "text/plain": [
       "[]"
      ]
     },
     "execution_count": 26,
     "metadata": {},
     "output_type": "execute_result"
    }
   ],
   "source": [
    "# loop over the original json\n",
    "row = {\"tweetdetails\":{}}\n",
    "hashtags=[]\n",
    "for h in nflgame[1:10]:\n",
    "    try:\n",
    "        # do a test to see if the length of the entities is greater than zero, if not skip\n",
    "        if len(\", \".join([l['text'] for l in h['entities']['hashtags']])) >0:\n",
    "\n",
    "            # print the hashtags as a string; each hashtag is split by a space\n",
    "            print [(\", \".join([l['text'] for l in h['entities']['hashtags']]))]         \n",
    "            \n",
    "    # if we don't have hashtags, this exception prevents an error hangup   \n",
    "    except:\n",
    "        pass\n",
    "hashtags\n"
   ]
  },
  {
   "cell_type": "code",
   "execution_count": null,
   "metadata": {
    "collapsed": false
   },
   "outputs": [],
   "source": [
    "#**********************************************************************\n",
    "# Extract home locations of user as string, geocode, cache name and latitude\n",
    "# and then store latitude and longitude of event for csv writing\n",
    "#**********************************************************************\n",
    "\n",
    "\n",
    "\n",
    "def geocoding(tweetlocation):\n",
    "    test = {\"cache_details\":{}}\n",
    "    try:\n",
    "        from geopy.geocoders import GoogleV3, Bing, GeoNames, Nominatim\n",
    "        google= GoogleV3(api_key=oauth[0]['google']['serverkey'])\n",
    "        bing= Bing(api_key=oauth[0]['bing']['key'])\n",
    "        geonames = GeoNames(username = oauth[0]['geonames']['username'])\n",
    "        osm = Nominatim()\n",
    "    except:\n",
    "        print \"You need to install the \\'geopy\\' module or edit input parameters\"\n",
    "        \n",
    "    try:\n",
    "        import re\n",
    "    except:\n",
    "        print \"You need to install the \\'re\\' module\"\n",
    "        \n",
    "    try: \n",
    "        import time\n",
    "    except:\n",
    "        print \"You need to install the \\'time\\' module\"\n",
    "    \n",
    "    \n",
    "    \n",
    "    locations =[]\n",
    "    for l in nflgame[18:35]:\n",
    "        try:\n",
    "            locations.append(re.search('[ ]?[A-Za-z]+[ ]?([A-Za-z]+)?[ ]?([A-Za-z]+)?(,)?[ ]?([A-Za-z]+)?((\\.)[^ ])?([A-Za-z]+)?((\\.)[^ ])?',l['user']['location']).group(0).strip())\n",
    "        except:\n",
    "            pass\n",
    "    test['cache_details']['locations']=locations\n",
    "    for l in locations:\n",
    "        if l in cachedlocs[0].keys():\n",
    "            pass\n",
    "        else:\n",
    "            try:\n",
    "                answer = geonames.geocode(l)\n",
    "                cachedlocs.append({l:{\"realname\":answer[0],\"latitude\":answer[1][0],\"longitude\":answer[1][1]}})\n",
    "                \n",
    "                time.sleep(1)\n",
    "            except: \n",
    "                pass\n",
    "    return cachedlocs"
   ]
  },
  {
   "cell_type": "code",
   "execution_count": 102,
   "metadata": {
    "collapsed": true
   },
   "outputs": [],
   "source": [
    "loc = nflgame[1:20]\n",
    "test = {\"cache_details\":{}}\n",
    "try:\n",
    "    from geopy.geocoders import GoogleV3, Bing, GeoNames, Nominatim\n",
    "    google= GoogleV3(api_key=oauth[0]['google']['serverkey'])\n",
    "    bing= Bing(api_key=oauth[0]['bing']['key'])\n",
    "    geonames = GeoNames(username = oauth[0]['geonames']['username'])\n",
    "    osm = Nominatim()\n",
    "except:\n",
    "    print \"You need to install the \\'geopy\\' module or edit input parameters\"\n",
    "\n",
    "try:\n",
    "    import re\n",
    "except:\n",
    "    print \"You need to install the \\'re\\' module\"\n",
    "\n",
    "try: \n",
    "    import time\n",
    "except:\n",
    "    print \"You need to install the \\'time\\' module\"\n",
    "\n",
    "\n",
    "\n",
    "\n",
    "for l in loc:\n",
    "    try:\n",
    "        \n",
    "        m = locations.append(re.search('[ ]?[A-Za-z]+[ ]?([A-Za-z]+)?[ ]?([A-Za-z]+)?(,)?[ ]?([A-Za-z]+)?((\\.)[^ ])?([A-Za-z]+)?((\\.)[^ ])?',l['user']['location']).group(0).strip())\n",
    "         \n",
    "        \n",
    "    except:\n",
    "        pass\n",
    "test['cache_details']['locations']=locations\n",
    "test['cache_details']['cache']={}\n",
    "\n",
    "        \n",
    "    "
   ]
  },
  {
   "cell_type": "code",
   "execution_count": 79,
   "metadata": {
    "collapsed": false
   },
   "outputs": [
    {
     "data": {
      "text/plain": [
       "u'Riverside, CA'"
      ]
     },
     "execution_count": 79,
     "metadata": {},
     "output_type": "execute_result"
    }
   ],
   "source": [
    "nflgame2[18]['user']['location']"
   ]
  },
  {
   "cell_type": "code",
   "execution_count": 114,
   "metadata": {
    "collapsed": false
   },
   "outputs": [
    {
     "data": {
      "text/plain": [
       "[]"
      ]
     },
     "execution_count": 114,
     "metadata": {},
     "output_type": "execute_result"
    }
   ],
   "source": [
    "test['cache_details']['locations'] "
   ]
  },
  {
   "cell_type": "code",
   "execution_count": 157,
   "metadata": {
    "collapsed": false
   },
   "outputs": [],
   "source": [
    "from geopy.geocoders import GoogleV3, Bing, GeoNames,Nominatim\n",
    "\n",
    "google= GoogleV3(api_key=oauth[0]['google']['serverkey'])\n",
    "bing= Bing(api_key=oauth[0]['bing']['key'])\n",
    "geonames = GeoNames(username='linwoodc3')\n",
    "osm = Nominatim()\n",
    "#geonames.geocode('kansas city metro')"
   ]
  },
  {
   "cell_type": "code",
   "execution_count": 168,
   "metadata": {
    "collapsed": false
   },
   "outputs": [],
   "source": [
    "b = google.geocode('Foxboro, MA')"
   ]
  },
  {
   "cell_type": "code",
   "execution_count": 169,
   "metadata": {
    "collapsed": false
   },
   "outputs": [
    {
     "data": {
      "text/plain": [
       "(u'Foxborough, Foxborough, MA 02035, USA', (42.0653768, -71.2478308))"
      ]
     },
     "execution_count": 169,
     "metadata": {},
     "output_type": "execute_result"
    }
   ],
   "source": [
    "b[0],b[1]"
   ]
  },
  {
   "cell_type": "code",
   "execution_count": 170,
   "metadata": {
    "collapsed": false
   },
   "outputs": [
    {
     "data": {
      "text/plain": [
       "7342964332193986788L"
      ]
     },
     "execution_count": 170,
     "metadata": {},
     "output_type": "execute_result"
    }
   ],
   "source": [
    "geohash.encode_uint64(b[1][0],b[1][1])"
   ]
  },
  {
   "cell_type": "code",
   "execution_count": 86,
   "metadata": {
    "collapsed": false
   },
   "outputs": [],
   "source": [
    "name = str(nflgame[18]['user']['location'])"
   ]
  },
  {
   "cell_type": "code",
   "execution_count": 95,
   "metadata": {
    "collapsed": false
   },
   "outputs": [],
   "source": [
    "test['cache_details']['cache'][name] = {\"Name\":b[0],\"Point\":b[1]}"
   ]
  },
  {
   "cell_type": "code",
   "execution_count": 1,
   "metadata": {
    "collapsed": false
   },
   "outputs": [
    {
     "ename": "NameError",
     "evalue": "name 'test' is not defined",
     "output_type": "error",
     "traceback": [
      "\u001b[0;31m---------------------------------------------------------------------------\u001b[0m",
      "\u001b[0;31mNameError\u001b[0m                                 Traceback (most recent call last)",
      "\u001b[0;32m<ipython-input-1-47aa38edee87>\u001b[0m in \u001b[0;36m<module>\u001b[0;34m()\u001b[0m\n\u001b[0;32m----> 1\u001b[0;31m \u001b[0mtest\u001b[0m\u001b[0;34m[\u001b[0m\u001b[0;34m'cache_details'\u001b[0m\u001b[0;34m]\u001b[0m\u001b[0;34m[\u001b[0m\u001b[0;34m'locations'\u001b[0m\u001b[0;34m]\u001b[0m\u001b[0;34m=\u001b[0m\u001b[0;34m[\u001b[0m\u001b[0;34m]\u001b[0m\u001b[0;34m\u001b[0m\u001b[0m\n\u001b[0m",
      "\u001b[0;31mNameError\u001b[0m: name 'test' is not defined"
     ]
    }
   ],
   "source": [
    "test['cache_details']['locations']=[]"
   ]
  },
  {
   "cell_type": "code",
   "execution_count": 139,
   "metadata": {
    "collapsed": false
   },
   "outputs": [],
   "source": [
    "#**********************************************************************\n",
    "# Extract home locations of user as string, geocode, cache name and latitude\n",
    "# and then store latitude and longitude of event for csv writing\n",
    "#**********************************************************************\n",
    "\n",
    "\n",
    "for l in nflgame[20:550]:\n",
    "    try:  \n",
    "        m = re.search('[ ]?[A-Za-z]+[ ]?([A-Za-z]+)?[ ]?([A-Za-z]+)?(,)?[ ]?([A-Za-z]+)?((\\.)[^ ])?([A-Za-z]+)?((\\.)[^ ])?',l['user']['location']).group(0).strip()\n",
    "        \n",
    "        if m.lower() in test['cache_details']['locations'].lower():\n",
    "            print \"It's there!!\"\n",
    "            pass\n",
    "        else:\n",
    "            test['cache_details']['locations'].append(m)\n",
    "    except:\n",
    "        pass"
   ]
  },
  {
   "cell_type": "code",
   "execution_count": 142,
   "metadata": {
    "collapsed": false
   },
   "outputs": [
    {
     "data": {
      "text/plain": [
       "[u'providence, ri',\n",
       " u'adelaide, australia',\n",
       " u'california',\n",
       " u'denver, co',\n",
       " u'hq aspen beverly hills',\n",
       " u'islamic republic of',\n",
       " u'chicago, il',\n",
       " u'battle creek, mi',\n",
       " u'charlotte, nc',\n",
       " u'the internet',\n",
       " u'colorado, usa',\n",
       " u'houston, tx',\n",
       " u'the',\n",
       " u'colorado springs, co',\n",
       " u'coloroado',\n",
       " u'riverside, ca',\n",
       " u'mars',\n",
       " u'instagram',\n",
       " u'canto seven, ca',\n",
       " u'lamar, co',\n",
       " u'staywithme',\n",
       " u'aspen, co',\n",
       " u'littleton, co',\n",
       " u'denver',\n",
       " u'colorado, ny',\n",
       " u'colorado, with',\n",
       " u'denver,co',\n",
       " u'morrison co',\n",
       " u'centennial, colorado',\n",
       " u'flyin high in the',\n",
       " u'denver, colorado',\n",
       " u'mile high city',\n",
       " u'houstatlantavegas',\n",
       " u'bridgetown,',\n",
       " u'boulder, co',\n",
       " u'northern colorado',\n",
       " u'denver co',\n",
       " u'colorado',\n",
       " u'c',\n",
       " u'fort collins, co',\n",
       " u'ft',\n",
       " u'aurora, co',\n",
       " u'frisco, tx',\n",
       " u'riverside,ca',\n",
       " u'straight outta tha',\n",
       " u'queen city of the',\n",
       " u'broncoscountry denver,co',\n",
       " u'west palm beach, fl',\n",
       " u'atlanta, ga',\n",
       " u'detroit, denver',\n",
       " u'rva',\n",
       " u'es denver',\n",
       " u'csusb zta',\n",
       " u'riverside',\n",
       " u'slayin, tx',\n",
       " u'orion nebula',\n",
       " u'boston, ma',\n",
       " u'usa',\n",
       " u'denvahh via sandy eggo',\n",
       " u'parts unknown',\n",
       " u'alamosa',\n",
       " u'serendipity',\n",
       " u'worldwide',\n",
       " u'greeley, co',\n",
       " u'keller, tx',\n",
       " u'most dope family',\n",
       " u'psalms',\n",
       " u'a clawfoot bathtub in',\n",
       " u'orange county, ca',\n",
       " u'nola',\n",
       " u'tri',\n",
       " u'elizabeth',\n",
       " u'boston at heart',\n",
       " u'los angeles ca',\n",
       " u'colorado springs',\n",
       " u'tripl',\n",
       " u'denver, san',\n",
       " u'venice',\n",
       " u'kearney, ne',\n",
       " u'washington, dc',\n",
       " u'boston',\n",
       " u'hudson, co',\n",
       " u'longmont, co',\n",
       " u'miami, fl',\n",
       " u'san antonio,tx',\n",
       " u'aurora, colorado',\n",
       " u'co via nm',\n",
       " u'w',\n",
       " u'colorado livin',\n",
       " u'aco',\n",
       " u'denver, bolorado',\n",
       " u'cincinnati, oh',\n",
       " u'bennett, co',\n",
       " u'la',\n",
       " u'co',\n",
       " u'monroe',\n",
       " u'austin, tx',\n",
       " u't',\n",
       " u'lakewood, colorado',\n",
       " u'chino, ca',\n",
       " u'with mines',\n",
       " u'columbus, ohio',\n",
       " u'trying to find myself',\n",
       " u'aurora,colorado',\n",
       " u'wwf',\n",
       " u'the u.s',\n",
       " u'hays, ks',\n",
       " u'hinkley hs',\n",
       " u'brighton, co',\n",
       " u'california, usa',\n",
       " u'co,wy',\n",
       " u'united states',\n",
       " u'fort collins rock city',\n",
       " u'here, there',\n",
       " u'lincoln, ne',\n",
       " u'ovo',\n",
       " u'cleveland, ohio',\n",
       " u'nashville',\n",
       " u'the mile hi city']"
      ]
     },
     "execution_count": 142,
     "metadata": {},
     "output_type": "execute_result"
    }
   ],
   "source": [
    "(test['cache_details']['locations'])"
   ]
  },
  {
   "cell_type": "code",
   "execution_count": 141,
   "metadata": {
    "collapsed": false
   },
   "outputs": [
    {
     "data": {
      "text/plain": [
       "119"
      ]
     },
     "execution_count": 141,
     "metadata": {},
     "output_type": "execute_result"
    }
   ],
   "source": [
    "len(set(test['cache_details']['locations']))"
   ]
  },
  {
   "cell_type": "code",
   "execution_count": 110,
   "metadata": {
    "collapsed": false
   },
   "outputs": [],
   "source": [
    "d = [{\"first\":\"linwood\",\"last\":\"creekmore\"}]\n",
    "\n",
    "bob = [\"eit\"]\n",
    "\n",
    "for l in bob:\n",
    "    if l in d[0].keys():\n",
    "        print \"What\"\n",
    "    else:\n",
    "        print \"No\"\n"
   ]
  },
  {
   "cell_type": "code",
   "execution_count": null,
   "metadata": {
    "collapsed": false
   },
   "outputs": [],
   "source": [
    "caching(\"Colorado\")"
   ]
  },
  {
   "cell_type": "code",
   "execution_count": null,
   "metadata": {
    "collapsed": false
   },
   "outputs": [],
   "source": [
    "cachedlocs"
   ]
  },
  {
   "cell_type": "code",
   "execution_count": null,
   "metadata": {
    "collapsed": false
   },
   "outputs": [],
   "source": [
    "from geopy.geocoders import GoogleV3, Bing, GeoNames,Nominatim\n",
    "googlegeolocator = GoogleV3()\n",
    "binggeolocator = Bing(api_key=oauth[0]['bing']['key'])\n",
    "geonamesgeolocator = GeoNames(username='linwoodc3')\n",
    "osmgeolocator = Nominatim()\n",
    "osmgeolocator.geocode('Richmond, Virginia')\n",
    "\n",
    "\n",
    "cities=[]\n",
    "for l in viks_vs_hawks[800:820]:\n",
    "    try:\n",
    "        cities.append(re.search('^ ?[^ ]?[A-Za-z]+ ?(,)?[ ]?[A-Za-z]+',l['user']['location']).group(0).strip())\n",
    "    except:\n",
    "        pass"
   ]
  },
  {
   "cell_type": "code",
   "execution_count": null,
   "metadata": {
    "collapsed": true
   },
   "outputs": [],
   "source": []
  },
  {
   "cell_type": "code",
   "execution_count": null,
   "metadata": {
    "collapsed": true
   },
   "outputs": [],
   "source": [
    "import sys\n",
    "sys.path.append('/Users/linwood/projects/LC3-Creations/timehash')"
   ]
  },
  {
   "cell_type": "code",
   "execution_count": null,
   "metadata": {
    "collapsed": false
   },
   "outputs": [],
   "source": [
    "import timehash\n",
    "\n",
    "print timehash.encode(int(nflgame[400]['timestamp_ms'])/1000), timehash.encode(int(nflgame[401]['timestamp_ms'])/1000) ,timehash.encode(int(nflgame[300]['timestamp_ms'])/1000)"
   ]
  },
  {
   "cell_type": "code",
   "execution_count": null,
   "metadata": {
    "collapsed": false
   },
   "outputs": [],
   "source": [
    "geohash.encode_uint64(l['coordinates']['coordinates'][1],l['coordinates']['coordinates'][0])"
   ]
  },
  {
   "cell_type": "code",
   "execution_count": null,
   "metadata": {
    "collapsed": false
   },
   "outputs": [],
   "source": [
    "import geohash"
   ]
  },
  {
   "cell_type": "code",
   "execution_count": null,
   "metadata": {
    "collapsed": false
   },
   "outputs": [],
   "source": [
    "import geohash\n",
    "for l in nflgame[200:225]:\n",
    "    try:\n",
    "        \n",
    "        print l['geo']['coordinates']\n",
    "    except:\n",
    "        pass"
   ]
  },
  {
   "cell_type": "code",
   "execution_count": null,
   "metadata": {
    "collapsed": false
   },
   "outputs": [],
   "source": [
    "for l in set(skins_vs_pack_locs):\n",
    "    try:\n",
    "        print geolocator.geocode(l)\n",
    "    except:\n",
    "        pass"
   ]
  },
  {
   "cell_type": "code",
   "execution_count": null,
   "metadata": {
    "collapsed": true
   },
   "outputs": [],
   "source": [
    "from geopy.geocoders import GeoNames\n",
    "geolocator = GeoNames(username='linwoodc3')"
   ]
  },
  {
   "cell_type": "code",
   "execution_count": null,
   "metadata": {
    "collapsed": false
   },
   "outputs": [],
   "source": [
    "b= geolocator.geocode('Twin Cities')\n",
    "print latitude\n",
    "print longitude"
   ]
  },
  {
   "cell_type": "code",
   "execution_count": null,
   "metadata": {
    "collapsed": false
   },
   "outputs": [],
   "source": [
    "b[0]"
   ]
  },
  {
   "cell_type": "code",
   "execution_count": null,
   "metadata": {
    "collapsed": true
   },
   "outputs": [],
   "source": [
    "skins_vs_pack_truelocs = []\n",
    "for l['user']['location'] in b:\n",
    "    try:\n",
    "        if len(geolocator.geocode(l['user']['location'])) > 0:\n",
    "            skins_vs_pack_truelocs.append(l['user']['location'])\n",
    "    except:\n",
    "        pass   "
   ]
  },
  {
   "cell_type": "code",
   "execution_count": null,
   "metadata": {
    "collapsed": false
   },
   "outputs": [],
   "source": [
    "len(skins_vs_pack_truelocs)"
   ]
  },
  {
   "cell_type": "code",
   "execution_count": null,
   "metadata": {
    "collapsed": false
   },
   "outputs": [],
   "source": [
    "for l in b[1:10]:\n",
    "    print l['user']['location']"
   ]
  },
  {
   "cell_type": "code",
   "execution_count": null,
   "metadata": {
    "collapsed": false,
    "scrolled": true
   },
   "outputs": [],
   "source": [
    "from mpl_toolkits.basemap import Basemap\n",
    "import matplotlib.pyplot as plt\n",
    "import numpy as np\n",
    "%matplotlib inline\n",
    "\n",
    "23.539129, -120.429975\n",
    "62.138919, -57.846612\n",
    " \n",
    "map = Basemap(projection='merc', lat_0 = 23, lon_0 = -120,\n",
    "    resolution = 'h', area_thresh = 0.1,\n",
    "    llcrnrlon=-120.429975, llcrnrlat=23.539129,\n",
    "    urcrnrlon=-57.846612, urcrnrlat=62.138919) \n",
    " \n",
    "map.drawcoastlines()\n",
    "map.drawcountries()\n",
    "map.fillcontinents(color = 'coral')\n",
    "map.drawmapboundary()\n",
    "\n",
    "\n",
    "\n",
    "plt.show()"
   ]
  },
  {
   "cell_type": "code",
   "execution_count": 132,
   "metadata": {
    "collapsed": false
   },
   "outputs": [],
   "source": [
    "loc[0]['user']['location']={\"Name\":b[0],\"Point\":b[1]}"
   ]
  },
  {
   "cell_type": "code",
   "execution_count": 138,
   "metadata": {
    "collapsed": false
   },
   "outputs": [],
   "source": [
    "loc[1]['user']['location']"
   ]
  },
  {
   "cell_type": "code",
   "execution_count": 96,
   "metadata": {
    "collapsed": false
   },
   "outputs": [
    {
     "ename": "TypeError",
     "evalue": "reduce expected at least 2 arguments, got 1",
     "output_type": "error",
     "traceback": [
      "\u001b[0;31m---------------------------------------------------------------------------\u001b[0m",
      "\u001b[0;31mTypeError\u001b[0m                                 Traceback (most recent call last)",
      "\u001b[0;32m<ipython-input-96-afdbde4d6c86>\u001b[0m in \u001b[0;36m<module>\u001b[0;34m()\u001b[0m\n\u001b[0;32m----> 1\u001b[0;31m \u001b[0mreduce\u001b[0m\u001b[0;34m(\u001b[0m\u001b[0mmap\u001b[0m\u001b[0;34m(\u001b[0m\u001b[0mstr\u001b[0m\u001b[0;34m,\u001b[0m\u001b[0mstring\u001b[0m\u001b[0;34m)\u001b[0m\u001b[0;34m)\u001b[0m\u001b[0;34m\u001b[0m\u001b[0m\n\u001b[0m",
      "\u001b[0;31mTypeError\u001b[0m: reduce expected at least 2 arguments, got 1"
     ]
    }
   ],
   "source": []
  },
  {
   "cell_type": "code",
   "execution_count": 1,
   "metadata": {
    "collapsed": false
   },
   "outputs": [
    {
     "name": "stderr",
     "output_type": "stream",
     "text": [
      "/Users/linwood/anaconda/envs/py27/lib/python2.7/site-packages/matplotlib/font_manager.py:273: UserWarning: Matplotlib is building the font cache using fc-list. This may take a moment.\n",
      "  warnings.warn('Matplotlib is building the font cache using fc-list. This may take a moment.')\n"
     ]
    },
    {
     "data": {
      "image/png": "[encoded data removed]",
      "text/plain": [
       "<matplotlib.figure.Figure at 0x10591cc10>"
      ]
     },
     "metadata": {},
     "output_type": "display_data"
    }
   ],
   "source": [
    "import numpy as np\n",
    "import matplotlib.pylab as plt\n",
    "%matplotlib inline\n",
    "\n",
    "# a sample array containing the timings of events in order: [1, 2.1, 2.9, 3.1...]\n",
    "times = np.cumsum(np.abs(np.random.normal(size=100)))\n",
    "\n",
    "# calculate time differences:\n",
    "diffs = np.array([times[i]-times[i-1] for i in range(1,len(times))])\n",
    "\n",
    "xcoords = diffs[:-1] # all differences except the last\n",
    "ycoords = diffs[1:] # all differences except the first\n",
    "\n",
    "plt.plot(xcoords, ycoords, 'b.') # make scatter plot with blue dots\n",
    "plt.show()"
   ]
  },
  {
   "cell_type": "code",
   "execution_count": 4,
   "metadata": {
    "collapsed": false
   },
   "outputs": [
    {
     "data": {
      "text/plain": [
       "array([  0.81146892,   1.19164645,   1.65221569,   1.79238796,\n",
       "         2.26905304,   2.37312241,   4.52620557,   5.89643686,\n",
       "         6.85637856,   7.05534802,   8.32597434,   9.40563535,\n",
       "         9.96665418,  10.2976676 ,  11.58563161,  12.19216082,\n",
       "        12.89123778,  13.05991116,  13.37054166,  13.4506398 ,\n",
       "        14.38905456,  14.97604178,  15.60730716,  16.66595662,\n",
       "        17.1137963 ,  17.64893739,  18.01798562,  19.21087726,\n",
       "        19.91743147,  20.42945945,  20.53168819,  21.95139129,\n",
       "        22.78006841,  23.62017915,  23.79391249,  25.07972298,\n",
       "        26.51854587,  26.90636944,  28.30253455,  28.5426001 ,\n",
       "        29.12589107,  29.31678606,  29.91162339,  31.6659764 ,\n",
       "        31.67843018,  32.00161725,  33.75693171,  35.36762732,\n",
       "        37.1004632 ,  38.18700461,  38.83989498,  40.58638879,\n",
       "        41.42358539,  41.45882639,  42.43383354,  42.65343039,\n",
       "        42.9477102 ,  43.16427078,  43.42306279,  43.89984952,\n",
       "        45.28243087,  46.46162248,  46.55396298,  46.87016189,\n",
       "        48.1045459 ,  48.87143266,  49.08922544,  49.52506104,\n",
       "        50.1833567 ,  50.49267941,  52.04284901,  52.04769742,\n",
       "        52.71640824,  54.29062684,  55.55459544,  55.63939497,\n",
       "        57.94176397,  58.26465552,  59.1384999 ,  59.45690823,\n",
       "        60.74512922,  61.6446776 ,  62.67834724,  63.44433846,\n",
       "        63.80869888,  64.15430241,  64.24349612,  65.26357685,\n",
       "        67.45974621,  68.39570658,  68.64220658,  69.18665808,\n",
       "        70.54194334,  71.00282853,  71.74956675,  72.24350311,\n",
       "        72.37098516,  74.16864438,  75.68869516,  75.92941691])"
      ]
     },
     "execution_count": 4,
     "metadata": {},
     "output_type": "execute_result"
    }
   ],
   "source": [
    "for l in "
   ]
  },
  {
   "cell_type": "code",
   "execution_count": 2,
   "metadata": {
    "collapsed": false
   },
   "outputs": [
    {
     "name": "stderr",
     "output_type": "stream",
     "text": [
      "/Users/linwood/anaconda/envs/py27/lib/python2.7/site-packages/ipykernel/__main__.py:14: DeprecationWarning: using a non-integer number instead of an integer will result in an error in the future\n"
     ]
    },
    {
     "data": {
      "image/png": "[encoded data removed]",
      "text/plain": [
       "<matplotlib.figure.Figure at 0x10802be50>"
      ]
     },
     "metadata": {},
     "output_type": "display_data"
    }
   ],
   "source": [
    "import scipy.ndimage as ndi\n",
    "\n",
    "Nside=256 # this is the number of bins along x and y for the histogram\n",
    "width=8 # the width of the Gaussian function along x and y when applying the blur operation\n",
    "\n",
    "H = np.zeros((Nside,Nside)) # a 'histogram' matrix that counts the number of points in each grid-square\n",
    "\n",
    "max_diff = np.max(diffs) # maximum time difference\n",
    "\n",
    "x_heat = (Nside-1)*xcoords/max_diff # the xy coordinates scaled to the size of the matrix\n",
    "y_heat = (Nside-1)*ycoords/max_diff # subtract 1 since Python starts counting at 0, unlike Fortran and R\n",
    "\n",
    "for i in range(len(xcoords)): # loop over all points to calculate the population of each bin\n",
    "    H[x_heat[i], y_heat[i]] += 1 # Increase count by 1\n",
    "    #here, the integer part of x/y_heat[i] is automatically taken\n",
    "\n",
    "H = ndi.gaussian_filter(H,width) # apply Gaussian blur\n",
    "H = np.transpose(H) # so that the orientation is the same as the scatter plot\n",
    "\n",
    "plt.imshow(H, origin='lower') # display H as an image\n",
    "plt.show()"
   ]
  },
  {
   "cell_type": "code",
   "execution_count": 3,
   "metadata": {
    "collapsed": true
   },
   "outputs": [],
   "source": [
    "from nltk.twitter import Twitter"
   ]
  },
  {
   "cell_type": "code",
   "execution_count": 7,
   "metadata": {
    "collapsed": true
   },
   "outputs": [],
   "source": [
    "import nltk\n",
    "from nltk.stem.wordnet import WordNetLemmatizer\n",
    "from nltk import pos_tag\n",
    "from nltk.tokenize import TweetTokenizer\n",
    "from nltk.tag import StanfordNERTagger\n",
    "from nltk.tokenize import word_tokenize\n",
    "from nltk.stem import SnowballStemmer\n",
    "import string\n",
    "import unicodedata\n",
    "stemmer = SnowballStemmer(\"english\")\n",
    "lemmer = WordNetLemmatizer()\n",
    "wordnet_tags = ['n', 'v', 'a', 's', 'r']\n",
    "from sklearn.feature_extraction import stop_words\n",
    "tknzr = TweetTokenizer()\n",
    "stopwords = stop_words.ENGLISH_STOP_WORDS"
   ]
  },
  {
   "cell_type": "code",
   "execution_count": 8,
   "metadata": {
    "collapsed": false
   },
   "outputs": [],
   "source": [
    "tweets = [unicodedata.normalize('NFKD', i['text']).encode('ascii','ignore').decode('utf-8') for i in nflgame+nflgame2+nflgame3+superbowl]\n",
    "users = [unicodedata.normalize('NFKD', i['user']['screen_name']).encode('ascii','ignore') for i in nflgame3]"
   ]
  },
  {
   "cell_type": "code",
   "execution_count": 9,
   "metadata": {
    "collapsed": false
   },
   "outputs": [],
   "source": [
    "def custom_tok(text):\n",
    "    text = text\n",
    "    tokens = list((set(tknzr.tokenize(text)) - set(stopwords)-set(string.punctuation)))\n",
    "    return tokens"
   ]
  },
  {
   "cell_type": "code",
   "execution_count": 10,
   "metadata": {
    "collapsed": true
   },
   "outputs": [],
   "source": [
    "def custom_tok_stem(text):\n",
    "    text = text\n",
    "    tokens = list((set(tknzr.tokenize(text)) - set(stopwords)-set(string.punctuation)))\n",
    "    stems = [stemmer.stem(t) for t in tokens]\n",
    "    return stems"
   ]
  },
  {
   "cell_type": "code",
   "execution_count": 10,
   "metadata": {
    "collapsed": false
   },
   "outputs": [
    {
     "ename": "NameError",
     "evalue": "name 'tknzr' is not defined",
     "output_type": "error",
     "traceback": [
      "\u001b[0;31m---------------------------------------------------------------------------\u001b[0m",
      "\u001b[0;31mNameError\u001b[0m                                 Traceback (most recent call last)",
      "\u001b[0;32m<ipython-input-10-a36c9435a2ff>\u001b[0m in \u001b[0;36m<module>\u001b[0;34m()\u001b[0m\n\u001b[1;32m      1\u001b[0m \u001b[0;32mfor\u001b[0m \u001b[0ml\u001b[0m \u001b[0;32min\u001b[0m \u001b[0mnflgame2\u001b[0m\u001b[0;34m[\u001b[0m\u001b[0;36m2\u001b[0m\u001b[0;34m:\u001b[0m\u001b[0;36m10\u001b[0m\u001b[0;34m]\u001b[0m\u001b[0;34m:\u001b[0m\u001b[0;34m\u001b[0m\u001b[0m\n\u001b[0;32m----> 2\u001b[0;31m     \u001b[0mcustom_tok_stem\u001b[0m\u001b[0;34m(\u001b[0m\u001b[0ml\u001b[0m\u001b[0;34m[\u001b[0m\u001b[0;34m'text'\u001b[0m\u001b[0;34m]\u001b[0m\u001b[0;34m)\u001b[0m\u001b[0;34m\u001b[0m\u001b[0m\n\u001b[0m",
      "\u001b[0;32m<ipython-input-9-63661691d748>\u001b[0m in \u001b[0;36mcustom_tok_stem\u001b[0;34m(text)\u001b[0m\n\u001b[1;32m      1\u001b[0m \u001b[0;32mdef\u001b[0m \u001b[0mcustom_tok_stem\u001b[0m\u001b[0;34m(\u001b[0m\u001b[0mtext\u001b[0m\u001b[0;34m)\u001b[0m\u001b[0;34m:\u001b[0m\u001b[0;34m\u001b[0m\u001b[0m\n\u001b[1;32m      2\u001b[0m     \u001b[0mtext\u001b[0m \u001b[0;34m=\u001b[0m \u001b[0mtext\u001b[0m\u001b[0;34m\u001b[0m\u001b[0m\n\u001b[0;32m----> 3\u001b[0;31m     \u001b[0mtokens\u001b[0m \u001b[0;34m=\u001b[0m \u001b[0mlist\u001b[0m\u001b[0;34m(\u001b[0m\u001b[0;34m(\u001b[0m\u001b[0mset\u001b[0m\u001b[0;34m(\u001b[0m\u001b[0mtknzr\u001b[0m\u001b[0;34m.\u001b[0m\u001b[0mtokenize\u001b[0m\u001b[0;34m(\u001b[0m\u001b[0mtext\u001b[0m\u001b[0;34m)\u001b[0m\u001b[0;34m)\u001b[0m \u001b[0;34m-\u001b[0m \u001b[0mset\u001b[0m\u001b[0;34m(\u001b[0m\u001b[0mstopwords\u001b[0m\u001b[0;34m)\u001b[0m\u001b[0;34m-\u001b[0m\u001b[0mset\u001b[0m\u001b[0;34m(\u001b[0m\u001b[0mstring\u001b[0m\u001b[0;34m.\u001b[0m\u001b[0mpunctuation\u001b[0m\u001b[0;34m)\u001b[0m\u001b[0;34m)\u001b[0m\u001b[0;34m)\u001b[0m\u001b[0;34m\u001b[0m\u001b[0m\n\u001b[0m\u001b[1;32m      4\u001b[0m     \u001b[0mstems\u001b[0m \u001b[0;34m=\u001b[0m \u001b[0;34m[\u001b[0m\u001b[0mstemmer\u001b[0m\u001b[0;34m.\u001b[0m\u001b[0mstem\u001b[0m\u001b[0;34m(\u001b[0m\u001b[0mt\u001b[0m\u001b[0;34m)\u001b[0m \u001b[0;32mfor\u001b[0m \u001b[0mt\u001b[0m \u001b[0;32min\u001b[0m \u001b[0mtokens\u001b[0m\u001b[0;34m]\u001b[0m\u001b[0;34m\u001b[0m\u001b[0m\n\u001b[1;32m      5\u001b[0m     \u001b[0;32mreturn\u001b[0m \u001b[0mstems\u001b[0m\u001b[0;34m\u001b[0m\u001b[0m\n",
      "\u001b[0;31mNameError\u001b[0m: name 'tknzr' is not defined"
     ]
    }
   ],
   "source": [
    "for l in nflgame2[2:10]:\n",
    "    custom_tok_stem(l['text'])"
   ]
  },
  {
   "cell_type": "code",
   "execution_count": null,
   "metadata": {
    "collapsed": true
   },
   "outputs": [],
   "source": [
    "[unicodedata.normalize('NFKD', i['text']).encode('ascii','ignore').decode('utf-8') for i in brazil]"
   ]
  },
  {
   "cell_type": "code",
   "execution_count": 252,
   "metadata": {
    "collapsed": false
   },
   "outputs": [
    {
     "name": "stdout",
     "output_type": "stream",
     "text": [
      "And the Broncos are going to the Super Bowl! #superbowl\n",
      "0\n",
      "#NEvsDEN thanks for the 3 point deficit #LasVegas!\n",
      "1\n",
      "Super Bowl 50, here we come. https://t.co/3TTBOhOrRF\n",
      "2\n",
      "Current mood... #Broncos in 14 days!!!!!!!!! @ Denver, Colorado https://t.co/m7WQ1O7dkB\n",
      "3\n",
      "yuppppp\n",
      "4\n",
      "SUPERBOWL 50 🔸🔹🔶🔷\n",
      "5\n",
      "Fuck ya Broncos!!\n",
      "6\n",
      "GOING TO THE SUPERBOWL https://t.co/EOSxZbn8uq\n",
      "7\n",
      "Superbowl 50 for the @Broncos\n",
      "8\n",
      "Super Bowl🔹🔸\n",
      "9\n",
      "Super bowl baby 👏🏼🏈🔷🔶\n",
      "10\n",
      "Super Bowl Party at Brady's! @NickySilv24\n",
      "11\n",
      "This #Accounting #job might be a great fit for you: Audit Senior (Public) - https://t.co/vWXfvXR5g7 #DENVER, CO #Hiring #CareerArc\n",
      "12\n",
      "We are going to the Super Bowl!!!!!!!!!!#BroncoNation 🔸🔹\n",
      "13\n",
      "Peyton Manning is now 3-1 vs Tom Brady in AFC Championship games.\n",
      "\n",
      "14\n",
      "FUCK YEA BOYS\n",
      "15\n",
      "Rand_Getlin now will brady shake hands?\n",
      "16\n",
      "Bye Twitter 😂\n",
      "17\n",
      "SUPERBOWL BOUND\n",
      "18\n",
      "Yeeaahhh!!!!\n",
      "19\n"
     ]
    }
   ],
   "source": [
    "count = 0\n",
    "for l in nflgame[1000:1020]:\n",
    "    try:\n",
    "        print (re.search('[^@]?[\\w].*[^@]?',l['text']).group(0))\n",
    "        print (count)\n",
    "        count+= 1\n",
    "    except:\n",
    "        count +=1\n",
    "        pass\n",
    "\n",
    "    "
   ]
  },
  {
   "cell_type": "code",
   "execution_count": 153,
   "metadata": {
    "collapsed": false
   },
   "outputs": [],
   "source": [
    "totalvocab_tokenized = []\n",
    "for l in nflgame2[1:20]:\n",
    "    totalvocab_tokenized.append((custom_tok(l['text'])))\n",
    "vocab_frame = pd.DataFrame({'words': totalvocab_tokenized})"
   ]
  },
  {
   "cell_type": "code",
   "execution_count": 180,
   "metadata": {
    "collapsed": false
   },
   "outputs": [
    {
     "name": "stdout",
     "output_type": "stream",
     "text": [
      "(8452, 12324)\n",
      "\n",
      "\n",
      "[[ -2.22044605e-16   1.00000000e+00   1.00000000e+00 ...,   1.00000000e+00\n",
      "    1.00000000e+00   1.00000000e+00]\n",
      " [  1.00000000e+00   0.00000000e+00   1.00000000e+00 ...,   1.00000000e+00\n",
      "    1.00000000e+00   1.00000000e+00]\n",
      " [  1.00000000e+00   1.00000000e+00   0.00000000e+00 ...,   1.00000000e+00\n",
      "    1.00000000e+00   1.00000000e+00]\n",
      " ..., \n",
      " [  1.00000000e+00   1.00000000e+00   1.00000000e+00 ...,   0.00000000e+00\n",
      "    1.00000000e+00   1.00000000e+00]\n",
      " [  1.00000000e+00   1.00000000e+00   1.00000000e+00 ...,   1.00000000e+00\n",
      "    0.00000000e+00   1.00000000e+00]\n",
      " [  1.00000000e+00   1.00000000e+00   1.00000000e+00 ...,   1.00000000e+00\n",
      "    1.00000000e+00  -2.22044605e-16]]\n",
      "\n",
      "\n"
     ]
    }
   ],
   "source": [
    "from sklearn.feature_extraction.text import TfidfVectorizer,CountVectorizer\n",
    "counvec = CountVectorizer()\n",
    "tfidf_vectorizer = TfidfVectorizer(max_df=0.6, max_features=1000000,\n",
    "                                 min_df=0.00, stop_words='english',\n",
    "                                 use_idf=True, tokenizer = custom_tok)\n",
    "\n",
    "tfidf_matrix = tfidf_vectorizer.fit_transform(tweets) #fit the vectorizer to synopses\n",
    "\n",
    "print(tfidf_matrix.shape)\n",
    "print()\n",
    "print()\n",
    "terms = tfidf_vectorizer.get_feature_names()\n",
    "from sklearn.metrics.pairwise import cosine_similarity\n",
    "dist = 1 - cosine_similarity(tfidf_matrix)\n",
    "print (dist)\n",
    "print()\n",
    "print()"
   ]
  },
  {
   "cell_type": "code",
   "execution_count": 210,
   "metadata": {
    "collapsed": false
   },
   "outputs": [
    {
     "data": {
      "text/plain": [
       "(8452, 8452)"
      ]
     },
     "execution_count": 210,
     "metadata": {},
     "output_type": "execute_result"
    }
   ],
   "source": [
    "dist.shape"
   ]
  },
  {
   "cell_type": "code",
   "execution_count": 200,
   "metadata": {
    "collapsed": true
   },
   "outputs": [],
   "source": [
    "from sklearn import preprocessing\n",
    "preprocessing."
   ]
  },
  {
   "cell_type": "code",
   "execution_count": 160,
   "metadata": {
    "collapsed": false
   },
   "outputs": [
    {
     "data": {
      "text/html": [
       "<div>\n",
       "<table border=\"1\" class=\"dataframe\">\n",
       "  <thead>\n",
       "    <tr style=\"text-align: right;\">\n",
       "      <th></th>\n",
       "      <th>words</th>\n",
       "    </tr>\n",
       "  </thead>\n",
       "  <tbody>\n",
       "    <tr>\n",
       "      <th>0</th>\n",
       "      <td>[…, It's, LETS, Troyse, Boys, game, ARE, time,...</td>\n",
       "    </tr>\n",
       "    <tr>\n",
       "      <th>1</th>\n",
       "      <td>[A, confidence, :/, EASY, Editors, choice.http...</td>\n",
       "    </tr>\n",
       "    <tr>\n",
       "      <th>2</th>\n",
       "      <td>[gooooooooo, Let's, https://t.co/CibJdkIFIZ, S...</td>\n",
       "    </tr>\n",
       "    <tr>\n",
       "      <th>3</th>\n",
       "      <td>[#Nantucket, https://t.co/2jnWviMZBD, Gillette...</td>\n",
       "    </tr>\n",
       "    <tr>\n",
       "      <th>4</th>\n",
       "      <td>[’, Great, Smokin, @senatorjohn]</td>\n",
       "    </tr>\n",
       "  </tbody>\n",
       "</table>\n",
       "</div>"
      ],
      "text/plain": [
       "                                               words\n",
       "0  […, It's, LETS, Troyse, Boys, game, ARE, time,...\n",
       "1  [A, confidence, :/, EASY, Editors, choice.http...\n",
       "2  [gooooooooo, Let's, https://t.co/CibJdkIFIZ, S...\n",
       "3  [#Nantucket, https://t.co/2jnWviMZBD, Gillette...\n",
       "4                   [’, Great, Smokin, @senatorjohn]"
      ]
     },
     "execution_count": 160,
     "metadata": {},
     "output_type": "execute_result"
    }
   ],
   "source": [
    "vocab_frame.head()"
   ]
  },
  {
   "cell_type": "code",
   "execution_count": null,
   "metadata": {
    "collapsed": true
   },
   "outputs": [],
   "source": [
    "import numpy as np\n",
    "from sklearn.cluster import KMeans\n",
    "from scipy.spatial.distance import cdist\n",
    "import matplotlib.pyplot as plt\n",
    "cluster1 = np.random.uniform(0.5, 1.5, (2, 10))\n",
    "cluster2 = np.random.uniform(3.5, 4.5, (2, 10))\n",
    "X = np.hstack((cluster1, cluster2)).T\n",
    "X = np.vstack((x, y)).T\n",
    "K = range(1, 10)\n",
    "meandistortions = []\n",
    "for k in K:\n",
    "    kmeans = KMeans(n_clusters=k)\n",
    "\n",
    "kmeans.fit(X)\n",
    "meandistortions.append(sum(np.min(cdist(X, kmeans.cluster_centers_, 'euclidean'), axis=1)) / X.shape[0])\n",
    "plt.plot(K, meandistortions, 'bx-')\n",
    "plt.xlabel('k')\n",
    "plt.ylabel('Average distortion')\n",
    "plt.title('Selecting k with the Elbow Method')\n",
    "plt.show()"
   ]
  },
  {
   "cell_type": "code",
   "execution_count": null,
   "metadata": {
    "collapsed": false
   },
   "outputs": [],
   "source": [
    "from __future__ import print_function\n",
    "\n",
    "from sklearn.datasets import make_blobs\n",
    "from sklearn.cluster import KMeans\n",
    "from sklearn.metrics import silhouette_samples, silhouette_score\n",
    "import pandas as pd\n",
    "import matplotlib.pyplot as plt\n",
    "import matplotlib.cm as cm\n",
    "import numpy as np\n",
    "from sklearn.preprocessing import Imputer\n",
    "from sklearn import preprocessing\n",
    "    \n",
    "X= dist\n",
    "\n",
    "range_n_clusters = [2, 6, 10,15, 20, 30]\n",
    "\n",
    "for n_clusters in range_n_clusters:\n",
    "    # Create a subplot with 1 row and 2 columns\n",
    "    fig, (ax1, ax2) = plt.subplots(1, 2)\n",
    "    fig.set_size_inches(18, 7)\n",
    "\n",
    "    # The 1st subplot is the silhouette plot\n",
    "    # The silhouette coefficient can range from -1, 1 but in this example all\n",
    "    # lie within [-0.1, 1]\n",
    "    ax1.set_xlim([-0.1, 1])\n",
    "    # The (n_clusters+1)*10 is for inserting blank space between silhouette\n",
    "    # plots of individual clusters, to demarcate them clearly.\n",
    "    ax1.set_ylim([0, len(X) + (n_clusters + 1) * 10])\n",
    "\n",
    "    # Initialize the clusterer with n_clusters value and a random generator\n",
    "    # seed of 10 for reproducibility.\n",
    "    clusterer = KMeans(n_clusters=n_clusters, random_state=10)\n",
    "    cluster_labels = clusterer.fit_predict(X)\n",
    "\n",
    "    # The silhouette_score gives the average value for all the samples.\n",
    "    # This gives a perspective into the density and separation of the formed\n",
    "    # clusters\n",
    "    silhouette_avg = silhouette_score(X, cluster_labels)\n",
    "    print(\"For n_clusters =\", n_clusters,\n",
    "          \"The average silhouette_score is :\", silhouette_avg)\n",
    "\n",
    "    # Compute the silhouette scores for Telematic Data\n",
    "    sample_silhouette_values = silhouette_samples(X, cluster_labels)\n",
    "\n",
    "    y_lower = 10\n",
    "    for i in range(n_clusters):\n",
    "        # Aggregate the silhouette scores for samples belonging to\n",
    "        # cluster i, and sort them\n",
    "        ith_cluster_silhouette_values = \\\n",
    "            sample_silhouette_values[cluster_labels == i]\n",
    "\n",
    "        ith_cluster_silhouette_values.sort()\n",
    "\n",
    "        size_cluster_i = ith_cluster_silhouette_values.shape[0]\n",
    "        y_upper = y_lower + size_cluster_i\n",
    "\n",
    "        color = cm.spectral(float(i) / n_clusters)\n",
    "        ax1.fill_betweenx(np.arange(y_lower, y_upper),\n",
    "                          0, ith_cluster_silhouette_values,\n",
    "                          facecolor=color, edgecolor=color, alpha=0.7)\n",
    "\n",
    "        # Label the silhouette plots with their cluster numbers at the middle\n",
    "        ax1.text(-0.05, y_lower + 0.5 * size_cluster_i, str(i))\n",
    "\n",
    "        # Compute the new y_lower for next plot\n",
    "        y_lower = y_upper + 10  # 10 for the 0 samples\n",
    "\n",
    "    ax1.set_title(\"The silhouette plot for the various clusters.\")\n",
    "    ax1.set_xlabel(\"The silhouette coefficient values\")\n",
    "    ax1.set_ylabel(\"Clustered Drivers\")\n",
    "\n",
    "    # The vertical line for average silhoutte score of all the values\n",
    "    ax1.axvline(x=silhouette_avg, color=\"red\", linestyle=\"--\")\n",
    "\n",
    "    ax1.set_yticks([])  # Clear the yaxis labels / ticks\n",
    "    ax1.set_xticks([-0.1, 0, 0.2, 0.4, 0.6, 0.8, 1])\n",
    "\n",
    "    # 2nd Plot showing the actual clusters formed\n",
    "    colors = cm.spectral(cluster_labels.astype(float) / n_clusters)\n",
    "    ax2.scatter(X[:, 0], X[:, 1], marker='.', s=30, lw=0, alpha=0.7,\n",
    "                c=colors)\n",
    "\n",
    "    # Labeling the clusters\n",
    "    centers = clusterer.cluster_centers_\n",
    "    # Draw white circles at cluster centers\n",
    "    ax2.scatter(centers[:, 0], centers[:, 1],\n",
    "                marker='o', c=\"white\", alpha=1, s=200)\n",
    "\n",
    "    for i, c in enumerate(centers):\n",
    "        ax2.scatter(c[0], c[1], marker='$%d$' % i, alpha=1, s=50)\n",
    "\n",
    "    ax2.set_title(\"The visualization of the clustered data.\")\n",
    "    ax2.set_xlabel(\"Feature space for the 1st feature\")\n",
    "    ax2.set_ylabel(\"Feature space for the 2nd feature\")\n",
    "    #plt.rcParams['axes.facecolor'] = '#FFCCCC'\n",
    "    plt.suptitle((\"Silhouette analysis for KMeans clustering on sample data \"\n",
    "                  \"with n_clusters = %d\" % n_clusters),\n",
    "                 fontsize=14, fontweight='bold')\n",
    "\n",
    "    plt.show()"
   ]
  },
  {
   "cell_type": "code",
   "execution_count": 273,
   "metadata": {
    "collapsed": false
   },
   "outputs": [
    {
     "name": "stdout",
     "output_type": "stream",
     "text": [
      "CPU times: user 5.29 s, sys: 129 ms, total: 5.41 s\n",
      "Wall time: 5.47 s\n",
      "8452\n"
     ]
    },
    {
     "data": {
      "text/html": [
       "<div>\n",
       "<table border=\"1\" class=\"dataframe\">\n",
       "  <thead>\n",
       "    <tr style=\"text-align: right;\">\n",
       "      <th></th>\n",
       "      <th>username</th>\n",
       "      <th>tweet</th>\n",
       "      <th>cluster</th>\n",
       "    </tr>\n",
       "  </thead>\n",
       "  <tbody>\n",
       "    <tr>\n",
       "      <th>0</th>\n",
       "      <td>GooseBravo25</td>\n",
       "      <td>#YouLikeThat #HTTR @dallascowboys @stayhungary...</td>\n",
       "      <td>17</td>\n",
       "    </tr>\n",
       "    <tr>\n",
       "      <th>1</th>\n",
       "      <td>msquared980</td>\n",
       "      <td>Why didn't we come up with \"Massketeers\" while...</td>\n",
       "      <td>5</td>\n",
       "    </tr>\n",
       "    <tr>\n",
       "      <th>2</th>\n",
       "      <td>ricardocarreon</td>\n",
       "      <td>Give Cheese a chance! #GoPackers #NFLPlayoffs ...</td>\n",
       "      <td>5</td>\n",
       "    </tr>\n",
       "    <tr>\n",
       "      <th>3</th>\n",
       "      <td>Littt_Lis</td>\n",
       "      <td>\"Sometimes he calls me boo, but sometimes he c...</td>\n",
       "      <td>5</td>\n",
       "    </tr>\n",
       "    <tr>\n",
       "      <th>4</th>\n",
       "      <td>ImRoonster</td>\n",
       "      <td>@MotterDavid when you replied I was like who t...</td>\n",
       "      <td>5</td>\n",
       "    </tr>\n",
       "  </tbody>\n",
       "</table>\n",
       "</div>"
      ],
      "text/plain": [
       "         username                                              tweet  cluster\n",
       "0    GooseBravo25  #YouLikeThat #HTTR @dallascowboys @stayhungary...       17\n",
       "1     msquared980  Why didn't we come up with \"Massketeers\" while...        5\n",
       "2  ricardocarreon  Give Cheese a chance! #GoPackers #NFLPlayoffs ...        5\n",
       "3       Littt_Lis  \"Sometimes he calls me boo, but sometimes he c...        5\n",
       "4      ImRoonster  @MotterDavid when you replied I was like who t...        5"
      ]
     },
     "execution_count": 273,
     "metadata": {},
     "output_type": "execute_result"
    }
   ],
   "source": [
    "from sklearn.cluster import KMeans\n",
    "import numpy as np\n",
    "import pandas as pd\n",
    "\n",
    "num_clusters = 18\n",
    "\n",
    "km = KMeans(n_clusters=num_clusters)\n",
    "\n",
    "%time km.fit(tfidf_matrix)\n",
    "\n",
    "clusters = km.labels_.tolist()\n",
    "print (len(km.labels_.tolist()))\n",
    "playoffgame = { 'username': users, 'tweet': tweets}\n",
    "frame = pd.DataFrame(playoffgame, columns = ['username', 'tweet'])\n",
    "frame['cluster'] = np.asarray(km.labels_.tolist())\n",
    "frame.head()"
   ]
  },
  {
   "cell_type": "code",
   "execution_count": 274,
   "metadata": {
    "collapsed": false
   },
   "outputs": [
    {
     "data": {
      "text/plain": [
       "cluster\n",
       "0      100\n",
       "1      269\n",
       "2      372\n",
       "3      100\n",
       "4      147\n",
       "5     5723\n",
       "6       49\n",
       "7      296\n",
       "8      284\n",
       "9       54\n",
       "10       1\n",
       "11     170\n",
       "12      57\n",
       "13     230\n",
       "14      60\n",
       "15     100\n",
       "16     193\n",
       "17     247\n",
       "Name: tweet, dtype: int64"
      ]
     },
     "execution_count": 274,
     "metadata": {},
     "output_type": "execute_result"
    }
   ],
   "source": [
    "frame.groupby('cluster').tweet.count()"
   ]
  },
  {
   "cell_type": "code",
   "execution_count": 181,
   "metadata": {
    "collapsed": false
   },
   "outputs": [
    {
     "name": "stdout",
     "output_type": "stream",
     "text": [
      "\n",
      "\n"
     ]
    }
   ],
   "source": [
    "import os  # for os.path.basename\n",
    "\n",
    "import matplotlib.pyplot as plt\n",
    "import matplotlib as mpl\n",
    "\n",
    "from sklearn.manifold import MDS\n",
    "\n",
    "MDS()\n",
    "\n",
    "# convert two components as we're plotting points in a two-dimensional plane\n",
    "# \"precomputed\" because we provide a distance matrix\n",
    "# we will also specify `random_state` so the plot is reproducible.\n",
    "mds = MDS(n_components=2, dissimilarity=\"precomputed\", random_state=1)\n",
    "\n",
    "pos = mds.fit_transform(dist)  # shape (n_components, n_samples)\n",
    "\n",
    "xs, ys = pos[:, 0], pos[:, 1]\n",
    "print()\n",
    "print()"
   ]
  },
  {
   "cell_type": "code",
   "execution_count": 194,
   "metadata": {
    "collapsed": false
   },
   "outputs": [],
   "source": [
    "np.save('./output/mdsarray.npy',pos)"
   ]
  },
  {
   "cell_type": "code",
   "execution_count": 192,
   "metadata": {
    "collapsed": true
   },
   "outputs": [],
   "source": [
    "?sys.getsizeof"
   ]
  },
  {
   "cell_type": "code",
   "execution_count": 182,
   "metadata": {
    "collapsed": true
   },
   "outputs": [],
   "source": [
    "#set up colors per clusters using a dict\n",
    "cluster_colors = {0: '#1b9e77', 1: '#d95f02', 2: '#7570b3', 3: '#e7298a', 4: '#66a61e'}\n",
    "\n",
    "import mpld3\n",
    "#define custom toolbar location\n",
    "class TopToolbar(mpld3.plugins.PluginBase):\n",
    "    \"\"\"Plugin for moving toolbar to top of figure\"\"\"\n",
    "\n",
    "    JAVASCRIPT = \"\"\"\n",
    "    mpld3.register_plugin(\"toptoolbar\", TopToolbar);\n",
    "    TopToolbar.prototype = Object.create(mpld3.Plugin.prototype);\n",
    "    TopToolbar.prototype.constructor = TopToolbar;\n",
    "    function TopToolbar(fig, props){\n",
    "        mpld3.Plugin.call(this, fig, props);\n",
    "    };\n",
    "\n",
    "    TopToolbar.prototype.draw = function(){\n",
    "      // the toolbar svg doesn't exist\n",
    "      // yet, so first draw it\n",
    "      this.fig.toolbar.draw();\n",
    "\n",
    "      // then change the y position to be\n",
    "      // at the top of the figure\n",
    "      this.fig.toolbar.toolbar.attr(\"x\", 150);\n",
    "      this.fig.toolbar.toolbar.attr(\"y\", 400);\n",
    "\n",
    "      // then remove the draw function,\n",
    "      // so that it is not called again\n",
    "      this.fig.toolbar.draw = function() {}\n",
    "    }\n",
    "    \"\"\"\n",
    "    def __init__(self):\n",
    "        self.dict_ = {\"type\": \"toptoolbar\"}"
   ]
  },
  {
   "cell_type": "code",
   "execution_count": 187,
   "metadata": {
    "collapsed": false
   },
   "outputs": [
    {
     "data": {
      "text/plain": [
       "[0, 1, 2, 3, 4]"
      ]
     },
     "execution_count": 187,
     "metadata": {},
     "output_type": "execute_result"
    }
   ],
   "source": [
    "list(set(km.labels_))"
   ]
  },
  {
   "cell_type": "code",
   "execution_count": 281,
   "metadata": {
    "collapsed": false
   },
   "outputs": [
    {
     "data": {
      "image/png": "[encoded data removed]",
      "text/plain": [
       "<matplotlib.figure.Figure at 0x111bfbfd0>"
      ]
     },
     "metadata": {},
     "output_type": "display_data"
    }
   ],
   "source": [
    "#create data frame that has the result of the MDS plus the cluster numbers and titles\n",
    "df = pd.DataFrame(dict(x=xs, y=ys, label=clusters, title=tweets)) \n",
    "\n",
    "#group by cluster\n",
    "groups = df.groupby('label')\n",
    "\n",
    "#define custom css to format the font and to remove the axis labeling\n",
    "css = \"\"\"\n",
    "text.mpld3-text, div.mpld3-tooltip {\n",
    "  font-family:Arial, Helvetica, sans-serif;\n",
    "}\n",
    "\n",
    "g.mpld3-xaxis, g.mpld3-yaxis {\n",
    "display: none; }\n",
    "\n",
    "svg.mpld3-figure {\n",
    "margin-left: -200px;}\n",
    "\"\"\"\n",
    "\n",
    "# Plot \n",
    "fig, ax = plt.subplots(figsize=(14,13)) #set plot size\n",
    "ax.margins(0.03) # Optional, just adds 5% padding to the autoscaling\n",
    "\n",
    "#iterate through groups to layer the plot\n",
    "#note that I use the cluster_name and cluster_color dicts with the 'name' lookup to return the appropriate color/label\n",
    "for name, group in groups:\n",
    "    points = ax.plot(group.x, group.y, marker='o', linestyle='', ms=18, \n",
    "                     label=list(set(km.labels_)), mec='none')\n",
    "    ax.set_aspect('auto')\n",
    "    labels = [i for i in group.title]\n",
    "    ax.set_title(\"Clustered Tweets from Redskins vs. Packers Playoff Game\\nCenter clusters are game, external clusters are random noise\", size=20)\n",
    "    \n",
    "    #set tooltip using points, labels and the already defined 'css'\n",
    "    tooltip = mpld3.plugins.PointHTMLTooltip(points[0], labels,\n",
    "                                       voffset=10, hoffset=10, css=css)\n",
    "    #connect tooltip to fig\n",
    "    mpld3.plugins.connect(fig, tooltip, TopToolbar())    \n",
    "    \n",
    "    #set tick marks as blank\n",
    "    ax.axes.get_xaxis().set_ticks([])\n",
    "    ax.axes.get_yaxis().set_ticks([])\n",
    "    \n",
    "    #set axis as blank\n",
    "    ax.axes.get_xaxis().set_visible(False)\n",
    "    ax.axes.get_yaxis().set_visible(False)\n",
    "\n",
    "    \n",
    "#ax.legend(numpoints=1) #show legend with only one dot\n",
    "html = mpld3.fig_to_html(fig)\n",
    "if not os.path.exists('./figures'):\n",
    "    os.makedirs('./figures')\n",
    "mpld3.save_html(fig,'./figures/playofftweetcluster.html')\n",
    "\n",
    "#mpld3.display() #show the plot\n",
    "\n",
    "#uncomment the below to export to html\n",
    "#html = mpld3.fig_to_html(fig)\n",
    "#print(html)"
   ]
  },
  {
   "cell_type": "code",
   "execution_count": 276,
   "metadata": {
    "collapsed": false
   },
   "outputs": [
    {
     "data": {
      "text/html": [
       "\n",
       "\n",
       "<style>\n",
       "\n",
       "</style>\n",
       "\n",
       "<div id=\"fig_el4537145955984166625881062\"></div>\n",
       "<script>\n",
       "function mpld3_load_lib(url, callback){\n",
       "  var s = document.createElement('script');\n",
       "  s.src = url;\n",
       "  s.async = true;\n",
       "  s.onreadystatechange = s.onload = callback;\n",
       "  s.onerror = function(){console.warn(\"failed to load library \" + url);};\n",
       "  document.getElementsByTagName(\"head\")[0].appendChild(s);\n",
       "}\n",
       "\n",
       "if(typeof(mpld3) !== \"undefined\" && mpld3._mpld3IsLoaded){\n",
       "   // already loaded: just create the figure\n",
       "   !function(mpld3){\n",
       "       \n",
       "       mpld3.draw_figure(\"fig_el4537145955984166625881062\", {\"axes\": [], \"height\": 320.0, \"width\": 480.0, \"plugins\": [{\"type\": \"reset\"}, {\"enabled\": false, \"button\": true, \"type\": \"zoom\"}, {\"enabled\": false, \"button\": true, \"type\": \"boxzoom\"}], \"data\": {}, \"id\": \"el453714595598416\"});\n",
       "   }(mpld3);\n",
       "}else if(typeof define === \"function\" && define.amd){\n",
       "   // require.js is available: use it to load d3/mpld3\n",
       "   require.config({paths: {d3: \"https://mpld3.github.io/js/d3.v3.min\"}});\n",
       "   require([\"d3\"], function(d3){\n",
       "      window.d3 = d3;\n",
       "      mpld3_load_lib(\"https://mpld3.github.io/js/mpld3.v0.2.js\", function(){\n",
       "         \n",
       "         mpld3.draw_figure(\"fig_el4537145955984166625881062\", {\"axes\": [], \"height\": 320.0, \"width\": 480.0, \"plugins\": [{\"type\": \"reset\"}, {\"enabled\": false, \"button\": true, \"type\": \"zoom\"}, {\"enabled\": false, \"button\": true, \"type\": \"boxzoom\"}], \"data\": {}, \"id\": \"el453714595598416\"});\n",
       "      });\n",
       "    });\n",
       "}else{\n",
       "    // require.js not available: dynamically load d3 & mpld3\n",
       "    mpld3_load_lib(\"https://mpld3.github.io/js/d3.v3.min.js\", function(){\n",
       "         mpld3_load_lib(\"https://mpld3.github.io/js/mpld3.v0.2.js\", function(){\n",
       "                 \n",
       "                 mpld3.draw_figure(\"fig_el4537145955984166625881062\", {\"axes\": [], \"height\": 320.0, \"width\": 480.0, \"plugins\": [{\"type\": \"reset\"}, {\"enabled\": false, \"button\": true, \"type\": \"zoom\"}, {\"enabled\": false, \"button\": true, \"type\": \"boxzoom\"}], \"data\": {}, \"id\": \"el453714595598416\"});\n",
       "            })\n",
       "         });\n",
       "}\n",
       "</script>"
      ],
      "text/plain": [
       "<IPython.core.display.HTML object>"
      ]
     },
     "execution_count": 276,
     "metadata": {},
     "output_type": "execute_result"
    }
   ],
   "source": [
    "mpld3.display()"
   ]
  },
  {
   "cell_type": "code",
   "execution_count": 11,
   "metadata": {
    "collapsed": false
   },
   "outputs": [],
   "source": [
    "from __future__ import print_function\n",
    "from time import time\n",
    "\n",
    "from sklearn.feature_extraction.text import TfidfVectorizer, CountVectorizer\n",
    "from sklearn.decomposition import NMF, LatentDirichletAllocation\n",
    "from sklearn.datasets import fetch_20newsgroups\n",
    "\n",
    "import string\n",
    "translator = str.maketrans({key: None for key in string.punctuation})\n",
    "\n",
    "totalwords=0\n",
    "count =0\n",
    "for l in tweets:\n",
    "    count +=1\n",
    "    m = (l.translate(translator))\n",
    "    totalwords += len(m)\n",
    "count\n",
    "    \n",
    "        \n",
    "totalwords    \n",
    "\n",
    "n_samples = len(tweets)\n",
    "n_features = totalwords\n",
    "n_topics = 20\n",
    "n_top_words = 20"
   ]
  },
  {
   "cell_type": "code",
   "execution_count": null,
   "metadata": {
    "collapsed": false
   },
   "outputs": [
    {
     "name": "stdout",
     "output_type": "stream",
     "text": [
      "done in 0.000s.\n",
      "Extracting tf-idf features for NMF...\n",
      "done in 1.250s.\n",
      "Extracting tf features for LDA...\n",
      "done in 0.337s.\n",
      "Fitting the NMF model with tf-idf features,n_samples=21773 and n_features=1145269...\n",
      "done in 2.281s.\n",
      "\n",
      "Topics in NMF model:\n",
      "Topic #0:\n",
      "#sb50 #superbowl #broncos halftime @broncos #pepsihalftime commercial #esurancesweepstakes #panthers #halftimeshow carolina #keeppounding @esurance #coldplay win coldplay @coldplay denver @brunomars #nfl\n",
      "Topic #1:\n",
      "super bowl 50 baby going babies come commercial bound watching sunday #superbowl50 halftime party we're #gobroncos best #superbowl #broncoscountryplayoffs commercials\n",
      "Topic #2:\n",
      "... #superbowl50 #superbowl #nfl #beyonce #coldplay halftime beautiful day think great superbowl #denverbroncos home #halftimeshow .... time #broncos el today\n",
      "Topic #3:\n",
      "like looks look feel kirk playing shit can't play packers looked yes that's fans team he's looking yeah sounds does\n",
      "Topic #4:\n",
      "lol that's thought redskins thanks fuck skins u funny tho gonna awesome .. glad old think said can't girl didn't\n",
      "Topic #5:\n",
      "game that's redskins win watch ball great gonna really day play can't boring defense smh pats skins watching peyton playoff\n",
      "Topic #6:\n",
      "broncos fuck win panthers denver going defense fans superbowl yeah manning congrats peyton touchdown baby yes come #broncos d congratulations\n",
      "Topic #7:\n",
      "good job defense season look luck redskins day denver shit packers looking looks thing @broncos d man night pretty year\n",
      "Topic #8:\n",
      "just posted photo did wanna watch can't .. want really said little saw video damn waiting defense people thinking wait\n",
      "Topic #9:\n",
      "love believe coldplay fucking life u thanks fans #pepsihalftime .. seeing happy hate commercial forever you're god shit wow mom\n",
      "Topic #10:\n",
      "stadium levi's #superbowl50 #superbowl gillette halftime #coldplay santa clara #beyonce #halftimeshow posted #broncos photo california @coldplay #brunomars 50 levy's believe\n",
      "Topic #11:\n",
      "i'm going gonna ready getting ma sure happy fan watching md sorry person girl va week tired feeling saying crying\n",
      "Topic #12:\n",
      "right that's defense you're wide really .. did fucking yeah guess face media city missed know night feeling score win\n",
      "Topic #13:\n",
      "beyonce bruno coldplay mars where's @coldplay tho @brunomars tour fine concert killing killed queen halftime bitch ok bring damn #beyonce\n",
      "Topic #14:\n",
      "don't know think need want people wanna really .. you're win care .... feel shit make talk football watch say\n",
      "Topic #15:\n",
      "#httr field fedex redskins #youlikethat @redskins #redskins reed fedexfield #gbvswas skins lets washington kirk touchdown home #wasvsgb jordan cousins great\n",
      "Topic #16:\n",
      "let's skins d come @patriots #keeppounding redskins gillette panthers pats patriots gooooo make #broncos defense green bay hope finish #broncoscountryplayoffs\n",
      "Topic #17:\n",
      "it's time half year lit think football best night okay funny .. play day better people ok great fun watching\n",
      "Topic #18:\n",
      "got u need he's ain't cam play big em cmon ya job watch you've panthers left ring kidding girl fucking\n",
      "Topic #19:\n",
      "#job want #hiring #jobs great ca #careerarc latest we're work click opening #denver md #retail #sanjose apply recommend #santaclara #columbia\n",
      "\n",
      "Fitting LDA models with tf features, n_samples=21773 and n_features=1145269...\n",
      "done in 22.668s.\n",
      "\n",
      "Topics in LDA model:\n",
      "Topic #0:\n",
      "game superbowl team today fucking watching won work lot little hey drive hell bitch lost great crazy true queen left\n",
      "Topic #1:\n",
      "really people getting oh smh nice reed week wanna jordan person talking okay tv sorry family crying girls called anymore\n",
      "Topic #2:\n",
      "just beyonce lol coldplay best mvp end ya tell gronk years 20 needs 18 friends funny bro told saying lady\n",
      "Topic #3:\n",
      "defense nfl year man gonna fans way season score tho believe start wins doing pats pass long boy wtf bruh\n",
      "Topic #4:\n",
      "redskins httr packers skins bay kirk washington cousins green school fedex youlikethat missed chris yo mind went pack unitedinorange dance\n",
      "Topic #5:\n",
      "broncos super bowl stadium 50 going superbowl50 say look denver el wait halftimeshow la que money en broncoscountry gobroncos refs\n",
      "Topic #6:\n",
      "time commercial yes superbowl50 bruno brunomars line mars performance literally waiting killed qb nflplayoffs teams says ha sack playoff goat\n",
      "Topic #7:\n",
      "peyton manning fuck want bad playing brady real fan sure hit winning saw face ur leave games tom ring hair\n",
      "Topic #8:\n",
      "don gt ll thing lt music isn mean easy proud forever vote papajohns paid puppymonkeybaby stay clock choice 30 sound\n",
      "Topic #9:\n",
      "amp win cam need patriots didn newton omg hope mom commercials chiefs fun ain budweiser haha 2016 hot 1st having\n",
      "Topic #10:\n",
      "sb50 denver come california new hate far santa ready guys old clara levisstadium 02 minutes superbowlsunday usgs ladygaga congratulations excited\n",
      "Topic #11:\n",
      "panthers miller von offense thought 24 away doyourjob probably twitter song dont taking reason place bye sb goes yards change\n",
      "Topic #12:\n",
      "baby big im yeah watch ass lmao making dude pick fumble champions trying hear champs boring bey fg formation safety\n",
      "Topic #13:\n",
      "like play make great happy keeppounding feel looks amazing rn point party dad birthday lose tweet throw car took cause\n",
      "Topic #14:\n",
      "halftime right think 10 ball catch wow lets miss run stop td 16 ok quarter makes 3rd guy came actually\n",
      "Topic #15:\n",
      "https let day life thanks damn carolina home coming photo looking tomorrow hard played drinking happen nigga babies gillette seriously\n",
      "Topic #16:\n",
      "football touchdown tonight gbvswas house awesome gotta drake sad dab playoffs goal gopackgo help try player rt sunset blow dick\n",
      "Topic #17:\n",
      "good got know ve did shit said esurancesweepstakes girl pretty doesn does san seen esurance sunday second days points boys\n",
      "Topic #18:\n",
      "love half thank congrats pepsihalftime doritos rodgers 11 beat guess cool heart talk favorite black feeling aaron smith heard movie\n",
      "Topic #19:\n",
      "https levi job field better hiring ca god night world jobs live high beautiful 12 worst check lit care careerarc\n",
      "\n"
     ]
    }
   ],
   "source": [
    "\n",
    "def print_top_words(model, feature_names, n_top_words):\n",
    "    for topic_idx, topic in enumerate(model.components_):\n",
    "        print(\"Topic #%d:\" % topic_idx)\n",
    "        print(\" \".join([feature_names[i]\n",
    "                        for i in topic.argsort()[:-n_top_words - 1:-1]]))\n",
    "    print()\n",
    "\n",
    "\n",
    "# Load the 20 newsgroups dataset and vectorize it. We use a few heuristics\n",
    "# to filter out useless terms early on: the posts are stripped of headers,\n",
    "# footers and quoted replies, and common English words, words occurring in\n",
    "# only one document or in at least 95% of the documents are removed.\n",
    "\n",
    "\n",
    "data_samples = tweets\n",
    "t0 = time()\n",
    "print(\"done in %0.3fs.\" % (time() - t0))\n",
    "\n",
    "# Use tf-idf features for NMF.\n",
    "print(\"Extracting tf-idf features for NMF...\")\n",
    "tfidf_vectorizer = TfidfVectorizer(max_df=0.95, min_df=10, #max_features=n_features,\n",
    "                                   stop_words='english',tokenizer = custom_tok)\n",
    "t0 = time()\n",
    "tfidf = tfidf_vectorizer.fit_transform(data_samples)\n",
    "print(\"done in %0.3fs.\" % (time() - t0))\n",
    "\n",
    "# Use tf (raw term count) features for LDA.\n",
    "print(\"Extracting tf features for LDA...\")\n",
    "tf_vectorizer = CountVectorizer(max_df=0.95, min_df=10, max_features=n_features,\n",
    "                                stop_words='english')\n",
    "t0 = time()\n",
    "tf = tf_vectorizer.fit_transform(data_samples)\n",
    "print(\"done in %0.3fs.\" % (time() - t0))\n",
    "\n",
    "# Fit the NMF model\n",
    "print(\"Fitting the NMF model with tf-idf features,\"\n",
    "      \"n_samples=%d and n_features=%d...\"\n",
    "      % (n_samples, n_features))\n",
    "t0 = time()\n",
    "nmf = NMF(n_components=n_topics, random_state=1, alpha=.1, l1_ratio=.5).fit(tfidf)\n",
    "exit()\n",
    "print(\"done in %0.3fs.\" % (time() - t0))\n",
    "\n",
    "print(\"\\nTopics in NMF model:\")\n",
    "tfidf_feature_names = tfidf_vectorizer.get_feature_names()\n",
    "print_top_words(nmf, tfidf_feature_names, n_top_words)\n",
    "\n",
    "print(\"Fitting LDA models with tf features, n_samples=%d and n_features=%d...\"\n",
    "      % (n_samples, n_features))\n",
    "lda = LatentDirichletAllocation(n_topics=n_topics, max_iter=10,\n",
    "                                learning_method='online', learning_offset=50.,\n",
    "                                random_state=0)\n",
    "t0 = time()\n",
    "lda.fit(tf)\n",
    "print(\"done in %0.3fs.\" % (time() - t0))\n",
    "\n",
    "print(\"\\nTopics in LDA model:\")\n",
    "tf_feature_names = tf_vectorizer.get_feature_names()\n",
    "print_top_words(lda, tf_feature_names, n_top_words)"
   ]
  },
  {
   "cell_type": "code",
   "execution_count": 77,
   "metadata": {
    "collapsed": false
   },
   "outputs": [
    {
     "data": {
      "text/plain": [
       "21773"
      ]
     },
     "execution_count": 77,
     "metadata": {},
     "output_type": "execute_result"
    }
   ],
   "source": [
    "len(tweets)"
   ]
  },
  {
   "cell_type": "code",
   "execution_count": 86,
   "metadata": {
    "collapsed": false
   },
   "outputs": [
    {
     "name": "stdout",
     "output_type": "stream",
     "text": [
      "b\"I'm at a banh mi shop and they're playing really bad techno and I want to leave but I want my food\"\n"
     ]
    },
    {
     "ename": "TypeError",
     "evalue": "a bytes-like object is required, not 'str'",
     "output_type": "error",
     "traceback": [
      "\u001b[0;31m---------------------------------------------------------------------------\u001b[0m",
      "\u001b[0;31mTypeError\u001b[0m                                 Traceback (most recent call last)",
      "\u001b[0;32m<ipython-input-86-37f39bdc28fd>\u001b[0m in \u001b[0;36m<module>\u001b[0;34m()\u001b[0m\n\u001b[1;32m      2\u001b[0m \u001b[0mstringIn\u001b[0m \u001b[0;34m=\u001b[0m \u001b[0mtweets\u001b[0m\u001b[0;34m[\u001b[0m\u001b[0;36m3\u001b[0m\u001b[0;34m]\u001b[0m\u001b[0;34m\u001b[0m\u001b[0m\n\u001b[1;32m      3\u001b[0m \u001b[0mprint\u001b[0m \u001b[0;34m(\u001b[0m\u001b[0mtweets\u001b[0m\u001b[0;34m[\u001b[0m\u001b[0;36m3\u001b[0m\u001b[0;34m]\u001b[0m\u001b[0;34m)\u001b[0m\u001b[0;34m\u001b[0m\u001b[0m\n\u001b[0;32m----> 4\u001b[0;31m \u001b[0mout\u001b[0m \u001b[0;34m=\u001b[0m \u001b[0mstringIn\u001b[0m\u001b[0;34m.\u001b[0m\u001b[0mtranslate\u001b[0m\u001b[0;34m(\u001b[0m\u001b[0mstringIn\u001b[0m\u001b[0;34m.\u001b[0m\u001b[0mmaketrans\u001b[0m\u001b[0;34m(\u001b[0m\u001b[0;34m\"\"\u001b[0m\u001b[0;34m,\u001b[0m\u001b[0;34m\"\"\u001b[0m\u001b[0;34m)\u001b[0m\u001b[0;34m,\u001b[0m \u001b[0mstring\u001b[0m\u001b[0;34m.\u001b[0m\u001b[0mpunctuation\u001b[0m\u001b[0;34m)\u001b[0m\u001b[0;34m\u001b[0m\u001b[0m\n\u001b[0m\u001b[1;32m      5\u001b[0m \u001b[0mout\u001b[0m\u001b[0;34m\u001b[0m\u001b[0m\n",
      "\u001b[0;31mTypeError\u001b[0m: a bytes-like object is required, not 'str'"
     ]
    }
   ],
   "source": [
    "import string\n",
    "stringIn = tweets[3]\n",
    "print (tweets[3])\n",
    "out = stringIn.translate(stringIn.maketrans(\"\",\"\"), string.punctuation)\n",
    "out"
   ]
  },
  {
   "cell_type": "code",
   "execution_count": null,
   "metadata": {
    "collapsed": true
   },
   "outputs": [],
   "source": []
  }
 ],
 "metadata": {
  "kernelspec": {
   "display_name": "Python 3",
   "language": "python",
   "name": "python3"
  },
  "language_info": {
   "codemirror_mode": {
    "name": "ipython",
    "version": 3
   },
   "file_extension": ".py",
   "mimetype": "text/x-python",
   "name": "python",
   "nbconvert_exporter": "python",
   "pygments_lexer": "ipython3",
   "version": "3.5.1"
  }
 },
 "nbformat": 4,
 "nbformat_minor": 0
}
