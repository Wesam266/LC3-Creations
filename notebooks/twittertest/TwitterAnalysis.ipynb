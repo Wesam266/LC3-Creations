{
 "cells": [
  {
   "cell_type": "code",
   "execution_count": 4,
   "metadata": {
    "collapsed": false
   },
   "outputs": [],
   "source": [
    "###############################################################################\n",
    "# Admin work; creating a normalized path to work on any OS for calls to keys or files\n",
    "###############################################################################\n",
    "import Geohash\n",
    "import os\n",
    "path = os.path.normpath(os.path.join(os.path.normpath(os.path.expanduser(\"~\")),\"projects\",\"LC3-Creations\"))\n",
    "\n",
    "#**********************************************************************\n",
    "# This block of imports eliminates an ipython error associated with\n",
    "# 'import sys' where the print statement goes to the console\n",
    "# and not the ipython notebook.  For more information on this workaround,\n",
    "# see https://github.com/ipython/ipython/issues/8354\n",
    "#**********************************************************************\n"
   ]
  },
  {
   "cell_type": "code",
   "execution_count": 15,
   "metadata": {
    "collapsed": true
   },
   "outputs": [],
   "source": [
    "#**********************************************************************\n",
    "# Class to load json stored in .txt files from disc into python json/dicts for analysis\n",
    "#**********************************************************************\n",
    "\n",
    "import json\n",
    "import re\n",
    "import os\n",
    "\n",
    "#shameless copy paste from json/decoder.py\n",
    "FLAGS = re.VERBOSE | re.MULTILINE | re.DOTALL\n",
    "WHITESPACE = re.compile(r'[ \\t\\n\\r]*', FLAGS)\n",
    "\n",
    "class ConcatJSONDecoder(json.JSONDecoder):\n",
    "    def decode(self, s, _w=WHITESPACE.match):\n",
    "        s_len = len(s)\n",
    "\n",
    "        objs = []\n",
    "        end = 0\n",
    "        while end != s_len:\n",
    "            obj, end = self.raw_decode(s, idx=_w(s, end).end())\n",
    "            end = _w(s, end).end()\n",
    "            objs.append(obj)\n",
    "        return objs"
   ]
  },
  {
   "cell_type": "code",
   "execution_count": 6,
   "metadata": {
    "collapsed": false
   },
   "outputs": [],
   "source": [
    "#**********************************************************************\n",
    "# How to load your obfuscated keys from a local \".txt\" file\n",
    "# The text file is from the json file you stored above\n",
    "#**********************************************************************\n",
    "\n",
    "# I created a nested dictionary with my API keys, then wrote that json to disk.  Now, I load the json and just pass the keys into the application\n",
    "\n",
    "oauth = json.load(open(os.path.join(path,\"apikeys.txt\")), cls=ConcatJSONDecoder)"
   ]
  },
  {
   "cell_type": "code",
   "execution_count": 7,
   "metadata": {
    "collapsed": false
   },
   "outputs": [],
   "source": [
    "#**********************************************************************\n",
    "# Passing in oauth values; you obviscate by loading your locally stored json\n",
    "#**********************************************************************\n",
    "\n",
    "# Import the necessary package to process data in JSON format\n",
    "try:\n",
    "    import json\n",
    "except ImportError:\n",
    "    import simplejson as json\n",
    "\n",
    "# Import the necessary methods from \"twitter\" library\n",
    "from twitter import Twitter, OAuth, TwitterHTTPError, TwitterStream\n",
    "\n",
    "# Variables that contains the user credentials to access Twitter API \n",
    "# If you have not followed the obfuscate process above, this will be empty and error out\n",
    "ACCESS_TOKEN = oauth[0]['twitter']['accesstoken']\n",
    "ACCESS_SECRET = oauth[0]['twitter']['accesssecret']\n",
    "CONSUMER_KEY = oauth[0]['twitter']['consumerkey']\n",
    "CONSUMER_SECRET = oauth[0]['twitter']['consumersecret']\n",
    "\n",
    "oauth = OAuth(ACCESS_TOKEN, ACCESS_SECRET, CONSUMER_KEY, CONSUMER_SECRET)\n"
   ]
  },
  {
   "cell_type": "code",
   "execution_count": 10,
   "metadata": {
    "collapsed": false
   },
   "outputs": [],
   "source": [
    "# Initiate the connection to Twitter Streaming API\n",
    "twitter_stream = TwitterStream(auth=oauth)"
   ]
  },
  {
   "cell_type": "code",
   "execution_count": null,
   "metadata": {
    "collapsed": false
   },
   "outputs": [],
   "source": [
    "# Filter the public data following through Twitter; the format is \"long,lat , long,lat\" with southwest corner first\n",
    "iterator = twitter_stream.statuses.filter(locations = '-77.276, 38.759, -76.830,38.999')\n",
    "\n",
    "# Print each tweet in the stream to the screen \n",
    "# Here we set it to stop after getting 1000 tweets. \n",
    "# You don't have to set it to stop, but can continue running \n",
    "# the Twitter API to collect data for days or even longer. \n",
    "\n",
    "with open('./washingtondc.txt', 'w+') as outfile:\n",
    "    for tweet in iterator:\n",
    "        try:\n",
    "            if tweet['user']['geo_enabled']==True and tweet['coordinates'] != None:\n",
    "                json.dump(tweet, outfile)\n",
    "        except:\n",
    "            pass\n",
    "            \n",
    "        \n",
    "        # Twitter Python Tool wraps the data returned by Twitter \n",
    "        # as a TwitterDictResponse object.\n",
    "        # We convert it back to the JSON format to print/score\n",
    "        #print json.dumps(tweet)  \n",
    "\n",
    "        # The command below will do pretty printing for JSON data, try it out\n",
    "        # print json.dumps(tweet, indent=4)\n",
    "        \n",
    "    outfile.closed  "
   ]
  },
  {
   "cell_type": "code",
   "execution_count": 43,
   "metadata": {
    "collapsed": false
   },
   "outputs": [],
   "source": [
    "test = json.load(open('washingtondc.txt'),cls=ConcatJSONDecoder)"
   ]
  },
  {
   "cell_type": "code",
   "execution_count": 89,
   "metadata": {
    "collapsed": false
   },
   "outputs": [],
   "source": [
    "place = {}\n",
    "for l in test:\n",
    "    if l['user']['id'] in place.keys():\n",
    "        pass\n",
    "    else:\n",
    "        place[l['user']['id']]={}\n",
    "        place[l['user']['id']]['screenName']=l['user']['screen_name']\n",
    "        place[l['user']['id']]['long']=l['coordinates']['coordinates'][0]\n",
    "        place[l['user']['id']]['lat']=l['coordinates']['coordinates'][1]\n",
    "        place[l['user']['id']]['lang'] = l['lang']\n",
    "        place[l['user']['id']]['date'] = l['created_at']\n"
   ]
  },
  {
   "cell_type": "code",
   "execution_count": 90,
   "metadata": {
    "collapsed": false
   },
   "outputs": [],
   "source": [
    "import pandas as pd\n",
    "df = pd.DataFrame.from_dict(place,orient='index')"
   ]
  },
  {
   "cell_type": "code",
   "execution_count": 91,
   "metadata": {
    "collapsed": false
   },
   "outputs": [],
   "source": [
    "import seaborn"
   ]
  },
  {
   "cell_type": "code",
   "execution_count": 94,
   "metadata": {
    "collapsed": false
   },
   "outputs": [
    {
     "data": {
      "text/html": [
       "<div>\n",
       "<table border=\"1\" class=\"dataframe\">\n",
       "  <thead>\n",
       "    <tr style=\"text-align: right;\">\n",
       "      <th></th>\n",
       "      <th>date</th>\n",
       "      <th>long</th>\n",
       "      <th>screenName</th>\n",
       "      <th>lat</th>\n",
       "      <th>lang</th>\n",
       "    </tr>\n",
       "  </thead>\n",
       "  <tbody>\n",
       "    <tr>\n",
       "      <th>68343</th>\n",
       "      <td>Wed May 25 03:02:56 +0000 2016</td>\n",
       "      <td>-77.037900</td>\n",
       "      <td>merujo</td>\n",
       "      <td>38.905100</td>\n",
       "      <td>en</td>\n",
       "    </tr>\n",
       "    <tr>\n",
       "      <th>16073420</th>\n",
       "      <td>Wed May 25 02:46:50 +0000 2016</td>\n",
       "      <td>-77.006291</td>\n",
       "      <td>JamiahAdams</td>\n",
       "      <td>38.879129</td>\n",
       "      <td>en</td>\n",
       "    </tr>\n",
       "    <tr>\n",
       "      <th>20809048</th>\n",
       "      <td>Wed May 25 02:59:52 +0000 2016</td>\n",
       "      <td>-77.023744</td>\n",
       "      <td>alisonfassl</td>\n",
       "      <td>38.917918</td>\n",
       "      <td>en</td>\n",
       "    </tr>\n",
       "    <tr>\n",
       "      <th>26412887</th>\n",
       "      <td>Wed May 25 02:55:17 +0000 2016</td>\n",
       "      <td>-77.048747</td>\n",
       "      <td>RonJolly</td>\n",
       "      <td>38.905287</td>\n",
       "      <td>en</td>\n",
       "    </tr>\n",
       "    <tr>\n",
       "      <th>27681049</th>\n",
       "      <td>Wed May 25 02:52:52 +0000 2016</td>\n",
       "      <td>-75.938199</td>\n",
       "      <td>brinton1964</td>\n",
       "      <td>39.369961</td>\n",
       "      <td>en</td>\n",
       "    </tr>\n",
       "    <tr>\n",
       "      <th>28918980</th>\n",
       "      <td>Wed May 25 02:47:11 +0000 2016</td>\n",
       "      <td>-77.036596</td>\n",
       "      <td>greensboro_nc</td>\n",
       "      <td>38.907230</td>\n",
       "      <td>en</td>\n",
       "    </tr>\n",
       "    <tr>\n",
       "      <th>30056162</th>\n",
       "      <td>Wed May 25 02:48:41 +0000 2016</td>\n",
       "      <td>-77.106770</td>\n",
       "      <td>workatavalonbay</td>\n",
       "      <td>38.879970</td>\n",
       "      <td>fr</td>\n",
       "    </tr>\n",
       "    <tr>\n",
       "      <th>30214282</th>\n",
       "      <td>Wed May 25 02:53:43 +0000 2016</td>\n",
       "      <td>-76.975406</td>\n",
       "      <td>Drakefrompg</td>\n",
       "      <td>38.756204</td>\n",
       "      <td>en</td>\n",
       "    </tr>\n",
       "    <tr>\n",
       "      <th>31099398</th>\n",
       "      <td>Wed May 25 02:53:58 +0000 2016</td>\n",
       "      <td>-76.402874</td>\n",
       "      <td>thisisdking</td>\n",
       "      <td>36.938230</td>\n",
       "      <td>en</td>\n",
       "    </tr>\n",
       "    <tr>\n",
       "      <th>34765597</th>\n",
       "      <td>Wed May 25 02:49:03 +0000 2016</td>\n",
       "      <td>-77.029929</td>\n",
       "      <td>MRDJDC</td>\n",
       "      <td>38.891374</td>\n",
       "      <td>en</td>\n",
       "    </tr>\n",
       "    <tr>\n",
       "      <th>37148372</th>\n",
       "      <td>Wed May 25 02:46:08 +0000 2016</td>\n",
       "      <td>-77.028289</td>\n",
       "      <td>MaxMClayton</td>\n",
       "      <td>38.917143</td>\n",
       "      <td>en</td>\n",
       "    </tr>\n",
       "    <tr>\n",
       "      <th>40012910</th>\n",
       "      <td>Wed May 25 02:51:36 +0000 2016</td>\n",
       "      <td>-77.011890</td>\n",
       "      <td>memoybarra</td>\n",
       "      <td>38.955847</td>\n",
       "      <td>en</td>\n",
       "    </tr>\n",
       "    <tr>\n",
       "      <th>81913437</th>\n",
       "      <td>Wed May 25 02:47:06 +0000 2016</td>\n",
       "      <td>-77.037336</td>\n",
       "      <td>WashingtonCP</td>\n",
       "      <td>38.901815</td>\n",
       "      <td>en</td>\n",
       "    </tr>\n",
       "    <tr>\n",
       "      <th>88704100</th>\n",
       "      <td>Wed May 25 02:58:44 +0000 2016</td>\n",
       "      <td>-76.997830</td>\n",
       "      <td>KatiePagett</td>\n",
       "      <td>38.908771</td>\n",
       "      <td>en</td>\n",
       "    </tr>\n",
       "    <tr>\n",
       "      <th>91223847</th>\n",
       "      <td>Wed May 25 03:02:53 +0000 2016</td>\n",
       "      <td>-77.009072</td>\n",
       "      <td>Oroloro</td>\n",
       "      <td>38.889828</td>\n",
       "      <td>en</td>\n",
       "    </tr>\n",
       "    <tr>\n",
       "      <th>137649835</th>\n",
       "      <td>Wed May 25 02:46:50 +0000 2016</td>\n",
       "      <td>-77.045500</td>\n",
       "      <td>Feorag</td>\n",
       "      <td>38.907400</td>\n",
       "      <td>en</td>\n",
       "    </tr>\n",
       "    <tr>\n",
       "      <th>138480220</th>\n",
       "      <td>Wed May 25 02:51:40 +0000 2016</td>\n",
       "      <td>-77.580441</td>\n",
       "      <td>FFXFamilyFun</td>\n",
       "      <td>38.952879</td>\n",
       "      <td>en</td>\n",
       "    </tr>\n",
       "    <tr>\n",
       "      <th>140868398</th>\n",
       "      <td>Wed May 25 02:57:22 +0000 2016</td>\n",
       "      <td>-77.021076</td>\n",
       "      <td>cesarcataco</td>\n",
       "      <td>38.915436</td>\n",
       "      <td>es</td>\n",
       "    </tr>\n",
       "    <tr>\n",
       "      <th>175209193</th>\n",
       "      <td>Wed May 25 03:02:48 +0000 2016</td>\n",
       "      <td>-77.575400</td>\n",
       "      <td>parfus_brews</td>\n",
       "      <td>37.687800</td>\n",
       "      <td>en</td>\n",
       "    </tr>\n",
       "    <tr>\n",
       "      <th>245396854</th>\n",
       "      <td>Wed May 25 02:55:27 +0000 2016</td>\n",
       "      <td>-76.984530</td>\n",
       "      <td>SongByrdsweets</td>\n",
       "      <td>38.899990</td>\n",
       "      <td>en</td>\n",
       "    </tr>\n",
       "    <tr>\n",
       "      <th>297180938</th>\n",
       "      <td>Wed May 25 02:50:07 +0000 2016</td>\n",
       "      <td>-76.987460</td>\n",
       "      <td>NYCFoodieFinder</td>\n",
       "      <td>38.900440</td>\n",
       "      <td>en</td>\n",
       "    </tr>\n",
       "    <tr>\n",
       "      <th>304444834</th>\n",
       "      <td>Wed May 25 02:51:20 +0000 2016</td>\n",
       "      <td>-77.229722</td>\n",
       "      <td>mertgunduz13</td>\n",
       "      <td>38.918611</td>\n",
       "      <td>en</td>\n",
       "    </tr>\n",
       "    <tr>\n",
       "      <th>446389081</th>\n",
       "      <td>Wed May 25 02:51:46 +0000 2016</td>\n",
       "      <td>-77.036700</td>\n",
       "      <td>coltonpowell97</td>\n",
       "      <td>38.895100</td>\n",
       "      <td>en</td>\n",
       "    </tr>\n",
       "    <tr>\n",
       "      <th>472201672</th>\n",
       "      <td>Wed May 25 02:47:49 +0000 2016</td>\n",
       "      <td>-77.112470</td>\n",
       "      <td>nature_careers</td>\n",
       "      <td>38.882584</td>\n",
       "      <td>en</td>\n",
       "    </tr>\n",
       "    <tr>\n",
       "      <th>514972191</th>\n",
       "      <td>Wed May 25 03:00:04 +0000 2016</td>\n",
       "      <td>-81.277500</td>\n",
       "      <td>kvabluef4</td>\n",
       "      <td>37.241667</td>\n",
       "      <td>en</td>\n",
       "    </tr>\n",
       "    <tr>\n",
       "      <th>756155556</th>\n",
       "      <td>Wed May 25 02:54:24 +0000 2016</td>\n",
       "      <td>-77.737500</td>\n",
       "      <td>jake_morgal</td>\n",
       "      <td>38.968333</td>\n",
       "      <td>en</td>\n",
       "    </tr>\n",
       "    <tr>\n",
       "      <th>870666342</th>\n",
       "      <td>Wed May 25 02:56:45 +0000 2016</td>\n",
       "      <td>-77.047994</td>\n",
       "      <td>NickValls</td>\n",
       "      <td>38.890676</td>\n",
       "      <td>en</td>\n",
       "    </tr>\n",
       "    <tr>\n",
       "      <th>1180025371</th>\n",
       "      <td>Wed May 25 02:57:13 +0000 2016</td>\n",
       "      <td>-77.029000</td>\n",
       "      <td>trendinaliaUS</td>\n",
       "      <td>38.899100</td>\n",
       "      <td>en</td>\n",
       "    </tr>\n",
       "    <tr>\n",
       "      <th>1210105128</th>\n",
       "      <td>Wed May 25 02:48:38 +0000 2016</td>\n",
       "      <td>-77.008013</td>\n",
       "      <td>javieralarraing</td>\n",
       "      <td>38.889855</td>\n",
       "      <td>es</td>\n",
       "    </tr>\n",
       "    <tr>\n",
       "      <th>2211388442</th>\n",
       "      <td>Wed May 25 03:01:33 +0000 2016</td>\n",
       "      <td>-77.239217</td>\n",
       "      <td>TheRockJiuJitsu</td>\n",
       "      <td>38.931833</td>\n",
       "      <td>en</td>\n",
       "    </tr>\n",
       "    <tr>\n",
       "      <th>2680128302</th>\n",
       "      <td>Wed May 25 02:50:07 +0000 2016</td>\n",
       "      <td>-77.027142</td>\n",
       "      <td>FCCIDio</td>\n",
       "      <td>38.882867</td>\n",
       "      <td>en</td>\n",
       "    </tr>\n",
       "    <tr>\n",
       "      <th>2760679530</th>\n",
       "      <td>Wed May 25 02:58:51 +0000 2016</td>\n",
       "      <td>-76.849079</td>\n",
       "      <td>Yung_ghosttt</td>\n",
       "      <td>39.183410</td>\n",
       "      <td>en</td>\n",
       "    </tr>\n",
       "    <tr>\n",
       "      <th>3224937850</th>\n",
       "      <td>Wed May 25 03:02:01 +0000 2016</td>\n",
       "      <td>-77.477774</td>\n",
       "      <td>ZekeM13</td>\n",
       "      <td>37.392272</td>\n",
       "      <td>und</td>\n",
       "    </tr>\n",
       "    <tr>\n",
       "      <th>3673635020</th>\n",
       "      <td>Wed May 25 02:53:45 +0000 2016</td>\n",
       "      <td>-76.951253</td>\n",
       "      <td>gaynor_antonio</td>\n",
       "      <td>38.807329</td>\n",
       "      <td>en</td>\n",
       "    </tr>\n",
       "    <tr>\n",
       "      <th>3887611992</th>\n",
       "      <td>Wed May 25 02:57:00 +0000 2016</td>\n",
       "      <td>-76.951264</td>\n",
       "      <td>drtyronegray20</td>\n",
       "      <td>38.884343</td>\n",
       "      <td>en</td>\n",
       "    </tr>\n",
       "    <tr>\n",
       "      <th>4335032482</th>\n",
       "      <td>Wed May 25 02:50:09 +0000 2016</td>\n",
       "      <td>-77.019900</td>\n",
       "      <td>morskieeatsdc</td>\n",
       "      <td>38.898700</td>\n",
       "      <td>en</td>\n",
       "    </tr>\n",
       "    <tr>\n",
       "      <th>4643985383</th>\n",
       "      <td>Wed May 25 02:51:23 +0000 2016</td>\n",
       "      <td>-76.861046</td>\n",
       "      <td>GSGjobs</td>\n",
       "      <td>39.203714</td>\n",
       "      <td>en</td>\n",
       "    </tr>\n",
       "  </tbody>\n",
       "</table>\n",
       "</div>"
      ],
      "text/plain": [
       "                                      date       long       screenName  \\\n",
       "68343       Wed May 25 03:02:56 +0000 2016 -77.037900           merujo   \n",
       "16073420    Wed May 25 02:46:50 +0000 2016 -77.006291      JamiahAdams   \n",
       "20809048    Wed May 25 02:59:52 +0000 2016 -77.023744      alisonfassl   \n",
       "26412887    Wed May 25 02:55:17 +0000 2016 -77.048747         RonJolly   \n",
       "27681049    Wed May 25 02:52:52 +0000 2016 -75.938199      brinton1964   \n",
       "28918980    Wed May 25 02:47:11 +0000 2016 -77.036596    greensboro_nc   \n",
       "30056162    Wed May 25 02:48:41 +0000 2016 -77.106770  workatavalonbay   \n",
       "30214282    Wed May 25 02:53:43 +0000 2016 -76.975406      Drakefrompg   \n",
       "31099398    Wed May 25 02:53:58 +0000 2016 -76.402874      thisisdking   \n",
       "34765597    Wed May 25 02:49:03 +0000 2016 -77.029929           MRDJDC   \n",
       "37148372    Wed May 25 02:46:08 +0000 2016 -77.028289      MaxMClayton   \n",
       "40012910    Wed May 25 02:51:36 +0000 2016 -77.011890       memoybarra   \n",
       "81913437    Wed May 25 02:47:06 +0000 2016 -77.037336     WashingtonCP   \n",
       "88704100    Wed May 25 02:58:44 +0000 2016 -76.997830      KatiePagett   \n",
       "91223847    Wed May 25 03:02:53 +0000 2016 -77.009072          Oroloro   \n",
       "137649835   Wed May 25 02:46:50 +0000 2016 -77.045500           Feorag   \n",
       "138480220   Wed May 25 02:51:40 +0000 2016 -77.580441     FFXFamilyFun   \n",
       "140868398   Wed May 25 02:57:22 +0000 2016 -77.021076      cesarcataco   \n",
       "175209193   Wed May 25 03:02:48 +0000 2016 -77.575400     parfus_brews   \n",
       "245396854   Wed May 25 02:55:27 +0000 2016 -76.984530   SongByrdsweets   \n",
       "297180938   Wed May 25 02:50:07 +0000 2016 -76.987460  NYCFoodieFinder   \n",
       "304444834   Wed May 25 02:51:20 +0000 2016 -77.229722     mertgunduz13   \n",
       "446389081   Wed May 25 02:51:46 +0000 2016 -77.036700   coltonpowell97   \n",
       "472201672   Wed May 25 02:47:49 +0000 2016 -77.112470   nature_careers   \n",
       "514972191   Wed May 25 03:00:04 +0000 2016 -81.277500        kvabluef4   \n",
       "756155556   Wed May 25 02:54:24 +0000 2016 -77.737500      jake_morgal   \n",
       "870666342   Wed May 25 02:56:45 +0000 2016 -77.047994        NickValls   \n",
       "1180025371  Wed May 25 02:57:13 +0000 2016 -77.029000    trendinaliaUS   \n",
       "1210105128  Wed May 25 02:48:38 +0000 2016 -77.008013  javieralarraing   \n",
       "2211388442  Wed May 25 03:01:33 +0000 2016 -77.239217  TheRockJiuJitsu   \n",
       "2680128302  Wed May 25 02:50:07 +0000 2016 -77.027142          FCCIDio   \n",
       "2760679530  Wed May 25 02:58:51 +0000 2016 -76.849079     Yung_ghosttt   \n",
       "3224937850  Wed May 25 03:02:01 +0000 2016 -77.477774          ZekeM13   \n",
       "3673635020  Wed May 25 02:53:45 +0000 2016 -76.951253   gaynor_antonio   \n",
       "3887611992  Wed May 25 02:57:00 +0000 2016 -76.951264   drtyronegray20   \n",
       "4335032482  Wed May 25 02:50:09 +0000 2016 -77.019900    morskieeatsdc   \n",
       "4643985383  Wed May 25 02:51:23 +0000 2016 -76.861046          GSGjobs   \n",
       "\n",
       "                  lat lang  \n",
       "68343       38.905100   en  \n",
       "16073420    38.879129   en  \n",
       "20809048    38.917918   en  \n",
       "26412887    38.905287   en  \n",
       "27681049    39.369961   en  \n",
       "28918980    38.907230   en  \n",
       "30056162    38.879970   fr  \n",
       "30214282    38.756204   en  \n",
       "31099398    36.938230   en  \n",
       "34765597    38.891374   en  \n",
       "37148372    38.917143   en  \n",
       "40012910    38.955847   en  \n",
       "81913437    38.901815   en  \n",
       "88704100    38.908771   en  \n",
       "91223847    38.889828   en  \n",
       "137649835   38.907400   en  \n",
       "138480220   38.952879   en  \n",
       "140868398   38.915436   es  \n",
       "175209193   37.687800   en  \n",
       "245396854   38.899990   en  \n",
       "297180938   38.900440   en  \n",
       "304444834   38.918611   en  \n",
       "446389081   38.895100   en  \n",
       "472201672   38.882584   en  \n",
       "514972191   37.241667   en  \n",
       "756155556   38.968333   en  \n",
       "870666342   38.890676   en  \n",
       "1180025371  38.899100   en  \n",
       "1210105128  38.889855   es  \n",
       "2211388442  38.931833   en  \n",
       "2680128302  38.882867   en  \n",
       "2760679530  39.183410   en  \n",
       "3224937850  37.392272  und  \n",
       "3673635020  38.807329   en  \n",
       "3887611992  38.884343   en  \n",
       "4335032482  38.898700   en  \n",
       "4643985383  39.203714   en  "
      ]
     },
     "execution_count": 94,
     "metadata": {},
     "output_type": "execute_result"
    }
   ],
   "source": [
    "df"
   ]
  },
  {
   "cell_type": "code",
   "execution_count": 107,
   "metadata": {
    "collapsed": false
   },
   "outputs": [
    {
     "data": {
      "image/png": "[encoded data removed]",
      "text/plain": [
       "<matplotlib.figure.Figure at 0x10f4975f8>"
      ]
     },
     "metadata": {},
     "output_type": "display_data"
    }
   ],
   "source": [
    "import matplotlib.pyplot as plt\n",
    "import seaborn as sns\n",
    "%matplotlib inline\n",
    "\n",
    "sns.set_context(\"talk\")\n",
    "ax = sns.lmplot(x=\"lat\", y=\"long\", hue=\"lang\", data=df, fit_reg=False, scatter_kws={\"s\": 100,\"alpha\":0.5})"
   ]
  },
  {
   "cell_type": "code",
   "execution_count": 32,
   "metadata": {
    "collapsed": false
   },
   "outputs": [],
   "source": [
    "count = 0\n",
    "\n",
    "for l in linwood:\n",
    "    if l['id'] == tweet[-1]['id']:\n",
    "        break\n",
    "    else:\n",
    "        tweet.append(l)\n",
    "        count += 1\n",
    "    "
   ]
  },
  {
   "cell_type": "code",
   "execution_count": 46,
   "metadata": {
    "collapsed": false
   },
   "outputs": [
    {
     "data": {
      "text/plain": [
       "701083267974299648"
      ]
     },
     "execution_count": 46,
     "metadata": {},
     "output_type": "execute_result"
    }
   ],
   "source": [
    "max_id = linwood[0]['id']\n",
    "max_id"
   ]
  },
  {
   "cell_type": "code",
   "execution_count": 38,
   "metadata": {
    "collapsed": true
   },
   "outputs": [],
   "source": [
    "tweets = []"
   ]
  },
  {
   "cell_type": "code",
   "execution_count": 55,
   "metadata": {
    "collapsed": false
   },
   "outputs": [
    {
     "name": "stdout",
     "output_type": "stream",
     "text": [
      "1 505770645238841344 505770645238841344\n",
      "2 440987625541758976 440987625541758976\n",
      "3 414082187177107456 414082187177107456\n",
      "4 376366212533350400 376366212533350400\n",
      "5 341270637538590720 341270637538590720\n",
      "6 237182004666437633 237182004666437633\n",
      "7 181519522518409216 181519522518409216\n",
      "8 120194856248291328 120194856248291328\n",
      "9 89108029009694720 89108029009694720\n",
      "10 2552803996 2552803996\n",
      "11 1274317112 1274317112\n"
     ]
    }
   ],
   "source": [
    "count = 0\n",
    "test = []\n",
    "linwood = t.statuses.user_timeline(screen_name=\"linwoodc3\", count = 200, max_id = 701083267974299648)\n",
    "while count < 16:\n",
    "    for l in linwood:\n",
    "        test.append(l)\n",
    "    count +=1\n",
    "    maxid = test[-1]['id']\n",
    "    print count,+linwood[-1]['id'], maxid\n",
    "    linwood = t.statuses.user_timeline(screen_name=\"linwoodc3\", count = 200, max_id = maxid)\n",
    "    if count > 3 and test[-1]['id']== linwood[-1]['id']:\n",
    "        break"
   ]
  },
  {
   "cell_type": "code",
   "execution_count": 54,
   "metadata": {
    "collapsed": false
   },
   "outputs": [
    {
     "data": {
      "text/plain": [
       "2091"
      ]
     },
     "execution_count": 54,
     "metadata": {},
     "output_type": "execute_result"
    }
   ],
   "source": [
    "len(tweets)"
   ]
  },
  {
   "cell_type": "code",
   "execution_count": 57,
   "metadata": {
    "collapsed": false
   },
   "outputs": [
    {
     "data": {
      "text/plain": [
       "[{u'contributors': None,\n",
       "  u'coordinates': None,\n",
       "  u'created_at': u'Tue Mar 03 16:18:36 +0000 2009',\n",
       "  u'entities': {u'hashtags': [],\n",
       "   u'symbols': [],\n",
       "   u'urls': [],\n",
       "   u'user_mentions': []},\n",
       "  u'favorite_count': 0,\n",
       "  u'favorited': False,\n",
       "  u'geo': None,\n",
       "  u'id': 1274317112,\n",
       "  u'id_str': u'1274317112',\n",
       "  u'in_reply_to_screen_name': None,\n",
       "  u'in_reply_to_status_id': None,\n",
       "  u'in_reply_to_status_id_str': None,\n",
       "  u'in_reply_to_user_id': None,\n",
       "  u'in_reply_to_user_id_str': None,\n",
       "  u'is_quote_status': False,\n",
       "  u'lang': u'en',\n",
       "  u'place': None,\n",
       "  u'retweet_count': 0,\n",
       "  u'retweeted': False,\n",
       "  u'source': u'<a href=\"http://twitter.com\" rel=\"nofollow\">Twitter Web Client</a>',\n",
       "  u'text': u'in class',\n",
       "  u'truncated': False,\n",
       "  u'user': {u'contributors_enabled': False,\n",
       "   u'created_at': u'Tue Mar 03 16:16:58 +0000 2009',\n",
       "   u'default_profile': False,\n",
       "   u'default_profile_image': False,\n",
       "   u'description': u'Value Investor, Entreprenuer, DIE HARD  CHIEFS fan!.',\n",
       "   u'entities': {u'description': {u'urls': []},\n",
       "    u'url': {u'urls': [{u'display_url': u'facebook.com/linwoodc?ref=p\\u2026',\n",
       "       u'expanded_url': u'http://www.facebook.com/linwoodc?ref=profile',\n",
       "       u'indices': [0, 22],\n",
       "       u'url': u'http://t.co/xqA2ytoa3H'}]}},\n",
       "   u'favourites_count': 13,\n",
       "   u'follow_request_sent': False,\n",
       "   u'followers_count': 112,\n",
       "   u'following': False,\n",
       "   u'friends_count': 103,\n",
       "   u'geo_enabled': False,\n",
       "   u'has_extended_profile': False,\n",
       "   u'id': 22640066,\n",
       "   u'id_str': u'22640066',\n",
       "   u'is_translation_enabled': False,\n",
       "   u'is_translator': False,\n",
       "   u'lang': u'en',\n",
       "   u'listed_count': 8,\n",
       "   u'location': u'\\xdcT: 25.821793,-80.362493',\n",
       "   u'name': u'Linwood Creekmore',\n",
       "   u'notifications': False,\n",
       "   u'profile_background_color': u'9AE4E8',\n",
       "   u'profile_background_image_url': u'http://pbs.twimg.com/profile_background_images/20945961/investing.jpg',\n",
       "   u'profile_background_image_url_https': u'https://pbs.twimg.com/profile_background_images/20945961/investing.jpg',\n",
       "   u'profile_background_tile': True,\n",
       "   u'profile_banner_url': u'https://pbs.twimg.com/profile_banners/22640066/1399507408',\n",
       "   u'profile_image_url': u'http://pbs.twimg.com/profile_images/1614016748/profile_normal.jpg',\n",
       "   u'profile_image_url_https': u'https://pbs.twimg.com/profile_images/1614016748/profile_normal.jpg',\n",
       "   u'profile_link_color': u'0084B4',\n",
       "   u'profile_sidebar_border_color': u'BDDCAD',\n",
       "   u'profile_sidebar_fill_color': u'DDFFCC',\n",
       "   u'profile_text_color': u'333333',\n",
       "   u'profile_use_background_image': True,\n",
       "   u'protected': False,\n",
       "   u'screen_name': u'linwoodc3',\n",
       "   u'statuses_count': 2082,\n",
       "   u'time_zone': u'Eastern Time (US & Canada)',\n",
       "   u'url': u'http://t.co/xqA2ytoa3H',\n",
       "   u'utc_offset': -18000,\n",
       "   u'verified': False}}]"
      ]
     },
     "execution_count": 57,
     "metadata": {},
     "output_type": "execute_result"
    }
   ],
   "source": [
    "linwood"
   ]
  },
  {
   "cell_type": "code",
   "execution_count": 58,
   "metadata": {
    "collapsed": false
   },
   "outputs": [],
   "source": [
    "statuses = search_results['statuses']\n",
    "status = tweets"
   ]
  },
  {
   "cell_type": "code",
   "execution_count": 63,
   "metadata": {
    "collapsed": false
   },
   "outputs": [
    {
     "ename": "NameError",
     "evalue": "name 'status' is not defined",
     "output_type": "error",
     "traceback": [
      "\u001b[0;31m---------------------------------------------------------------------------\u001b[0m",
      "\u001b[0;31mNameError\u001b[0m                                 Traceback (most recent call last)",
      "\u001b[0;32m<ipython-input-63-0cba061c25c8>\u001b[0m in \u001b[0;36m<module>\u001b[0;34m()\u001b[0m\n\u001b[0;32m----> 1\u001b[0;31m \u001b[0mstatus\u001b[0m\u001b[0;34m\u001b[0m\u001b[0m\n\u001b[0m",
      "\u001b[0;31mNameError\u001b[0m: name 'status' is not defined"
     ]
    }
   ],
   "source": []
  },
  {
   "cell_type": "code",
   "execution_count": 64,
   "metadata": {
    "collapsed": false
   },
   "outputs": [
    {
     "name": "stdout",
     "output_type": "stream",
     "text": [
      "[\n",
      " \"@rdpeng Greetings Dr. Peng, Week 2 Quiz of Exploratory Data Analysis need update; Hadley moved 'movies' to 'ggplot2movies'; see his github\", \n",
      " \"@hadleywickham @RadDad_17  Disregard, I found your update https://t.co/3mNtM5Pv2e; will help update Coursera course code for quiz.\", \n",
      " \"@hadleywickham @RadDad_17 I guess movies was removed.  'movies' is the data set in questions 9-10 of Week 2 of Exploratory Data Analysis\", \n",
      " \"Took a day off to work on assignments in the #datascience specialization  from @JohnsHopkins on @coursera.  #exploratorydataanalysis #class4\", \n",
      " \"@sarahkaplan48 great article, small typo: \\\"he way a the fabric of trampoline would vibrate\\\" https://t.co/OvFOVlH72g\"\n",
      "]\n",
      "[\n",
      " \"rdpeng\", \n",
      " \"hadleywickham\", \n",
      " \"RadDad_17\", \n",
      " \"hadleywickham\", \n",
      " \"RadDad_17\"\n",
      "]\n",
      "[\n",
      " \"datascience\", \n",
      " \"exploratorydataanalysis\", \n",
      " \"class4\", \n",
      " \"fiveguys\", \n",
      " \"5guys\"\n",
      "]\n",
      "[\n",
      " \"@rdpeng\", \n",
      " \"Greetings\", \n",
      " \"Dr.\", \n",
      " \"Peng,\", \n",
      " \"Week\"\n",
      "]\n"
     ]
    }
   ],
   "source": [
    "status_texts = [ status['text'] \n",
    "                 for status in statuses ]\n",
    "\n",
    "screen_names = [ user_mention['screen_name'] \n",
    "                 for status in statuses\n",
    "                     for user_mention in status['entities']['user_mentions'] ]\n",
    "\n",
    "hashtags = [ hashtag['text'] \n",
    "             for status in statuses\n",
    "                 for hashtag in status['entities']['hashtags'] ]\n",
    "\n",
    "# Compute a collection of all words from all tweets\n",
    "words = [ w \n",
    "          for t in status_texts \n",
    "              for w in t.split() ]\n",
    "\n",
    "# Explore the first 5 items for each...\n",
    "\n",
    "print json.dumps(status_texts[0:5], indent=1)\n",
    "print json.dumps(screen_names[0:5], indent=1) \n",
    "print json.dumps(hashtags[0:5], indent=1)\n",
    "print json.dumps(words[0:5], indent=1)"
   ]
  },
  {
   "cell_type": "code",
   "execution_count": 85,
   "metadata": {
    "collapsed": false
   },
   "outputs": [
    {
     "name": "stdout",
     "output_type": "stream",
     "text": [
      "[(u'@SlackerRadio', 451), (u'\\u266b', 446), (u'I', 351), (u'\\u2665', 305), (u'RT', 177), (u'station', 95), (u'Listening', 91), (u\"I'm\", 83), (u'The', 79), (u'just', 73), (u'video', 70), (u'like', 65), (u'@YouTube', 60), (u'This', 54), (u'people', 52), (u'Banned', 51), (u'-', 50), (u'liked', 47), (u'My', 42), (u'@TYLERR_DURDEN', 42), (u\"don't\", 42), (u'good', 41), (u'#pandora', 40), (u'Just', 36), (u'&amp;', 34), (u'...', 33), (u'\"I', 32), (u'time', 30), (u'know', 29), (u'You', 28), (u'A', 27), (u\"it's\", 27), (u'It', 27), (u'@Shannon_Penn', 26), (u'How', 25), (u'burned', 25), (u'day', 25), (u'want', 23), (u'love', 23), (u'Is', 23), (u'got', 22), (u'If', 22), (u'need', 21), (u'u', 21), (u'2', 20), (u'That', 20), (u'@linwoodc3', 20), (u'Brown', 20), (u'new', 20), (u'What', 20)]\n",
      "\n",
      "[(u'SlackerRadio', 453), (u'YouTube', 66), (u'TYLERR_DURDEN', 61), (u'Shannon_Penn', 37), (u'SiYue1', 28), (u'linwoodc3', 24), (u'ArrowheadPride', 23), (u'Codecademy', 23), (u'cnnbrk', 22), (u'prettyboy757', 22), (u'ms_simons', 21), (u'minunianda', 19), (u'damondnollan', 18), (u'WSJ', 14), (u'Breezy1point0', 14), (u'dhaynes47', 13), (u'AlanColmes', 11), (u'espn', 10), (u'SenJohnMcCain', 9), (u'nytimes', 9), (u'Tyrese', 9), (u'nprnews', 6), (u'Ms_Emory', 5), (u'BizStrategyGuy', 5), (u'Donny_Moore', 4), (u'glossandsticks', 4), (u'Dprincess82', 4), (u'Notebook', 4), (u'AJBlive', 3), (u'value_investing', 3), (u'BrooksBrothers', 3), (u'TheRealTank', 3), (u'McClain1906', 3), (u'ragGODFATHER', 3), (u'coursera', 3), (u'Forbes', 3), (u'PlutophobiaCure', 3), (u'Ginuwine', 3), (u'ThePhat1', 3), (u'chrisbrown', 2), (u'iamblessed58', 2), (u'Tapcallis06', 2), (u'davidgregory', 2), (u'PrestonPysh', 2), (u'Jim_Moran', 2), (u'iCharlesTweets', 2), (u'onvan25', 2), (u'ProFootballTalk', 2), (u'japindado', 2), (u'KickoffCoverage', 2)]\n",
      "\n",
      "[(u'pandora', 40), (u'iTunes', 17), (u'investing', 14), (u'NFL', 13), (u'cardiotrainer', 12), (u'Pandora', 7), (u'chiefskingdom', 6), (u'TheLonelyBarber', 6), (u'KCChiefs', 5), (u'casl', 5), (u'Chiefs', 5), (u'value', 4), (u'watchespn', 4), (u'help', 4), (u'backtowork', 4), (u'healthcarereform', 4), (u'Madden13', 4), (u'tweetwhatyoueat', 4), (u'AGPChurchAnnouncement', 4), (u'Eagles', 4), (u'dead', 4), (u'Ferguson', 3), (u'stock', 3), (u'Syria', 3), (u'lonelybarber', 3), (u'Karen', 3), (u'testimony', 3), (u'Obama', 3), (u'stockmarket', 3), (u'invest', 3), (u'GE', 2), (u'leaders', 2), (u'business', 2), (u'threekings', 2), (u'WeCantBeInARelationshipIf', 2), (u'work', 2), (u'birthday', 2), (u'mad', 2), (u'thatslife', 2), (u'valueinvestor', 2), (u'iftheshoefits', 2), (u'kcchiefs', 2), (u'TGT', 2), (u'guycodeviolation', 2), (u'AAPL', 2), (u'androidmod', 2), (u'Instagram', 2), (u'theLonelyBarber', 2), (u'dumb', 2), (u'Android', 2)]\n",
      "\n"
     ]
    }
   ],
   "source": [
    "from collections import Counter\n",
    "\n",
    "for item in [new_words, screen_names, hashtags]:\n",
    "    \n",
    "    c = Counter(item)\n",
    "    print c.most_common()[:50] # top 10\n",
    "    print"
   ]
  },
  {
   "cell_type": "code",
   "execution_count": 68,
   "metadata": {
    "collapsed": false
   },
   "outputs": [],
   "source": [
    "from sklearn.feature_extraction import stop_words"
   ]
  },
  {
   "cell_type": "code",
   "execution_count": 70,
   "metadata": {
    "collapsed": false
   },
   "outputs": [
    {
     "data": {
      "text/plain": [
       "(318, 27582)"
      ]
     },
     "execution_count": 70,
     "metadata": {},
     "output_type": "execute_result"
    }
   ],
   "source": [
    "len(stop_words.ENGLISH_STOP_WORDS),len(words)"
   ]
  },
  {
   "cell_type": "code",
   "execution_count": 83,
   "metadata": {
    "collapsed": false
   },
   "outputs": [
    {
     "name": "stdout",
     "output_type": "stream",
     "text": [
      "19523\n"
     ]
    }
   ],
   "source": [
    "new_words = []\n",
    "for l in words:\n",
    "    if l in stop_words.ENGLISH_STOP_WORDS:\n",
    "        pass\n",
    "    else:\n",
    "        new_words.append(l)\n",
    "print len(new_words)        "
   ]
  },
  {
   "cell_type": "code",
   "execution_count": null,
   "metadata": {
    "collapsed": false
   },
   "outputs": [],
   "source": [
    "sorted(list(stop_words.ENGLISH_STOP_WORDS))"
   ]
  },
  {
   "cell_type": "code",
   "execution_count": 90,
   "metadata": {
    "collapsed": false
   },
   "outputs": [
    {
     "name": "stdout",
     "output_type": "stream",
     "text": [
      "0.517748296881\n",
      "0.211348684211\n",
      "0.68031496063\n",
      "13.1908177905\n"
     ]
    }
   ],
   "source": [
    "\n",
    "# A function for computing lexical diversity\n",
    "def lexical_diversity(tokens):\n",
    "    return 1.0*len(set(tokens))/len(tokens) \n",
    "\n",
    "# A function for computing the average number of words per tweet\n",
    "def average_words(statuses):\n",
    "    total_words = sum([ len(s.split()) for s in statuses ]) \n",
    "    return 1.0*total_words/len(statuses)\n",
    "\n",
    "print lexical_diversity(new_words)\n",
    "print lexical_diversity(screen_names)\n",
    "print lexical_diversity(hashtags)\n",
    "print average_words(status_texts)"
   ]
  },
  {
   "cell_type": "code",
   "execution_count": 111,
   "metadata": {
    "collapsed": false
   },
   "outputs": [],
   "source": [
    "from pymongo import MongoClient"
   ]
  },
  {
   "cell_type": "code",
   "execution_count": 112,
   "metadata": {
    "collapsed": true
   },
   "outputs": [],
   "source": [
    "client = MongoClient()"
   ]
  },
  {
   "cell_type": "code",
   "execution_count": 113,
   "metadata": {
    "collapsed": false
   },
   "outputs": [],
   "source": [
    "db = client.test_database"
   ]
  },
  {
   "cell_type": "code",
   "execution_count": 114,
   "metadata": {
    "collapsed": true
   },
   "outputs": [],
   "source": [
    "collection = db.test_collection"
   ]
  },
  {
   "cell_type": "code",
   "execution_count": 115,
   "metadata": {
    "collapsed": false
   },
   "outputs": [
    {
     "data": {
      "text/plain": [
       "Collection(Database(MongoClient('localhost', 27017), u'test_database'), u'test_collection')"
      ]
     },
     "execution_count": 115,
     "metadata": {},
     "output_type": "execute_result"
    }
   ],
   "source": [
    "collection"
   ]
  },
  {
   "cell_type": "code",
   "execution_count": 116,
   "metadata": {
    "collapsed": true
   },
   "outputs": [],
   "source": [
    "import datetime\n",
    "post = {\"author\": \"Mike\",\n",
    "\"text\": \"My first blog post!\",\n",
    "\"tags\": [\"mongodb\", \"python\", \"pymongo\"],\n",
    "\"date\": datetime.datetime.utcnow()}"
   ]
  },
  {
   "cell_type": "code",
   "execution_count": 110,
   "metadata": {
    "collapsed": false
   },
   "outputs": [
    {
     "data": {
      "text/plain": [
       "{'_id': ObjectId('56ca96a28c827a842c23c01b'),\n",
       " 'author': 'Mike',\n",
       " 'date': datetime.datetime(2016, 2, 22, 5, 0, 42, 338938),\n",
       " 'tags': ['mongodb', 'python', 'pymongo'],\n",
       " 'text': 'My first blog post!'}"
      ]
     },
     "execution_count": 110,
     "metadata": {},
     "output_type": "execute_result"
    }
   ],
   "source": [
    "posts.insert_one(post)."
   ]
  },
  {
   "cell_type": "code",
   "execution_count": 118,
   "metadata": {
    "collapsed": false
   },
   "outputs": [
    {
     "data": {
      "text/plain": [
       "ObjectId('56ca98668c827a842c23c01c')"
      ]
     },
     "execution_count": 118,
     "metadata": {},
     "output_type": "execute_result"
    }
   ],
   "source": [
    "post_id = posts.insert_one(post).inserted_id\n",
    "post_id"
   ]
  },
  {
   "cell_type": "code",
   "execution_count": 119,
   "metadata": {
    "collapsed": false
   },
   "outputs": [
    {
     "data": {
      "text/plain": [
       "[u'posts']"
      ]
     },
     "execution_count": 119,
     "metadata": {},
     "output_type": "execute_result"
    }
   ],
   "source": [
    "db.collection_names(include_system_collections=False)"
   ]
  },
  {
   "cell_type": "code",
   "execution_count": 121,
   "metadata": {
    "collapsed": false
   },
   "outputs": [
    {
     "data": {
      "text/plain": [
       "{u'_id': ObjectId('56ca98668c827a842c23c01c'),\n",
       " u'author': u'Mike',\n",
       " u'date': datetime.datetime(2016, 2, 22, 5, 8, 38, 732000),\n",
       " u'tags': [u'mongodb', u'python', u'pymongo'],\n",
       " u'text': u'My first blog post!'}"
      ]
     },
     "execution_count": 121,
     "metadata": {},
     "output_type": "execute_result"
    }
   ],
   "source": [
    "posts.find_one({\"author\":\"Mike\"})"
   ]
  },
  {
   "cell_type": "code",
   "execution_count": 122,
   "metadata": {
    "collapsed": true
   },
   "outputs": [],
   "source": [
    "new_posts = [{\"author\": \"Mike\",\n",
    "...               \"text\": \"Another post!\",\n",
    "...               \"tags\": [\"bulk\", \"insert\"],\n",
    "...               \"date\": datetime.datetime(2009, 11, 12, 11, 14)},\n",
    "...              {\"author\": \"Eliot\",\n",
    "...               \"title\": \"MongoDB is fun\",\n",
    "...               \"text\": \"and pretty easy too!\",\n",
    "...               \"date\": datetime.datetime(2009, 11, 10, 10, 45)}]"
   ]
  },
  {
   "cell_type": "code",
   "execution_count": 123,
   "metadata": {
    "collapsed": true
   },
   "outputs": [],
   "source": [
    "result = posts.insert_many(new_posts)\n",
    "import re"
   ]
  },
  {
   "cell_type": "code",
   "execution_count": 147,
   "metadata": {
    "collapsed": false
   },
   "outputs": [
    {
     "name": "stdout",
     "output_type": "stream",
     "text": [
      "{u'date': datetime.datetime(2016, 2, 22, 5, 8, 38, 732000), u'text': u'My first blog post!', u'_id': ObjectId('56ca98668c827a842c23c01c'), u'author': u'Mike', u'tags': [u'mongodb', u'python', u'pymongo']}\n"
     ]
    }
   ],
   "source": [
    "for post in posts.find({\"text\":{'$regex':'(first)'}}):\n",
    "    print post"
   ]
  },
  {
   "cell_type": "code",
   "execution_count": 134,
   "metadata": {
    "collapsed": false
   },
   "outputs": [
    {
     "data": {
      "text/plain": [
       "{u'_id': ObjectId('56ca98668c827a842c23c01c'),\n",
       " u'author': u'Mike',\n",
       " u'date': datetime.datetime(2016, 2, 22, 5, 8, 38, 732000),\n",
       " u'tags': [u'mongodb', u'python', u'pymongo'],\n",
       " u'text': u'My first blog post!'}"
      ]
     },
     "execution_count": 134,
     "metadata": {},
     "output_type": "execute_result"
    }
   ],
   "source": [
    "posts.find({'author':\"Mike\"})"
   ]
  },
  {
   "cell_type": "code",
   "execution_count": 131,
   "metadata": {
    "collapsed": false
   },
   "outputs": [
    {
     "data": {
      "text/plain": [
       "3"
      ]
     },
     "execution_count": 131,
     "metadata": {},
     "output_type": "execute_result"
    }
   ],
   "source": [
    "posts.count()"
   ]
  },
  {
   "cell_type": "code",
   "execution_count": null,
   "metadata": {
    "collapsed": true
   },
   "outputs": [],
   "source": []
  }
 ],
 "metadata": {
  "kernelspec": {
   "display_name": "Python (twitterAnalysis)",
   "language": "python",
   "name": "twittranalysis"
  },
  "language_info": {
   "codemirror_mode": {
    "name": "ipython",
    "version": 3
   },
   "file_extension": ".py",
   "mimetype": "text/x-python",
   "name": "python",
   "nbconvert_exporter": "python",
   "pygments_lexer": "ipython3",
   "version": "3.5.1"
  }
 },
 "nbformat": 4,
 "nbformat_minor": 0
}
