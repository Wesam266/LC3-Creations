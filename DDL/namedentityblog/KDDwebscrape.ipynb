{
 "cells": [
  {
   "cell_type": "markdown",
   "metadata": {},
   "source": [
    "# Code to scrape abstracts, authors, and titles from ACM Digital Library"
   ]
  },
  {
   "cell_type": "code",
   "execution_count": 2,
   "metadata": {
    "collapsed": false
   },
   "outputs": [],
   "source": [
    "from bs4 import BeautifulSoup\n",
    "import requests\n",
    "import re\n",
    "import unicodedata\n",
    "import string\n",
    "\n",
    "url = \"http://dl.acm.org/citation.cfm?id=2783258&preflayout=flat\"\n",
    "\n",
    "r  = requests.get(url)\n",
    "\n",
    "data = r.text\n",
    "\n",
    "soup = BeautifulSoup(data)"
   ]
  },
  {
   "cell_type": "code",
   "execution_count": 3,
   "metadata": {
    "collapsed": false
   },
   "outputs": [],
   "source": [
    "#print(soup.prettify()); # remove colon to see the format of the html we are parsing"
   ]
  },
  {
   "cell_type": "code",
   "execution_count": 4,
   "metadata": {
    "collapsed": false
   },
   "outputs": [],
   "source": [
    "# builds a list of journal and keynote speaker abstracts; remove the colon below to see the list output\n",
    "\n",
    "abstracts=[]\n",
    "for l in soup.find_all('p'):\n",
    "    abstracts.append(filter(lambda x: x in string.printable,unicodedata.normalize('NFKD', l.get_text()).encode('ascii','ignore').decode('unicode_escape').encode('ascii','ignore'))) \n",
    "abstracts;"
   ]
  },
  {
   "cell_type": "code",
   "execution_count": 7,
   "metadata": {
    "collapsed": false
   },
   "outputs": [],
   "source": [
    "# similar to code above, builds a list of all authors and speakers\n",
    "authors=[]\n",
    "for l in soup.find_all('a', href=re.compile('author_page.cfm')):\n",
    "    authors.append(filter(lambda x: x in string.printable,unicodedata.normalize('NFKD', l.get_text()).encode('ascii','ignore').decode('unicode_escape').encode('ascii','ignore'))) \n",
    "\n",
    "authors = [x for x in authors if x != \"View colleagues\"] # removes leftover value\n",
    "#set(authors)\n",
    "authors; # remove the colon to see the output\n"
   ]
  },
  {
   "cell_type": "code",
   "execution_count": 8,
   "metadata": {
    "collapsed": false,
    "scrolled": false
   },
   "outputs": [],
   "source": [
    "# similar to code above, builds a list of titles\n",
    "titles = []\n",
    "for l in soup.find_all('a', href=re.compile('citation.cfm')):\n",
    "    titles.append(filter(lambda x: x in string.printable,unicodedata.normalize('NFKD', l.get_text()).encode('ascii','ignore').decode('unicode_escape').encode('ascii','ignore')))     \n",
    "titles; # remove colon to see list output"
   ]
  }
 ],
 "metadata": {
  "kernelspec": {
   "display_name": "Python 2",
   "language": "python",
   "name": "python2"
  },
  "language_info": {
   "codemirror_mode": {
    "name": "ipython",
    "version": 2
   },
   "file_extension": ".py",
   "mimetype": "text/x-python",
   "name": "python",
   "nbconvert_exporter": "python",
   "pygments_lexer": "ipython2",
   "version": "2.7.11"
  }
 },
 "nbformat": 4,
 "nbformat_minor": 0
}
