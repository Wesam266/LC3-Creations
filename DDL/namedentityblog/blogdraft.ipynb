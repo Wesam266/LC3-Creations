{
 "cells": [
  {
   "cell_type": "markdown",
   "metadata": {},
   "source": []
  },
  {
   "cell_type": "markdown",
   "metadata": {},
   "source": [
    "# A Quick Survey and Comparison of Open Source Named Entity Extractor Tools for Python"
   ]
  },
  {
   "cell_type": "markdown",
   "metadata": {},
   "source": [
    "Named entity extraction is a core subtask of building knowledge from semi/unstructured text sources<sup><a href=\"#fn1\" id=\"ref1\">1</a></sup>.  Considering recent increases in computing power and decreases in the costs of data storage, data scientists and developers can build large knowledge bases that contain millions of entities and hundreds of millions of facts about them.  These knowledge bases are key contributors to intelligence computer behavior. Therefore, named entity extraction is at the core of several popular technologies such as smart assistants ([Siri](http://www.apple.com/ios/siri/), [Google Now](https://www.google.com/landing/now/)), machine reading, and deep interpretation of natural language.\n",
    "\n",
    "With a realization of how essential it is to recognize information units like names, including person, organization and location names, and numeric expressions including time, date, money\n",
    "and percent expressions, several questions come to mind.  How do you perform named entity extraction, which is formally called “[Named Entity Recognition and Classification (NERC)](https://benjamins.com/catalog/bct.19)”?  What tools are out there?  How can you evaluate their performance?  And most important, what works with Python (shamelessly exposing my bias)?  \n",
    "\n",
    "This post will survey openly available NERC tools and compare the results against hand labeled data for precision, accuracy, and recall.  The tools and basic information extraction principles in this discussion begin the process of structuring unstructured data.\n",
    "\n",
    "We will specifically learn to:\n",
    "1. follow the data science pipeline (see image below)\n",
    "2. prepare semistructured natural language data for ingest using regex\n",
    "3. create a custom corpus in [Natural Language Toolkit](http://www.nltk.org/) \n",
    "4. use a suite of openly available NERC tools to extract entities and store in json format \n",
    "5. compare the performance of NERC tools on our corpus\n",
    "\n",
    "<br>\n",
    "<a href=\"#pipe\" id=\"pipeline\"><center><h3>The Data Science Pipeline:<br>Georgetown Data Science Certificate Program</h3></center></a>\n",
    "<div class=\"image\">\n",
    "\n",
    "      <img src=\"./files/data_science_pipeline.png\" alt=\"Data Science Pipeline\" height=\"300\" width=\"450\" top:\"35\" left:\"170\" />\n",
    "      \n",
    "      \n",
    "\n",
    "</div>\n",
    "\n"
   ]
  },
  {
   "cell_type": "markdown",
   "metadata": {},
   "source": [
    "### The Data: Peer Reviewed Journals and Keynote Speaker Abstracts from KDD 2015\n",
    "\n",
    "Before delving into the pipeline, we need a good dataset.  Jason Brownlee of www.machinelearningmastery.com had some good suggestions in his [August 2015 article](http://machinelearningmastery.com/practice-machine-learning-with-small-in-memory-datasets-from-the-uci-machine-learning-repository/) on picking a dataset for machine learning exercises:  \n",
    "\n",
    "* **Real-World**: The datasets should be drawn from the real world (rather than being contrived). This will keep them interesting and introduce the challenges that come with real data.\n",
    "\n",
    "* **Small**: The datasets need to be small so that you can inspect and understand them and that you can run many models quickly to accelerate your learning cycle.\n",
    "\n",
    "* **Well-Understood**: There should be a clear idea of what the data contains, why it was collected, what the problem is that needs to be solved so that you can frame your investigation.\n",
    "\n",
    "* **Baseline**: It is also important to have an idea of what algorithms are known to perform well and the scores they achieved so that you have a useful point of comparison. This is important when you are getting started and learning because you need quick feedback as to how well you are performing (close to state-of-the-art or something is broken).\n",
    "\n",
    "* **Plentiful**: You need many datasets to choose from, both to satisfy the traits you would like to investigate and (if possible) your natural curiosity and interests. \n",
    "\n",
    "Luckily, we have a dataset that meets nearly all of these requirements.  In August 2015, I attended the [Knowledge Discovery and Data Mining (KDD) conference in Sydney, Australia](http://www.kdd.org/kdd2015/).  KDD 2015 attendees received a USB with the conference proceedings.  The repository contains around 250 peer reviewed journal articles and keynote speaker abstracts on data mining, knowledge discovery, big data, data science and their applications. The full conference proceedings can be purchased for \\$60 at the [Association for Computing Machinery's Digital Library](https://dl.acm.org/purchase.cfm?id=2783258&CFID=740512201&CFTOKEN=34489585) (includes ACM membership). This post will work with a dataset that is equivalent to the conference proceedings.  It's important to note that this dataset recreates a real word data science exercise that is instructive of big data problems.  We will take semi-structured data (PDF journal articles and abstracts in publication format), strip text from the files, and add more structure to the data that would facilitate follow on analysis. \n",
    "\n",
    "<blockquote cite=\"https://github.com/linwoodc3/LC3-Creations/blob/master/DDL/namedentityblog/KDDwebscrape.ipynb\">\n",
    "Interested parties looking for a free option can use the <a href=\"https://pypi.python.org/pypi/beautifulsoup4/4.4.1\">beautifulsoup</a> and <a href=\"https://pypi.python.org/pypi/requests/2.9.1\">request</a> libraries to scrape the <a href=\"http://dl.acm.org/citation.cfm?id=2785464&CFID=740512201&CFTOKEN=3448958\">ACM website for KDD 2015 conference data</a> that can be used in natural language processing pipelines.  I have some <a href=\"https://github.com/linwoodc3/LC3-Creations/blob/master/DDL/namedentityblog/KDDwebscrape.ipynb\">skeleton web scraping code</a> to generate lists of all abstracts, author names, and journal/keynote address titles.    \n",
    "</blockquote>\n"
   ]
  },
  {
   "cell_type": "markdown",
   "metadata": {},
   "source": [
    "### Data Exploration: Getting the number of files, file type, and word count"
   ]
  },
  {
   "cell_type": "markdown",
   "metadata": {},
   "source": [
    "The data is stored locally in the following directory:\n",
    "```python\n",
    ">>> import os\n",
    ">>> print os.getcwd()\n",
    "/Users/linwood/Desktop/KDD_15/docs\n",
    "```\n",
    "Let's explore the number of files we have and naming conventions. We begin with the administrative tasks of loading modules, establishing paths, etc.  "
   ]
  },
  {
   "cell_type": "code",
   "execution_count": 5,
   "metadata": {
    "collapsed": false
   },
   "outputs": [],
   "source": [
    "#**********************************************************************\n",
    "# Importing what we need\n",
    "#**********************************************************************\n",
    "import os\n",
    "import time\n",
    "from os import walk\n",
    "\n",
    "#**********************************************************************\n",
    "# Administrative code to set the path for file loading\n",
    "#**********************************************************************\n",
    "\n",
    "path        = os.path.abspath(os.getcwd())\n",
    "TESTDIR     = os.path.normpath(os.path.join(os.path.expanduser(\"~\"),\"Desktop\",\"KDD_15\",\"docs\"))\n",
    "\n"
   ]
  },
  {
   "cell_type": "markdown",
   "metadata": {},
   "source": [
    "Next we iterate over the files in the directory and store those names in the empty list we created called *files*.  We time the operation, print list with the file names and also print out the length of the list (gives number of target files)."
   ]
  },
  {
   "cell_type": "code",
   "execution_count": 3,
   "metadata": {
    "collapsed": false
   },
   "outputs": [
    {
     "name": "stdout",
     "output_type": "stream",
     "text": [
      "CPU times: user 4 µs, sys: 1 µs, total: 5 µs\n",
      "Wall time: 8.82 µs\n",
      "\n",
      "253\n",
      "\n",
      "[p1.pdf, p1005.pdf, p1015.pdf, p1025.pdf, p1035.pdf, p1045.pdf, p1055.pdf, p1065.pdf, p1075.pdf, p1085.pdf, p109.pdf, p1095.pdf, p1105.pdf, p1115.pdf, p1125.pdf, p1135.pdf, p1145.pdf, p1155.pdf, p1165.pdf, p1175.pdf, p1185.pdf, p119.pdf, p1195.pdf, p1205.pdf, p1215.pdf, p1225.pdf, p1235.pdf, p1245.pdf, p1255.pdf, p1265.pdf, p1275.pdf, p1285.pdf, p129.pdf, p1295.pdf, p1305.pdf, p1315.pdf, p1325.pdf, p1335.pdf, p1345.pdf, p1355.pdf, p1365.pdf, p1375.pdf, p1385.pdf, p139.pdf, p1395.pdf, p1405.pdf, p1415.pdf, p1425.pdf, p1435.pdf, p1445.pdf, p1455.pdf, p1465.pdf, p1475.pdf, p1485.pdf, p149.pdf, p1495.pdf, p1503.pdf, p1513.pdf, p1523.pdf, p1533.pdf, p1543.pdf, p1553.pdf, p1563.pdf, p1573.pdf, p1583.pdf, p159.pdf, p1593.pdf, p1603.pdf, p1621.pdf, p1623.pdf, p1625.pdf, p1627.pdf, p1629.pdf, p1631.pdf, p1633.pdf, p1635.pdf, p1637.pdf, p1639.pdf, p1641.pdf, p1651.pdf, p1661.pdf, p1671.pdf, p1681.pdf, p169.pdf, p1691.pdf, p1701.pdf, p1711.pdf, p1721.pdf, p1731.pdf, p1741.pdf, p1751.pdf, p1759.pdf, p1769.pdf, p1779.pdf, p1789.pdf, p179.pdf, p1799.pdf, p1809.pdf, p1819.pdf, p1829.pdf, p1839.pdf, p1849.pdf, p1859.pdf, p1869.pdf, p1879.pdf, p1889.pdf, p189.pdf, p1899.pdf, p19.pdf, p1909.pdf, p1919.pdf, p1929.pdf, p1939.pdf, p1949.pdf, p1959.pdf, p1969.pdf, p1979.pdf, p1989.pdf, p199.pdf, p1999.pdf, p2009.pdf, p2019.pdf, p2029.pdf, p2039.pdf, p2049.pdf, p2059.pdf, p2069.pdf, p2079.pdf, p2089.pdf, p209.pdf, p2099.pdf, p2109.pdf, p2119.pdf, p2127.pdf, p2137.pdf, p2147.pdf, p2157.pdf, p2167.pdf, p2177.pdf, p2187.pdf, p219.pdf, p2197.pdf, p2207.pdf, p2217.pdf, p2227.pdf, p2237.pdf, p2247.pdf, p2257.pdf, p2267.pdf, p2277.pdf, p2287.pdf, p229.pdf, p2297.pdf, p2307.pdf, p2309.pdf, p2311.pdf, p2313.pdf, p2315.pdf, p2317.pdf, p2319.pdf, p2321.pdf, p2323.pdf, p2325.pdf, p2327.pdf, p2329.pdf, p239.pdf, p249.pdf, p259.pdf, p269.pdf, p279.pdf, p289.pdf, p29.pdf, p299.pdf, p3.pdf, p309.pdf, p319.pdf, p329.pdf, p339.pdf, p349.pdf, p359.pdf, p369.pdf, p379.pdf, p387.pdf, p39.pdf, p397.pdf, p407.pdf, p417.pdf, p427.pdf, p437.pdf, p447.pdf, p457.pdf, p467.pdf, p477.pdf, p487.pdf, p49.pdf, p497.pdf, p5.pdf, p507.pdf, p517.pdf, p527.pdf, p537.pdf, p547.pdf, p557.pdf, p567.pdf, p577.pdf, p587.pdf, p59.pdf, p597.pdf, p607.pdf, p617.pdf, p627.pdf, p635.pdf, p645.pdf, p655.pdf, p665.pdf, p675.pdf, p685.pdf, p69.pdf, p695.pdf, p7.pdf, p705.pdf, p715.pdf, p725.pdf, p735.pdf, p745.pdf, p755.pdf, p765.pdf, p775.pdf, p785.pdf, p79.pdf, p805.pdf, p815.pdf, p825.pdf, p835.pdf, p845.pdf, p855.pdf, p865.pdf, p875.pdf, p885.pdf, p89.pdf, p895.pdf, p9.pdf, p905.pdf, p915.pdf, p925.pdf, p935.pdf, p945.pdf, p955.pdf, p965.pdf, p975.pdf, p985.pdf, p99.pdf, p995.pdf]\n"
     ]
    }
   ],
   "source": [
    "# Establish an empty list to append filenames as we iterate over the directory with filenames\n",
    "files = []\n",
    "\n",
    "%time\n",
    "start_time = time.time()\n",
    "\n",
    "#**********************************************************************\n",
    "# Core \"workerbee\" code for this section to iterate over directory files\n",
    "#**********************************************************************\n",
    "\n",
    "# Iterate over the directory of filenames and add to list.  Inspection shows our target filenames begin with 'p' and end with 'pdf'\n",
    "for dirName, subdirList, fileList in os.walk(TESTDIR):\n",
    "    for fileName in fileList:\n",
    "        if fileName.startswith('p') and fileName.endswith('.pdf'):\n",
    "            files.append(fileName)\n",
    "end_time = time.time()\n",
    "\n",
    "#**********************************************************************\n",
    "# Output\n",
    "#**********************************************************************\n",
    "print\n",
    "print len(files) # Print the number of files\n",
    "print \n",
    "print '[%s]' % ', '.join(map(str, files)) # print the list of filenames"
   ]
  },
  {
   "cell_type": "markdown",
   "metadata": {},
   "source": [
    "There are 253 total files in the directory. We examine the pdf file in its rawest form to get an idea of the format. Here is one example:"
   ]
  },
  {
   "cell_type": "markdown",
   "metadata": {},
   "source": [
    "\n",
    "\n",
    "<img src=\"./files/journalscreencap.png\" alt=\"Sample of Journal Format\" height=\"700\" width=\"700\" top:\"35\" left:\"170\">\n"
   ]
  },
  {
   "cell_type": "markdown",
   "metadata": {
    "collapsed": true
   },
   "source": [
    "We learn a few things immediately. Our data is in PDF format and it's semistructured (follows journal article format with sections like \"abstract\", \"title\").  PDFs are a wonderful human readable presentation of data. But for data analyisis, they are extremely difficult to work with.  If you have an option to get the data BEFORE it was converted to or added to PDF, go for that option.  Save yourself the headache.  In this case however, we have no alternatives outside of the web scraping code linked above.  The web scraping code is imperfect because it is incomplete (only get abstracts and not full-text of journal ariticle) and unordered (multiple authors need to be aligned to specific articles)."
   ]
  },
  {
   "cell_type": "markdown",
   "metadata": {},
   "source": [
    "### Data Ingestion: Stripping text from PDFs and creating a custom NLTK corpus\n",
    "\n",
    "The first step in <href id=\"pipe\"><a href=\"#pipeline\" title=\"Jump back to data science pipeline graphic.\">the data science pipeline</a> is to ingest our data.  We will use several Python tools which include:\n",
    "\n",
    "* [pdfminer](https://pypi.python.org/pypi/pdfminer/) - this is the tool that makes it ALL happen.  It has a command line tool called \"pdf2text.py\" that extract text contents from a PDF. **This must be installed on your computer BEFORE executing this code**.  Visit the [pdfminer homepage](http://euske.github.io/pdfminer/index.html#pdf2txt) for instructions\n",
    "\n",
    "* [subprocess](https://docs.python.org/2/library/subprocess.html) - a standard library module that allows you to spawn new processes, connect to their input/output/error pipes, and obtain their return codes.  In this excerise, we use it to invoke the pdf2texy.py command line tool within our code.  \n",
    "\n",
    "* [nltk](http://www.nltk.org/) - another work horse in this exercise.  The Natural Language ToolKit (NLTK) is one of Python's leading platforms to analyze natural language data.  The [NLTK Book](http://www.nltk.org/book/) provides practical guidance on how to handle just about any natural language preprocessing job.  \n",
    "\n",
    "* [string](https://docs.python.org/2/library/string.html) - used for variable substitutions and value formatting to strip non printable characters from the output of the text extracted from our journal article PDFs\n",
    "\n",
    "* [unicodedata](https://docs.python.org/2/library/unicodedata.html) - some unicode characters won't extract nicely. This library allows latin unicode characters to degrade gracefully into ASCII.\n",
    "\n",
    "We are now going to iterate over each file in our raw data directory, strip the text, and write the *.txt* file to newly created directory.  Then we will follow the instructions from [Section 1.9, Chapter 2 of NLTK's Book](http://www.nltk.org/book/ch02.html) to build a custom corpus from our text files.  Having our target documents loaded as an NLTK corpus brings the power of NLTK to our analysis goals.  Let's begin with administrative tasks such as loading modules and creating the necessary directories."
   ]
  },
  {
   "cell_type": "code",
   "execution_count": 27,
   "metadata": {
    "collapsed": false
   },
   "outputs": [],
   "source": [
    "#**********************************************************************\n",
    "# Importing what we need\n",
    "#**********************************************************************\n",
    "import string\n",
    "import unicodedata\n",
    "import subprocess\n",
    "import nltk\n",
    "import os, os.path\n",
    "import re\n",
    "\n",
    "#**********************************************************************\n",
    "# Create the directory we will write the .txt files to after stripping text\n",
    "#**********************************************************************\n",
    "\n",
    "corpuspath = os.path.normpath(os.path.expanduser('~/Desktop/KDD_corpus/'))\n",
    "if not os.path.exists(corpuspath):\n",
    "    os.mkdir(corpuspath)"
   ]
  },
  {
   "cell_type": "markdown",
   "metadata": {},
   "source": [
    "Now we are to the big task of stripping text from the PDFs.  In the code below, we walk down the directory, and strip text from the files with names that begin with 'p' and end with 'pdf'.  We use a regular expression to strip the title from the text, using that to name our file written to the corpus directory.  This will come in handy when we load data into NLTK.  Keep in mind, this task takes the longest, so be prepared to wait a a few minutes depending on good your computer is.  If you are doing this in an environment where you can spin up compute resources, your time will be drastically reduced.  Let's begin."
   ]
  },
  {
   "cell_type": "code",
   "execution_count": null,
   "metadata": {
    "collapsed": false
   },
   "outputs": [],
   "source": [
    "#**********************************************************************\n",
    "# Core code to iterate over files in the directory\n",
    "#**********************************************************************\n",
    "\n",
    "# We start from the code to iterate over the files\n",
    "%timeit\n",
    "for dirName, subdirList, fileList in os.walk(TESTDIR):\n",
    "    for fileName in fileList:\n",
    "        if fileName.startswith('p') and fileName.endswith('.pdf'):\n",
    "            \n",
    "            \n",
    "#**********************************************************************\n",
    "# This code strips the text from the PDFs\n",
    "#**********************************************************************\n",
    "            try:\n",
    "                document = filter(lambda x: x in string.printable,unicodedata.normalize('NFKD', (unicode(subprocess.check_output(['pdf2txt.py',str(os.path.normpath(os.path.join(TESTDIR,fileName)))]),errors='ignore'))).encode('ascii','ignore').decode('unicode_escape').encode('ascii','ignore'))\n",
    "            except UnicodeDecodeError:\n",
    "                document = unicodedata.normalize('NFKD', unicode(subprocess.check_output(['pdf2txt.py',str(os.path.normpath(os.path.join(TESTDIR,fileName)))]),errors='ignore')).encode('ascii','ignore')    \n",
    "                \n",
    "            if len(document)<300:\n",
    "                pass\n",
    "            else:\n",
    "                p=re.compile('(.+)(\\\\n\\\\n)')\n",
    "                if not os.path.exists(os.path.normpath(os.path.join(corpuspath,p.search(document).group(1)+\".txt\"))):\n",
    "                    file = open(os.path.normpath(os.path.join(corpuspath,p.search(document).group(1)+\".txt\")), 'w+')\n",
    "                    file.write(document)\n",
    "                else:\n",
    "                    pass\n",
    "\n",
    "kddcorpus= nltk.corpus.PlaintextCorpusReader(corpuspath, '.*\\.txt')"
   ]
  },
  {
   "cell_type": "markdown",
   "metadata": {},
   "source": [
    "### References"
   ]
  },
  {
   "cell_type": "markdown",
   "metadata": {},
   "source": [
    "<sup id=\"fn1\">1. [(2014). Text Mining and its Business Applications - CodeProject. Retrieved December 26, 2015, from http://www.codeproject.com/Articles/822379/Text-Mining-and-its-Business-Applications.]<a href=\"#ref1\" title=\"Jump back to footnote 1 in the text.\">↩</a></sup>"
   ]
  },
  {
   "cell_type": "markdown",
   "metadata": {},
   "source": [
    "### Parking Lot of links, leftover paragraphs, ideas, etc.\n",
    "\n",
    "Describe the data -> Data available here http://dl.acm.org/citation.cfm?id=2783258# "
   ]
  },
  {
   "cell_type": "code",
   "execution_count": 41,
   "metadata": {
    "collapsed": false
   },
   "outputs": [],
   "source": [
    "p=re.compile('(.+)(\\\\n\\\\n)')\n",
    "if not os.path.exists(os.path.normpath(os.path.join(corpuspath,re.sub('[/s]',\"\",p.search(document).group(1)+\"/\"+\".txt\")))):\n",
    "    file = open(os.path.normpath(os.path.join(corpuspath,re.sub('[/s]',\"\",p.search(document).group(1)+\"/\"+\".txt\"))), 'w+')\n",
    "    file.write(document)\n",
    "else:\n",
    "    pass"
   ]
  },
  {
   "cell_type": "code",
   "execution_count": 52,
   "metadata": {
    "collapsed": false
   },
   "outputs": [
    {
     "data": {
      "text/plain": [
       "'Matrix Completion with Queries/.txt'"
      ]
     },
     "execution_count": 52,
     "metadata": {},
     "output_type": "execute_result"
    }
   ],
   "source": [
    "p=re.compile('(.+)(\\\\n\\\\n)')\n",
    "p.search(document).group(1)\n",
    "re.sub('[\\s]',\"\",p.search(document).group(1)+\"/\"+\".txt\")\n",
    "re.sub(r'[\\/]',\"\",p.search(document).group(1)+\"/\"+\".txt\")\n",
    "p.search(document).group(1)+\"/\"+\".txt\""
   ]
  },
  {
   "cell_type": "code",
   "execution_count": 25,
   "metadata": {
    "collapsed": false
   },
   "outputs": [
    {
     "data": {
      "text/plain": [
       "['p1.txt',\n",
       " 'p1005.txt',\n",
       " 'p1015.txt',\n",
       " 'p1025.txt',\n",
       " 'p1035.txt',\n",
       " 'p1045.txt',\n",
       " 'p1055.txt',\n",
       " 'p1065.txt',\n",
       " 'p1075.txt',\n",
       " 'p1085.txt',\n",
       " 'p109.txt',\n",
       " 'p1095.txt',\n",
       " 'p1105.txt']"
      ]
     },
     "execution_count": 25,
     "metadata": {},
     "output_type": "execute_result"
    }
   ],
   "source": [
    "nltk.corpus.PlaintextCorpusReader\n",
    "kddcorpus= nltk.corpus.PlaintextCorpusReader(corpuspath, '.*\\.txt')\n",
    "kddcorpus.fileids()"
   ]
  },
  {
   "cell_type": "markdown",
   "metadata": {},
   "source": [
    "<href id=\"pipe\"><a href=\"#pipeline\" title=\"Jump back to data science pipeline graphic.\">the data science pipeline</a>"
   ]
  },
  {
   "cell_type": "code",
   "execution_count": 65,
   "metadata": {
    "collapsed": false
   },
   "outputs": [
    {
     "data": {
      "text/plain": [
       "12572671"
      ]
     },
     "execution_count": 65,
     "metadata": {},
     "output_type": "execute_result"
    }
   ],
   "source": [
    "total = 0\n",
    "for l in character:\n",
    "    total += l\n",
    "total"
   ]
  },
  {
   "cell_type": "code",
   "execution_count": null,
   "metadata": {
    "collapsed": false
   },
   "outputs": [],
   "source": []
  },
  {
   "cell_type": "code",
   "execution_count": 106,
   "metadata": {
    "collapsed": false
   },
   "outputs": [],
   "source": [
    "import os, os.path\n",
    "corpuspath = os.path.normpath(os.path.expanduser('~/Desktop/KDD_corpus/'))\n",
    "if not os.path.exists(corpuspath):\n",
    "    os.mkdir(corpuspath)"
   ]
  },
  {
   "cell_type": "code",
   "execution_count": 1,
   "metadata": {
    "collapsed": false
   },
   "outputs": [
    {
     "ename": "NameError",
     "evalue": "name 'document' is not defined",
     "output_type": "error",
     "traceback": [
      "\u001b[0;31m---------------------------------------------------------------------------\u001b[0m",
      "\u001b[0;31mNameError\u001b[0m                                 Traceback (most recent call last)",
      "\u001b[0;32m<ipython-input-1-d0cf7951f1a3>\u001b[0m in \u001b[0;36m<module>\u001b[0;34m()\u001b[0m\n\u001b[1;32m      2\u001b[0m \u001b[0;34m\u001b[0m\u001b[0m\n\u001b[1;32m      3\u001b[0m \u001b[0;32mimport\u001b[0m \u001b[0mnltk\u001b[0m\u001b[0;34m\u001b[0m\u001b[0m\n\u001b[0;32m----> 4\u001b[0;31m \u001b[0mtext\u001b[0m \u001b[0;34m=\u001b[0m \u001b[0mnltk\u001b[0m\u001b[0;34m.\u001b[0m\u001b[0mText\u001b[0m\u001b[0;34m(\u001b[0m\u001b[0mnltk\u001b[0m\u001b[0;34m.\u001b[0m\u001b[0mword_tokenize\u001b[0m\u001b[0;34m(\u001b[0m\u001b[0mdocument\u001b[0m\u001b[0;34m)\u001b[0m\u001b[0;34m)\u001b[0m\u001b[0;34m\u001b[0m\u001b[0m\n\u001b[0m\u001b[1;32m      5\u001b[0m \u001b[0mfdist1\u001b[0m \u001b[0;34m=\u001b[0m \u001b[0mFreqDist\u001b[0m\u001b[0;34m(\u001b[0m\u001b[0mtext\u001b[0m\u001b[0;34m)\u001b[0m\u001b[0;34m\u001b[0m\u001b[0m\n\u001b[1;32m      6\u001b[0m \u001b[0mfdist1\u001b[0m\u001b[0;34m.\u001b[0m\u001b[0mmost_common\u001b[0m\u001b[0;34m(\u001b[0m\u001b[0;36m50\u001b[0m\u001b[0;34m)\u001b[0m\u001b[0;34m\u001b[0m\u001b[0m\n",
      "\u001b[0;31mNameError\u001b[0m: name 'document' is not defined"
     ]
    }
   ],
   "source": [
    "# practice to load document into NLTK\n",
    "\n",
    "import nltk\n",
    "text = nltk.Text(nltk.word_tokenize(document))\n",
    "fdist1 = FreqDist(text)\n",
    "fdist1.most_common(50)"
   ]
  },
  {
   "cell_type": "markdown",
   "metadata": {},
   "source": [
    "## Ben's Outline from email"
   ]
  },
  {
   "cell_type": "markdown",
   "metadata": {},
   "source": [
    "* ~~Give a brief introduction to the task, and why it's interesting, important. Then begin to discuss the data set, how you acquired, and where a reader can get access to it.~~ \n",
    "\n",
    "* You then could have a data exploration section where you show the number of documents, perform a word count, show snippets of data (e.g. references) etc that are of interest. \n",
    "\n",
    "* You can then go through one or a few of your \"code to get\" sections. These functions all follow basically the same pattern, so you could probably merge them into a single function, that appropriately selects the right regular expression. \n",
    "\n",
    "* The next step is to discuss, demonstrate your \"truth tests\" for text extraction accuracy. \n",
    "\n",
    "* Finally, you can get to an introduction of your three methods for NERC, and show how do do each of them. Then compare (visually) the results of the three according to the evaluation mechanism discussed above. \n",
    "\n",
    "* You could then conclude with a discussion about NLTK chunk vs. hand labelled entities. "
   ]
  },
  {
   "cell_type": "code",
   "execution_count": 74,
   "metadata": {
    "collapsed": true
   },
   "outputs": [],
   "source": [
    "import os\n",
    "\n",
    "def list_files(startpath):\n",
    "    for root, dirs, files in os.walk(startpath):\n",
    "        level = root.replace(startpath, '').count(os.sep)\n",
    "        indent = ' ' * 4 * (level)\n",
    "        print('{}{}/'.format(indent, os.path.basename(root)))\n",
    "        subindent = ' ' * 4 * (level + 1)\n",
    "        for f in files:\n",
    "            print('{}{}'.format(subindent, f))"
   ]
  },
  {
   "cell_type": "code",
   "execution_count": 84,
   "metadata": {
    "collapsed": false
   },
   "outputs": [],
   "source": [
    "\n",
    "tree = os.path.normpath(os.path.join(os.path.expanduser(\"~\"),\"Desktop\",\"KDD_15\"))"
   ]
  },
  {
   "cell_type": "code",
   "execution_count": 86,
   "metadata": {
    "collapsed": false
   },
   "outputs": [
    {
     "name": "stdout",
     "output_type": "stream",
     "text": [
      "KDD_15/\n",
      "    .DS_Store\n",
      "    ReadMe.txt\n",
      "    starthere.htm\n",
      "    docs/\n",
      "        organization.pdf\n",
      "        p1.pdf\n",
      "        p1005.pdf\n",
      "        p1015.pdf\n",
      "        p1025.pdf\n",
      "        p1035.pdf\n",
      "        p1045.pdf\n",
      "        p1055.pdf\n",
      "        p1065.pdf\n",
      "        p1075.pdf\n",
      "        p1085.pdf\n",
      "        p109.pdf\n",
      "        p1095.pdf\n",
      "        p1105.pdf\n",
      "        p1115.pdf\n",
      "        p1125.pdf\n",
      "        p1135.pdf\n",
      "        p1145.pdf\n",
      "        p1155.pdf\n",
      "        p1165.pdf\n",
      "        p1175.pdf\n",
      "        p1185.pdf\n",
      "        p119.pdf\n",
      "        p1195.pdf\n",
      "        p1205.pdf\n",
      "        p1215.pdf\n",
      "        p1225.pdf\n",
      "        p1235.pdf\n",
      "        p1245.pdf\n",
      "        p1255.pdf\n",
      "        p1265.pdf\n",
      "        p1275.pdf\n",
      "        p1285.pdf\n",
      "        p129.pdf\n",
      "        p1295.pdf\n",
      "        p1305.pdf\n",
      "        p1315.pdf\n",
      "        p1325.pdf\n",
      "        p1335.pdf\n",
      "        p1345.pdf\n",
      "        p1355.pdf\n",
      "        p1365.pdf\n",
      "        p1375.pdf\n",
      "        p1385.pdf\n",
      "        p139.pdf\n",
      "        p1395.pdf\n",
      "        p1405.pdf\n",
      "        p1415.pdf\n",
      "        p1425.pdf\n",
      "        p1435.pdf\n",
      "        p1445.pdf\n",
      "        p1455.pdf\n",
      "        p1465.pdf\n",
      "        p1475.pdf\n",
      "        p1485.pdf\n",
      "        p149.pdf\n",
      "        p1495.pdf\n",
      "        p1503.pdf\n",
      "        p1513.pdf\n",
      "        p1523.pdf\n",
      "        p1533.pdf\n",
      "        p1543.pdf\n",
      "        p1553.pdf\n",
      "        p1563.pdf\n",
      "        p1573.pdf\n",
      "        p1583.pdf\n",
      "        p159.pdf\n",
      "        p1593.pdf\n",
      "        p1603.pdf\n",
      "        p1621.pdf\n",
      "        p1623.pdf\n",
      "        p1625.pdf\n",
      "        p1627.pdf\n",
      "        p1629.pdf\n",
      "        p1631.pdf\n",
      "        p1633.pdf\n",
      "        p1635.pdf\n",
      "        p1637.pdf\n",
      "        p1639.pdf\n",
      "        p1641.pdf\n",
      "        p1651.pdf\n",
      "        p1661.pdf\n",
      "        p1671.pdf\n",
      "        p1681.pdf\n",
      "        p169.pdf\n",
      "        p1691.pdf\n",
      "        p1701.pdf\n",
      "        p1711.pdf\n",
      "        p1721.pdf\n",
      "        p1731.pdf\n",
      "        p1741.pdf\n",
      "        p1751.pdf\n",
      "        p1759.pdf\n",
      "        p1769.pdf\n",
      "        p1779.pdf\n",
      "        p1789.pdf\n",
      "        p179.pdf\n",
      "        p1799.pdf\n",
      "        p1809.pdf\n",
      "        p1819.pdf\n",
      "        p1829.pdf\n",
      "        p1839.pdf\n",
      "        p1849.pdf\n",
      "        p1859.pdf\n",
      "        p1869.pdf\n",
      "        p1879.pdf\n",
      "        p1889.pdf\n",
      "        p189.pdf\n",
      "        p1899.pdf\n",
      "        p19.pdf\n",
      "        p1909.pdf\n",
      "        p1919.pdf\n",
      "        p1929.pdf\n",
      "        p1939.pdf\n",
      "        p1949.pdf\n",
      "        p1959.pdf\n",
      "        p1969.pdf\n",
      "        p1979.pdf\n",
      "        p1989.pdf\n",
      "        p199.pdf\n",
      "        p1999.pdf\n",
      "        p2009.pdf\n",
      "        p2019.pdf\n",
      "        p2029.pdf\n",
      "        p2039.pdf\n",
      "        p2049.pdf\n",
      "        p2059.pdf\n",
      "        p2069.pdf\n",
      "        p2079.pdf\n",
      "        p2089.pdf\n",
      "        p209.pdf\n",
      "        p2099.pdf\n",
      "        p2109.pdf\n",
      "        p2119.pdf\n",
      "        p2127.pdf\n",
      "        p2137.pdf\n",
      "        p2147.pdf\n",
      "        p2157.pdf\n",
      "        p2167.pdf\n",
      "        p2177.pdf\n",
      "        p2187.pdf\n",
      "        p219.pdf\n",
      "        p2197.pdf\n",
      "        p2207.pdf\n",
      "        p2217.pdf\n",
      "        p2227.pdf\n",
      "        p2237.pdf\n",
      "        p2247.pdf\n",
      "        p2257.pdf\n",
      "        p2267.pdf\n",
      "        p2277.pdf\n",
      "        p2287.pdf\n",
      "        p229.pdf\n",
      "        p2297.pdf\n",
      "        p2307.pdf\n",
      "        p2309.pdf\n",
      "        p2311.pdf\n",
      "        p2313.pdf\n",
      "        p2315.pdf\n",
      "        p2317.pdf\n",
      "        p2319.pdf\n",
      "        p2321.pdf\n",
      "        p2323.pdf\n",
      "        p2325.pdf\n",
      "        p2327.pdf\n",
      "        p2329.pdf\n",
      "        p239.pdf\n",
      "        p249.pdf\n",
      "        p259.pdf\n",
      "        p269.pdf\n",
      "        p279.pdf\n",
      "        p289.pdf\n",
      "        p29.pdf\n",
      "        p299.pdf\n",
      "        p3.pdf\n",
      "        p309.pdf\n",
      "        p319.pdf\n",
      "        p329.pdf\n",
      "        p339.pdf\n",
      "        p349.pdf\n",
      "        p359.pdf\n",
      "        p369.pdf\n",
      "        p379.pdf\n",
      "        p387.pdf\n",
      "        p39.pdf\n",
      "        p397.pdf\n",
      "        p407.pdf\n",
      "        p417.pdf\n",
      "        p427.pdf\n",
      "        p437.pdf\n",
      "        p447.pdf\n",
      "        p457.pdf\n",
      "        p467.pdf\n",
      "        p477.pdf\n",
      "        p487.pdf\n",
      "        p49.pdf\n",
      "        p497.pdf\n",
      "        p5.pdf\n",
      "        p507.pdf\n",
      "        p517.pdf\n",
      "        p527.pdf\n",
      "        p537.pdf\n",
      "        p547.pdf\n",
      "        p557.pdf\n",
      "        p567.pdf\n",
      "        p577.pdf\n",
      "        p587.pdf\n",
      "        p59.pdf\n",
      "        p597.pdf\n",
      "        p607.pdf\n",
      "        p617.pdf\n",
      "        p627.pdf\n",
      "        p635.pdf\n",
      "        p645.pdf\n",
      "        p655.pdf\n",
      "        p665.pdf\n",
      "        p675.pdf\n",
      "        p685.pdf\n",
      "        p69.pdf\n",
      "        p695.pdf\n",
      "        p7.pdf\n",
      "        p705.pdf\n",
      "        p715.pdf\n",
      "        p725.pdf\n",
      "        p735.pdf\n",
      "        p745.pdf\n",
      "        p755.pdf\n",
      "        p765.pdf\n",
      "        p775.pdf\n",
      "        p785.pdf\n",
      "        p79.pdf\n",
      "        p805.pdf\n",
      "        p815.pdf\n",
      "        p825.pdf\n",
      "        p835.pdf\n",
      "        p845.pdf\n",
      "        p855.pdf\n",
      "        p865.pdf\n",
      "        p875.pdf\n",
      "        p885.pdf\n",
      "        p89.pdf\n",
      "        p895.pdf\n",
      "        p9.pdf\n",
      "        p905.pdf\n",
      "        p915.pdf\n",
      "        p925.pdf\n",
      "        p935.pdf\n",
      "        p945.pdf\n",
      "        p955.pdf\n",
      "        p965.pdf\n",
      "        p975.pdf\n",
      "        p985.pdf\n",
      "        p99.pdf\n",
      "        p995.pdf\n",
      "        sponsors.pdf\n",
      "        welcome1.pdf\n",
      "        welcome2.pdf\n",
      "    forms/\n",
      "        authors.htm\n",
      "        authors2.htm\n",
      "        authors3.htm\n",
      "        authors4.htm\n",
      "        authors5.htm\n",
      "        authors6.htm\n",
      "        contents.htm\n",
      "        index.htm\n",
      "        index_files/\n",
      "            14n402e-mogulA.pdf\n",
      "            1abu044.gif\n",
      "            acm_2s_grad_pos.jpg\n",
      "            acm_logo_ok.jpg\n",
      "            arrow_submission.gif\n",
      "            background.gif\n",
      "            background.jpg\n",
      "            background1.jpg\n",
      "            background2.gif\n",
      "            background3.jpg\n",
      "            background4.jpg\n",
      "            banner.jpg\n",
      "            body-bg.jpg\n",
      "            bullet.gif\n",
      "            Document Scrap 'div align__cente...'.shs\n",
      "            factemplate.css\n",
      "            fill_right.png\n",
      "            header.jpg\n",
      "            leftbg.gif\n",
      "            line.gif\n",
      "            logo.jpg\n",
      "            nominee-ribbon.jpg\n",
      "            nominee.gif\n",
      "            nominee.jpg\n",
      "            projector.gif\n",
      "            projector2.gif\n",
      "            sidebarbackground.gif\n",
      "            styles.css\n",
      "            Thumbs.db\n",
      "            topbck.gif\n",
      "            topborder.gif\n",
      "            white.jpg\n",
      "            winner-goldcup.jpg\n",
      "            winner.gif\n",
      "            winner.jpg\n",
      "None\n"
     ]
    }
   ],
   "source": [
    "print list_files(tree)"
   ]
  },
  {
   "cell_type": "code",
   "execution_count": null,
   "metadata": {
    "collapsed": true
   },
   "outputs": [],
   "source": []
  }
 ],
 "metadata": {
  "kernelspec": {
   "display_name": "Python 2",
   "language": "python",
   "name": "python2"
  },
  "language_info": {
   "codemirror_mode": {
    "name": "ipython",
    "version": 2
   },
   "file_extension": ".py",
   "mimetype": "text/x-python",
   "name": "python",
   "nbconvert_exporter": "python",
   "pygments_lexer": "ipython2",
   "version": "2.7.11"
  }
 },
 "nbformat": 4,
 "nbformat_minor": 0
}
